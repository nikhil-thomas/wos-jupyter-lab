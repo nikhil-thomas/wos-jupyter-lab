{
 "cells": [
  {
   "cell_type": "code",
   "execution_count": 1,
   "metadata": {},
   "outputs": [
    {
     "name": "stdout",
     "output_type": "stream",
     "text": [
      "   8  491 3294 lorem.txt\n"
     ]
    }
   ],
   "source": [
    "wc lorem.txt"
   ]
  },
  {
   "cell_type": "code",
   "execution_count": 3,
   "metadata": {},
   "outputs": [
    {
     "name": "stdout",
     "output_type": "stream",
     "text": [
      "WC(1)                            User Commands                           WC(1)\n",
      "\n",
      "\u001b[1mNAME\u001b[0m\n",
      "       wc - print newline, word, and byte counts for each file\n",
      "\n",
      "\u001b[1mSYNOPSIS\u001b[0m\n",
      "       \u001b[1mwc \u001b[22m[\u001b[4mOPTION\u001b[24m]... [\u001b[4mFILE\u001b[24m]...\n",
      "       \u001b[1mwc \u001b[22m[\u001b[4mOPTION\u001b[24m]... \u001b[4m--files0-from=F\u001b[0m\n",
      "\n",
      "\u001b[1mDESCRIPTION\u001b[0m\n",
      "       Print newline, word, and byte counts for each FILE, and a total line if\n",
      "       more than one FILE is specified.  A word is a non-zero-length  sequence\n",
      "       of characters delimited by white space.\n",
      "\n",
      "       With no FILE, or when FILE is -, read standard input.\n",
      "\n",
      "       The  options  below  may  be  used  to select which counts are printed,\n",
      "       always in the following order: newline, word, character, byte,  maximum\n",
      "       line length.\n",
      "\n",
      "       \u001b[1m-c\u001b[22m, \u001b[1m--bytes\u001b[0m\n",
      "              print the byte counts\n",
      "\n",
      "       \u001b[1m-m\u001b[22m, \u001b[1m--chars\u001b[0m\n",
      "              print the character counts\n",
      "\n",
      "       \u001b[1m-l\u001b[22m, \u001b[1m--lines\u001b[0m\n",
      "              print the newline counts\n",
      "\n",
      "       \u001b[1m--files0-from\u001b[22m=\u001b[4mF\u001b[0m\n",
      "              read  input  from the files specified by NUL-terminated names in\n",
      "              file F; If F is - then read names from standard input\n",
      "\n",
      "       \u001b[1m-L\u001b[22m, \u001b[1m--max-line-length\u001b[0m\n",
      "              print the maximum display width\n",
      "\n",
      "       \u001b[1m-w\u001b[22m, \u001b[1m--words\u001b[0m\n",
      "              print the word counts\n",
      "\n",
      "       \u001b[1m--help \u001b[22mdisplay this help and exit\n",
      "\n",
      "       \u001b[1m--version\u001b[0m\n",
      "              output version information and exit\n",
      "\n",
      "\u001b[1mAUTHOR\u001b[0m\n",
      "       Written by Paul Rubin and David MacKenzie.\n",
      "\n",
      "\u001b[1mREPORTING BUGS\u001b[0m\n",
      "       GNU coreutils online help: <https://www.gnu.org/software/coreutils/>\n",
      "       Report any translation bugs to <https://translationproject.org/team/>\n",
      "\n",
      "\u001b[1mCOPYRIGHT\u001b[0m\n",
      "       Copyright © 2019 Free Software Foundation, Inc.   License  GPLv3+:  GNU\n",
      "       GPL version 3 or later <https://gnu.org/licenses/gpl.html>.\n",
      "       This  is  free  software:  you  are free to change and redistribute it.\n",
      "       There is NO WARRANTY, to the extent permitted by law.\n",
      "\n",
      "\u001b[1mSEE ALSO\u001b[0m\n",
      "       Full documentation <https://www.gnu.org/software/coreutils/wc>\n",
      "       or available locally via: info '(coreutils) wc invocation'\n",
      "\n",
      "GNU coreutils 8.31                March 2019                             WC(1)\n"
     ]
    }
   ],
   "source": [
    "man wc"
   ]
  },
  {
   "cell_type": "code",
   "execution_count": 4,
   "metadata": {},
   "outputs": [
    {
     "name": "stdout",
     "output_type": "stream",
     "text": [
      "8 lorem.txt\n"
     ]
    }
   ],
   "source": [
    "wc -l lorem.txt"
   ]
  },
  {
   "cell_type": "code",
   "execution_count": 5,
   "metadata": {},
   "outputs": [
    {
     "name": "stdout",
     "output_type": "stream",
     "text": [
      "Lorem ipsum dolor sit am\u001b[01;31m\u001b[Ket\u001b[m\u001b[K, consect\u001b[01;31m\u001b[Ket\u001b[m\u001b[Kur adipiscing elit, sed do eiusmod tempor incididunt ut labore \u001b[01;31m\u001b[Ket\u001b[m\u001b[K dolore magna aliqua. Gravida in fermentum \u001b[01;31m\u001b[Ket\u001b[m\u001b[K sollicitudin ac. Lorem ipsum dolor sit am\u001b[01;31m\u001b[Ket\u001b[m\u001b[K consect\u001b[01;31m\u001b[Ket\u001b[m\u001b[Kur adipiscing elit ut. Dui accumsan sit am\u001b[01;31m\u001b[Ket\u001b[m\u001b[K nulla facilisi morbi. Duis at tellus at urna condimentum mattis pellentesque id nibh. Adipiscing diam donec adipiscing tristique risus nec feugiat in fermentum. Scelerisque eu ultrices vitae auctor eu augue ut lectus. Odio pellentesque diam volutpat commodo sed egestas egestas fringilla. Aliqu\u001b[01;31m\u001b[Ket\u001b[m\u001b[K risus feugiat in ante m\u001b[01;31m\u001b[Ket\u001b[m\u001b[Kus dictum. Rutrum tellus pellentesque eu tincidunt. Quam quisque id diam vel quam elementum. Nisl purus in mollis nunc sed id semper risus in. Ante in nibh mauris cursus.\n",
      "Am\u001b[01;31m\u001b[Ket\u001b[m\u001b[K nulla facilisi morbi tempus iaculis urna id volutpat. Donec massa sapien faucibus \u001b[01;31m\u001b[Ket\u001b[m\u001b[K molestie ac feugiat. Euismod elementum nisi quis eleifend quam adipiscing vitae proin sagittis. Feugiat in ante m\u001b[01;31m\u001b[Ket\u001b[m\u001b[Kus dictum at tempor commodo ullamcorper. Sed enim ut sem viverra aliqu\u001b[01;31m\u001b[Ket\u001b[m\u001b[K eg\u001b[01;31m\u001b[Ket\u001b[m\u001b[K sit am\u001b[01;31m\u001b[Ket\u001b[m\u001b[K. Ac feugiat sed lectus vestibulum mattis. Nisi scelerisque eu ultrices vitae auctor eu augue. Leo vel orci porta non pulvinar neque laore\u001b[01;31m\u001b[Ket\u001b[m\u001b[K suspendisse. Faucibus interdum posuere lorem ipsum dolor sit am\u001b[01;31m\u001b[Ket\u001b[m\u001b[K consect\u001b[01;31m\u001b[Ket\u001b[m\u001b[Kur adipiscing. Sagittis eu volutpat odio facilisis.\n",
      "Sem nulla phar\u001b[01;31m\u001b[Ket\u001b[m\u001b[Kra diam sit am\u001b[01;31m\u001b[Ket\u001b[m\u001b[K nisl suscipit adipiscing. Etiam non quam lacus suspendisse faucibus interdum posuere lorem ipsum. Nibh ipsum consequat nisl vel pr\u001b[01;31m\u001b[Ket\u001b[m\u001b[Kium lectus quam. Consect\u001b[01;31m\u001b[Ket\u001b[m\u001b[Kur adipiscing elit ut aliquam purus. Nibh mauris cursus mattis molestie a iaculis at erat. Arcu bibendum at varius vel phar\u001b[01;31m\u001b[Ket\u001b[m\u001b[Kra vel. Quis ipsum suspendisse ultrices gravida dictum fusce. Maecenas volutpat blandit aliquam \u001b[01;31m\u001b[Ket\u001b[m\u001b[Kiam erat velit scelerisque in dictum. Sit am\u001b[01;31m\u001b[Ket\u001b[m\u001b[K cursus sit am\u001b[01;31m\u001b[Ket\u001b[m\u001b[K dictum sit am\u001b[01;31m\u001b[Ket\u001b[m\u001b[K justo donec. Ipsum dolor sit am\u001b[01;31m\u001b[Ket\u001b[m\u001b[K consect\u001b[01;31m\u001b[Ket\u001b[m\u001b[Kur.\n",
      "Et ultrices neque ornare aenean euismod. N\u001b[01;31m\u001b[Ket\u001b[m\u001b[Kus \u001b[01;31m\u001b[Ket\u001b[m\u001b[K malesuada fames ac turpis egestas maecenas phar\u001b[01;31m\u001b[Ket\u001b[m\u001b[Kra. Eg\u001b[01;31m\u001b[Ket\u001b[m\u001b[K est lorem ipsum dolor sit am\u001b[01;31m\u001b[Ket\u001b[m\u001b[K consect\u001b[01;31m\u001b[Ket\u001b[m\u001b[Kur adipiscing elit. Nisl purus in mollis nunc sed id semper risus. Adipiscing tristique risus nec feugiat in. Ultricies mi quis hendrerit dolor magna eg\u001b[01;31m\u001b[Ket\u001b[m\u001b[K est. Condimentum vitae sapien pellentesque habitant morbi tristique senectus. Am\u001b[01;31m\u001b[Ket\u001b[m\u001b[K facilisis magna \u001b[01;31m\u001b[Ket\u001b[m\u001b[Kiam tempor orci eu lobortis. Dolor morbi non arcu risus quis varius quam. Velit egestas dui id ornare arcu odio ut. At in tellus integer feugiat. Faucibus in ornare quam viverra. Purus sit am\u001b[01;31m\u001b[Ket\u001b[m\u001b[K volutpat consequat mauris. Convallis a cras semper auctor neque vitae tempus. Ultrices tincidunt arcu non sodales. Convallis posuere morbi leo urna molestie at elementum eu facilisis.\n",
      "Non consect\u001b[01;31m\u001b[Ket\u001b[m\u001b[Kur a erat nam at lectus urna duis convallis. Sollicitudin aliquam ultrices sagittis orci a scelerisque. Libero nunc consequat interdum varius sit am\u001b[01;31m\u001b[Ket\u001b[m\u001b[K mattis vulputate. Aliqu\u001b[01;31m\u001b[Ket\u001b[m\u001b[K nibh praesent tristique magna. Ornare suspendisse sed nisi lacus sed viverra tellus. Curabitur gravida arcu ac tortor dignissim convallis aenean \u001b[01;31m\u001b[Ket\u001b[m\u001b[K. Adipiscing elit ut aliquam purus sit am\u001b[01;31m\u001b[Ket\u001b[m\u001b[K luctus. Vestibulum morbi blandit cursus risus at ultrices. Nec ullamcorper sit am\u001b[01;31m\u001b[Ket\u001b[m\u001b[K risus nullam eg\u001b[01;31m\u001b[Ket\u001b[m\u001b[K felis. Et magnis dis parturient montes nasc\u001b[01;31m\u001b[Ket\u001b[m\u001b[Kur ridiculus. Lectus vestibulum mattis ullamcorper velit sed ullamcorper. Mauris in aliquam sem fringilla. Molestie at elementum eu facilisis.\n"
     ]
    }
   ],
   "source": [
    "grep \"et\" lorem.txt"
   ]
  },
  {
   "cell_type": "code",
   "execution_count": 10,
   "metadata": {},
   "outputs": [
    {
     "name": "stdout",
     "output_type": "stream",
     "text": [
      "47\n"
     ]
    }
   ],
   "source": [
    "grep \"et\" -o lorem.txt | wc -w"
   ]
  },
  {
   "cell_type": "code",
   "execution_count": 12,
   "metadata": {},
   "outputs": [
    {
     "name": "stdout",
     "output_type": "stream",
     "text": [
      "5\n"
     ]
    }
   ],
   "source": [
    "grep \"et\" -o -c lorem.txt"
   ]
  },
  {
   "cell_type": "code",
   "execution_count": 13,
   "metadata": {},
   "outputs": [
    {
     "name": "stdout",
     "output_type": "stream",
     "text": [
      "47\n"
     ]
    }
   ],
   "source": [
    "grep \"et\" -o lorem.txt | grep \"et\" -c"
   ]
  },
  {
   "cell_type": "code",
   "execution_count": 14,
   "metadata": {},
   "outputs": [
    {
     "name": "stdout",
     "output_type": "stream",
     "text": [
      "01_wc-grep-find.ipynb  lorem.txt\n"
     ]
    }
   ],
   "source": [
    "ls"
   ]
  },
  {
   "cell_type": "code",
   "execution_count": 18,
   "metadata": {},
   "outputs": [
    {
     "name": "stdout",
     "output_type": "stream",
     "text": [
      "\u001b[0m\u001b[38;5;33m01_bash-cookbook-2nd-edition_carl-albing\u001b[0m  01_test-data\n",
      "01_grep-blank-lines.ipynb                 \u001b[38;5;33m02_udm-linux-shell-scripting\u001b[0m\n"
     ]
    }
   ],
   "source": [
    "ls"
   ]
  },
  {
   "cell_type": "code",
   "execution_count": 23,
   "metadata": {},
   "outputs": [
    {
     "name": "stdout",
     "output_type": "stream",
     "text": [
      "./01_bash-cookbook-2nd-edition_carl-albing/01_begining-bash/01_beginning-bash.ipynb\n",
      "./01_bash-cookbook-2nd-edition_carl-albing/01_begining-bash/.ipynb_checkpoints/01_beginning-bash-checkpoint.ipynb\n",
      "./02_udm-linux-shell-scripting/.ipynb_checkpoints/01_wc-grep-find-checkpoint.ipynb\n",
      "./02_udm-linux-shell-scripting/01_wc-grep-find.ipynb\n",
      "./.ipynb_checkpoints/01_grep-blank-lines-checkpoint.ipynb\n",
      "./01_grep-blank-lines.ipynb\n"
     ]
    }
   ],
   "source": [
    "find ./ -name \"*.ipynb\""
   ]
  },
  {
   "cell_type": "code",
   "execution_count": 24,
   "metadata": {},
   "outputs": [
    {
     "name": "stdout",
     "output_type": "stream",
     "text": [
      "./01_grep-blank-lines.ipynb\n"
     ]
    }
   ],
   "source": [
    "find ./ -maxdepth 1 -name \"*.ipynb\""
   ]
  },
  {
   "cell_type": "code",
   "execution_count": null,
   "metadata": {},
   "outputs": [],
   "source": []
  }
 ],
 "metadata": {
  "kernelspec": {
   "display_name": "Bash",
   "language": "bash",
   "name": "bash"
  },
  "language_info": {
   "codemirror_mode": "shell",
   "file_extension": ".sh",
   "mimetype": "text/x-sh",
   "name": "bash"
  }
 },
 "nbformat": 4,
 "nbformat_minor": 4
}
