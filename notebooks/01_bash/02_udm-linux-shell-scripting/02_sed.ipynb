{
 "cells": [
  {
   "cell_type": "code",
   "execution_count": 3,
   "metadata": {},
   "outputs": [
    {
     "name": "stdout",
     "output_type": "stream",
     "text": [
      "Name    Age    Unit\n",
      "Peter   50     HR\n",
      "John    20     IT\n",
      "Joshua  25     IT\n",
      "Mark    33     PR\n",
      "Anthony 21     PR\n"
     ]
    }
   ],
   "source": [
    "cat sed.txt"
   ]
  },
  {
   "cell_type": "code",
   "execution_count": 4,
   "metadata": {},
   "outputs": [
    {
     "name": "stdout",
     "output_type": "stream",
     "text": [
      "Name    Age    Unit\n",
      "Peter   50     HR\n",
      "Peter   50     HR\n",
      "John    20     IT\n",
      "Joshua  25     IT\n",
      "Mark    33     PR\n",
      "Anthony 21     PR\n"
     ]
    }
   ],
   "source": [
    "sed '/Peter/p' sed.txt"
   ]
  },
  {
   "cell_type": "code",
   "execution_count": 5,
   "metadata": {},
   "outputs": [
    {
     "name": "stdout",
     "output_type": "stream",
     "text": [
      "Peter   50     HR\n"
     ]
    }
   ],
   "source": [
    "sed -n  '/Peter/p' sed.txt"
   ]
  },
  {
   "cell_type": "code",
   "execution_count": 7,
   "metadata": {},
   "outputs": [
    {
     "name": "stdout",
     "output_type": "stream",
     "text": [
      "John    20     IT\n"
     ]
    }
   ],
   "source": [
    "sed -n  '3p' sed.txt"
   ]
  },
  {
   "cell_type": "code",
   "execution_count": 8,
   "metadata": {},
   "outputs": [
    {
     "name": "stdout",
     "output_type": "stream",
     "text": [
      "John    20     IT\n",
      "Joshua  25     IT\n",
      "Mark    33     PR\n"
     ]
    }
   ],
   "source": [
    "sed -n '3,5p' sed.txt"
   ]
  },
  {
   "cell_type": "code",
   "execution_count": 9,
   "metadata": {},
   "outputs": [
    {
     "name": "stdout",
     "output_type": "stream",
     "text": [
      "Mark    33     PR\n",
      "Anthony 21     PR\n"
     ]
    }
   ],
   "source": [
    "sed -n '5,$p' sed.txt"
   ]
  },
  {
   "cell_type": "code",
   "execution_count": 10,
   "metadata": {},
   "outputs": [
    {
     "name": "stdout",
     "output_type": "stream",
     "text": [
      "Name    Age    Unit\n",
      "Peter   50     HR\n",
      "John    20     IT\n",
      "contact: tel 1234\n",
      "Joshua  25     IT\n",
      "contact: tel 1234\n",
      "Mark    33     PR\n",
      "Anthony 21     PR\n"
     ]
    }
   ],
   "source": [
    "sed '/IT/a contact: tel 1234' sed.txt"
   ]
  },
  {
   "cell_type": "code",
   "execution_count": 12,
   "metadata": {},
   "outputs": [
    {
     "name": "stdout",
     "output_type": "stream",
     "text": [
      "Name    Age    Unit\n",
      "Peter   50     HR\n",
      "contact: tel 4567\n",
      "John    20     IT\n",
      "contact: tel 4567\n",
      "Joshua  25     IT\n",
      "Mark    33     PR\n",
      "Anthony 21     PR\n"
     ]
    }
   ],
   "source": [
    "sed '/IT/i contact: tel 4567' sed.txt "
   ]
  },
  {
   "cell_type": "code",
   "execution_count": 13,
   "metadata": {},
   "outputs": [
    {
     "name": "stdout",
     "output_type": "stream",
     "text": [
      "Name    Age    Unit\n",
      "Peter   50     HR\n",
      "John    20     IT\n",
      "Joshua  25     IT\n",
      "Mark    33     PR\n",
      "Anthony 21     PR\n"
     ]
    }
   ],
   "source": [
    "cat sed.txt"
   ]
  },
  {
   "cell_type": "code",
   "execution_count": 14,
   "metadata": {},
   "outputs": [
    {
     "name": "stdout",
     "output_type": "stream",
     "text": [
      "Name    Age    Unit\n",
      "Peter   50     HR\n",
      "Mark    33     PR\n",
      "Anthony 21     PR\n"
     ]
    }
   ],
   "source": [
    "sed '/IT/d' sed.txt"
   ]
  },
  {
   "cell_type": "code",
   "execution_count": 15,
   "metadata": {},
   "outputs": [
    {
     "name": "stdout",
     "output_type": "stream",
     "text": [
      "Name    Age    Unit\n",
      "Peter   50     HR\n",
      "John    20     IT\n",
      "Joshua  25     IT\n",
      "hidded information from pr unit\n",
      "hidded information from pr unit\n"
     ]
    }
   ],
   "source": [
    "sed '/PR/c hidded information from pr unit' sed.txt"
   ]
  },
  {
   "cell_type": "code",
   "execution_count": 17,
   "metadata": {},
   "outputs": [
    {
     "name": "stdout",
     "output_type": "stream",
     "text": [
      "change all lines\n",
      "change all lines\n",
      "change all lines\n",
      "change all lines\n",
      "change all lines\n",
      "change all lines\n"
     ]
    }
   ],
   "source": [
    "sed 'c change all lines' sed.txt"
   ]
  },
  {
   "cell_type": "code",
   "execution_count": 20,
   "metadata": {},
   "outputs": [
    {
     "name": "stdout",
     "output_type": "stream",
     "text": [
      "Joshua  25     IT\n"
     ]
    }
   ],
   "source": [
    "sed -n '4p' sed.txt"
   ]
  },
  {
   "cell_type": "code",
   "execution_count": 21,
   "metadata": {},
   "outputs": [
    {
     "name": "stdout",
     "output_type": "stream",
     "text": [
      "Joshua  25     IT\n"
     ]
    }
   ],
   "source": [
    "sed -n '/Jos/p' sed.txt"
   ]
  },
  {
   "cell_type": "code",
   "execution_count": 23,
   "metadata": {},
   "outputs": [
    {
     "ename": "",
     "evalue": "200",
     "output_type": "error",
     "traceback": []
    }
   ],
   "source": [
    "sed -n '/Mark/q 200' sed.txt"
   ]
  },
  {
   "cell_type": "code",
   "execution_count": 24,
   "metadata": {},
   "outputs": [],
   "source": [
    "sed -n '/Mody/q 200' sed.txt"
   ]
  },
  {
   "cell_type": "code",
   "execution_count": 31,
   "metadata": {},
   "outputs": [
    {
     "name": "stdout",
     "output_type": "stream",
     "text": [
      "Name    Age    Unit\n",
      "Peter   50     HR\n",
      "John    20     IT\n",
      "Joshua  25     IT\n",
      "Mark    33     PR\n"
     ]
    },
    {
     "ename": "",
     "evalue": "255",
     "output_type": "error",
     "traceback": []
    }
   ],
   "source": [
    "sed '/Mark/q255' sed.txt"
   ]
  },
  {
   "cell_type": "code",
   "execution_count": 32,
   "metadata": {},
   "outputs": [
    {
     "name": "stdout",
     "output_type": "stream",
     "text": [
      "Name    Age    Unit\n",
      "Peter   50     HR\n",
      "John    20     IT\n",
      "Joshua  25     IT\n",
      "Mark    33     PR\n"
     ]
    }
   ],
   "source": [
    "sed '/Mark/q256' sed.txt"
   ]
  },
  {
   "cell_type": "code",
   "execution_count": 33,
   "metadata": {},
   "outputs": [
    {
     "name": "stdout",
     "output_type": "stream",
     "text": [
      "Name    Age    Unit\n",
      "Peter   50     HR\n",
      "John    20     IT\n",
      "Joshua  25     IT\n",
      "Mark    33     PR\n"
     ]
    },
    {
     "ename": "",
     "evalue": "4",
     "output_type": "error",
     "traceback": []
    }
   ],
   "source": [
    "sed '/Mark/q260' sed.txt"
   ]
  },
  {
   "cell_type": "code",
   "execution_count": 1,
   "metadata": {},
   "outputs": [
    {
     "ename": "",
     "evalue": "121",
     "output_type": "error",
     "traceback": []
    }
   ],
   "source": [
    "sed -n '/Mark/q121' sed.txt"
   ]
  },
  {
   "cell_type": "code",
   "execution_count": 2,
   "metadata": {},
   "outputs": [
    {
     "name": "stdout",
     "output_type": "stream",
     "text": [
      "sed: -e expression #1, char 8: extra characters after command\n"
     ]
    },
    {
     "ename": "",
     "evalue": "1",
     "output_type": "error",
     "traceback": []
    }
   ],
   "source": [
    "sed -n '/Mark/pq121' sed.txt"
   ]
  },
  {
   "cell_type": "code",
   "execution_count": 3,
   "metadata": {},
   "outputs": [
    {
     "name": "stdout",
     "output_type": "stream",
     "text": [
      "Mark    33     PR\n"
     ]
    },
    {
     "ename": "",
     "evalue": "221",
     "output_type": "error",
     "traceback": []
    }
   ],
   "source": [
    "sed -ne '/Mark/p' -ne '/Mark/q221' sed.txt"
   ]
  },
  {
   "cell_type": "code",
   "execution_count": 4,
   "metadata": {},
   "outputs": [
    {
     "ename": "",
     "evalue": "221",
     "output_type": "error",
     "traceback": []
    }
   ],
   "source": [
    "sed -ne '/Mark/q221' -ne '/Mark/p' sed.txt"
   ]
  },
  {
   "cell_type": "code",
   "execution_count": 6,
   "metadata": {},
   "outputs": [
    {
     "name": "stdout",
     "output_type": "stream",
     "text": [
      "Name    Age    Unit\n",
      "Peter   50     HR\n",
      "John    20     IT\n",
      "Joshua  25     IT\n",
      ":new line before mark\n",
      "Mark    33     PR\n",
      ":newline after mark\n",
      "Anthony 21     PR\n"
     ]
    }
   ],
   "source": [
    "sed -e '/Mark/i :new line before mark' -e '/Mark/a :newline after mark' sed.txt"
   ]
  },
  {
   "cell_type": "code",
   "execution_count": 10,
   "metadata": {},
   "outputs": [],
   "source": [
    "mv sed.txt ised.txt\n",
    "sed -ie '/Mark/i :new line before mark'  ised.txt"
   ]
  },
  {
   "cell_type": "code",
   "execution_count": 11,
   "metadata": {},
   "outputs": [
    {
     "name": "stdout",
     "output_type": "stream",
     "text": [
      "Name    Age    Unit\n",
      "Peter   50     HR\n",
      "John    20     IT\n",
      "Joshua  25     IT\n",
      ":new line before mark\n",
      "Mark    33     PR\n",
      "Anthony 21     PR\n"
     ]
    }
   ],
   "source": [
    "cat ised.txt"
   ]
  },
  {
   "cell_type": "code",
   "execution_count": 13,
   "metadata": {},
   "outputs": [
    {
     "name": "stdout",
     "output_type": "stream",
     "text": [
      "Name    Age    Unit\n",
      "Peter   50     HR\n",
      "1234\n",
      "John    20     IT\n",
      "Joshua  25     IT\n",
      "Mark    33     PR\n",
      "Anthony 21     PR\n"
     ]
    }
   ],
   "source": [
    "sed '/John/e echo 1234' sed.txt"
   ]
  },
  {
   "cell_type": "code",
   "execution_count": 14,
   "metadata": {},
   "outputs": [
    {
     "name": "stdout",
     "output_type": "stream",
     "text": [
      "1 k 3 2 1\n"
     ]
    }
   ],
   "source": [
    "echo \"1 2 3 2 1\" | sed 's/2/k/'"
   ]
  },
  {
   "cell_type": "code",
   "execution_count": 15,
   "metadata": {},
   "outputs": [
    {
     "name": "stdout",
     "output_type": "stream",
     "text": [
      "1 k 3 k 1\n"
     ]
    }
   ],
   "source": [
    "echo \"1 2 3 2 1\" | sed 's/2/k/g'"
   ]
  },
  {
   "cell_type": "code",
   "execution_count": 16,
   "metadata": {},
   "outputs": [
    {
     "name": "stdout",
     "output_type": "stream",
     "text": [
      "Name    Age    Unit\n",
      "Peter   50     HR\n",
      "John    20     VR\n",
      "Joshua  25     VR\n",
      "Mark    33     PR\n",
      "Anthony 21     PR\n"
     ]
    }
   ],
   "source": [
    "sed '1,$s/IT/VR/g' sed.txt"
   ]
  },
  {
   "cell_type": "code",
   "execution_count": 17,
   "metadata": {},
   "outputs": [
    {
     "name": "stdout",
     "output_type": "stream",
     "text": [
      "Name    Age    Unit\n",
      "Peter   **     HR\n",
      "John    20     IT\n",
      "Joshua  25     IT\n",
      "Mark    **     PR\n",
      "Anthony 21     PR\n"
     ]
    }
   ],
   "source": [
    "sed 's/[3-9][[:digit:]]/**/g' sed.txt"
   ]
  },
  {
   "cell_type": "code",
   "execution_count": 19,
   "metadata": {},
   "outputs": [
    {
     "name": "stdout",
     "output_type": "stream",
     "text": [
      "Name    Age    Unit\n",
      "Peter   50     HR\n",
      "John    20     IT\n",
      "Joshua  25     IT\n",
      "Mark    33     PR PR PR\n",
      "Anthony 21     PR PR PR\n"
     ]
    }
   ],
   "source": [
    "sed 's/PR/PR PR PR/g' sed.txt"
   ]
  },
  {
   "cell_type": "code",
   "execution_count": 20,
   "metadata": {},
   "outputs": [
    {
     "name": "stdout",
     "output_type": "stream",
     "text": [
      "Name    Age    Unit\n",
      "Peter   50     HR\n",
      "John    20     IT\n",
      "Joshua  25     IT\n",
      "Mark    33     PR PR PR\n",
      "Anthony 21     PR PR PR\n"
     ]
    }
   ],
   "source": [
    "sed 's/PR/& & &/g' sed.txt"
   ]
  },
  {
   "cell_type": "code",
   "execution_count": null,
   "metadata": {},
   "outputs": [],
   "source": []
  }
 ],
 "metadata": {
  "kernelspec": {
   "display_name": "Bash",
   "language": "bash",
   "name": "bash"
  },
  "language_info": {
   "codemirror_mode": "shell",
   "file_extension": ".sh",
   "mimetype": "text/x-sh",
   "name": "bash"
  }
 },
 "nbformat": 4,
 "nbformat_minor": 4
}
