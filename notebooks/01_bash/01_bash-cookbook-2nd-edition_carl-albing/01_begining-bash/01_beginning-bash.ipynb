{
 "cells": [
  {
   "cell_type": "markdown",
   "metadata": {},
   "source": [
    "# Beginning Bash"
   ]
  },
  {
   "cell_type": "markdown",
   "metadata": {},
   "source": [
    "## pwd\n",
    "\n",
    "pwd: `print working directory`\n",
    "\n",
    "-L : logical location\n",
    "\n",
    "-P : physical location"
   ]
  },
  {
   "cell_type": "code",
   "execution_count": 34,
   "metadata": {},
   "outputs": [
    {
     "name": "stdout",
     "output_type": "stream",
     "text": [
      "temp dir: /tmp/tmp.c1TsVHST7T\n",
      "/tmp/tmp.c1TsVHST7T\n",
      "pwd\n",
      "/tmp/temp2\n",
      "pwd -L\n",
      "/tmp/temp2\n",
      "pwd -P\n",
      "/tmp/tmp.c1TsVHST7T\n"
     ]
    }
   ],
   "source": [
    "dir1=$(mktemp -d)\n",
    "echo temp dir: $dir1\n",
    "cd $dir1\n",
    "pwd\n",
    "\n",
    "cd ..\n",
    "\n",
    "rm -rf temp2\n",
    "ln -s $dir1 temp2\n",
    "\n",
    "cd temp2\n",
    "\n",
    "echo 'pwd'\n",
    "pwd\n",
    "\n",
    "echo 'pwd -L'\n",
    "pwd -L\n",
    "\n",
    "echo 'pwd -P'\n",
    "pwd -P\n"
   ]
  },
  {
   "cell_type": "markdown",
   "metadata": {},
   "source": [
    "---"
   ]
  },
  {
   "cell_type": "markdown",
   "metadata": {},
   "source": [
    "## type\n",
    "\n",
    "type command searches your environment (including aliases, keywords, functions, builtins, directories in $PATH, and the command hash table) for executable commands matching its arguments and displays the type and location of any matches.\n",
    "\n",
    "-a flag, which causes it to print all matches instead of stopping at the first one\n",
    "\n",
    "## which\n",
    "\n",
    "which command is similar to type but only searches your $PATH\n",
    "\n",
    "-a flag, which causes it to print all matches instead of stopping at the first one\n"
   ]
  },
  {
   "cell_type": "markdown",
   "metadata": {},
   "source": [
    "---"
   ]
  },
  {
   "cell_type": "markdown",
   "metadata": {},
   "source": [
    "## apropos\n",
    "\n",
    "apropos searches manpage names and descriptions for regular expressions supplied as arguments. This is incredibly useful when you don’t remember the name of the command you need. This is the same as man -k:"
   ]
  },
  {
   "cell_type": "code",
   "execution_count": null,
   "metadata": {},
   "outputs": [],
   "source": []
  }
 ],
 "metadata": {
  "kernelspec": {
   "display_name": "Bash",
   "language": "bash",
   "name": "bash"
  },
  "language_info": {
   "codemirror_mode": "shell",
   "file_extension": ".sh",
   "mimetype": "text/x-sh",
   "name": "bash"
  }
 },
 "nbformat": 4,
 "nbformat_minor": 4
}
