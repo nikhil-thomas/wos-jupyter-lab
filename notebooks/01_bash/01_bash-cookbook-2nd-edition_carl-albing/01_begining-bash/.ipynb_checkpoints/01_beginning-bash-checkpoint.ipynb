{
 "cells": [
  {
   "cell_type": "markdown",
   "metadata": {},
   "source": [
    "# Beginning Bash"
   ]
  },
  {
   "cell_type": "markdown",
   "metadata": {},
   "source": [
    "## pwd\n",
    "\n",
    "pwd: `print working directory`\n",
    "\n",
    "-L : logical location\n",
    "\n",
    "-P : physical location"
   ]
  },
  {
   "cell_type": "code",
   "execution_count": 33,
   "metadata": {},
   "outputs": [
    {
     "name": "stdout",
     "output_type": "stream",
     "text": [
      "temp dir: /tmp/tmp.ajwIqfKh83\n",
      "/tmp/tmp.ajwIqfKh83\n",
      "\u001b[38;5;51mtemp2\u001b[0m\n",
      "\n",
      "0 directories, 0 files\n",
      "pwd (temp2):\n",
      "/tmp/temp2\n"
     ]
    }
   ],
   "source": [
    "dir1=$(mktemp -d)\n",
    "echo temp dir: $dir1\n",
    "cd $dir1\n",
    "pwd\n",
    "\n",
    "cd ..\n",
    "\n",
    "rm -rf temp2\n",
    "ln -s $dir1 temp2\n",
    "\n",
    "cd temp2\n",
    "\n",
    "echo 'pwd'\n",
    "pwd\n",
    "\n",
    "echo 'pwd -L'\n",
    "pwd\n",
    "\n",
    "echo 'pwd'\n",
    "pwd\n"
   ]
  },
  {
   "cell_type": "code",
   "execution_count": null,
   "metadata": {},
   "outputs": [],
   "source": []
  },
  {
   "cell_type": "code",
   "execution_count": null,
   "metadata": {},
   "outputs": [],
   "source": []
  }
 ],
 "metadata": {
  "kernelspec": {
   "display_name": "Bash",
   "language": "bash",
   "name": "bash"
  },
  "language_info": {
   "codemirror_mode": "shell",
   "file_extension": ".sh",
   "mimetype": "text/x-sh",
   "name": "bash"
  }
 },
 "nbformat": 4,
 "nbformat_minor": 4
}
