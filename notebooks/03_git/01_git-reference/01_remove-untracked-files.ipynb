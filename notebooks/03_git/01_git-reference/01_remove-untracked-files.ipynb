{
 "cells": [
  {
   "cell_type": "markdown",
   "metadata": {},
   "source": [
    "# Remove untracked files\n",
    "## git clean\n",
    "\n",
    "remove untracked files from working tree\n"
   ]
  },
  {
   "cell_type": "markdown",
   "metadata": {},
   "source": [
    "        -d\n",
    "           Remove untracked directories in addition to untracked files. If an untracked directory is managed by a different Git repository, it\n",
    "           is not removed by default. Use -f option twice if you really want to remove such a directory.\n",
    "\n",
    "       -f, --force\n",
    "           If the Git configuration variable clean.requireForce is not set to false, git clean will refuse to delete files or directories\n",
    "           unless given -f, -n or -i. Git will refuse to delete directories with .git sub directory or file unless a second -f is given.\n",
    "\n",
    "       -i, --interactive\n",
    "           Show what would be done and clean files interactively. See “Interactive mode” for details.\n",
    "\n",
    "       -n, --dry-run\n",
    "           Don’t actually remove anything, just show what would be done.\n",
    "\n",
    "       -q, --quiet\n",
    "           Be quiet, only report errors, but not the files that are successfully removed.\n",
    "\n",
    "       -e <pattern>, --exclude=<pattern>\n",
    "           In addition to those found in .gitignore (per directory) and $GIT_DIR/info/exclude, also consider these patterns to be in the set\n",
    "           of the ignore rules in effect.\n",
    "\n",
    "       -x\n",
    "           Don’t use the standard ignore rules read from .gitignore (per directory) and $GIT_DIR/info/exclude, but do still use the ignore\n",
    "           rules given with -e options. This allows removing all untracked files, including build products. This can be used (possibly in\n",
    "           conjunction with git reset) to create a pristine working directory to test a clean build.\n",
    "\n",
    "       -X\n",
    "           Remove only files ignored by Git. This may be useful to rebuild everything from scratch, but keep manually created files."
   ]
  },
  {
   "cell_type": "code",
   "execution_count": null,
   "metadata": {},
   "outputs": [],
   "source": []
  }
 ],
 "metadata": {
  "kernelspec": {
   "display_name": "Bash",
   "language": "bash",
   "name": "bash"
  },
  "language_info": {
   "codemirror_mode": "shell",
   "file_extension": ".sh",
   "mimetype": "text/x-sh",
   "name": "bash"
  }
 },
 "nbformat": 4,
 "nbformat_minor": 4
}
