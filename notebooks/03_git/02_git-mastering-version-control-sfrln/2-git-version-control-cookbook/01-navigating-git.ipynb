{
 "cells": [
  {
   "cell_type": "markdown",
   "metadata": {},
   "source": [
    "## Git Data Model\n",
    "\n",
    "![git data model](./images/git-data-model.jpg)\n"
   ]
  },
  {
   "cell_type": "markdown",
   "metadata": {},
   "source": [
    "# Git's objects\n",
    "\n",
    "- 4 types of objects in a git\n",
    "    - Files (also called blobs in git context)\n",
    "    - directories or trees in git context\n",
    "    - commits\n",
    "    - tags\n",
    "\n",
    "- branches(not objects but an important concept)\n",
    "\n",
    "- HEAD (pointer to currently checked out branch/commit)"
   ]
  },
  {
   "cell_type": "markdown",
   "metadata": {},
   "source": [
    "## Reference repo"
   ]
  },
  {
   "cell_type": "code",
   "execution_count": 2,
   "metadata": {},
   "outputs": [
    {
     "name": "stdout",
     "output_type": "stream",
     "text": [
      "Cloning into 'data-model'...\n",
      "remote: Enumerating objects: 45, done.\u001b[K\n",
      "remote: Counting objects: 100% (45/45), done.\u001b[K\n",
      "remote: Compressing objects: 100% (26/26), done.\u001b[K\n",
      "remote: Total 45 (delta 11), reused 45 (delta 11), pack-reused 0\u001b[K\n",
      "Unpacking objects: 100% (45/45), done.\n"
     ]
    }
   ],
   "source": [
    "git clone https://github.com/dvaske/data-model.git"
   ]
  },
  {
   "cell_type": "code",
   "execution_count": 3,
   "metadata": {},
   "outputs": [],
   "source": [
    "cd data-model"
   ]
  },
  {
   "cell_type": "code",
   "execution_count": 4,
   "metadata": {},
   "outputs": [
    {
     "name": "stdout",
     "output_type": "stream",
     "text": [
      "another-file.txt  \u001b[0m\u001b[38;5;33ma_sub_directory\u001b[0m  cat-me.txt  hello_world.c  README.md\n"
     ]
    }
   ],
   "source": [
    "ls"
   ]
  },
  {
   "cell_type": "code",
   "execution_count": 5,
   "metadata": {},
   "outputs": [
    {
     "name": "stdout",
     "output_type": "stream",
     "text": [
      "usage: git [--version] [--help] [-C <path>] [-c <name>=<value>]\n",
      "           [--exec-path[=<path>]] [--html-path] [--man-path] [--info-path]\n",
      "           [-p | --paginate | -P | --no-pager] [--no-replace-objects] [--bare]\n",
      "           [--git-dir=<path>] [--work-tree=<path>] [--namespace=<name>]\n",
      "           <command> [<args>]\n",
      "\n",
      "These are common Git commands used in various situations:\n",
      "\n",
      "start a working area (see also: git help tutorial)\n",
      "   clone      Clone a repository into a new directory\n",
      "   init       Create an empty Git repository or reinitialize an existing one\n",
      "\n",
      "work on the current change (see also: git help everyday)\n",
      "   add        Add file contents to the index\n",
      "   mv         Move or rename a file, a directory, or a symlink\n",
      "   reset      Reset current HEAD to the specified state\n",
      "   rm         Remove files from the working tree and from the index\n",
      "\n",
      "examine the history and state (see also: git help revisions)\n",
      "   bisect     Use binary search to find the commit that introduced a bug\n",
      "   grep       Print lines matching a pattern\n",
      "   log        Show commit logs\n",
      "   show       Show various types of objects\n",
      "   status     Show the working tree status\n",
      "\n",
      "grow, mark and tweak your common history\n",
      "   branch     List, create, or delete branches\n",
      "   checkout   Switch branches or restore working tree files\n",
      "   commit     Record changes to the repository\n",
      "   diff       Show changes between commits, commit and working tree, etc\n",
      "   merge      Join two or more development histories together\n",
      "   rebase     Reapply commits on top of another base tip\n",
      "   tag        Create, list, delete or verify a tag object signed with GPG\n",
      "\n",
      "collaborate (see also: git help workflows)\n",
      "   fetch      Download objects and refs from another repository\n",
      "   pull       Fetch from and integrate with another repository or a local branch\n",
      "   push       Update remote refs along with associated objects\n",
      "\n",
      "'git help -a' and 'git help -g' list available subcommands and some\n",
      "concept guides. See 'git help <command>' or 'git help <concept>'\n",
      "to read about a specific subcommand or concept.\n"
     ]
    }
   ],
   "source": [
    "git help"
   ]
  },
  {
   "cell_type": "code",
   "execution_count": 6,
   "metadata": {},
   "outputs": [
    {
     "name": "stdout",
     "output_type": "stream",
     "text": [
      "See 'git help <command>' to read about a specific subcommand\n",
      "\n",
      "Main Porcelain Commands\n",
      "   add                  Add file contents to the index\n",
      "   am                   Apply a series of patches from a mailbox\n",
      "   archive              Create an archive of files from a named tree\n",
      "   bisect               Use binary search to find the commit that introduced a bug\n",
      "   branch               List, create, or delete branches\n",
      "   bundle               Move objects and refs by archive\n",
      "   checkout             Switch branches or restore working tree files\n",
      "   cherry-pick          Apply the changes introduced by some existing commits\n",
      "   citool               Graphical alternative to git-commit\n",
      "   clean                Remove untracked files from the working tree\n",
      "   clone                Clone a repository into a new directory\n",
      "   commit               Record changes to the repository\n",
      "   describe             Give an object a human readable name based on an available ref\n",
      "   diff                 Show changes between commits, commit and working tree, etc\n",
      "   fetch                Download objects and refs from another repository\n",
      "   format-patch         Prepare patches for e-mail submission\n",
      "   gc                   Cleanup unnecessary files and optimize the local repository\n",
      "   gitk                 The Git repository browser\n",
      "   grep                 Print lines matching a pattern\n",
      "   gui                  A portable graphical interface to Git\n",
      "   init                 Create an empty Git repository or reinitialize an existing one\n",
      "   log                  Show commit logs\n",
      "   merge                Join two or more development histories together\n",
      "   mv                   Move or rename a file, a directory, or a symlink\n",
      "   notes                Add or inspect object notes\n",
      "   pull                 Fetch from and integrate with another repository or a local branch\n",
      "   push                 Update remote refs along with associated objects\n",
      "   range-diff           Compare two commit ranges (e.g. two versions of a branch)\n",
      "   rebase               Reapply commits on top of another base tip\n",
      "   reset                Reset current HEAD to the specified state\n",
      "   revert               Revert some existing commits\n",
      "   rm                   Remove files from the working tree and from the index\n",
      "   shortlog             Summarize 'git log' output\n",
      "   show                 Show various types of objects\n",
      "   stash                Stash the changes in a dirty working directory away\n",
      "   status               Show the working tree status\n",
      "   submodule            Initialize, update or inspect submodules\n",
      "   tag                  Create, list, delete or verify a tag object signed with GPG\n",
      "   worktree             Manage multiple working trees\n",
      "\n",
      "Ancillary Commands / Manipulators\n",
      "   config               Get and set repository or global options\n",
      "   fast-export          Git data exporter\n",
      "   fast-import          Backend for fast Git data importers\n",
      "   filter-branch        Rewrite branches\n",
      "   mergetool            Run merge conflict resolution tools to resolve merge conflicts\n",
      "   pack-refs            Pack heads and tags for efficient repository access\n",
      "   prune                Prune all unreachable objects from the object database\n",
      "   reflog               Manage reflog information\n",
      "   remote               Manage set of tracked repositories\n",
      "   repack               Pack unpacked objects in a repository\n",
      "   replace              Create, list, delete refs to replace objects\n",
      "\n",
      "Ancillary Commands / Interrogators\n",
      "   annotate             Annotate file lines with commit information\n",
      "   blame                Show what revision and author last modified each line of a file\n",
      "   count-objects        Count unpacked number of objects and their disk consumption\n",
      "   difftool             Show changes using common diff tools\n",
      "   fsck                 Verifies the connectivity and validity of the objects in the database\n",
      "   gitweb               Git web interface (web frontend to Git repositories)\n",
      "   help                 Display help information about Git\n",
      "   instaweb             Instantly browse your working repository in gitweb\n",
      "   merge-tree           Show three-way merge without touching index\n",
      "   rerere               Reuse recorded resolution of conflicted merges\n",
      "   show-branch          Show branches and their commits\n",
      "   verify-commit        Check the GPG signature of commits\n",
      "   verify-tag           Check the GPG signature of tags\n",
      "   whatchanged          Show logs with difference each commit introduces\n",
      "\n",
      "Interacting with Others\n",
      "   cvsexportcommit      Export a single commit to a CVS checkout\n",
      "   cvsimport            Salvage your data out of another SCM people love to hate\n",
      "   cvsserver            A CVS server emulator for Git\n",
      "   imap-send            Send a collection of patches from stdin to an IMAP folder\n",
      "   quiltimport          Applies a quilt patchset onto the current branch\n",
      "   request-pull         Generates a summary of pending changes\n",
      "   send-email           Send a collection of patches as emails\n",
      "   svn                  Bidirectional operation between a Subversion repository and Git\n",
      "\n",
      "Low-level Commands / Manipulators\n",
      "   apply                Apply a patch to files and/or to the index\n",
      "   checkout-index       Copy files from the index to the working tree\n",
      "   commit-graph         Write and verify Git commit-graph files\n",
      "   commit-tree          Create a new commit object\n",
      "   hash-object          Compute object ID and optionally creates a blob from a file\n",
      "   index-pack           Build pack index file for an existing packed archive\n",
      "   merge-file           Run a three-way file merge\n",
      "   merge-index          Run a merge for files needing merging\n",
      "   mktag                Creates a tag object\n",
      "   mktree               Build a tree-object from ls-tree formatted text\n",
      "   multi-pack-index     Write and verify multi-pack-indexes\n",
      "   pack-objects         Create a packed archive of objects\n",
      "   prune-packed         Remove extra objects that are already in pack files\n",
      "   read-tree            Reads tree information into the index\n",
      "   symbolic-ref         Read, modify and delete symbolic refs\n",
      "   unpack-objects       Unpack objects from a packed archive\n",
      "   update-index         Register file contents in the working tree to the index\n",
      "   update-ref           Update the object name stored in a ref safely\n",
      "   write-tree           Create a tree object from the current index\n",
      "\n",
      "Low-level Commands / Interrogators\n",
      "   cat-file             Provide content or type and size information for repository objects\n",
      "   cherry               Find commits yet to be applied to upstream\n",
      "   diff-files           Compares files in the working tree and the index\n",
      "   diff-index           Compare a tree to the working tree or index\n",
      "   diff-tree            Compares the content and mode of blobs found via two tree objects\n",
      "   for-each-ref         Output information on each ref\n",
      "   get-tar-commit-id    Extract commit ID from an archive created using git-archive\n",
      "   ls-files             Show information about files in the index and the working tree\n",
      "   ls-remote            List references in a remote repository\n",
      "   ls-tree              List the contents of a tree object\n",
      "   merge-base           Find as good common ancestors as possible for a merge\n",
      "   name-rev             Find symbolic names for given revs\n",
      "   pack-redundant       Find redundant pack files\n",
      "   rev-list             Lists commit objects in reverse chronological order\n",
      "   rev-parse            Pick out and massage parameters\n",
      "   show-index           Show packed archive index\n",
      "   show-ref             List references in a local repository\n",
      "   unpack-file          Creates a temporary file with a blob's contents\n",
      "   var                  Show a Git logical variable\n",
      "   verify-pack          Validate packed Git archive files\n",
      "\n",
      "Low-level Commands / Synching Repositories\n",
      "   daemon               A really simple server for Git repositories\n",
      "   fetch-pack           Receive missing objects from another repository\n",
      "   http-backend         Server side implementation of Git over HTTP\n",
      "   send-pack            Push objects over Git protocol to another repository\n",
      "   update-server-info   Update auxiliary info file to help dumb servers\n",
      "\n",
      "Low-level Commands / Internal Helpers\n",
      "   check-attr           Display gitattributes information\n",
      "   check-ignore         Debug gitignore / exclude files\n",
      "   check-mailmap        Show canonical names and email addresses of contacts\n",
      "   check-ref-format     Ensures that a reference name is well formed\n",
      "   column               Display data in columns\n",
      "   credential           Retrieve and store user credentials\n",
      "   credential-cache     Helper to temporarily store passwords in memory\n",
      "   credential-store     Helper to store credentials on disk\n",
      "   fmt-merge-msg        Produce a merge commit message\n",
      "   interpret-trailers   add or parse structured information in commit messages\n",
      "   mailinfo             Extracts patch and authorship from a single e-mail message\n",
      "   mailsplit            Simple UNIX mbox splitter program\n",
      "   merge-one-file       The standard helper program to use with git-merge-index\n",
      "   patch-id             Compute unique ID for a patch\n",
      "   sh-i18n              Git's i18n setup code for shell scripts\n",
      "   sh-setup             Common Git shell script setup code\n",
      "   stripspace           Remove unnecessary whitespace\n",
      "\n",
      "External commands\n",
      "   credential-gcloud.sh\n",
      "\n",
      "Command aliases\n",
      "   gtree                log --oneline --graph --all --decorate\n",
      "   st                   status\n"
     ]
    }
   ],
   "source": [
    "git help -a"
   ]
  },
  {
   "cell_type": "code",
   "execution_count": 7,
   "metadata": {},
   "outputs": [
    {
     "name": "stdout",
     "output_type": "stream",
     "text": [
      "tree 34fa038544bcd9aed660c08320214bafff94150b\n",
      "parent a90d1906337a6d75f1dc32da647931f932500d83\n",
      "author Aske Olsson <aske.olsson@switch-gears.dk> 1386933960 +0100\n",
      "committer Aske Olsson <aske.olsson@switch-gears.dk> 1386941455 +0100\n",
      "\n",
      "This is the subject line of the commit message\n",
      "\n",
      "It should be followed by a blank line then the body, which is this text. Here\n",
      "you can have multiple paragraphs etc. and explain your commit. It's like an\n",
      "email with subject and body, so get people's attention in the subject\n"
     ]
    }
   ],
   "source": [
    "git cat-file -p HEAD"
   ]
  },
  {
   "cell_type": "code",
   "execution_count": 8,
   "metadata": {},
   "outputs": [
    {
     "name": "stdout",
     "output_type": "stream",
     "text": [
      "\u001b[33m34acc37\u001b[m\u001b[33m (\u001b[m\u001b[1;36mHEAD -> \u001b[m\u001b[1;32mmaster\u001b[m\u001b[33m, \u001b[m\u001b[1;33mtag: v1.0\u001b[m\u001b[33m, \u001b[m\u001b[1;31morigin/master\u001b[m\u001b[33m, \u001b[m\u001b[1;31morigin/HEAD\u001b[m\u001b[33m)\u001b[m This is the subject line of the commit message\n",
      "\u001b[33ma90d190\u001b[m Instructions for compiling hello_world.c\n",
      "\u001b[33m485884e\u001b[m Merge branch 'feature/1'\n",
      "\u001b[33m0806a8b\u001b[m Fixes warnings with -Wall flag\n",
      "\u001b[33m70f42ec\u001b[m Remove warnings when compiling\n",
      "\u001b[33mc98f570\u001b[m Adds a hello world C program\n",
      "\u001b[33m44f1e05\u001b[m Add another file to the repository\n",
      "\u001b[33m08e022e\u001b[m More master info in README\n",
      "\u001b[33m8f845c4\u001b[m Update README with master branch info\n",
      "\u001b[33m97ce729\u001b[m\u001b[33m (\u001b[m\u001b[1;33mtag: v0.1\u001b[m\u001b[33m)\u001b[m Initial commit for data-model-repository\n"
     ]
    }
   ],
   "source": [
    "git log --oneline"
   ]
  },
  {
   "cell_type": "code",
   "execution_count": 10,
   "metadata": {},
   "outputs": [
    {
     "name": "stdout",
     "output_type": "stream",
     "text": [
      "usage: git cat-file (-t [--allow-unknown-type] | -s [--allow-unknown-type] | -e | -p | <type> | --textconv | --filters) [--path=<path>] <object>\n",
      "   or: git cat-file (--batch | --batch-check) [--follow-symlinks] [--textconv | --filters]\n",
      "\n",
      "<type> can be one of: blob, tree, commit, tag\n",
      "    -t                    show object type\n",
      "    -s                    show object size\n",
      "    -e                    exit with zero when there's no error\n",
      "    -p                    pretty-print object's content\n",
      "    --textconv            for blob objects, run textconv on object's content\n",
      "    --filters             for blob objects, run filters on object's content\n",
      "    --path <blob>         use a specific path for --textconv/--filters\n",
      "    --allow-unknown-type  allow -s and -t to work with broken/corrupt objects\n",
      "    --buffer              buffer --batch output\n",
      "    --batch[=<format>]    show info and content of objects fed from the standard input\n",
      "    --batch-check[=<format>]\n",
      "                          show info about objects fed from the standard input\n",
      "    --follow-symlinks     follow in-tree symlinks (used with --batch or --batch-check)\n",
      "    --batch-all-objects   show all objects with --batch or --batch-check\n",
      "    --unordered           do not order --batch-all-objects output\n",
      "\n"
     ]
    },
    {
     "ename": "",
     "evalue": "129",
     "output_type": "error",
     "traceback": []
    }
   ],
   "source": [
    "git cat-file HEAD"
   ]
  },
  {
   "cell_type": "markdown",
   "metadata": {},
   "source": [
    "## The Tree Object"
   ]
  },
  {
   "cell_type": "code",
   "execution_count": 11,
   "metadata": {},
   "outputs": [
    {
     "name": "stdout",
     "output_type": "stream",
     "text": [
      "100644 blob f21dc2804e888fee6014d7e5b1ceee533b222c15\tREADME.md\n",
      "040000 tree abc267d04fb803760b75be7e665d3d69eeed32f8\ta_sub_directory\n",
      "100644 blob b50f80ac4d0a36780f9c0636f43472962154a11a\tanother-file.txt\n",
      "100644 blob 92f046f17079aa82c924a9acf28d623fcb6ca727\tcat-me.txt\n",
      "100644 blob bb2fe940924c65b4a1cefcbdbe88c74d39eb23cd\thello_world.c\n"
     ]
    }
   ],
   "source": [
    "git cat-file -p 34fa038544bcd9aed660c08320214bafff94150b"
   ]
  },
  {
   "cell_type": "markdown",
   "metadata": {},
   "source": [
    " - tree = directories\n",
    " - blob = files\n",
    " "
   ]
  },
  {
   "cell_type": "markdown",
   "metadata": {},
   "source": [
    "git cat-file -p HEAD^{tree}\n",
    "\n",
    "The special notation HEAD^{tree} means that from the reference given, (HEAD) recursively dereferences the object at the reference until a tree object is found.\n",
    "\n",
    "A generic form of the notation is <rev>^<type> and will return the first object of <type> searching recursively from <rev>."
   ]
  },
  {
   "cell_type": "code",
   "execution_count": 13,
   "metadata": {},
   "outputs": [
    {
     "name": "stdout",
     "output_type": "stream",
     "text": [
      "100644 blob f21dc2804e888fee6014d7e5b1ceee533b222c15\tREADME.md\n",
      "040000 tree abc267d04fb803760b75be7e665d3d69eeed32f8\ta_sub_directory\n",
      "100644 blob b50f80ac4d0a36780f9c0636f43472962154a11a\tanother-file.txt\n",
      "100644 blob 92f046f17079aa82c924a9acf28d623fcb6ca727\tcat-me.txt\n",
      "100644 blob bb2fe940924c65b4a1cefcbdbe88c74d39eb23cd\thello_world.c\n"
     ]
    }
   ],
   "source": [
    "git cat-file -p HEAD^{tree}"
   ]
  },
  {
   "cell_type": "code",
   "execution_count": 21,
   "metadata": {},
   "outputs": [
    {
     "name": "stdout",
     "output_type": "stream",
     "text": [
      "100644 blob 6dc3bfbc6db8253b7789af1dee44caf8ec6ffb6e\treadme\n"
     ]
    }
   ],
   "source": [
    "git cat-file -p abc267d04fb803760b75be7e665d3d69eeed32f8^{tree}"
   ]
  },
  {
   "cell_type": "markdown",
   "metadata": {},
   "source": [
    "## The Commit Object"
   ]
  },
  {
   "cell_type": "markdown",
   "metadata": {},
   "source": [
    "HEAD always points to the current snapshot/commit, so we can use that as a target for our request of the commit we want to have a look at"
   ]
  },
  {
   "cell_type": "markdown",
   "metadata": {},
   "source": [
    "## The Blob Object"
   ]
  },
  {
   "cell_type": "code",
   "execution_count": 23,
   "metadata": {},
   "outputs": [
    {
     "name": "stdout",
     "output_type": "stream",
     "text": [
      "tree 34fa038544bcd9aed660c08320214bafff94150b\n",
      "parent a90d1906337a6d75f1dc32da647931f932500d83\n",
      "author Aske Olsson <aske.olsson@switch-gears.dk> 1386933960 +0100\n",
      "committer Aske Olsson <aske.olsson@switch-gears.dk> 1386941455 +0100\n",
      "\n",
      "This is the subject line of the commit message\n",
      "\n",
      "It should be followed by a blank line then the body, which is this text. Here\n",
      "you can have multiple paragraphs etc. and explain your commit. It's like an\n",
      "email with subject and body, so get people's attention in the subject\n"
     ]
    }
   ],
   "source": [
    "git cat-file -p HEAD"
   ]
  },
  {
   "cell_type": "code",
   "execution_count": 24,
   "metadata": {},
   "outputs": [
    {
     "name": "stdout",
     "output_type": "stream",
     "text": [
      "100644 blob f21dc2804e888fee6014d7e5b1ceee533b222c15\tREADME.md\n",
      "040000 tree abc267d04fb803760b75be7e665d3d69eeed32f8\ta_sub_directory\n",
      "100644 blob b50f80ac4d0a36780f9c0636f43472962154a11a\tanother-file.txt\n",
      "100644 blob 92f046f17079aa82c924a9acf28d623fcb6ca727\tcat-me.txt\n",
      "100644 blob bb2fe940924c65b4a1cefcbdbe88c74d39eb23cd\thello_world.c\n"
     ]
    }
   ],
   "source": [
    "git cat-file -p 34fa038544bcd9aed660c08320214bafff94150b"
   ]
  },
  {
   "cell_type": "code",
   "execution_count": 25,
   "metadata": {},
   "outputs": [
    {
     "name": "stdout",
     "output_type": "stream",
     "text": [
      "Example Git repository\n",
      "======================\n",
      "\n",
      "This repository shall explain the Git data model\n",
      "\n",
      "Master\n",
      "------\n",
      "\n",
      "The master branch is the default branch, this is on default checked out when the\n",
      "repository is cloned\n",
      "\n",
      "hello_world.c instructions\n",
      "--------------------------\n",
      "gcc -Wall hello_world.c -o hello\n",
      "./hello\n",
      "\n",
      "\n"
     ]
    }
   ],
   "source": [
    "git cat-file -p f21dc2804e888fee6014d7e5b1ceee533b222c15"
   ]
  },
  {
   "cell_type": "markdown",
   "metadata": {},
   "source": [
    "the objects are tied together, blobs to trees, trees to other trees, and the root tree to the commit object, all by the SHA-1 identifier of the object."
   ]
  },
  {
   "cell_type": "markdown",
   "metadata": {},
   "source": [
    "## The Branch"
   ]
  },
  {
   "cell_type": "code",
   "execution_count": 26,
   "metadata": {},
   "outputs": [
    {
     "name": "stdout",
     "output_type": "stream",
     "text": [
      "usage: git cat-file (-t [--allow-unknown-type] | -s [--allow-unknown-type] | -e | -p | <type> | --textconv | --filters) [--path=<path>] <object>\n",
      "   or: git cat-file (--batch | --batch-check) [--follow-symlinks] [--textconv | --filters]\n",
      "\n",
      "<type> can be one of: blob, tree, commit, tag\n",
      "    -t                    show object type\n",
      "    -s                    show object size\n",
      "    -e                    exit with zero when there's no error\n",
      "    -p                    pretty-print object's content\n",
      "    --textconv            for blob objects, run textconv on object's content\n",
      "    --filters             for blob objects, run filters on object's content\n",
      "    --path <blob>         use a specific path for --textconv/--filters\n",
      "    --allow-unknown-type  allow -s and -t to work with broken/corrupt objects\n",
      "    --buffer              buffer --batch output\n",
      "    --batch[=<format>]    show info and content of objects fed from the standard input\n",
      "    --batch-check[=<format>]\n",
      "                          show info about objects fed from the standard input\n",
      "    --follow-symlinks     follow in-tree symlinks (used with --batch or --batch-check)\n",
      "    --batch-all-objects   show all objects with --batch or --batch-check\n",
      "    --unordered           do not order --batch-all-objects output\n",
      "\n"
     ]
    },
    {
     "ename": "",
     "evalue": "129",
     "output_type": "error",
     "traceback": []
    }
   ],
   "source": [
    "git cat-file master"
   ]
  },
  {
   "cell_type": "markdown",
   "metadata": {},
   "source": [
    "The branch object is not really like any other Git objects; you can't print it using the cat-file command as we can with the others (if you specify the -p pretty print, you'll just get the commit object it points to):"
   ]
  },
  {
   "cell_type": "code",
   "execution_count": 27,
   "metadata": {},
   "outputs": [
    {
     "name": "stdout",
     "output_type": "stream",
     "text": [
      "tree 34fa038544bcd9aed660c08320214bafff94150b\n",
      "parent a90d1906337a6d75f1dc32da647931f932500d83\n",
      "author Aske Olsson <aske.olsson@switch-gears.dk> 1386933960 +0100\n",
      "committer Aske Olsson <aske.olsson@switch-gears.dk> 1386941455 +0100\n",
      "\n",
      "This is the subject line of the commit message\n",
      "\n",
      "It should be followed by a blank line then the body, which is this text. Here\n",
      "you can have multiple paragraphs etc. and explain your commit. It's like an\n",
      "email with subject and body, so get people's attention in the subject\n"
     ]
    }
   ],
   "source": [
    "git cat-file -p master"
   ]
  },
  {
   "cell_type": "code",
   "execution_count": 29,
   "metadata": {},
   "outputs": [
    {
     "name": "stdout",
     "output_type": "stream",
     "text": [
      "34acc370b4d6ae53f051255680feaefaf7f7850d\n"
     ]
    }
   ],
   "source": [
    "cat .git/refs/heads/master"
   ]
  },
  {
   "cell_type": "code",
   "execution_count": 30,
   "metadata": {},
   "outputs": [
    {
     "name": "stdout",
     "output_type": "stream",
     "text": [
      "ref: refs/heads/master\n"
     ]
    }
   ],
   "source": [
    "cat .git/HEAD"
   ]
  },
  {
   "cell_type": "markdown",
   "metadata": {},
   "source": [
    "## The Tag Object\n",
    "\n",
    "three different kinds of tags:\\\n",
    "- lightweight (just a label) tag\n",
    "- an annotated tag\n",
    "- a signed tag."
   ]
  },
  {
   "cell_type": "code",
   "execution_count": 31,
   "metadata": {},
   "outputs": [
    {
     "name": "stdout",
     "output_type": "stream",
     "text": [
      "v0.1\n",
      "v1.0\n"
     ]
    }
   ],
   "source": [
    "git tag"
   ]
  },
  {
   "cell_type": "code",
   "execution_count": 32,
   "metadata": {},
   "outputs": [
    {
     "name": "stdout",
     "output_type": "stream",
     "text": [
      "object 34acc370b4d6ae53f051255680feaefaf7f7850d\n",
      "type commit\n",
      "tag v1.0\n",
      "tagger Aske Olsson <aske.olsson@switch-gears.dk> 1386941492 +0100\n",
      "\n",
      "We got the hello world C program merged, let's call that a release 1.0\n"
     ]
    }
   ],
   "source": [
    "git cat-file -p v1.0"
   ]
  },
  {
   "cell_type": "markdown",
   "metadata": {},
   "source": [
    "### git hash-object"
   ]
  },
  {
   "cell_type": "code",
   "execution_count": 33,
   "metadata": {},
   "outputs": [
    {
     "name": "stdout",
     "output_type": "stream",
     "text": [
      "\u001b[33m34acc37\u001b[m\u001b[33m (\u001b[m\u001b[1;36mHEAD -> \u001b[m\u001b[1;32mmaster\u001b[m\u001b[33m, \u001b[m\u001b[1;33mtag: v1.0\u001b[m\u001b[33m, \u001b[m\u001b[1;31morigin/master\u001b[m\u001b[33m, \u001b[m\u001b[1;31morigin/HEAD\u001b[m\u001b[33m)\u001b[m This is the subject line of the commit message\n",
      "\u001b[33ma90d190\u001b[m Instructions for compiling hello_world.c\n",
      "\u001b[33m485884e\u001b[m Merge branch 'feature/1'\n",
      "\u001b[33m0806a8b\u001b[m Fixes warnings with -Wall flag\n",
      "\u001b[33m70f42ec\u001b[m Remove warnings when compiling\n",
      "\u001b[33mc98f570\u001b[m Adds a hello world C program\n",
      "\u001b[33m44f1e05\u001b[m Add another file to the repository\n",
      "\u001b[33m08e022e\u001b[m More master info in README\n",
      "\u001b[33m8f845c4\u001b[m Update README with master branch info\n",
      "\u001b[33m97ce729\u001b[m\u001b[33m (\u001b[m\u001b[1;33mtag: v0.1\u001b[m\u001b[33m)\u001b[m Initial commit for data-model-repository\n"
     ]
    }
   ],
   "source": [
    "git log --oneline"
   ]
  },
  {
   "cell_type": "code",
   "execution_count": 35,
   "metadata": {},
   "outputs": [
    {
     "name": "stdout",
     "output_type": "stream",
     "text": [
      "34acc370b4d6ae53f051255680feaefaf7f7850d\n"
     ]
    }
   ],
   "source": [
    "git cat-file -p HEAD | git hash-object -t commit --stdin"
   ]
  },
  {
   "cell_type": "code",
   "execution_count": 37,
   "metadata": {},
   "outputs": [
    {
     "name": "stdout",
     "output_type": "stream",
     "text": [
      "\u001b[33m34acc37\u001b[m\u001b[33m (\u001b[m\u001b[1;36mHEAD -> \u001b[m\u001b[1;32mmaster\u001b[m\u001b[33m, \u001b[m\u001b[1;33mtag: v1.0\u001b[m\u001b[33m, \u001b[m\u001b[1;31morigin/master\u001b[m\u001b[33m, \u001b[m\u001b[1;31morigin/HEAD\u001b[m\u001b[33m)\u001b[m This is the subject line of the commit message\n"
     ]
    }
   ],
   "source": [
    "git log -1 --oneline"
   ]
  },
  {
   "cell_type": "markdown",
   "metadata": {},
   "source": [
    "### git ls-tree"
   ]
  },
  {
   "cell_type": "code",
   "execution_count": 38,
   "metadata": {},
   "outputs": [
    {
     "name": "stdout",
     "output_type": "stream",
     "text": [
      "usage: git ls-tree [<options>] <tree-ish> [<path>...]\n",
      "\n",
      "    -d                    only show trees\n",
      "    -r                    recurse into subtrees\n",
      "    -t                    show trees when recursing\n",
      "    -z                    terminate entries with NUL byte\n",
      "    -l, --long            include object size\n",
      "    --name-only           list only filenames\n",
      "    --name-status         list only filenames\n",
      "    --full-name           use full path names\n",
      "    --full-tree           list entire tree; not just current directory (implies --full-name)\n",
      "    --abbrev[=<n>]        use <n> digits to display SHA-1s\n",
      "\n"
     ]
    },
    {
     "ename": "",
     "evalue": "129",
     "output_type": "error",
     "traceback": []
    }
   ],
   "source": [
    "git ls-tree"
   ]
  },
  {
   "cell_type": "code",
   "execution_count": 39,
   "metadata": {},
   "outputs": [
    {
     "name": "stdout",
     "output_type": "stream",
     "text": [
      "tree 34fa038544bcd9aed660c08320214bafff94150b\n",
      "parent a90d1906337a6d75f1dc32da647931f932500d83\n",
      "author Aske Olsson <aske.olsson@switch-gears.dk> 1386933960 +0100\n",
      "committer Aske Olsson <aske.olsson@switch-gears.dk> 1386941455 +0100\n",
      "\n",
      "This is the subject line of the commit message\n",
      "\n",
      "It should be followed by a blank line then the body, which is this text. Here\n",
      "you can have multiple paragraphs etc. and explain your commit. It's like an\n",
      "email with subject and body, so get people's attention in the subject\n"
     ]
    }
   ],
   "source": [
    "git cat-file -p HEAD"
   ]
  },
  {
   "cell_type": "code",
   "execution_count": 40,
   "metadata": {},
   "outputs": [
    {
     "name": "stdout",
     "output_type": "stream",
     "text": [
      "100644 blob f21dc2804e888fee6014d7e5b1ceee533b222c15\tREADME.md\n",
      "040000 tree abc267d04fb803760b75be7e665d3d69eeed32f8\ta_sub_directory\n",
      "100644 blob b50f80ac4d0a36780f9c0636f43472962154a11a\tanother-file.txt\n",
      "100644 blob 92f046f17079aa82c924a9acf28d623fcb6ca727\tcat-me.txt\n",
      "100644 blob bb2fe940924c65b4a1cefcbdbe88c74d39eb23cd\thello_world.c\n"
     ]
    }
   ],
   "source": [
    "git ls-tree 34fa038544bcd9aed660c08320214bafff94150b"
   ]
  },
  {
   "cell_type": "code",
   "execution_count": 41,
   "metadata": {},
   "outputs": [
    {
     "name": "stdout",
     "output_type": "stream",
     "text": [
      "\u001b[33mtree 34fa038544bcd9aed660c08320214bafff94150b\u001b[m\n",
      "\n",
      "README.md\n",
      "a_sub_directory/\n",
      "another-file.txt\n",
      "cat-me.txt\n",
      "hello_world.c\n"
     ]
    }
   ],
   "source": [
    "git show 34fa038544bcd9aed660c08320214bafff94150b"
   ]
  },
  {
   "cell_type": "code",
   "execution_count": 43,
   "metadata": {},
   "outputs": [
    {
     "name": "stdout",
     "output_type": "stream",
     "text": [
      "\u001b[33mtree 34fa038544bcd9aed660c08320214bafff94150b\u001b[m\n",
      "\n",
      "README.md\n",
      "a_sub_directory/\n",
      "another-file.txt\n",
      "cat-me.txt\n",
      "hello_world.c\n"
     ]
    }
   ],
   "source": [
    "git show 34fa038544bcd9aed660c08320214bafff94150b"
   ]
  },
  {
   "cell_type": "code",
   "execution_count": 44,
   "metadata": {},
   "outputs": [
    {
     "name": "stdout",
     "output_type": "stream",
     "text": [
      "100644 blob f21dc2804e888fee6014d7e5b1ceee533b222c15\tREADME.md\n",
      "100644 blob 6dc3bfbc6db8253b7789af1dee44caf8ec6ffb6e\ta_sub_directory/readme\n",
      "100644 blob b50f80ac4d0a36780f9c0636f43472962154a11a\tanother-file.txt\n",
      "100644 blob 92f046f17079aa82c924a9acf28d623fcb6ca727\tcat-me.txt\n",
      "100644 blob bb2fe940924c65b4a1cefcbdbe88c74d39eb23cd\thello_world.c\n"
     ]
    }
   ],
   "source": [
    "git ls-tree -r 34fa038544bcd9aed660c08320214bafff94150b"
   ]
  },
  {
   "cell_type": "code",
   "execution_count": null,
   "metadata": {},
   "outputs": [],
   "source": []
  }
 ],
 "metadata": {
  "kernelspec": {
   "display_name": "Bash",
   "language": "bash",
   "name": "bash"
  },
  "language_info": {
   "codemirror_mode": "shell",
   "file_extension": ".sh",
   "mimetype": "text/x-sh",
   "name": "bash"
  }
 },
 "nbformat": 4,
 "nbformat_minor": 4
}
