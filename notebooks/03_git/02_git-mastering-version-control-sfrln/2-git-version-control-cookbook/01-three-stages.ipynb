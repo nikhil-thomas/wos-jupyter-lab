{
 "cells": [
  {
   "cell_type": "markdown",
   "metadata": {},
   "source": [
    "# Git's Objects"
   ]
  },
  {
   "cell_type": "markdown",
   "metadata": {},
   "source": [
    "- git's object storage is\n",
    "    - key value storage\n",
    "    - key is SHA-1 hash of object, with some additional information like size"
   ]
  },
  {
   "cell_type": "markdown",
   "metadata": {},
   "source": [
    "- 4 types of objects are there, they are reffered by\n",
    "    - branches\n",
    "    - HEAD"
   ]
  },
  {
   "cell_type": "markdown",
   "metadata": {},
   "source": [
    "## 4 Types of git objects\n",
    "\n",
    "- tree (directories)\n",
    "- blobs (files)\n",
    "- commits\n",
    "- tags\n"
   ]
  },
  {
   "cell_type": "code",
   "execution_count": 4,
   "metadata": {},
   "outputs": [
    {
     "name": "stdout",
     "output_type": "stream",
     "text": [
      "/home/ncoder/02_wos/jupyter-lab/notebooks/03_git/02_git-mastering-version-control-sfrln/2-git-version-control-cookbook\n"
     ]
    }
   ],
   "source": [
    "pwd"
   ]
  },
  {
   "cell_type": "code",
   "execution_count": 5,
   "metadata": {},
   "outputs": [],
   "source": [
    "cd ../2-2-git-version-control-cookbook"
   ]
  },
  {
   "cell_type": "code",
   "execution_count": 6,
   "metadata": {},
   "outputs": [
    {
     "name": "stdout",
     "output_type": "stream",
     "text": [
      "/home/ncoder/02_wos/jupyter-lab/notebooks/03_git/02_git-mastering-version-control-sfrln/2-2-git-version-control-cookbook\n"
     ]
    }
   ],
   "source": [
    "pwd"
   ]
  },
  {
   "cell_type": "code",
   "execution_count": 7,
   "metadata": {},
   "outputs": [
    {
     "name": "stdout",
     "output_type": "stream",
     "text": [
      "Cloning into 'data-model'...\n",
      "remote: Enumerating objects: 45, done.\u001b[K\n",
      "remote: Counting objects: 100% (45/45), done.\u001b[K\n",
      "remote: Compressing objects: 100% (26/26), done.\u001b[K\n",
      "remote: Total 45 (delta 11), reused 45 (delta 11), pack-reused 0\u001b[K\n",
      "Unpacking objects: 100% (45/45), done.\n"
     ]
    }
   ],
   "source": [
    "git clone https://github.com/dvaske/data-model.git"
   ]
  },
  {
   "cell_type": "code",
   "execution_count": 8,
   "metadata": {},
   "outputs": [
    {
     "name": "stdout",
     "output_type": "stream",
     "text": [
      " c1.navigating-git.ipynb  'c2.gits objects.ipynb'   \u001b[0m\u001b[38;5;33mdata-model\u001b[0m   \u001b[38;5;33mimages\u001b[0m\n"
     ]
    }
   ],
   "source": [
    "ls"
   ]
  },
  {
   "cell_type": "code",
   "execution_count": 11,
   "metadata": {},
   "outputs": [
    {
     "name": "stdout",
     "output_type": "stream",
     "text": [
      "bash: cd: data-model: No such file or directory\n",
      "/home/ncoder/02_wos/jupyter-lab/notebooks/03_git/02_git-mastering-version-control-sfrln/2-2-git-version-control-cookbook/data-model\n"
     ]
    }
   ],
   "source": [
    "cd data-model;\n",
    "pwd"
   ]
  },
  {
   "cell_type": "markdown",
   "metadata": {},
   "source": [
    "## Looking at COMMIT object"
   ]
  },
  {
   "cell_type": "markdown",
   "metadata": {},
   "source": [
    "### HEAD points to\n",
    "- current snapshot/commit"
   ]
  },
  {
   "cell_type": "markdown",
   "metadata": {},
   "source": [
    "#### command used to look at a COMMIT\n",
    "\n",
    "- `git cat-file`"
   ]
  },
  {
   "cell_type": "code",
   "execution_count": 12,
   "metadata": {},
   "outputs": [
    {
     "name": "stdout",
     "output_type": "stream",
     "text": [
      "tree 34fa038544bcd9aed660c08320214bafff94150b\n",
      "parent a90d1906337a6d75f1dc32da647931f932500d83\n",
      "author Aske Olsson <aske.olsson@switch-gears.dk> 1386933960 +0100\n",
      "committer Aske Olsson <aske.olsson@switch-gears.dk> 1386941455 +0100\n",
      "\n",
      "This is the subject line of the commit message\n",
      "\n",
      "It should be followed by a blank line then the body, which is this text. Here\n",
      "you can have multiple paragraphs etc. and explain your commit. It's like an\n",
      "email with subject and body, so get people's attention in the subject\n"
     ]
    }
   ],
   "source": [
    "git cat-file -p HEAD"
   ]
  },
  {
   "cell_type": "markdown",
   "metadata": {},
   "source": [
    "#### git cat-file output\n",
    "\n",
    "- `cat-file -p` pretty prints given object\n",
    "    - in this case, HEAD which points to master branch, which inturn points to latest commit on master branch\n",
    "- what does commit object consists of?\n",
    "    - root tree (tree 34fa038544bcd9aed660c08320214bafff94150b)\n",
    "    - parent commit object's id (parent a90d1906337a6d75f1dc32da647931f932500d83)\n",
    "    - author and timestamp information (author Aske Olsson <aske.olsson@switch-gears.dk> 1386933960 +0100)\n",
    "    - committer and timestamp information (committer Aske Olsson <aske.olsson@switch-gears.dk> 1386941455 +0100)\n",
    "    - commit message\n",
    "    "
   ]
  },
  {
   "cell_type": "markdown",
   "metadata": {},
   "source": [
    "### differnce between git commit author and committer\n",
    "\n",
    "The author is the person who originally wrote the code. The committer, on the other hand, is assumed to be the person who committed the code on behalf of the original author. This is important in Git because Git allows you to rewrite history, or apply patches on behalf of another person.\n",
    "\n",
    "ref: https://stackoverflow.com/questions/18750808/difference-between-author-and-committer-in-git"
   ]
  },
  {
   "cell_type": "markdown",
   "metadata": {},
   "source": [
    "## Looking into TREE object"
   ]
  },
  {
   "cell_type": "markdown",
   "metadata": {},
   "source": [
    "**How**\n",
    "- using `git cat-file -p` command with the tree ID as the argument"
   ]
  },
  {
   "cell_type": "code",
   "execution_count": 15,
   "metadata": {},
   "outputs": [
    {
     "name": "stdout",
     "output_type": "stream",
     "text": [
      "100644 blob f21dc2804e888fee6014d7e5b1ceee533b222c15\tREADME.md\n",
      "040000 tree abc267d04fb803760b75be7e665d3d69eeed32f8\ta_sub_directory\n",
      "100644 blob b50f80ac4d0a36780f9c0636f43472962154a11a\tanother-file.txt\n",
      "100644 blob 92f046f17079aa82c924a9acf28d623fcb6ca727\tcat-me.txt\n",
      "100644 blob bb2fe940924c65b4a1cefcbdbe88c74d39eb23cd\thello_world.c\n"
     ]
    }
   ],
   "source": [
    "git cat-file -p 34fa038544bcd9aed660c08320214bafff94150b"
   ]
  },
  {
   "cell_type": "markdown",
   "metadata": {},
   "source": [
    "### git cat-file "
   ]
  },
  {
   "cell_type": "code",
   "execution_count": 16,
   "metadata": {},
   "outputs": [
    {
     "name": "stdout",
     "output_type": "stream",
     "text": [
      "usage: git cat-file (-t [--allow-unknown-type] | -s [--allow-unknown-type] | -e | -p | <type> | --textconv | --filters) [--path=<path>] <object>\n",
      "   or: git cat-file (--batch | --batch-check) [--follow-symlinks] [--textconv | --filters]\n",
      "\n",
      "<type> can be one of: blob, tree, commit, tag\n",
      "    -t                    show object type\n",
      "    -s                    show object size\n",
      "    -e                    exit with zero when there's no error\n",
      "    -p                    pretty-print object's content\n",
      "    --textconv            for blob objects, run textconv on object's content\n",
      "    --filters             for blob objects, run filters on object's content\n",
      "    --path <blob>         use a specific path for --textconv/--filters\n",
      "    --allow-unknown-type  allow -s and -t to work with broken/corrupt objects\n",
      "    --buffer              buffer --batch output\n",
      "    --batch[=<format>]    show info and content of objects fed from the standard input\n",
      "    --batch-check[=<format>]\n",
      "                          show info about objects fed from the standard input\n",
      "    --follow-symlinks     follow in-tree symlinks (used with --batch or --batch-check)\n",
      "    --batch-all-objects   show all objects with --batch or --batch-check\n",
      "    --unordered           do not order --batch-all-objects output\n",
      "\n"
     ]
    },
    {
     "ename": "",
     "evalue": "129",
     "output_type": "error",
     "traceback": []
    }
   ],
   "source": [
    "git cat-file -h"
   ]
  },
  {
   "cell_type": "code",
   "execution_count": 17,
   "metadata": {},
   "outputs": [
    {
     "name": "stdout",
     "output_type": "stream",
     "text": [
      "tree\n"
     ]
    }
   ],
   "source": [
    "git cat-file -t 34fa038544bcd9aed660c08320214bafff94150b"
   ]
  },
  {
   "cell_type": "code",
   "execution_count": 18,
   "metadata": {},
   "outputs": [
    {
     "name": "stdout",
     "output_type": "stream",
     "text": [
      "202\n"
     ]
    }
   ],
   "source": [
    "git cat-file -s 34fa038544bcd9aed660c08320214bafff94150b"
   ]
  },
  {
   "cell_type": "markdown",
   "metadata": {},
   "source": [
    "### Looking into the tree object of a Rev\n",
    "\n",
    "the tree object of a HEAD can be printed with\n",
    "- `git cat-file -p HEAD^{tree} "
   ]
  },
  {
   "cell_type": "code",
   "execution_count": 2,
   "metadata": {},
   "outputs": [
    {
     "name": "stdout",
     "output_type": "stream",
     "text": [
      "100644 blob 8b137891791fe96927ad78e64b0aad7bded08bdc\t.gitignore\n",
      "100644 blob c84daf56fa2d5452ba1cd69fa67e9784f380f09d\t.gitmodules\n",
      "100644 blob 177aafe62f3951e9ac34905658b27a1f2e80dd48\tPipfile\n",
      "100644 blob dcb4a125e6eb090179c0ea6b85f7c9455fe9e1ef\tPipfile.lock\n",
      "040000 tree c2a269137439f20df79db350b07addd1f2438233\tnotebooks\n",
      "100644 blob ee275c09328b70dbd12339cc532c2a8ebd492741\treference.md\n",
      "100755 blob cfc06a524e0b4d1d56a7651f5f3dee388209b347\trun.sh\n"
     ]
    }
   ],
   "source": [
    "git cat-file -p HEAD^{tree}"
   ]
  },
  {
   "cell_type": "markdown",
   "metadata": {},
   "source": [
    "#### generic form\n",
    "\n",
    "`git cat-file -p <rev>^{type}`\n",
    "\n",
    "means\n",
    "\n",
    "- git will return first object of type `type` searching recursiveely from `rev`"
   ]
  },
  {
   "cell_type": "markdown",
   "metadata": {},
   "source": [
    "#### cat-file tree object shows\n",
    "\n",
    "- file type/permissions\n",
    "- type (tree/blob)\n",
    "- ID (SHA-1)\n",
    "- pathname"
   ]
  },
  {
   "cell_type": "markdown",
   "metadata": {},
   "source": [
    "## Looking into BLOB Object"
   ]
  },
  {
   "cell_type": "markdown",
   "metadata": {},
   "source": [
    "display blob\n",
    "- cat-file blob id"
   ]
  },
  {
   "cell_type": "code",
   "execution_count": 4,
   "metadata": {},
   "outputs": [],
   "source": [
    "cd ../2-2-git-version-control-cookbook/data-model"
   ]
  },
  {
   "cell_type": "code",
   "execution_count": 5,
   "metadata": {},
   "outputs": [
    {
     "name": "stdout",
     "output_type": "stream",
     "text": [
      "tree 34fa038544bcd9aed660c08320214bafff94150b\n",
      "parent a90d1906337a6d75f1dc32da647931f932500d83\n",
      "author Aske Olsson <aske.olsson@switch-gears.dk> 1386933960 +0100\n",
      "committer Aske Olsson <aske.olsson@switch-gears.dk> 1386941455 +0100\n",
      "\n",
      "This is the subject line of the commit message\n",
      "\n",
      "It should be followed by a blank line then the body, which is this text. Here\n",
      "you can have multiple paragraphs etc. and explain your commit. It's like an\n",
      "email with subject and body, so get people's attention in the subject\n"
     ]
    }
   ],
   "source": [
    "git cat-file -p HEAD"
   ]
  },
  {
   "cell_type": "code",
   "execution_count": 6,
   "metadata": {},
   "outputs": [
    {
     "name": "stdout",
     "output_type": "stream",
     "text": [
      "100644 blob f21dc2804e888fee6014d7e5b1ceee533b222c15\tREADME.md\n",
      "040000 tree abc267d04fb803760b75be7e665d3d69eeed32f8\ta_sub_directory\n",
      "100644 blob b50f80ac4d0a36780f9c0636f43472962154a11a\tanother-file.txt\n",
      "100644 blob 92f046f17079aa82c924a9acf28d623fcb6ca727\tcat-me.txt\n",
      "100644 blob bb2fe940924c65b4a1cefcbdbe88c74d39eb23cd\thello_world.c\n"
     ]
    }
   ],
   "source": [
    "git cat-file -p 34fa038544bcd9aed660c08320214bafff94150b"
   ]
  },
  {
   "cell_type": "code",
   "execution_count": 7,
   "metadata": {},
   "outputs": [
    {
     "name": "stdout",
     "output_type": "stream",
     "text": [
      "This is the content of the file: \"cat-me.txt\"\n",
      "\n",
      "Not really that exciting, huh?\n"
     ]
    }
   ],
   "source": [
    "git cat-file -p 92f046f17079aa82c924a9acf28d623fcb6ca727"
   ]
  },
  {
   "cell_type": "markdown",
   "metadata": {},
   "source": [
    "### How objects are tied together\n",
    "- blobs to trees\n",
    "- trees to other trees\n",
    "- root tree to the commit object\n",
    "- all by the SHA-identifier of the object"
   ]
  },
  {
   "cell_type": "markdown",
   "metadata": {},
   "source": [
    "## Looking into a branch\n",
    "\n",
    "- cat-file will print the commit object a branch points to"
   ]
  },
  {
   "cell_type": "code",
   "execution_count": 8,
   "metadata": {},
   "outputs": [
    {
     "name": "stdout",
     "output_type": "stream",
     "text": [
      "tree 34fa038544bcd9aed660c08320214bafff94150b\n",
      "parent a90d1906337a6d75f1dc32da647931f932500d83\n",
      "author Aske Olsson <aske.olsson@switch-gears.dk> 1386933960 +0100\n",
      "committer Aske Olsson <aske.olsson@switch-gears.dk> 1386941455 +0100\n",
      "\n",
      "This is the subject line of the commit message\n",
      "\n",
      "It should be followed by a blank line then the body, which is this text. Here\n",
      "you can have multiple paragraphs etc. and explain your commit. It's like an\n",
      "email with subject and body, so get people's attention in the subject\n"
     ]
    }
   ],
   "source": [
    "git cat-file -p master"
   ]
  },
  {
   "cell_type": "markdown",
   "metadata": {},
   "source": [
    "### finding details about a branch\n",
    "\n",
    "- we can find it inside .git folder where the whole git repo is stored\n",
    "- text file .git/refs/<branch name> show commit the branch points to"
   ]
  },
  {
   "cell_type": "code",
   "execution_count": 9,
   "metadata": {},
   "outputs": [
    {
     "name": "stdout",
     "output_type": "stream",
     "text": [
      "34acc370b4d6ae53f051255680feaefaf7f7850d\n"
     ]
    }
   ],
   "source": [
    "cat .git/refs/heads/master"
   ]
  },
  {
   "cell_type": "markdown",
   "metadata": {},
   "source": [
    "#### how to verify .git/refs/heads/master is pointing to the right commit\n",
    "- use git log command"
   ]
  },
  {
   "cell_type": "code",
   "execution_count": 10,
   "metadata": {},
   "outputs": [
    {
     "name": "stdout",
     "output_type": "stream",
     "text": [
      "\u001b[33mcommit 34acc370b4d6ae53f051255680feaefaf7f7850d\u001b[m\u001b[33m (\u001b[m\u001b[1;36mHEAD -> \u001b[m\u001b[1;32mmaster\u001b[m\u001b[33m, \u001b[m\u001b[1;33mtag: v1.0\u001b[m\u001b[33m, \u001b[m\u001b[1;31morigin/master\u001b[m\u001b[33m, \u001b[m\u001b[1;31morigin/HEAD\u001b[m\u001b[33m)\u001b[m\n",
      "Author: Aske Olsson <aske.olsson@switch-gears.dk>\n",
      "Date:   Fri Dec 13 12:26:00 2013 +0100\n",
      "\n",
      "    This is the subject line of the commit message\n",
      "    \n",
      "    It should be followed by a blank line then the body, which is this text. Here\n",
      "    you can have multiple paragraphs etc. and explain your commit. It's like an\n",
      "    email with subject and body, so get people's attention in the subject\n"
     ]
    }
   ],
   "source": [
    "git log -1"
   ]
  },
  {
   "cell_type": "markdown",
   "metadata": {},
   "source": [
    "#### find branch pointed by HEAD\n",
    "\n",
    "- cat .git/HEAD"
   ]
  },
  {
   "cell_type": "code",
   "execution_count": 11,
   "metadata": {},
   "outputs": [
    {
     "name": "stdout",
     "output_type": "stream",
     "text": [
      "ref: refs/heads/master\n"
     ]
    }
   ],
   "source": [
    "cat .git/HEAD"
   ]
  },
  {
   "cell_type": "markdown",
   "metadata": {},
   "source": [
    "## Looking into the tag Object"
   ]
  },
  {
   "cell_type": "markdown",
   "metadata": {},
   "source": [
    "### types of tag objects\n",
    "- lightweight tag (just label)\n",
    "- annotated tag\n",
    "- signed tag"
   ]
  },
  {
   "cell_type": "markdown",
   "metadata": {},
   "source": [
    "#### list tags\n",
    "- use `git tag` command"
   ]
  },
  {
   "cell_type": "code",
   "execution_count": 12,
   "metadata": {},
   "outputs": [
    {
     "name": "stdout",
     "output_type": "stream",
     "text": [
      "v0.1\n",
      "v1.0\n"
     ]
    }
   ],
   "source": [
    "git tag"
   ]
  },
  {
   "cell_type": "markdown",
   "metadata": {},
   "source": [
    "#### what is inside a tag object\n",
    "- can display using `git cat-file -p`"
   ]
  },
  {
   "cell_type": "code",
   "execution_count": 13,
   "metadata": {},
   "outputs": [
    {
     "name": "stdout",
     "output_type": "stream",
     "text": [
      "object 34acc370b4d6ae53f051255680feaefaf7f7850d\n",
      "type commit\n",
      "tag v1.0\n",
      "tagger Aske Olsson <aske.olsson@switch-gears.dk> 1386941492 +0100\n",
      "\n",
      "We got the hello world C program merged, let's call that a release 1.0\n"
     ]
    }
   ],
   "source": [
    "git cat-file -p v1.0"
   ]
  },
  {
   "cell_type": "markdown",
   "metadata": {},
   "source": [
    "#### a tag consists of\n",
    "- an object (in the above case it is the latest commit on master\n",
    "- objects type (commits, blobs, trees can be tagged)\n",
    "- tag name\n",
    "- tagger\n",
    "- tag message"
   ]
  },
  {
   "cell_type": "markdown",
   "metadata": {},
   "source": [
    "## How to verify ouput of git cat-file\n",
    "- by rehashing with `git hash-object` command\n"
   ]
  },
  {
   "cell_type": "code",
   "execution_count": 14,
   "metadata": {},
   "outputs": [
    {
     "name": "stdout",
     "output_type": "stream",
     "text": [
      "tree 34fa038544bcd9aed660c08320214bafff94150b\n",
      "parent a90d1906337a6d75f1dc32da647931f932500d83\n",
      "author Aske Olsson <aske.olsson@switch-gears.dk> 1386933960 +0100\n",
      "committer Aske Olsson <aske.olsson@switch-gears.dk> 1386941455 +0100\n",
      "\n",
      "This is the subject line of the commit message\n",
      "\n",
      "It should be followed by a blank line then the body, which is this text. Here\n",
      "you can have multiple paragraphs etc. and explain your commit. It's like an\n",
      "email with subject and body, so get people's attention in the subject\n"
     ]
    }
   ],
   "source": [
    "git cat-file -p HEAD"
   ]
  },
  {
   "cell_type": "code",
   "execution_count": 15,
   "metadata": {},
   "outputs": [
    {
     "name": "stdout",
     "output_type": "stream",
     "text": [
      "34acc370b4d6ae53f051255680feaefaf7f7850d\n"
     ]
    }
   ],
   "source": [
    "git cat-file -p HEAD | git hash-object -t commit --stdin"
   ]
  },
  {
   "cell_type": "code",
   "execution_count": 16,
   "metadata": {},
   "outputs": [
    {
     "name": "stdout",
     "output_type": "stream",
     "text": [
      "\u001b[33mcommit 34acc370b4d6ae53f051255680feaefaf7f7850d\u001b[m\u001b[33m (\u001b[m\u001b[1;36mHEAD -> \u001b[m\u001b[1;32mmaster\u001b[m\u001b[33m, \u001b[m\u001b[1;33mtag: v1.0\u001b[m\u001b[33m, \u001b[m\u001b[1;31morigin/master\u001b[m\u001b[33m, \u001b[m\u001b[1;31morigin/HEAD\u001b[m\u001b[33m)\u001b[m\n",
      "Author: Aske Olsson <aske.olsson@switch-gears.dk>\n",
      "Date:   Fri Dec 13 12:26:00 2013 +0100\n",
      "\n",
      "    This is the subject line of the commit message\n",
      "    \n",
      "    It should be followed by a blank line then the body, which is this text. Here\n",
      "    you can have multiple paragraphs etc. and explain your commit. It's like an\n",
      "    email with subject and body, so get people's attention in the subject\n"
     ]
    }
   ],
   "source": [
    "git log -1"
   ]
  },
  {
   "cell_type": "markdown",
   "metadata": {},
   "source": [
    "## Other commands to see git objects in git database\n",
    "\n",
    "- git show\n",
    "- git ls-tree (show contentsof git trees and subtrees)"
   ]
  },
  {
   "cell_type": "code",
   "execution_count": 17,
   "metadata": {},
   "outputs": [
    {
     "name": "stdout",
     "output_type": "stream",
     "text": [
      "usage: git log [<options>] [<revision-range>] [[--] <path>...]\n",
      "   or: git show [<options>] <object>...\n",
      "\n",
      "    -q, --quiet           suppress diff output\n",
      "    --source              show source\n",
      "    --use-mailmap         Use mail map file\n",
      "    --decorate-refs <pattern>\n",
      "                          only decorate refs that match <pattern>\n",
      "    --decorate-refs-exclude <pattern>\n",
      "                          do not decorate refs that match <pattern>\n",
      "    --decorate[=...]      decorate options\n",
      "    -L <n,m:file>         Process line range n,m in file, counting from 1\n",
      "\n"
     ]
    },
    {
     "ename": "",
     "evalue": "129",
     "output_type": "error",
     "traceback": []
    }
   ],
   "source": [
    "git show -h"
   ]
  },
  {
   "cell_type": "code",
   "execution_count": 18,
   "metadata": {},
   "outputs": [
    {
     "name": "stdout",
     "output_type": "stream",
     "text": [
      "usage: git ls-tree [<options>] <tree-ish> [<path>...]\n",
      "\n",
      "    -d                    only show trees\n",
      "    -r                    recurse into subtrees\n",
      "    -t                    show trees when recursing\n",
      "    -z                    terminate entries with NUL byte\n",
      "    -l, --long            include object size\n",
      "    --name-only           list only filenames\n",
      "    --name-status         list only filenames\n",
      "    --full-name           use full path names\n",
      "    --full-tree           list entire tree; not just current directory (implies --full-name)\n",
      "    --abbrev[=<n>]        use <n> digits to display SHA-1s\n",
      "\n"
     ]
    },
    {
     "ename": "",
     "evalue": "129",
     "output_type": "error",
     "traceback": []
    }
   ],
   "source": [
    "git ls-tree -h"
   ]
  },
  {
   "cell_type": "markdown",
   "metadata": {},
   "source": [
    "#### look into a HEAD using using different command than cat-file"
   ]
  },
  {
   "cell_type": "code",
   "execution_count": 21,
   "metadata": {},
   "outputs": [
    {
     "name": "stdout",
     "output_type": "stream",
     "text": [
      "100644 blob f21dc2804e888fee6014d7e5b1ceee533b222c15\tREADME.md\n",
      "040000 tree abc267d04fb803760b75be7e665d3d69eeed32f8\ta_sub_directory\n",
      "100644 blob b50f80ac4d0a36780f9c0636f43472962154a11a\tanother-file.txt\n",
      "100644 blob 92f046f17079aa82c924a9acf28d623fcb6ca727\tcat-me.txt\n",
      "100644 blob bb2fe940924c65b4a1cefcbdbe88c74d39eb23cd\thello_world.c\n"
     ]
    }
   ],
   "source": [
    "git ls-tree HEAD"
   ]
  },
  {
   "cell_type": "markdown",
   "metadata": {},
   "source": [
    "#### ls-tree show only trees"
   ]
  },
  {
   "cell_type": "code",
   "execution_count": 20,
   "metadata": {},
   "outputs": [
    {
     "name": "stdout",
     "output_type": "stream",
     "text": [
      "040000 tree abc267d04fb803760b75be7e665d3d69eeed32f8\ta_sub_directory\n"
     ]
    }
   ],
   "source": [
    "git ls-tree -d HEAD"
   ]
  },
  {
   "cell_type": "markdown",
   "metadata": {},
   "source": [
    "#### ls-tree show only tree, recursively"
   ]
  },
  {
   "cell_type": "code",
   "execution_count": 22,
   "metadata": {},
   "outputs": [
    {
     "name": "stdout",
     "output_type": "stream",
     "text": [
      "040000 tree abc267d04fb803760b75be7e665d3d69eeed32f8\ta_sub_directory\n"
     ]
    }
   ],
   "source": [
    "git ls-tree -d -r HEAD"
   ]
  },
  {
   "cell_type": "code",
   "execution_count": null,
   "metadata": {},
   "outputs": [],
   "source": []
  }
 ],
 "metadata": {
  "kernelspec": {
   "display_name": "Bash",
   "language": "bash",
   "name": "bash"
  },
  "language_info": {
   "codemirror_mode": "shell",
   "file_extension": ".sh",
   "mimetype": "text/x-sh",
   "name": "bash"
  }
 },
 "nbformat": 4,
 "nbformat_minor": 4
}
