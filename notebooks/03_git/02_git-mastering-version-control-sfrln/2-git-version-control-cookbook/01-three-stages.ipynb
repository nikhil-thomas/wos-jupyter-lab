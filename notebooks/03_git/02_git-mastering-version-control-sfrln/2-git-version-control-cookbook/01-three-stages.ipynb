{
 "cells": [
  {
   "cell_type": "markdown",
   "metadata": {},
   "source": [
    "# Git's Objects"
   ]
  },
  {
   "cell_type": "markdown",
   "metadata": {},
   "source": [
    "- git's object storage is\n",
    "    - key value storage\n",
    "    - key is SHA-1 hash of object, with some additional information like size"
   ]
  },
  {
   "cell_type": "markdown",
   "metadata": {},
   "source": [
    "- 4 types of objects are there, they are reffered by\n",
    "    - branches\n",
    "    - HEAD"
   ]
  },
  {
   "cell_type": "markdown",
   "metadata": {},
   "source": [
    "## 4 Types of git objects\n",
    "\n",
    "- tree (directories)\n",
    "- blobs (files)\n",
    "- commits\n",
    "- tags\n"
   ]
  },
  {
   "cell_type": "code",
   "execution_count": 4,
   "metadata": {},
   "outputs": [
    {
     "name": "stdout",
     "output_type": "stream",
     "text": [
      "/home/ncoder/02_wos/jupyter-lab/notebooks/03_git/02_git-mastering-version-control-sfrln/2-git-version-control-cookbook\n"
     ]
    }
   ],
   "source": [
    "pwd"
   ]
  },
  {
   "cell_type": "code",
   "execution_count": 5,
   "metadata": {},
   "outputs": [],
   "source": [
    "cd ../2-2-git-version-control-cookbook"
   ]
  },
  {
   "cell_type": "code",
   "execution_count": 6,
   "metadata": {},
   "outputs": [
    {
     "name": "stdout",
     "output_type": "stream",
     "text": [
      "/home/ncoder/02_wos/jupyter-lab/notebooks/03_git/02_git-mastering-version-control-sfrln/2-2-git-version-control-cookbook\n"
     ]
    }
   ],
   "source": [
    "pwd"
   ]
  },
  {
   "cell_type": "code",
   "execution_count": 7,
   "metadata": {},
   "outputs": [
    {
     "name": "stdout",
     "output_type": "stream",
     "text": [
      "Cloning into 'data-model'...\n",
      "remote: Enumerating objects: 45, done.\u001b[K\n",
      "remote: Counting objects: 100% (45/45), done.\u001b[K\n",
      "remote: Compressing objects: 100% (26/26), done.\u001b[K\n",
      "remote: Total 45 (delta 11), reused 45 (delta 11), pack-reused 0\u001b[K\n",
      "Unpacking objects: 100% (45/45), done.\n"
     ]
    }
   ],
   "source": [
    "git clone https://github.com/dvaske/data-model.git"
   ]
  },
  {
   "cell_type": "code",
   "execution_count": 8,
   "metadata": {},
   "outputs": [
    {
     "name": "stdout",
     "output_type": "stream",
     "text": [
      " c1.navigating-git.ipynb  'c2.gits objects.ipynb'   \u001b[0m\u001b[38;5;33mdata-model\u001b[0m   \u001b[38;5;33mimages\u001b[0m\n"
     ]
    }
   ],
   "source": [
    "ls"
   ]
  },
  {
   "cell_type": "code",
   "execution_count": 11,
   "metadata": {},
   "outputs": [
    {
     "name": "stdout",
     "output_type": "stream",
     "text": [
      "bash: cd: data-model: No such file or directory\n",
      "/home/ncoder/02_wos/jupyter-lab/notebooks/03_git/02_git-mastering-version-control-sfrln/2-2-git-version-control-cookbook/data-model\n"
     ]
    }
   ],
   "source": [
    "cd data-model;\n",
    "pwd"
   ]
  },
  {
   "cell_type": "markdown",
   "metadata": {},
   "source": [
    "## Looking at COMMIT object"
   ]
  },
  {
   "cell_type": "markdown",
   "metadata": {},
   "source": [
    "### HEAD points to\n",
    "- current snapshot/commit"
   ]
  },
  {
   "cell_type": "markdown",
   "metadata": {},
   "source": [
    "#### command used to look at a COMMIT\n",
    "\n",
    "- `git cat-file`"
   ]
  },
  {
   "cell_type": "code",
   "execution_count": 12,
   "metadata": {},
   "outputs": [
    {
     "name": "stdout",
     "output_type": "stream",
     "text": [
      "tree 34fa038544bcd9aed660c08320214bafff94150b\n",
      "parent a90d1906337a6d75f1dc32da647931f932500d83\n",
      "author Aske Olsson <aske.olsson@switch-gears.dk> 1386933960 +0100\n",
      "committer Aske Olsson <aske.olsson@switch-gears.dk> 1386941455 +0100\n",
      "\n",
      "This is the subject line of the commit message\n",
      "\n",
      "It should be followed by a blank line then the body, which is this text. Here\n",
      "you can have multiple paragraphs etc. and explain your commit. It's like an\n",
      "email with subject and body, so get people's attention in the subject\n"
     ]
    }
   ],
   "source": [
    "git cat-file -p HEAD"
   ]
  },
  {
   "cell_type": "markdown",
   "metadata": {},
   "source": [
    "#### git cat-file output\n",
    "\n",
    "- `cat-file -p` pretty prints given object\n",
    "    - in this case, HEAD which points to master branch, which inturn points to latest commit on master branch\n",
    "- what does commit object consists of?\n",
    "    - root tree (tree 34fa038544bcd9aed660c08320214bafff94150b)\n",
    "    - parent commit object's id (parent a90d1906337a6d75f1dc32da647931f932500d83)\n",
    "    - author and timestamp information (author Aske Olsson <aske.olsson@switch-gears.dk> 1386933960 +0100)\n",
    "    - committer and timestamp information (committer Aske Olsson <aske.olsson@switch-gears.dk> 1386941455 +0100)\n",
    "    - commit message\n",
    "    "
   ]
  },
  {
   "cell_type": "markdown",
   "metadata": {},
   "source": [
    "### differnce between git commit author and committer\n",
    "\n",
    "The author is the person who originally wrote the code. The committer, on the other hand, is assumed to be the person who committed the code on behalf of the original author. This is important in Git because Git allows you to rewrite history, or apply patches on behalf of another person.\n",
    "\n",
    "ref: https://stackoverflow.com/questions/18750808/difference-between-author-and-committer-in-git"
   ]
  },
  {
   "cell_type": "markdown",
   "metadata": {},
   "source": [
    "## Looking into TREE object"
   ]
  },
  {
   "cell_type": "markdown",
   "metadata": {},
   "source": [
    "**How**\n",
    "- using `git cat-file -p` command with the tree ID as the argument"
   ]
  },
  {
   "cell_type": "code",
   "execution_count": 15,
   "metadata": {},
   "outputs": [
    {
     "name": "stdout",
     "output_type": "stream",
     "text": [
      "100644 blob f21dc2804e888fee6014d7e5b1ceee533b222c15\tREADME.md\n",
      "040000 tree abc267d04fb803760b75be7e665d3d69eeed32f8\ta_sub_directory\n",
      "100644 blob b50f80ac4d0a36780f9c0636f43472962154a11a\tanother-file.txt\n",
      "100644 blob 92f046f17079aa82c924a9acf28d623fcb6ca727\tcat-me.txt\n",
      "100644 blob bb2fe940924c65b4a1cefcbdbe88c74d39eb23cd\thello_world.c\n"
     ]
    }
   ],
   "source": [
    "git cat-file -p 34fa038544bcd9aed660c08320214bafff94150b"
   ]
  },
  {
   "cell_type": "markdown",
   "metadata": {},
   "source": [
    "### git cat-file "
   ]
  },
  {
   "cell_type": "code",
   "execution_count": 16,
   "metadata": {},
   "outputs": [
    {
     "name": "stdout",
     "output_type": "stream",
     "text": [
      "usage: git cat-file (-t [--allow-unknown-type] | -s [--allow-unknown-type] | -e | -p | <type> | --textconv | --filters) [--path=<path>] <object>\n",
      "   or: git cat-file (--batch | --batch-check) [--follow-symlinks] [--textconv | --filters]\n",
      "\n",
      "<type> can be one of: blob, tree, commit, tag\n",
      "    -t                    show object type\n",
      "    -s                    show object size\n",
      "    -e                    exit with zero when there's no error\n",
      "    -p                    pretty-print object's content\n",
      "    --textconv            for blob objects, run textconv on object's content\n",
      "    --filters             for blob objects, run filters on object's content\n",
      "    --path <blob>         use a specific path for --textconv/--filters\n",
      "    --allow-unknown-type  allow -s and -t to work with broken/corrupt objects\n",
      "    --buffer              buffer --batch output\n",
      "    --batch[=<format>]    show info and content of objects fed from the standard input\n",
      "    --batch-check[=<format>]\n",
      "                          show info about objects fed from the standard input\n",
      "    --follow-symlinks     follow in-tree symlinks (used with --batch or --batch-check)\n",
      "    --batch-all-objects   show all objects with --batch or --batch-check\n",
      "    --unordered           do not order --batch-all-objects output\n",
      "\n"
     ]
    },
    {
     "ename": "",
     "evalue": "129",
     "output_type": "error",
     "traceback": []
    }
   ],
   "source": [
    "git cat-file -h"
   ]
  },
  {
   "cell_type": "code",
   "execution_count": 17,
   "metadata": {},
   "outputs": [
    {
     "name": "stdout",
     "output_type": "stream",
     "text": [
      "tree\n"
     ]
    }
   ],
   "source": [
    "git cat-file -t 34fa038544bcd9aed660c08320214bafff94150b"
   ]
  },
  {
   "cell_type": "code",
   "execution_count": 18,
   "metadata": {},
   "outputs": [
    {
     "name": "stdout",
     "output_type": "stream",
     "text": [
      "202\n"
     ]
    }
   ],
   "source": [
    "git cat-file -s 34fa038544bcd9aed660c08320214bafff94150b"
   ]
  },
  {
   "cell_type": "code",
   "execution_count": null,
   "metadata": {},
   "outputs": [],
   "source": []
  }
 ],
 "metadata": {
  "kernelspec": {
   "display_name": "Bash",
   "language": "bash",
   "name": "bash"
  },
  "language_info": {
   "codemirror_mode": "shell",
   "file_extension": ".sh",
   "mimetype": "text/x-sh",
   "name": "bash"
  }
 },
 "nbformat": 4,
 "nbformat_minor": 4
}
