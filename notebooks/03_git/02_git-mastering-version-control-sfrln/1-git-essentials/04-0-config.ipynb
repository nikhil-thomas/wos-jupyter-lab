{
 "cells": [
  {
   "cell_type": "markdown",
   "metadata": {},
   "source": [
    "## config\n",
    "\n",
    "```\n",
    "git config --list\n",
    "```\n",
    "\n",
    "append --system, --global, or --local options to obtain only the desired level configurations"
   ]
  },
  {
   "cell_type": "markdown",
   "metadata": {},
   "source": [
    "## Ancestry references"
   ]
  },
  {
   "cell_type": "code",
   "execution_count": 1,
   "metadata": {},
   "outputs": [
    {
     "name": "stdout",
     "output_type": "stream",
     "text": [
      "\u001b[33m357baaf\u001b[m\u001b[33m (\u001b[m\u001b[1;36mHEAD -> \u001b[m\u001b[1;32mnewbranch\u001b[m\u001b[33m)\u001b[m conflict resolved\n",
      "\u001b[33m586ae12\u001b[m create conflict on newbranch\n",
      "\u001b[33m595bae6\u001b[m\u001b[33m (\u001b[m\u001b[1;32mmaster\u001b[m\u001b[33m)\u001b[m create conflict master\n",
      "\u001b[33m159d23b\u001b[m Merge branch 'master' into newbranch\n",
      "\u001b[33med46caf\u001b[m edit file1 on master\n",
      "\u001b[33m5af8884\u001b[m commit on new branch\n",
      "\u001b[33m89093ad\u001b[m\u001b[33m (\u001b[m\u001b[1;33mtag: v0.0.1\u001b[m\u001b[33m)\u001b[m file1 updated\n",
      "\u001b[33mf87518f\u001b[m first commit\n"
     ]
    }
   ],
   "source": [
    "git log --oneline"
   ]
  },
  {
   "cell_type": "code",
   "execution_count": 4,
   "metadata": {},
   "outputs": [
    {
     "name": "stdout",
     "output_type": "stream",
     "text": [
      "HEAD is now at 586ae12 create conflict on newbranch\n"
     ]
    }
   ],
   "source": [
    "# set HEAD to previous commit\n",
    "git reset --hard 586ae12"
   ]
  },
  {
   "cell_type": "code",
   "execution_count": 5,
   "metadata": {},
   "outputs": [
    {
     "name": "stdout",
     "output_type": "stream",
     "text": [
      "\u001b[33m586ae12\u001b[m\u001b[33m (\u001b[m\u001b[1;36mHEAD -> \u001b[m\u001b[1;32mnewbranch\u001b[m\u001b[33m)\u001b[m create conflict on newbranch\n",
      "\u001b[33m159d23b\u001b[m Merge branch 'master' into newbranch\n",
      "\u001b[33med46caf\u001b[m edit file1 on master\n",
      "\u001b[33m5af8884\u001b[m commit on new branch\n",
      "\u001b[33m89093ad\u001b[m\u001b[33m (\u001b[m\u001b[1;33mtag: v0.0.1\u001b[m\u001b[33m)\u001b[m file1 updated\n",
      "\u001b[33mf87518f\u001b[m first commit\n"
     ]
    }
   ],
   "source": [
    "git log --oneline"
   ]
  },
  {
   "cell_type": "markdown",
   "metadata": {},
   "source": [
    "**Defining a Parent commit**\n",
    "\n",
    "special characters\n",
    "\n",
    "~ : for first parent\n",
    "^ : second parent (a commit can have 2 parents when there is a merge)\n",
    "\n"
   ]
  },
  {
   "cell_type": "code",
   "execution_count": 6,
   "metadata": {},
   "outputs": [
    {
     "name": "stdout",
     "output_type": "stream",
     "text": [
      "\u001b[33m586ae12\u001b[m\u001b[33m (\u001b[m\u001b[1;36mHEAD -> \u001b[m\u001b[1;32mnewbranch\u001b[m\u001b[33m)\u001b[m create conflict on newbranch\n",
      "\u001b[33m159d23b\u001b[m Merge branch 'master' into newbranch\n",
      "\u001b[33med46caf\u001b[m edit file1 on master\n",
      "\u001b[33m5af8884\u001b[m commit on new branch\n",
      "\u001b[33m89093ad\u001b[m\u001b[33m (\u001b[m\u001b[1;33mtag: v0.0.1\u001b[m\u001b[33m)\u001b[m file1 updated\n",
      "\u001b[33mf87518f\u001b[m first commit\n"
     ]
    }
   ],
   "source": [
    "git log --oneline"
   ]
  },
  {
   "cell_type": "code",
   "execution_count": 23,
   "metadata": {},
   "outputs": [
    {
     "name": "stdout",
     "output_type": "stream",
     "text": [
      "[newbranch 98ea5b4] date 1\n",
      " Committer: Nikhil Thomas <ncoder@iam.ironman>\n",
      "Your name and email address were configured automatically based\n",
      "on your username and hostname. Please check that they are accurate.\n",
      "You can suppress this message by setting them explicitly:\n",
      "\n",
      "    git config --global user.name \"Your Name\"\n",
      "    git config --global user.email you@example.com\n",
      "\n",
      "After doing this, you may fix the identity used for this commit with:\n",
      "\n",
      "    git commit --amend --reset-author\n",
      "\n",
      " 1 file changed, 1 insertion(+)\n",
      " create mode 100644 f\n"
     ]
    }
   ],
   "source": [
    "date > f && git add f && git commit -m \"date 1\""
   ]
  },
  {
   "cell_type": "code",
   "execution_count": 24,
   "metadata": {},
   "outputs": [
    {
     "name": "stdout",
     "output_type": "stream",
     "text": [
      "\u001b[33m98ea5b4\u001b[m\u001b[33m (\u001b[m\u001b[1;36mHEAD -> \u001b[m\u001b[1;32mnewbranch\u001b[m\u001b[33m)\u001b[m date 1\n",
      "\u001b[33m586ae12\u001b[m create conflict on newbranch\n",
      "\u001b[33m159d23b\u001b[m Merge branch 'master' into newbranch\n",
      "\u001b[33med46caf\u001b[m edit file1 on master\n",
      "\u001b[33m5af8884\u001b[m commit on new branch\n",
      "\u001b[33m89093ad\u001b[m\u001b[33m (\u001b[m\u001b[1;33mtag: v0.0.1\u001b[m\u001b[33m)\u001b[m file1 updated\n",
      "\u001b[33mf87518f\u001b[m first commit\n"
     ]
    }
   ],
   "source": [
    "git log --oneline"
   ]
  },
  {
   "cell_type": "code",
   "execution_count": 25,
   "metadata": {},
   "outputs": [
    {
     "name": "stdout",
     "output_type": "stream",
     "text": [
      "[newbranch 730fc89] date 2\n",
      " Committer: Nikhil Thomas <ncoder@iam.ironman>\n",
      "Your name and email address were configured automatically based\n",
      "on your username and hostname. Please check that they are accurate.\n",
      "You can suppress this message by setting them explicitly:\n",
      "\n",
      "    git config --global user.name \"Your Name\"\n",
      "    git config --global user.email you@example.com\n",
      "\n",
      "After doing this, you may fix the identity used for this commit with:\n",
      "\n",
      "    git commit --amend --reset-author\n",
      "\n",
      " 1 file changed, 1 insertion(+)\n"
     ]
    }
   ],
   "source": [
    "date >> f && git add f && git commit -m \"date 2\""
   ]
  },
  {
   "cell_type": "code",
   "execution_count": 26,
   "metadata": {},
   "outputs": [
    {
     "name": "stdout",
     "output_type": "stream",
     "text": [
      "\u001b[33m730fc89\u001b[m\u001b[33m (\u001b[m\u001b[1;36mHEAD -> \u001b[m\u001b[1;32mnewbranch\u001b[m\u001b[33m)\u001b[m date 2\n",
      "\u001b[33m98ea5b4\u001b[m date 1\n",
      "\u001b[33m586ae12\u001b[m create conflict on newbranch\n",
      "\u001b[33m159d23b\u001b[m Merge branch 'master' into newbranch\n",
      "\u001b[33med46caf\u001b[m edit file1 on master\n",
      "\u001b[33m5af8884\u001b[m commit on new branch\n",
      "\u001b[33m89093ad\u001b[m\u001b[33m (\u001b[m\u001b[1;33mtag: v0.0.1\u001b[m\u001b[33m)\u001b[m file1 updated\n",
      "\u001b[33mf87518f\u001b[m first commit\n"
     ]
    }
   ],
   "source": [
    "git log --oneline"
   ]
  },
  {
   "cell_type": "code",
   "execution_count": 27,
   "metadata": {},
   "outputs": [
    {
     "name": "stdout",
     "output_type": "stream",
     "text": [
      "HEAD is now at 586ae12 create conflict on newbranch\n"
     ]
    }
   ],
   "source": [
    "git reset HEAD~2 --hard"
   ]
  },
  {
   "cell_type": "code",
   "execution_count": 28,
   "metadata": {},
   "outputs": [
    {
     "name": "stdout",
     "output_type": "stream",
     "text": [
      "\u001b[33m586ae12\u001b[m\u001b[33m (\u001b[m\u001b[1;36mHEAD -> \u001b[m\u001b[1;32mnewbranch\u001b[m\u001b[33m)\u001b[m create conflict on newbranch\n",
      "\u001b[33m159d23b\u001b[m Merge branch 'master' into newbranch\n",
      "\u001b[33med46caf\u001b[m edit file1 on master\n",
      "\u001b[33m5af8884\u001b[m commit on new branch\n",
      "\u001b[33m89093ad\u001b[m\u001b[33m (\u001b[m\u001b[1;33mtag: v0.0.1\u001b[m\u001b[33m)\u001b[m file1 updated\n",
      "\u001b[33mf87518f\u001b[m first commit\n"
     ]
    }
   ],
   "source": [
    "git log --oneline"
   ]
  },
  {
   "cell_type": "code",
   "execution_count": 29,
   "metadata": {},
   "outputs": [
    {
     "name": "stdout",
     "output_type": "stream",
     "text": [
      "On branch newbranch\n",
      "Untracked files:\n",
      "  (use \"git add <file>...\" to include in what will be committed)\n",
      "\n",
      "\t\u001b[31m.ipynb_checkpoints/\u001b[m\n",
      "\t\u001b[31m02-0.ipynb\u001b[m\n",
      "\t\u001b[31m02-1.ipynb\u001b[m\n",
      "\t\u001b[31m02-3.ipynb\u001b[m\n",
      "\t\u001b[31m03-0 working remotely.ipynb\u001b[m\n",
      "\t\u001b[31m04-0-config.ipynb\u001b[m\n",
      "\t\u001b[31mdotgit/\u001b[m\n",
      "\t\u001b[31mimages/\u001b[m\n",
      "\n",
      "nothing added to commit but untracked files present (use \"git add\" to track)\n"
     ]
    }
   ],
   "source": [
    "git status"
   ]
  },
  {
   "cell_type": "code",
   "execution_count": 14,
   "metadata": {},
   "outputs": [],
   "source": [
    "date > f"
   ]
  },
  {
   "cell_type": "code",
   "execution_count": 15,
   "metadata": {},
   "outputs": [
    {
     "name": "stdout",
     "output_type": "stream",
     "text": [
      " 02-0.ipynb  '03-0 working remotely.ipynb'   \u001b[0m\u001b[38;5;33mexercises\u001b[0m   \u001b[38;5;33mimages\u001b[0m\n",
      " 02-1.ipynb   04-0-config.ipynb              f           newfile\n",
      " 02-3.ipynb   \u001b[38;5;33mdotgit\u001b[0m                         file1\n"
     ]
    }
   ],
   "source": [
    "ls"
   ]
  },
  {
   "cell_type": "code",
   "execution_count": 17,
   "metadata": {},
   "outputs": [
    {
     "name": "stdout",
     "output_type": "stream",
     "text": [
      "[newbranch 97f78a7] date 1\n",
      " Committer: Nikhil Thomas <ncoder@iam.ironman>\n",
      "Your name and email address were configured automatically based\n",
      "on your username and hostname. Please check that they are accurate.\n",
      "You can suppress this message by setting them explicitly:\n",
      "\n",
      "    git config --global user.name \"Your Name\"\n",
      "    git config --global user.email you@example.com\n",
      "\n",
      "After doing this, you may fix the identity used for this commit with:\n",
      "\n",
      "    git commit --amend --reset-author\n",
      "\n",
      " 1 file changed, 1 insertion(+)\n",
      " create mode 100644 f\n"
     ]
    }
   ],
   "source": [
    "git add f && git commit -m \"date 1\""
   ]
  },
  {
   "cell_type": "code",
   "execution_count": 18,
   "metadata": {},
   "outputs": [
    {
     "name": "stdout",
     "output_type": "stream",
     "text": [
      "[newbranch e882689] date 2\n",
      " Committer: Nikhil Thomas <ncoder@iam.ironman>\n",
      "Your name and email address were configured automatically based\n",
      "on your username and hostname. Please check that they are accurate.\n",
      "You can suppress this message by setting them explicitly:\n",
      "\n",
      "    git config --global user.name \"Your Name\"\n",
      "    git config --global user.email you@example.com\n",
      "\n",
      "After doing this, you may fix the identity used for this commit with:\n",
      "\n",
      "    git commit --amend --reset-author\n",
      "\n",
      " 1 file changed, 1 insertion(+)\n"
     ]
    }
   ],
   "source": [
    "date >> f && git add f && git commit -m \"date 2\""
   ]
  },
  {
   "cell_type": "code",
   "execution_count": 19,
   "metadata": {},
   "outputs": [
    {
     "name": "stdout",
     "output_type": "stream",
     "text": [
      "\u001b[33me882689\u001b[m\u001b[33m (\u001b[m\u001b[1;36mHEAD -> \u001b[m\u001b[1;32mnewbranch\u001b[m\u001b[33m)\u001b[m date 2\n",
      "\u001b[33m97f78a7\u001b[m date 1\n",
      "\u001b[33m586ae12\u001b[m create conflict on newbranch\n",
      "\u001b[33m159d23b\u001b[m Merge branch 'master' into newbranch\n",
      "\u001b[33med46caf\u001b[m edit file1 on master\n",
      "\u001b[33m5af8884\u001b[m commit on new branch\n",
      "\u001b[33m89093ad\u001b[m\u001b[33m (\u001b[m\u001b[1;33mtag: v0.0.1\u001b[m\u001b[33m)\u001b[m file1 updated\n",
      "\u001b[33mf87518f\u001b[m first commit\n"
     ]
    }
   ],
   "source": [
    "git log --oneline"
   ]
  },
  {
   "cell_type": "code",
   "execution_count": 20,
   "metadata": {},
   "outputs": [],
   "source": [
    "git reset HEAD~2"
   ]
  },
  {
   "cell_type": "code",
   "execution_count": 21,
   "metadata": {},
   "outputs": [
    {
     "name": "stdout",
     "output_type": "stream",
     "text": [
      "\u001b[33m586ae12\u001b[m\u001b[33m (\u001b[m\u001b[1;36mHEAD -> \u001b[m\u001b[1;32mnewbranch\u001b[m\u001b[33m)\u001b[m create conflict on newbranch\n",
      "\u001b[33m159d23b\u001b[m Merge branch 'master' into newbranch\n",
      "\u001b[33med46caf\u001b[m edit file1 on master\n",
      "\u001b[33m5af8884\u001b[m commit on new branch\n",
      "\u001b[33m89093ad\u001b[m\u001b[33m (\u001b[m\u001b[1;33mtag: v0.0.1\u001b[m\u001b[33m)\u001b[m file1 updated\n",
      "\u001b[33mf87518f\u001b[m first commit\n"
     ]
    }
   ],
   "source": [
    "git log --oneline"
   ]
  },
  {
   "cell_type": "code",
   "execution_count": 22,
   "metadata": {},
   "outputs": [
    {
     "name": "stdout",
     "output_type": "stream",
     "text": [
      "On branch newbranch\n",
      "Untracked files:\n",
      "  (use \"git add <file>...\" to include in what will be committed)\n",
      "\n",
      "\t\u001b[31m.ipynb_checkpoints/\u001b[m\n",
      "\t\u001b[31m02-0.ipynb\u001b[m\n",
      "\t\u001b[31m02-1.ipynb\u001b[m\n",
      "\t\u001b[31m02-3.ipynb\u001b[m\n",
      "\t\u001b[31m03-0 working remotely.ipynb\u001b[m\n",
      "\t\u001b[31m04-0-config.ipynb\u001b[m\n",
      "\t\u001b[31mdotgit/\u001b[m\n",
      "\t\u001b[31mf\u001b[m\n",
      "\t\u001b[31mimages/\u001b[m\n",
      "\n",
      "nothing added to commit but untracked files present (use \"git add\" to track)\n"
     ]
    }
   ],
   "source": [
    "git status"
   ]
  },
  {
   "cell_type": "markdown",
   "metadata": {},
   "source": [
    "**^ special character**\n",
    "\n",
    "![~ and ^ difference](./images/git-ref-special-char.jpg)"
   ]
  },
  {
   "cell_type": "code",
   "execution_count": null,
   "metadata": {},
   "outputs": [],
   "source": []
  }
 ],
 "metadata": {
  "kernelspec": {
   "display_name": "Bash",
   "language": "bash",
   "name": "bash"
  },
  "language_info": {
   "codemirror_mode": "shell",
   "file_extension": ".sh",
   "mimetype": "text/x-sh",
   "name": "bash"
  }
 },
 "nbformat": 4,
 "nbformat_minor": 4
}
