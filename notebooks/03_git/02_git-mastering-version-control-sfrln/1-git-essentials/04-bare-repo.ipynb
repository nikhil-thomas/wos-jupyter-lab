{
 "cells": [
  {
   "cell_type": "markdown",
   "metadata": {},
   "source": [
    "## bare repo"
   ]
  },
  {
   "cell_type": "code",
   "execution_count": 1,
   "metadata": {},
   "outputs": [],
   "source": [
    "#git init --bare NewRepo.git"
   ]
  },
  {
   "cell_type": "markdown",
   "metadata": {},
   "source": [
    "NewRepository.git, using a .git extension; this is not mandatory but is a common way to identify bare repositories. If you pay attention, you will note that even in GitHub every repository ends with the .git extension"
   ]
  },
  {
   "cell_type": "markdown",
   "metadata": {},
   "source": [
    "## making an existing repo bare"
   ]
  },
  {
   "cell_type": "code",
   "execution_count": 2,
   "metadata": {},
   "outputs": [],
   "source": [
    "cd .."
   ]
  },
  {
   "cell_type": "code",
   "execution_count": 3,
   "metadata": {},
   "outputs": [
    {
     "name": "stdout",
     "output_type": "stream",
     "text": [
      "\u001b[0m\u001b[38;5;33m1-git-essentials\u001b[0m\n"
     ]
    }
   ],
   "source": [
    "ls"
   ]
  },
  {
   "cell_type": "code",
   "execution_count": 4,
   "metadata": {},
   "outputs": [
    {
     "name": "stdout",
     "output_type": "stream",
     "text": [
      "Cloning into bare repository '1-git-essentials.git'...\n",
      "done.\n"
     ]
    }
   ],
   "source": [
    "git clone 1-git-essentials --bare 1-git-essentials.git"
   ]
  },
  {
   "cell_type": "code",
   "execution_count": 5,
   "metadata": {},
   "outputs": [],
   "source": [
    "cd 1-git-essentials.git\n"
   ]
  },
  {
   "cell_type": "code",
   "execution_count": 6,
   "metadata": {},
   "outputs": [
    {
     "name": "stdout",
     "output_type": "stream",
     "text": [
      "\u001b[0m\u001b[38;5;33mbranches\u001b[0m  config  description  HEAD  \u001b[38;5;33mhooks\u001b[0m  \u001b[38;5;33minfo\u001b[0m  \u001b[38;5;33mobjects\u001b[0m  packed-refs  \u001b[38;5;33mrefs\u001b[0m\n"
     ]
    }
   ],
   "source": [
    "ls"
   ]
  },
  {
   "cell_type": "code",
   "execution_count": 18,
   "metadata": {},
   "outputs": [],
   "source": [
    "cd .."
   ]
  },
  {
   "cell_type": "code",
   "execution_count": 19,
   "metadata": {},
   "outputs": [
    {
     "name": "stdout",
     "output_type": "stream",
     "text": [
      "\u001b[0m\u001b[38;5;33m1-git-essentials\u001b[0m  \u001b[38;5;33m1-git-essentials.git\u001b[0m\n"
     ]
    }
   ],
   "source": [
    "ls"
   ]
  },
  {
   "cell_type": "code",
   "execution_count": 20,
   "metadata": {},
   "outputs": [],
   "source": [
    "cd 1-git-essentials"
   ]
  },
  {
   "cell_type": "code",
   "execution_count": 21,
   "metadata": {},
   "outputs": [
    {
     "name": "stdout",
     "output_type": "stream",
     "text": [
      "* \u001b[33mbeff500\u001b[m\u001b[33m (\u001b[m\u001b[1;32mmaster\u001b[m\u001b[33m)\u001b[m notebook updates\n",
      "* \u001b[33me1ca96b\u001b[m cp3\n",
      "* \u001b[33m9250bf0\u001b[m cp2\n",
      "* \u001b[33m093b989\u001b[m cp1\n",
      "* \u001b[33m595bae6\u001b[m create conflict master\n",
      "\u001b[31m|\u001b[m * \u001b[33m50e1ef2\u001b[m\u001b[33m (\u001b[m\u001b[1;36mHEAD -> \u001b[m\u001b[1;32mnewbranch\u001b[m\u001b[33m)\u001b[m remove dotgit dir\n",
      "\u001b[31m|\u001b[m * \u001b[33mfb4b5e4\u001b[m add dotgit\n",
      "\u001b[31m|\u001b[m * \u001b[33m2518e24\u001b[m notebook updates\n",
      "\u001b[31m|\u001b[m * \u001b[33m0ac347c\u001b[m cherry-pick\n",
      "\u001b[31m|\u001b[m * \u001b[33m586ae12\u001b[m create conflict on newbranch\n",
      "\u001b[31m|\u001b[m *   \u001b[33m159d23b\u001b[m Merge branch 'master' into newbranch\n",
      "\u001b[31m|\u001b[m \u001b[33m|\u001b[m\u001b[31m\\\u001b[m  \n",
      "\u001b[31m|\u001b[m \u001b[33m|\u001b[m\u001b[31m/\u001b[m  \n",
      "\u001b[31m|\u001b[m\u001b[31m/\u001b[m\u001b[33m|\u001b[m   \n",
      "* \u001b[33m|\u001b[m \u001b[33med46caf\u001b[m edit file1 on master\n",
      "\u001b[34m|\u001b[m * \u001b[33m5af8884\u001b[m commit on new branch\n",
      "\u001b[34m|\u001b[m\u001b[34m/\u001b[m  \n",
      "\u001b[34m|\u001b[m * \u001b[33m29a07f2\u001b[m\u001b[33m (\u001b[m\u001b[1;32mb2\u001b[m\u001b[33m)\u001b[m file2 commit\n",
      "\u001b[34m|\u001b[m\u001b[34m/\u001b[m  \n",
      "* \u001b[33m89093ad\u001b[m\u001b[33m (\u001b[m\u001b[1;33mtag: v0.0.1\u001b[m\u001b[33m)\u001b[m file1 updated\n",
      "* \u001b[33mf87518f\u001b[m first commit\n"
     ]
    }
   ],
   "source": [
    "git gtree"
   ]
  },
  {
   "cell_type": "code",
   "execution_count": 22,
   "metadata": {},
   "outputs": [],
   "source": [
    "git archive master --format=zip --output=../1-git-essentials-master-archive.zip"
   ]
  },
  {
   "cell_type": "code",
   "execution_count": 23,
   "metadata": {},
   "outputs": [],
   "source": [
    "cd .."
   ]
  },
  {
   "cell_type": "code",
   "execution_count": 24,
   "metadata": {},
   "outputs": [
    {
     "name": "stdout",
     "output_type": "stream",
     "text": [
      "\u001b[0m\u001b[38;5;33m1-git-essentials\u001b[0m  \u001b[38;5;33m1-git-essentials.git\u001b[0m  \u001b[38;5;9m1-git-essentials-master-archive.zip\u001b[0m\n"
     ]
    }
   ],
   "source": [
    "ls"
   ]
  },
  {
   "cell_type": "markdown",
   "metadata": {},
   "source": [
    "To archive the repository without including the versioning information, you can use the git archive"
   ]
  },
  {
   "cell_type": "markdown",
   "metadata": {},
   "source": [
    "git archive command can produce archives in a smarter way, including only files in a branch or even in a single commit. By doing this, you are archiving only the last commit, as shown in the following code:\n",
    "\n",
    "```\n",
    "$ git archive HEAD --format=zip --output=../headbck.zip\n",
    "```"
   ]
  },
  {
   "cell_type": "markdown",
   "metadata": {},
   "source": [
    "## bundling a repo"
   ]
  },
  {
   "cell_type": "markdown",
   "metadata": {},
   "source": [
    "With git bundle you can export a snapshot from your repository, and you can then restore it."
   ]
  },
  {
   "cell_type": "markdown",
   "metadata": {},
   "source": [
    "Suppose you want to clone your repository on another computer, and the network is down or absent; with this command, you create a repo.bundle file of the master branch:"
   ]
  },
  {
   "cell_type": "code",
   "execution_count": 28,
   "metadata": {},
   "outputs": [
    {
     "name": "stdout",
     "output_type": "stream",
     "text": [
      "Enumerating objects: 422, done.\n",
      "Counting objects: 100% (422/422), done.\n",
      "Delta compression using up to 8 threads\n",
      "Compressing objects: 100% (366/366), done.\n",
      "Writing objects: 100% (422/422), 3.41 MiB | 18.37 MiB/s, done.\n",
      "Total 422 (delta 111), reused 0 (delta 0)\n"
     ]
    }
   ],
   "source": [
    "git bundle create ../1-git-essentials-repo.bundle master"
   ]
  },
  {
   "cell_type": "code",
   "execution_count": 29,
   "metadata": {},
   "outputs": [
    {
     "name": "stdout",
     "output_type": "stream",
     "text": [
      "\u001b[0m\u001b[38;5;33m01_git-reference\u001b[0m                        1-git-essentials-repo.bundle\n",
      "\u001b[38;5;33m02_git-mastering-version-control-sfrln\u001b[0m  \u001b[38;5;9mheadbck.zip\u001b[0m\n"
     ]
    }
   ],
   "source": [
    "cd .. && ls "
   ]
  },
  {
   "cell_type": "markdown",
   "metadata": {},
   "source": [
    "we can then restore the bundle in the other computer using the git clone command,\n",
    "```\n",
    "cd /OtherComputer/Folder\n",
    "git clone repo.bundle repo -b master\n",
    "```"
   ]
  },
  {
   "cell_type": "code",
   "execution_count": null,
   "metadata": {},
   "outputs": [],
   "source": []
  }
 ],
 "metadata": {
  "kernelspec": {
   "display_name": "Bash",
   "language": "bash",
   "name": "bash"
  },
  "language_info": {
   "codemirror_mode": "shell",
   "file_extension": ".sh",
   "mimetype": "text/x-sh",
   "name": "bash"
  }
 },
 "nbformat": 4,
 "nbformat_minor": 4
}
