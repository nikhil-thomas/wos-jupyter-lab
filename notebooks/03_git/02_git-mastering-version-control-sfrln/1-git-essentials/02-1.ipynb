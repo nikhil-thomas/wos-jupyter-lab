{
 "cells": [
  {
   "cell_type": "markdown",
   "metadata": {},
   "source": [
    "## tag"
   ]
  },
  {
   "cell_type": "markdown",
   "metadata": {},
   "source": [
    "mark a commit with a tag to place a milestone in our repository. You can achieve this by simply using the git tag –a <tag name> command, using –m to type the mandatory message:\n",
    "    "
   ]
  },
  {
   "cell_type": "code",
   "execution_count": 1,
   "metadata": {},
   "outputs": [
    {
     "name": "stdout",
     "output_type": "stream",
     "text": [
      "usage: git tag [-a | -s | -u <key-id>] [-f] [-m <msg> | -F <file>] <tagname> [<head>]\n",
      "   or: git tag -d <tagname>...\n",
      "   or: git tag -l [-n[<num>]] [--contains <commit>] [--no-contains <commit>] [--points-at <object>]\n",
      "\t\t[--format=<format>] [--[no-]merged [<commit>]] [<pattern>...]\n",
      "   or: git tag -v [--format=<format>] <tagname>...\n",
      "\n",
      "    -l, --list            list tag names\n",
      "    -n[<n>]               print <n> lines of each tag message\n",
      "    -d, --delete          delete tags\n",
      "    -v, --verify          verify tags\n",
      "\n",
      "Tag creation options\n",
      "    -a, --annotate        annotated tag, needs a message\n",
      "    -m, --message <message>\n",
      "                          tag message\n",
      "    -F, --file <file>     read message from file\n",
      "    -e, --edit            force edit of tag message\n",
      "    -s, --sign            annotated and GPG-signed tag\n",
      "    --cleanup <mode>      how to strip spaces and #comments from message\n",
      "    -u, --local-user <key-id>\n",
      "                          use another key to sign the tag\n",
      "    -f, --force           replace the tag if exists\n",
      "    --create-reflog       create a reflog\n",
      "\n",
      "Tag listing options\n",
      "    --column[=<style>]    show tag list in columns\n",
      "    --contains <commit>   print only tags that contain the commit\n",
      "    --no-contains <commit>\n",
      "                          print only tags that don't contain the commit\n",
      "    --merged <commit>     print only tags that are merged\n",
      "    --no-merged <commit>  print only tags that are not merged\n",
      "    --sort <key>          field name to sort on\n",
      "    --points-at <object>  print only tags of the object\n",
      "    --format <format>     format to use for the output\n",
      "    --color[=<when>]      respect format colors\n",
      "    -i, --ignore-case     sorting and filtering are case insensitive\n",
      "\n"
     ]
    },
    {
     "ename": "",
     "evalue": "129",
     "output_type": "error",
     "traceback": []
    }
   ],
   "source": [
    "git tag -h "
   ]
  },
  {
   "cell_type": "code",
   "execution_count": 2,
   "metadata": {},
   "outputs": [],
   "source": [
    "git tag -a v0.0.1 -m first-tag"
   ]
  },
  {
   "cell_type": "code",
   "execution_count": 3,
   "metadata": {},
   "outputs": [
    {
     "name": "stdout",
     "output_type": "stream",
     "text": [
      "\u001b[33mcommit 89093adc3ce41ec634a2c1950ccdfd04e6c60f28\u001b[m\u001b[33m (\u001b[m\u001b[1;36mHEAD -> \u001b[m\u001b[1;32mmaster\u001b[m\u001b[33m, \u001b[m\u001b[1;33mtag: v0.0.1\u001b[m\u001b[33m)\u001b[m\n",
      "Author: Nikhil Thomas <ncoder@iam.ironman>\n",
      "Date:   Fri Nov 29 08:36:20 2019 +0530\n",
      "\n",
      "    file1 updated\n",
      "\n",
      "\u001b[33mcommit f87518f045772aa2160418e3fcdcf830965c4a0a\u001b[m\n",
      "Author: Nikhil Thomas <ncoder@iam.ironman>\n",
      "Date:   Fri Nov 29 08:31:47 2019 +0530\n",
      "\n",
      "    first commit\n"
     ]
    }
   ],
   "source": [
    "git log"
   ]
  },
  {
   "cell_type": "markdown",
   "metadata": {},
   "source": [
    "## git log"
   ]
  },
  {
   "cell_type": "code",
   "execution_count": 5,
   "metadata": {},
   "outputs": [
    {
     "name": "stdout",
     "output_type": "stream",
     "text": [
      "\u001b[33m89093ad\u001b[m\u001b[33m (\u001b[m\u001b[1;36mHEAD -> \u001b[m\u001b[1;32mmaster\u001b[m\u001b[33m, \u001b[m\u001b[1;33mtag: v0.0.1\u001b[m\u001b[33m)\u001b[m file1 updated\n",
      "\u001b[33mf87518f\u001b[m first commit\n"
     ]
    }
   ],
   "source": [
    "git log --oneline"
   ]
  },
  {
   "cell_type": "code",
   "execution_count": 6,
   "metadata": {},
   "outputs": [
    {
     "name": "stdout",
     "output_type": "stream",
     "text": [
      "\u001b[33m89093adc3ce41ec634a2c1950ccdfd04e6c60f28\u001b[m\u001b[33m (\u001b[m\u001b[1;36mHEAD -> \u001b[m\u001b[1;32mmaster\u001b[m\u001b[33m, \u001b[m\u001b[1;33mtag: v0.0.1\u001b[m\u001b[33m)\u001b[m file1 updated\n",
      "\u001b[33mf87518f045772aa2160418e3fcdcf830965c4a0a\u001b[m first commit\n"
     ]
    }
   ],
   "source": [
    "git log --pretty=oneline"
   ]
  },
  {
   "cell_type": "code",
   "execution_count": 8,
   "metadata": {},
   "outputs": [
    {
     "name": "stdout",
     "output_type": "stream",
     "text": [
      "\u001b[33m89093ad\u001b[m\u001b[33m (\u001b[m\u001b[1;36mHEAD -> \u001b[m\u001b[1;32mmaster\u001b[m\u001b[33m, \u001b[m\u001b[1;33mtag: v0.0.1\u001b[m\u001b[33m)\u001b[m file1 updated\n",
      "\u001b[33mf87518f\u001b[m first commit\n"
     ]
    }
   ],
   "source": [
    "git log --pretty=oneline --abbrev-commit"
   ]
  },
  {
   "cell_type": "code",
   "execution_count": 10,
   "metadata": {},
   "outputs": [
    {
     "name": "stdout",
     "output_type": "stream",
     "text": [
      "* \u001b[33m89093ad\u001b[m\u001b[33m (\u001b[m\u001b[1;36mHEAD -> \u001b[m\u001b[1;32mmaster\u001b[m\u001b[33m, \u001b[m\u001b[1;33mtag: v0.0.1\u001b[m\u001b[33m)\u001b[m file1 updated\n",
      "* \u001b[33mf87518f\u001b[m first commit\n"
     ]
    }
   ],
   "source": [
    "git log --pretty=oneline --abbrev-commit --graph --decorate --all"
   ]
  },
  {
   "cell_type": "code",
   "execution_count": 11,
   "metadata": {},
   "outputs": [
    {
     "name": "stdout",
     "output_type": "stream",
     "text": [
      "Switched to a new branch 'newbranch'\n"
     ]
    }
   ],
   "source": [
    "git checkout -b newbranch"
   ]
  },
  {
   "cell_type": "code",
   "execution_count": 12,
   "metadata": {},
   "outputs": [],
   "source": [
    "echo 1234 > newfile"
   ]
  },
  {
   "cell_type": "code",
   "execution_count": 13,
   "metadata": {},
   "outputs": [
    {
     "name": "stdout",
     "output_type": "stream",
     "text": [
      "On branch newbranch\n",
      "Changes to be committed:\n",
      "  (use \"git reset HEAD <file>...\" to unstage)\n",
      "\n",
      "\t\u001b[32mnew file:   newfile\u001b[m\n",
      "\n",
      "Untracked files:\n",
      "  (use \"git add <file>...\" to include in what will be committed)\n",
      "\n",
      "\t\u001b[31m.ipynb_checkpoints/\u001b[m\n",
      "\t\u001b[31m02-0.ipynb\u001b[m\n",
      "\t\u001b[31m02-1.ipynb\u001b[m\n",
      "\t\u001b[31mdotgit.bk/\u001b[m\n",
      "\t\u001b[31mfile2\u001b[m\n",
      "\t\u001b[31mimages/\u001b[m\n",
      "\n"
     ]
    }
   ],
   "source": [
    "git add newfile\n",
    "git status"
   ]
  },
  {
   "cell_type": "code",
   "execution_count": 14,
   "metadata": {},
   "outputs": [
    {
     "name": "stdout",
     "output_type": "stream",
     "text": [
      "[newbranch 5af8884] commit on new branch\n",
      " Committer: Nikhil Thomas <ncoder@iam.ironman>\n",
      "Your name and email address were configured automatically based\n",
      "on your username and hostname. Please check that they are accurate.\n",
      "You can suppress this message by setting them explicitly:\n",
      "\n",
      "    git config --global user.name \"Your Name\"\n",
      "    git config --global user.email you@example.com\n",
      "\n",
      "After doing this, you may fix the identity used for this commit with:\n",
      "\n",
      "    git commit --amend --reset-author\n",
      "\n",
      " 1 file changed, 1 insertion(+)\n",
      " create mode 100644 newfile\n"
     ]
    }
   ],
   "source": [
    "git commit -m \"commit on new branch\""
   ]
  },
  {
   "cell_type": "code",
   "execution_count": 15,
   "metadata": {},
   "outputs": [
    {
     "name": "stdout",
     "output_type": "stream",
     "text": [
      "Switched to branch 'master'\n"
     ]
    }
   ],
   "source": [
    "git checkout master"
   ]
  },
  {
   "cell_type": "code",
   "execution_count": 16,
   "metadata": {},
   "outputs": [
    {
     "name": "stdout",
     "output_type": "stream",
     "text": [
      "Switched to a new branch 'b2'\n"
     ]
    }
   ],
   "source": [
    "git checkout -b b2"
   ]
  },
  {
   "cell_type": "code",
   "execution_count": 17,
   "metadata": {},
   "outputs": [],
   "source": [
    "echo abcd > file2"
   ]
  },
  {
   "cell_type": "code",
   "execution_count": 18,
   "metadata": {},
   "outputs": [
    {
     "name": "stdout",
     "output_type": "stream",
     "text": [
      "On branch b2\n",
      "Changes to be committed:\n",
      "  (use \"git reset HEAD <file>...\" to unstage)\n",
      "\n",
      "\t\u001b[32mnew file:   file2\u001b[m\n",
      "\n",
      "Untracked files:\n",
      "  (use \"git add <file>...\" to include in what will be committed)\n",
      "\n",
      "\t\u001b[31m.ipynb_checkpoints/\u001b[m\n",
      "\t\u001b[31m02-0.ipynb\u001b[m\n",
      "\t\u001b[31m02-1.ipynb\u001b[m\n",
      "\t\u001b[31mdotgit.bk/\u001b[m\n",
      "\t\u001b[31mimages/\u001b[m\n",
      "\n"
     ]
    }
   ],
   "source": [
    "git add file2\n",
    "git status"
   ]
  },
  {
   "cell_type": "code",
   "execution_count": 19,
   "metadata": {},
   "outputs": [
    {
     "name": "stdout",
     "output_type": "stream",
     "text": [
      "[b2 29a07f2] file2 commit\n",
      " Committer: Nikhil Thomas <ncoder@iam.ironman>\n",
      "Your name and email address were configured automatically based\n",
      "on your username and hostname. Please check that they are accurate.\n",
      "You can suppress this message by setting them explicitly:\n",
      "\n",
      "    git config --global user.name \"Your Name\"\n",
      "    git config --global user.email you@example.com\n",
      "\n",
      "After doing this, you may fix the identity used for this commit with:\n",
      "\n",
      "    git commit --amend --reset-author\n",
      "\n",
      " 1 file changed, 1 insertion(+)\n",
      " create mode 100644 file2\n"
     ]
    }
   ],
   "source": [
    "git commit -m \"file2 commit\""
   ]
  },
  {
   "cell_type": "code",
   "execution_count": 20,
   "metadata": {},
   "outputs": [
    {
     "name": "stdout",
     "output_type": "stream",
     "text": [
      "Switched to branch 'master'\n",
      "* \u001b[33m29a07f2\u001b[m\u001b[33m (\u001b[m\u001b[1;32mb2\u001b[m\u001b[33m)\u001b[m file2 commit\n",
      "\u001b[31m|\u001b[m * \u001b[33m5af8884\u001b[m\u001b[33m (\u001b[m\u001b[1;32mnewbranch\u001b[m\u001b[33m)\u001b[m commit on new branch\n",
      "\u001b[31m|\u001b[m\u001b[31m/\u001b[m  \n",
      "* \u001b[33m89093ad\u001b[m\u001b[33m (\u001b[m\u001b[1;36mHEAD -> \u001b[m\u001b[1;32mmaster\u001b[m\u001b[33m, \u001b[m\u001b[1;33mtag: v0.0.1\u001b[m\u001b[33m)\u001b[m file1 updated\n",
      "* \u001b[33mf87518f\u001b[m first commit\n"
     ]
    }
   ],
   "source": [
    "git checkout master\n",
    "git log --pretty=oneline --abbrev-commit --graph --decorate --all\n"
   ]
  },
  {
   "cell_type": "code",
   "execution_count": 21,
   "metadata": {},
   "outputs": [
    {
     "name": "stdout",
     "output_type": "stream",
     "text": [
      "* \u001b[33m29a07f2\u001b[m\u001b[33m (\u001b[m\u001b[1;32mb2\u001b[m\u001b[33m)\u001b[m file2 commit\n",
      "\u001b[31m|\u001b[m * \u001b[33m5af8884\u001b[m\u001b[33m (\u001b[m\u001b[1;32mnewbranch\u001b[m\u001b[33m)\u001b[m commit on new branch\n",
      "\u001b[31m|\u001b[m\u001b[31m/\u001b[m  \n",
      "* \u001b[33m89093ad\u001b[m\u001b[33m (\u001b[m\u001b[1;36mHEAD -> \u001b[m\u001b[1;32mmaster\u001b[m\u001b[33m, \u001b[m\u001b[1;33mtag: v0.0.1\u001b[m\u001b[33m)\u001b[m file1 updated\n",
      "* \u001b[33mf87518f\u001b[m first commit\n"
     ]
    }
   ],
   "source": [
    "git log --oneline  --graph --decorate --all"
   ]
  },
  {
   "cell_type": "markdown",
   "metadata": {},
   "source": [
    "## git alias"
   ]
  },
  {
   "cell_type": "code",
   "execution_count": 22,
   "metadata": {},
   "outputs": [],
   "source": [
    "git config alias.gtree 'git log --pretty=oneline --abbrev-commit --graph --decorate --all'"
   ]
  },
  {
   "cell_type": "code",
   "execution_count": 23,
   "metadata": {},
   "outputs": [
    {
     "name": "stdout",
     "output_type": "stream",
     "text": [
      "includeif.gitdir:/home/ncoder/go/src/github.com/openshift**.path=/home/ncoder/.config/git/config.d/redhat.gitconfig\n",
      "includeif.gitdir:/home/ncoder/go/src/github.com/tektoncd**.path=/home/ncoder/.config/git/config.d/redhat.gitconfig\n",
      "includeif.gitdir:/home/ncoder/go/src/github.com/inikhil-thomas**.path=/home/ncoder/.config/git/config.d/nikhil.gitconfig\n",
      "includeif.gitdir:/home/ncoder/go/src/github.com/operator-framework**.path=/home/ncoder/.config/git/config.d/redhat.gitconfig\n",
      "core.excludesfile=/home/ncoder/.gitignore_global\n",
      "core.repositoryformatversion=0\n",
      "core.filemode=true\n",
      "core.bare=false\n",
      "core.logallrefupdates=true\n",
      "user.name=Nikhil Thomas\n",
      "alias.gtree=git log --pretty=oneline --abbrev-commit --graph --decorate --all\n"
     ]
    }
   ],
   "source": [
    "git config -l\n"
   ]
  },
  {
   "cell_type": "markdown",
   "metadata": {},
   "source": [
    "```\n",
    "git config <level> alias.<alias name> '<your sequence of git commands>'\n",
    "```"
   ]
  },
  {
   "cell_type": "markdown",
   "metadata": {},
   "source": [
    "## three levels of config personzlization"
   ]
  },
  {
   "cell_type": "markdown",
   "metadata": {},
   "source": [
    "- Repository level configs are only available for the current repo\n",
    "- Global configs are available for all the repos for the current user\n",
    "- System configs are available for all the users/repositories"
   ]
  },
  {
   "cell_type": "markdown",
   "metadata": {},
   "source": [
    "## Merge is not the end of the branch"
   ]
  },
  {
   "cell_type": "markdown",
   "metadata": {},
   "source": [
    "## Diffing branches"
   ]
  },
  {
   "cell_type": "code",
   "execution_count": 27,
   "metadata": {},
   "outputs": [
    {
     "name": "stdout",
     "output_type": "stream",
     "text": [
      "  b2\u001b[m\n",
      "* \u001b[32mmaster\u001b[m\n",
      "  newbranch\u001b[m\n"
     ]
    }
   ],
   "source": [
    "git branch"
   ]
  },
  {
   "cell_type": "code",
   "execution_count": 28,
   "metadata": {},
   "outputs": [
    {
     "name": "stdout",
     "output_type": "stream",
     "text": [
      "\u001b[1mdiff --git a/newfile b/newfile\u001b[m\n",
      "\u001b[1mnew file mode 100644\u001b[m\n",
      "\u001b[1mindex 0000000..81c545e\u001b[m\n",
      "\u001b[1m--- /dev/null\u001b[m\n",
      "\u001b[1m+++ b/newfile\u001b[m\n",
      "\u001b[36m@@ -0,0 +1 @@\u001b[m\n",
      "\u001b[32m+\u001b[m\u001b[32m1234\u001b[m\n"
     ]
    }
   ],
   "source": [
    "git diff master..newbranch"
   ]
  },
  {
   "cell_type": "code",
   "execution_count": 30,
   "metadata": {},
   "outputs": [
    {
     "name": "stdout",
     "output_type": "stream",
     "text": [
      "Switched to branch 'newbranch'\n",
      "1234\n"
     ]
    }
   ],
   "source": [
    "git checkout newbranch\n",
    "cat newfile"
   ]
  },
  {
   "cell_type": "code",
   "execution_count": 31,
   "metadata": {},
   "outputs": [
    {
     "name": "stdout",
     "output_type": "stream",
     "text": [
      "\u001b[1mdiff --git a/newfile b/newfile\u001b[m\n",
      "\u001b[1mnew file mode 100644\u001b[m\n",
      "\u001b[1mindex 0000000..81c545e\u001b[m\n",
      "\u001b[1m--- /dev/null\u001b[m\n",
      "\u001b[1m+++ b/newfile\u001b[m\n",
      "\u001b[36m@@ -0,0 +1 @@\u001b[m\n",
      "\u001b[32m+\u001b[m\u001b[32m1234\u001b[m\n"
     ]
    }
   ],
   "source": [
    "git diff master newbranch"
   ]
  },
  {
   "cell_type": "code",
   "execution_count": 33,
   "metadata": {},
   "outputs": [
    {
     "name": "stdout",
     "output_type": "stream",
     "text": [
      "\u001b[33mcommit 5af88845330033a1a7c734ed0bbf96c421046230\u001b[m\u001b[33m (\u001b[m\u001b[1;36mHEAD -> \u001b[m\u001b[1;32mnewbranch\u001b[m\u001b[33m)\u001b[m\n",
      "Author: Nikhil Thomas <ncoder@iam.ironman>\n",
      "Date:   Mon Dec 2 07:54:33 2019 +0530\n",
      "\n",
      "    commit on new branch\n",
      "\n",
      "\u001b[33mcommit 89093adc3ce41ec634a2c1950ccdfd04e6c60f28\u001b[m\u001b[33m (\u001b[m\u001b[1;33mtag: v0.0.1\u001b[m\u001b[33m, \u001b[m\u001b[1;32mmaster\u001b[m\u001b[33m)\u001b[m\n",
      "Author: Nikhil Thomas <ncoder@iam.ironman>\n",
      "Date:   Fri Nov 29 08:36:20 2019 +0530\n",
      "\n",
      "    file1 updated\n",
      "\n",
      "\u001b[33mcommit f87518f045772aa2160418e3fcdcf830965c4a0a\u001b[m\n",
      "Author: Nikhil Thomas <ncoder@iam.ironman>\n",
      "Date:   Fri Nov 29 08:31:47 2019 +0530\n",
      "\n",
      "    first commit\n"
     ]
    }
   ],
   "source": [
    "git log master newbranch"
   ]
  },
  {
   "cell_type": "code",
   "execution_count": 34,
   "metadata": {},
   "outputs": [
    {
     "name": "stdout",
     "output_type": "stream",
     "text": [
      "\u001b[33mcommit 5af88845330033a1a7c734ed0bbf96c421046230\u001b[m\u001b[33m (\u001b[m\u001b[1;36mHEAD -> \u001b[m\u001b[1;32mnewbranch\u001b[m\u001b[33m)\u001b[m\n",
      "Author: Nikhil Thomas <ncoder@iam.ironman>\n",
      "Date:   Mon Dec 2 07:54:33 2019 +0530\n",
      "\n",
      "    commit on new branch\n",
      "\n",
      "\u001b[33mcommit 89093adc3ce41ec634a2c1950ccdfd04e6c60f28\u001b[m\u001b[33m (\u001b[m\u001b[1;33mtag: v0.0.1\u001b[m\u001b[33m, \u001b[m\u001b[1;32mmaster\u001b[m\u001b[33m)\u001b[m\n",
      "Author: Nikhil Thomas <ncoder@iam.ironman>\n",
      "Date:   Fri Nov 29 08:36:20 2019 +0530\n",
      "\n",
      "    file1 updated\n",
      "\n",
      "\u001b[33mcommit f87518f045772aa2160418e3fcdcf830965c4a0a\u001b[m\n",
      "Author: Nikhil Thomas <ncoder@iam.ironman>\n",
      "Date:   Fri Nov 29 08:31:47 2019 +0530\n",
      "\n",
      "    first commit\n"
     ]
    }
   ],
   "source": [
    "git log newbranch master"
   ]
  },
  {
   "cell_type": "markdown",
   "metadata": {},
   "source": [
    "This command lets you see commits that differ from the NewWork branch to the master branch."
   ]
  },
  {
   "cell_type": "markdown",
   "metadata": {},
   "source": [
    "## Edit collisions"
   ]
  },
  {
   "cell_type": "markdown",
   "metadata": {},
   "source": [
    "someone edited the same line in the same file on different branches, so Git can't auto merge them for you. When this happens, Git writes special conflict markers to the affected areas of the file."
   ]
  },
  {
   "cell_type": "code",
   "execution_count": 35,
   "metadata": {},
   "outputs": [
    {
     "name": "stdout",
     "output_type": "stream",
     "text": [
      "  b2\u001b[m\n",
      "  master\u001b[m\n",
      "* \u001b[32mnewbranch\u001b[m\n"
     ]
    }
   ],
   "source": [
    "git branch"
   ]
  },
  {
   "cell_type": "code",
   "execution_count": 36,
   "metadata": {},
   "outputs": [
    {
     "name": "stdout",
     "output_type": "stream",
     "text": [
      "Already up to date.\n"
     ]
    }
   ],
   "source": [
    "git merge master"
   ]
  },
  {
   "cell_type": "code",
   "execution_count": 37,
   "metadata": {},
   "outputs": [
    {
     "name": "stdout",
     "output_type": "stream",
     "text": [
      "02-0.ipynb  02-1.ipynb  \u001b[0m\u001b[38;5;33mdotgit.bk\u001b[0m  \u001b[38;5;33mexercises\u001b[0m  file1  \u001b[38;5;33mimages\u001b[0m  newfile\n"
     ]
    }
   ],
   "source": [
    "ls"
   ]
  },
  {
   "cell_type": "code",
   "execution_count": 38,
   "metadata": {},
   "outputs": [
    {
     "name": "stdout",
     "output_type": "stream",
     "text": [
      "hello\n",
      "123\n"
     ]
    }
   ],
   "source": [
    "cat file1"
   ]
  },
  {
   "cell_type": "code",
   "execution_count": 40,
   "metadata": {},
   "outputs": [
    {
     "name": "stdout",
     "output_type": "stream",
     "text": [
      "Switched to branch 'master'\n"
     ]
    }
   ],
   "source": [
    "git checkout master"
   ]
  },
  {
   "cell_type": "code",
   "execution_count": 41,
   "metadata": {},
   "outputs": [
    {
     "name": "stdout",
     "output_type": "stream",
     "text": [
      "hello\n",
      "123\n"
     ]
    }
   ],
   "source": [
    "cat file1"
   ]
  },
  {
   "cell_type": "code",
   "execution_count": 42,
   "metadata": {},
   "outputs": [
    {
     "name": "stdout",
     "output_type": "stream",
     "text": [
      "On branch master\n",
      "Changes not staged for commit:\n",
      "  (use \"git add <file>...\" to update what will be committed)\n",
      "  (use \"git checkout -- <file>...\" to discard changes in working directory)\n",
      "\n",
      "\t\u001b[31mmodified:   file1\u001b[m\n",
      "\n",
      "Untracked files:\n",
      "  (use \"git add <file>...\" to include in what will be committed)\n",
      "\n",
      "\t\u001b[31m.ipynb_checkpoints/\u001b[m\n",
      "\t\u001b[31m02-0.ipynb\u001b[m\n",
      "\t\u001b[31m02-1.ipynb\u001b[m\n",
      "\t\u001b[31mdotgit.bk/\u001b[m\n",
      "\t\u001b[31mimages/\u001b[m\n",
      "\n",
      "no changes added to commit (use \"git add\" and/or \"git commit -a\")\n"
     ]
    }
   ],
   "source": [
    "git status"
   ]
  },
  {
   "cell_type": "code",
   "execution_count": 43,
   "metadata": {},
   "outputs": [],
   "source": [
    "git add file1"
   ]
  },
  {
   "cell_type": "code",
   "execution_count": 44,
   "metadata": {},
   "outputs": [
    {
     "name": "stdout",
     "output_type": "stream",
     "text": [
      "[master ed46caf] edit file1 on master\n",
      " Committer: Nikhil Thomas <ncoder@iam.ironman>\n",
      "Your name and email address were configured automatically based\n",
      "on your username and hostname. Please check that they are accurate.\n",
      "You can suppress this message by setting them explicitly:\n",
      "\n",
      "    git config --global user.name \"Your Name\"\n",
      "    git config --global user.email you@example.com\n",
      "\n",
      "After doing this, you may fix the identity used for this commit with:\n",
      "\n",
      "    git commit --amend --reset-author\n",
      "\n",
      " 1 file changed, 2 insertions(+), 1 deletion(-)\n"
     ]
    }
   ],
   "source": [
    "git commit -m \"edit file1 on master\""
   ]
  },
  {
   "cell_type": "code",
   "execution_count": 46,
   "metadata": {},
   "outputs": [
    {
     "name": "stdout",
     "output_type": "stream",
     "text": [
      "Switched to branch 'newbranch'\n"
     ]
    }
   ],
   "source": [
    "git checkout newbranch"
   ]
  },
  {
   "cell_type": "code",
   "execution_count": null,
   "metadata": {},
   "outputs": [
    {
     "name": "stdout",
     "output_type": "stream",
     "text": [
      "<ks/03_git/02_git-mastering-version-control-sfrln/dotgit.bk/MERGE_MSG\" 7L, 264C\u001b[1;1HMerge branch 'master' into newbranchgit/02_git-mastering-version-control-sfrln/dotgit.bk/MERGE_MSG\"\n",
      "\n",
      "# Please enter a commit message to explain why this merge is necessary,\n",
      "# especially if it merges an updated upstream into a topic branch.\n",
      "#\n",
      "# Lines starting with '#' will be ignored, and an empty message aborts\n",
      "# the commit.\n"
     ]
    }
   ],
   "source": [
    "git merge master"
   ]
  },
  {
   "cell_type": "code",
   "execution_count": 1,
   "metadata": {},
   "outputs": [
    {
     "name": "stdout",
     "output_type": "stream",
     "text": [
      "  b2\u001b[m\n",
      "  master\u001b[m\n",
      "* \u001b[32mnewbranch\u001b[m\n"
     ]
    }
   ],
   "source": [
    "git branch"
   ]
  },
  {
   "cell_type": "code",
   "execution_count": 3,
   "metadata": {},
   "outputs": [
    {
     "name": "stdout",
     "output_type": "stream",
     "text": [
      "* \u001b[33med46caf\u001b[m\u001b[33m (\u001b[m\u001b[1;32mmaster\u001b[m\u001b[33m)\u001b[m edit file1 on master\n",
      "\u001b[31m|\u001b[m * \u001b[33m29a07f2\u001b[m\u001b[33m (\u001b[m\u001b[1;32mb2\u001b[m\u001b[33m)\u001b[m file2 commit\n",
      "\u001b[31m|\u001b[m\u001b[31m/\u001b[m  \n",
      "\u001b[31m|\u001b[m * \u001b[33m5af8884\u001b[m\u001b[33m (\u001b[m\u001b[1;36mHEAD -> \u001b[m\u001b[1;32mnewbranch\u001b[m\u001b[33m)\u001b[m commit on new branch\n",
      "\u001b[31m|\u001b[m\u001b[31m/\u001b[m  \n",
      "* \u001b[33m89093ad\u001b[m\u001b[33m (\u001b[m\u001b[1;33mtag: v0.0.1\u001b[m\u001b[33m)\u001b[m file1 updated\n",
      "* \u001b[33mf87518f\u001b[m first commit\n"
     ]
    }
   ],
   "source": [
    "git log --oneline --decorate --all --graph"
   ]
  },
  {
   "cell_type": "code",
   "execution_count": 4,
   "metadata": {},
   "outputs": [
    {
     "name": "stdout",
     "output_type": "stream",
     "text": [
      "\u001b[1mdiff --git a/file1 b/file1\u001b[m\n",
      "\u001b[1mindex 5923eef..4ccf95f 100644\u001b[m\n",
      "\u001b[1m--- a/file1\u001b[m\n",
      "\u001b[1m+++ b/file1\u001b[m\n",
      "\u001b[36m@@ -1,2 +1,3 @@\u001b[m\n",
      " hello\u001b[m\n",
      "\u001b[31m-123\u001b[m\n",
      "\u001b[32m+\u001b[m\u001b[32m1234\u001b[m\n",
      "\u001b[32m+\u001b[m\u001b[32mabcd123\u001b[m\n",
      "\u001b[1mdiff --git a/newfile b/newfile\u001b[m\n",
      "\u001b[1mdeleted file mode 100644\u001b[m\n",
      "\u001b[1mindex 81c545e..0000000\u001b[m\n",
      "\u001b[1m--- a/newfile\u001b[m\n",
      "\u001b[1m+++ /dev/null\u001b[m\n",
      "\u001b[36m@@ -1 +0,0 @@\u001b[m\n",
      "\u001b[31m-1234\u001b[m\n"
     ]
    }
   ],
   "source": [
    "git diff newbranch master"
   ]
  },
  {
   "cell_type": "code",
   "execution_count": 5,
   "metadata": {},
   "outputs": [
    {
     "name": "stdout",
     "output_type": "stream",
     "text": [
      "fatal: You have not concluded your merge (MERGE_HEAD exists).\n",
      "Please, commit your changes before you merge.\n"
     ]
    },
    {
     "ename": "",
     "evalue": "128",
     "output_type": "error",
     "traceback": []
    }
   ],
   "source": [
    "git merge master"
   ]
  },
  {
   "cell_type": "code",
   "execution_count": 6,
   "metadata": {},
   "outputs": [
    {
     "name": "stdout",
     "output_type": "stream",
     "text": [
      "Switched to branch 'master'\n"
     ]
    }
   ],
   "source": [
    "git checkout master\n"
   ]
  },
  {
   "cell_type": "code",
   "execution_count": 8,
   "metadata": {},
   "outputs": [
    {
     "name": "stdout",
     "output_type": "stream",
     "text": [
      "On branch master\n",
      "Untracked files:\n",
      "  (use \"git add <file>...\" to include in what will be committed)\n",
      "\n",
      "\t\u001b[31m.ipynb_checkpoints/\u001b[m\n",
      "\t\u001b[31m02-0.ipynb\u001b[m\n",
      "\t\u001b[31m02-1.ipynb\u001b[m\n",
      "\t\u001b[31mdotgit.bk/\u001b[m\n",
      "\t\u001b[31mimages/\u001b[m\n",
      "\n",
      "nothing added to commit but untracked files present (use \"git add\" to track)\n"
     ]
    }
   ],
   "source": [
    "git status\n"
   ]
  },
  {
   "cell_type": "code",
   "execution_count": 10,
   "metadata": {},
   "outputs": [
    {
     "name": "stdout",
     "output_type": "stream",
     "text": [
      "hello\n",
      "123445\n",
      "abcd123\n"
     ]
    }
   ],
   "source": [
    "cat file1"
   ]
  },
  {
   "cell_type": "code",
   "execution_count": 11,
   "metadata": {},
   "outputs": [
    {
     "name": "stdout",
     "output_type": "stream",
     "text": [
      "\u001b[1mdiff --git a/file1 b/file1\u001b[m\n",
      "\u001b[1mindex 4ccf95f..9e40e91 100644\u001b[m\n",
      "\u001b[1m--- a/file1\u001b[m\n",
      "\u001b[1m+++ b/file1\u001b[m\n",
      "\u001b[36m@@ -1,3 +1,3 @@\u001b[m\n",
      " hello\u001b[m\n",
      "\u001b[31m-1234\u001b[m\n",
      "\u001b[32m+\u001b[m\u001b[32m123445\u001b[m\n",
      " abcd123\u001b[m\n"
     ]
    }
   ],
   "source": [
    "git diff "
   ]
  },
  {
   "cell_type": "code",
   "execution_count": 12,
   "metadata": {},
   "outputs": [],
   "source": [
    "git add -u"
   ]
  },
  {
   "cell_type": "code",
   "execution_count": 13,
   "metadata": {},
   "outputs": [
    {
     "name": "stdout",
     "output_type": "stream",
     "text": [
      "On branch master\n",
      "Changes to be committed:\n",
      "  (use \"git reset HEAD <file>...\" to unstage)\n",
      "\n",
      "\t\u001b[32mmodified:   file1\u001b[m\n",
      "\n",
      "Untracked files:\n",
      "  (use \"git add <file>...\" to include in what will be committed)\n",
      "\n",
      "\t\u001b[31m.ipynb_checkpoints/\u001b[m\n",
      "\t\u001b[31m02-0.ipynb\u001b[m\n",
      "\t\u001b[31m02-1.ipynb\u001b[m\n",
      "\t\u001b[31mdotgit.bk/\u001b[m\n",
      "\t\u001b[31mimages/\u001b[m\n",
      "\n"
     ]
    }
   ],
   "source": [
    "git status"
   ]
  },
  {
   "cell_type": "code",
   "execution_count": 14,
   "metadata": {},
   "outputs": [
    {
     "name": "stdout",
     "output_type": "stream",
     "text": [
      "[master 595bae6] create conflict master\n",
      " Committer: Nikhil Thomas <ncoder@iam.ironman>\n",
      "Your name and email address were configured automatically based\n",
      "on your username and hostname. Please check that they are accurate.\n",
      "You can suppress this message by setting them explicitly:\n",
      "\n",
      "    git config --global user.name \"Your Name\"\n",
      "    git config --global user.email you@example.com\n",
      "\n",
      "After doing this, you may fix the identity used for this commit with:\n",
      "\n",
      "    git commit --amend --reset-author\n",
      "\n",
      " 1 file changed, 1 insertion(+), 1 deletion(-)\n"
     ]
    }
   ],
   "source": [
    "git commit -m \"create conflict master\""
   ]
  },
  {
   "cell_type": "code",
   "execution_count": 15,
   "metadata": {},
   "outputs": [
    {
     "name": "stdout",
     "output_type": "stream",
     "text": [
      "Switched to branch 'newbranch'\n"
     ]
    }
   ],
   "source": [
    "git checkout newbranch"
   ]
  },
  {
   "cell_type": "code",
   "execution_count": 16,
   "metadata": {},
   "outputs": [
    {
     "name": "stdout",
     "output_type": "stream",
     "text": [
      "hello\n",
      "1234\n",
      "abcd123\n"
     ]
    }
   ],
   "source": [
    "cat file1"
   ]
  },
  {
   "cell_type": "code",
   "execution_count": 17,
   "metadata": {},
   "outputs": [
    {
     "name": "stdout",
     "output_type": "stream",
     "text": [
      "hello\n",
      "1234abc\n",
      "abcd123\n"
     ]
    }
   ],
   "source": [
    "cat file1"
   ]
  },
  {
   "cell_type": "code",
   "execution_count": 18,
   "metadata": {},
   "outputs": [
    {
     "name": "stdout",
     "output_type": "stream",
     "text": [
      "On branch newbranch\n",
      "Changes not staged for commit:\n",
      "  (use \"git add <file>...\" to update what will be committed)\n",
      "  (use \"git checkout -- <file>...\" to discard changes in working directory)\n",
      "\n",
      "\t\u001b[31mmodified:   file1\u001b[m\n",
      "\n",
      "Untracked files:\n",
      "  (use \"git add <file>...\" to include in what will be committed)\n",
      "\n",
      "\t\u001b[31m.ipynb_checkpoints/\u001b[m\n",
      "\t\u001b[31m02-0.ipynb\u001b[m\n",
      "\t\u001b[31m02-1.ipynb\u001b[m\n",
      "\t\u001b[31mdotgit.bk/\u001b[m\n",
      "\t\u001b[31mimages/\u001b[m\n",
      "\n",
      "no changes added to commit (use \"git add\" and/or \"git commit -a\")\n"
     ]
    }
   ],
   "source": [
    "git status"
   ]
  },
  {
   "cell_type": "code",
   "execution_count": 19,
   "metadata": {},
   "outputs": [
    {
     "name": "stdout",
     "output_type": "stream",
     "text": [
      "\u001b[1mdiff --git a/file1 b/file1\u001b[m\n",
      "\u001b[1mindex 4ccf95f..4369d79 100644\u001b[m\n",
      "\u001b[1m--- a/file1\u001b[m\n",
      "\u001b[1m+++ b/file1\u001b[m\n",
      "\u001b[36m@@ -1,3 +1,3 @@\u001b[m\n",
      " hello\u001b[m\n",
      "\u001b[31m-1234\u001b[m\n",
      "\u001b[32m+\u001b[m\u001b[32m1234abc\u001b[m\n",
      " abcd123\u001b[m\n"
     ]
    }
   ],
   "source": [
    "git diff"
   ]
  },
  {
   "cell_type": "code",
   "execution_count": 21,
   "metadata": {},
   "outputs": [
    {
     "name": "stdout",
     "output_type": "stream",
     "text": [
      "[newbranch 586ae12] create conflict on newbranch\n",
      " Committer: Nikhil Thomas <ncoder@iam.ironman>\n",
      "Your name and email address were configured automatically based\n",
      "on your username and hostname. Please check that they are accurate.\n",
      "You can suppress this message by setting them explicitly:\n",
      "\n",
      "    git config --global user.name \"Your Name\"\n",
      "    git config --global user.email you@example.com\n",
      "\n",
      "After doing this, you may fix the identity used for this commit with:\n",
      "\n",
      "    git commit --amend --reset-author\n",
      "\n",
      " 1 file changed, 1 insertion(+), 1 deletion(-)\n"
     ]
    }
   ],
   "source": [
    "git add -u\n",
    "git commit -m \"create conflict on newbranch\""
   ]
  },
  {
   "cell_type": "code",
   "execution_count": 23,
   "metadata": {},
   "outputs": [
    {
     "name": "stdout",
     "output_type": "stream",
     "text": [
      "Auto-merging file1\n",
      "CONFLICT (content): Merge conflict in file1\n",
      "Automatic merge failed; fix conflicts and then commit the result.\n"
     ]
    },
    {
     "ename": "",
     "evalue": "1",
     "output_type": "error",
     "traceback": []
    }
   ],
   "source": [
    "git merge master"
   ]
  },
  {
   "cell_type": "code",
   "execution_count": 24,
   "metadata": {},
   "outputs": [
    {
     "name": "stdout",
     "output_type": "stream",
     "text": [
      "hello\n",
      "<<<<<<< HEAD\n",
      "1234abc\n",
      "=======\n",
      "123445\n",
      ">>>>>>> master\n",
      "abcd123\n"
     ]
    }
   ],
   "source": [
    "cat file1"
   ]
  },
  {
   "cell_type": "markdown",
   "metadata": {},
   "source": [
    "A conflict-marked area begins with <<<<<<< and ends with >>>>>>>.\n",
    "\n",
    "The two conflicting blocks themselves are divided by a sequence of ======="
   ]
  },
  {
   "cell_type": "code",
   "execution_count": 25,
   "metadata": {},
   "outputs": [
    {
     "name": "stdout",
     "output_type": "stream",
     "text": [
      "hello\n",
      "\n",
      "123445\n",
      "1234abc\n",
      "\n",
      "abcd123\n"
     ]
    }
   ],
   "source": [
    "cat file1"
   ]
  },
  {
   "cell_type": "code",
   "execution_count": 26,
   "metadata": {},
   "outputs": [
    {
     "name": "stdout",
     "output_type": "stream",
     "text": [
      "On branch newbranch\n",
      "You have unmerged paths.\n",
      "  (fix conflicts and run \"git commit\")\n",
      "  (use \"git merge --abort\" to abort the merge)\n",
      "\n",
      "Unmerged paths:\n",
      "  (use \"git add <file>...\" to mark resolution)\n",
      "\n",
      "\t\u001b[31mboth modified:   file1\u001b[m\n",
      "\n",
      "Untracked files:\n",
      "  (use \"git add <file>...\" to include in what will be committed)\n",
      "\n",
      "\t\u001b[31m.ipynb_checkpoints/\u001b[m\n",
      "\t\u001b[31m02-0.ipynb\u001b[m\n",
      "\t\u001b[31m02-1.ipynb\u001b[m\n",
      "\t\u001b[31mdotgit.bk/\u001b[m\n",
      "\t\u001b[31mimages/\u001b[m\n",
      "\n",
      "no changes added to commit (use \"git add\" and/or \"git commit -a\")\n"
     ]
    }
   ],
   "source": [
    "git status\n"
   ]
  },
  {
   "cell_type": "code",
   "execution_count": 27,
   "metadata": {},
   "outputs": [
    {
     "name": "stdout",
     "output_type": "stream",
     "text": [
      "\u001b[1mdiff --cc file1\u001b[m\n",
      "\u001b[1mindex 4369d79,9e40e91..0000000\u001b[m\n",
      "\u001b[1m--- a/file1\u001b[m\n",
      "\u001b[1m+++ b/file1\u001b[m\n",
      "\u001b[36m@@@ -1,3 -1,3 +1,6 @@@\u001b[m\n",
      "  hello\u001b[m\n",
      "\u001b[32m++\u001b[m\n",
      "\u001b[32m+ 123445\u001b[m\n",
      "\u001b[32m +1234abc\u001b[m\n",
      "\u001b[32m++\u001b[m\n",
      "  abcd123\u001b[m\n"
     ]
    }
   ],
   "source": [
    "git diff "
   ]
  },
  {
   "cell_type": "code",
   "execution_count": 29,
   "metadata": {},
   "outputs": [
    {
     "name": "stdout",
     "output_type": "stream",
     "text": [
      "[newbranch 357baaf] conflict resolved\n",
      " Committer: Nikhil Thomas <ncoder@iam.ironman>\n",
      "Your name and email address were configured automatically based\n",
      "on your username and hostname. Please check that they are accurate.\n",
      "You can suppress this message by setting them explicitly:\n",
      "\n",
      "    git config --global user.name \"Your Name\"\n",
      "    git config --global user.email you@example.com\n",
      "\n",
      "After doing this, you may fix the identity used for this commit with:\n",
      "\n",
      "    git commit --amend --reset-author\n",
      "\n"
     ]
    }
   ],
   "source": [
    "git add -u\n",
    "git commit -m \"conflict resolved\""
   ]
  },
  {
   "cell_type": "code",
   "execution_count": 9,
   "metadata": {},
   "outputs": [],
   "source": [
    "git config alias.gtree 'log --oneline --graph --all --decorate'"
   ]
  },
  {
   "cell_type": "code",
   "execution_count": 10,
   "metadata": {},
   "outputs": [
    {
     "name": "stdout",
     "output_type": "stream",
     "text": [
      "* \u001b[33m586ae12\u001b[m\u001b[33m (\u001b[m\u001b[1;36mHEAD -> \u001b[m\u001b[1;32mnewbranch\u001b[m\u001b[33m)\u001b[m create conflict on newbranch\n",
      "*   \u001b[33m159d23b\u001b[m Merge branch 'master' into newbranch\n",
      "\u001b[32m|\u001b[m\u001b[33m\\\u001b[m  \n",
      "* \u001b[33m|\u001b[m \u001b[33m5af8884\u001b[m commit on new branch\n",
      "\u001b[33m|\u001b[m \u001b[33m|\u001b[m * \u001b[33m595bae6\u001b[m\u001b[33m (\u001b[m\u001b[1;32mmaster\u001b[m\u001b[33m)\u001b[m create conflict master\n",
      "\u001b[33m|\u001b[m \u001b[33m|\u001b[m\u001b[33m/\u001b[m  \n",
      "\u001b[33m|\u001b[m * \u001b[33med46caf\u001b[m edit file1 on master\n",
      "\u001b[33m|\u001b[m\u001b[33m/\u001b[m  \n",
      "\u001b[33m|\u001b[m * \u001b[33m29a07f2\u001b[m\u001b[33m (\u001b[m\u001b[1;32mb2\u001b[m\u001b[33m)\u001b[m file2 commit\n",
      "\u001b[33m|\u001b[m\u001b[33m/\u001b[m  \n",
      "* \u001b[33m89093ad\u001b[m\u001b[33m (\u001b[m\u001b[1;33mtag: v0.0.1\u001b[m\u001b[33m)\u001b[m file1 updated\n",
      "* \u001b[33mf87518f\u001b[m first commit\n"
     ]
    }
   ],
   "source": [
    "git gtree"
   ]
  },
  {
   "cell_type": "code",
   "execution_count": 36,
   "metadata": {},
   "outputs": [
    {
     "name": "stdout",
     "output_type": "stream",
     "text": [
      "*   \u001b[33m357baaf\u001b[m\u001b[33m (\u001b[m\u001b[1;36mHEAD -> \u001b[m\u001b[1;32mnewbranch\u001b[m\u001b[33m)\u001b[m conflict resolved\n",
      "\u001b[31m|\u001b[m\u001b[32m\\\u001b[m  \n",
      "\u001b[31m|\u001b[m * \u001b[33m595bae6\u001b[m\u001b[33m (\u001b[m\u001b[1;32mmaster\u001b[m\u001b[33m)\u001b[m create conflict master\n",
      "* \u001b[32m|\u001b[m \u001b[33m586ae12\u001b[m create conflict on newbranch\n",
      "* \u001b[32m|\u001b[m   \u001b[33m159d23b\u001b[m Merge branch 'master' into newbranch\n",
      "\u001b[33m|\u001b[m\u001b[32m\\\u001b[m \u001b[32m\\\u001b[m  \n",
      "\u001b[33m|\u001b[m \u001b[32m|\u001b[m\u001b[32m/\u001b[m  \n",
      "\u001b[33m|\u001b[m * \u001b[33med46caf\u001b[m edit file1 on master\n",
      "* \u001b[34m|\u001b[m \u001b[33m5af8884\u001b[m commit on new branch\n",
      "\u001b[34m|\u001b[m\u001b[34m/\u001b[m  \n",
      "\u001b[34m|\u001b[m * \u001b[33m29a07f2\u001b[m\u001b[33m (\u001b[m\u001b[1;32mb2\u001b[m\u001b[33m)\u001b[m file2 commit\n",
      "\u001b[34m|\u001b[m\u001b[34m/\u001b[m  \n",
      "* \u001b[33m89093ad\u001b[m\u001b[33m (\u001b[m\u001b[1;33mtag: v0.0.1\u001b[m\u001b[33m)\u001b[m file1 updated\n",
      "* \u001b[33mf87518f\u001b[m first commit\n"
     ]
    }
   ],
   "source": [
    "git log --oneline --graph --all --decorate"
   ]
  },
  {
   "cell_type": "markdown",
   "metadata": {},
   "source": [
    "## Resolving a removed file conflict\n",
    "\n",
    "- Keeping the edited file  \n",
    "  Add NewFile.txt again in the master branch and commit it to fix the problem\n",
    "  \n",
    "- Resolving conflicts by removing the file  \n",
    "  use the git rm NewFile.txt command even in the master branch and then commit to mark the conflict resolved.\n",
    "  "
   ]
  },
  {
   "cell_type": "code",
   "execution_count": null,
   "metadata": {},
   "outputs": [],
   "source": []
  }
 ],
 "metadata": {
  "kernelspec": {
   "display_name": "Bash",
   "language": "bash",
   "name": "bash"
  },
  "language_info": {
   "codemirror_mode": "shell",
   "file_extension": ".sh",
   "mimetype": "text/x-sh",
   "name": "bash"
  }
 },
 "nbformat": 4,
 "nbformat_minor": 4
}
