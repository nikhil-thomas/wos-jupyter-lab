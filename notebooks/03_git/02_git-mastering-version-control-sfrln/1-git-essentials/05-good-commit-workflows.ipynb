{
 "cells": [
  {
   "cell_type": "markdown",
   "metadata": {},
   "source": [
    "- turn your Version Control System (VCS) from a backup system into a valuable tool for communication and documentation"
   ]
  },
  {
   "cell_type": "markdown",
   "metadata": {},
   "source": [
    "## MAKE ONLY ONE CHANGE PER COMMIT\n",
    "\n",
    "-p, --patch           select hunks interactively"
   ]
  },
  {
   "cell_type": "code",
   "execution_count": 1,
   "metadata": {},
   "outputs": [
    {
     "name": "stdout",
     "output_type": "stream",
     "text": [
      "error: unknown switch `H'\n",
      "usage: git add [<options>] [--] <pathspec>...\n",
      "\n",
      "    -n, --dry-run         dry run\n",
      "    -v, --verbose         be verbose\n",
      "\n",
      "    -i, --interactive     interactive picking\n",
      "    -p, --patch           select hunks interactively\n",
      "    -e, --edit            edit current diff and apply\n",
      "    -f, --force           allow adding otherwise ignored files\n",
      "    -u, --update          update tracked files\n",
      "    --renormalize         renormalize EOL of tracked files (implies -u)\n",
      "    -N, --intent-to-add   record only the fact that the path will be added later\n",
      "    -A, --all             add changes from all tracked and untracked files\n",
      "    --ignore-removal      ignore paths removed in the working tree (same as --no-all)\n",
      "    --refresh             don't add, only refresh the index\n",
      "    --ignore-errors       just skip files which cannot be added because of errors\n",
      "    --ignore-missing      check if - even missing - files are ignored in dry run\n",
      "    --chmod (+|-)x        override the executable bit of the listed files\n",
      "\n"
     ]
    },
    {
     "ename": "",
     "evalue": "129",
     "output_type": "error",
     "traceback": []
    }
   ],
   "source": [
    "git add -"
   ]
  },
  {
   "cell_type": "code",
   "execution_count": 2,
   "metadata": {},
   "outputs": [
    {
     "name": "stdout",
     "output_type": "stream",
     "text": [
      "On branch newbranch\n",
      "You are currently cherry-picking commit 9250bf0.\n",
      "  (fix conflicts and run \"git cherry-pick --continue\")\n",
      "  (use \"git cherry-pick --abort\" to cancel the cherry-pick operation)\n",
      "\n",
      "Unmerged paths:\n",
      "  (use \"git add/rm <file>...\" as appropriate to mark resolution)\n",
      "\n",
      "\t\u001b[31mdeleted by us:   cpf1\u001b[m\n",
      "\n",
      "Changes not staged for commit:\n",
      "  (use \"git add <file>...\" to update what will be committed)\n",
      "  (use \"git checkout -- <file>...\" to discard changes in working directory)\n",
      "\n",
      "\t\u001b[31mmodified:   04-blame-cherry-pick.ipynb\u001b[m\n",
      "\n",
      "Untracked files:\n",
      "  (use \"git add <file>...\" to include in what will be committed)\n",
      "\n",
      "\t\u001b[31m.ipynb_checkpoints/04-bare-repo-checkpoint.ipynb\u001b[m\n",
      "\t\u001b[31m.ipynb_checkpoints/05-good-commit-workflows-checkpoint.ipynb\u001b[m\n",
      "\t\u001b[31m04-bare-repo.ipynb\u001b[m\n",
      "\t\u001b[31m05-good-commit-workflows.ipynb\u001b[m\n",
      "\n",
      "no changes added to commit (use \"git add\" and/or \"git commit -a\")\n"
     ]
    }
   ],
   "source": [
    "git status"
   ]
  },
  {
   "cell_type": "code",
   "execution_count": 3,
   "metadata": {},
   "outputs": [
    {
     "name": "stdout",
     "output_type": "stream",
     "text": [
      "No changes.\n"
     ]
    }
   ],
   "source": [
    "git add -p 05-good-commit-workflows.ipynb"
   ]
  },
  {
   "cell_type": "markdown",
   "metadata": {},
   "source": [
    "### Split up features and tasks"
   ]
  },
  {
   "cell_type": "markdown",
   "metadata": {},
   "source": [
    "### Write commit messages before starting to code"
   ]
  },
  {
   "cell_type": "markdown",
   "metadata": {},
   "source": [
    "## Include the whole change in one commit"
   ]
  },
  {
   "cell_type": "markdown",
   "metadata": {},
   "source": [
    "- don't do partial commits\n",
    "\n",
    "## Describe the change, not what you have done\n",
    "\n",
    "start writing sentences where the change itself is the subject, not what you did to implement it. Use the imperative present tense (for example, fix, add, implement), describing the change in a small subject sentence, and then, add some details (when needed) in other lines of text.\n",
    "\n",
    "```\n",
    "Implement the password retrieval mechanism\n",
    "\n",
    "- Add the \"Lost password?\" link into the login page - Send an email to the user with a link to renew the password\"\n",
    "```\n",
    "\n",
    "think of the repository history as your changelog\n",
    "\n",
    "## Don't be afraid to commit\n",
    "\n",
    "## Isolate meaningless commits\n",
    "\n",
    "## The perfect commit message\n",
    "\n",
    "### Writing a meaningful subject (action is subject, imperative)\n",
    "- start with capital letters. Do not end sentences with periods; they are useless and even dangerous\n",
    "\n",
    "### Adding bulleted details lines, when needed\n",
    "### Tie other useful information\n",
    "### Special messages for releases\n",
    "\n",
    "```\n",
    "Add the newsletter signup in homepage\n",
    "- Add textbox and button on homepage\n",
    "- Implement email address validation\n",
    "- Save email in database\n",
    "\n",
    "#FEAT-123: closed\"\n",
    "```\n"
   ]
  },
  {
   "cell_type": "code",
   "execution_count": null,
   "metadata": {},
   "outputs": [],
   "source": []
  },
  {
   "cell_type": "code",
   "execution_count": null,
   "metadata": {},
   "outputs": [],
   "source": []
  }
 ],
 "metadata": {
  "kernelspec": {
   "display_name": "Bash",
   "language": "bash",
   "name": "bash"
  },
  "language_info": {
   "codemirror_mode": "shell",
   "file_extension": ".sh",
   "mimetype": "text/x-sh",
   "name": "bash"
  }
 },
 "nbformat": 4,
 "nbformat_minor": 4
}
