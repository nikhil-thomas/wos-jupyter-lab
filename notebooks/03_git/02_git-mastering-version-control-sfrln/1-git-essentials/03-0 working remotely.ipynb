{
 "cells": [
  {
   "cell_type": "markdown",
   "metadata": {},
   "source": [
    "## remote\n",
    "Git remote is another computer that has the same repository you have on your computer. Every computer that hosts the same repository on a shared network can be the remote of other computers"
   ]
  },
  {
   "cell_type": "markdown",
   "metadata": {},
   "source": [
    "## Tracking branches\n",
    "\n",
    "```\n",
    "git push -u origin Pasta\n",
    "```"
   ]
  },
  {
   "cell_type": "markdown",
   "metadata": {},
   "source": [
    "Using the -u option, we told Git to track the remote branch\n",
    "\n",
    "When a local branch tracks a remote branch, you actually have a local and remote branch that can be kept easily in sync\n",
    "\n"
   ]
  },
  {
   "cell_type": "code",
   "execution_count": 3,
   "metadata": {},
   "outputs": [],
   "source": [
    "ln -s dotgit.bk .git"
   ]
  },
  {
   "cell_type": "code",
   "execution_count": 4,
   "metadata": {},
   "outputs": [
    {
     "name": "stdout",
     "output_type": "stream",
     "text": [
      " \u001b[0m\u001b[38;5;33m.\u001b[0m            02-3.ipynb                     file1                newfile\n",
      " \u001b[38;5;33m..\u001b[0m          '03-0 working remotely.ipynb'   \u001b[38;5;51m.git\u001b[0m\n",
      " 02-0.ipynb   \u001b[38;5;33mdotgit.bk\u001b[0m                      \u001b[38;5;33mimages\u001b[0m\n",
      " 02-1.ipynb   \u001b[38;5;33mexercises\u001b[0m                      \u001b[38;5;33m.ipynb_checkpoints\u001b[0m\n"
     ]
    }
   ],
   "source": [
    "ls -a"
   ]
  },
  {
   "cell_type": "code",
   "execution_count": 6,
   "metadata": {},
   "outputs": [
    {
     "name": "stdout",
     "output_type": "stream",
     "text": [
      "usage: git remote [-v | --verbose]\n",
      "   or: git remote add [-t <branch>] [-m <master>] [-f] [--tags | --no-tags] [--mirror=<fetch|push>] <name> <url>\n",
      "   or: git remote rename <old> <new>\n",
      "   or: git remote remove <name>\n",
      "   or: git remote set-head <name> (-a | --auto | -d | --delete | <branch>)\n",
      "   or: git remote [-v | --verbose] show [-n] <name>\n",
      "   or: git remote prune [-n | --dry-run] <name>\n",
      "   or: git remote [-v | --verbose] update [-p | --prune] [(<group> | <remote>)...]\n",
      "   or: git remote set-branches [--add] <name> <branch>...\n",
      "   or: git remote get-url [--push] [--all] <name>\n",
      "   or: git remote set-url [--push] <name> <newurl> [<oldurl>]\n",
      "   or: git remote set-url --add <name> <newurl>\n",
      "   or: git remote set-url --delete <name> <url>\n",
      "\n",
      "    -v, --verbose         be verbose; must be placed before a subcommand\n",
      "\n"
     ]
    },
    {
     "ename": "",
     "evalue": "129",
     "output_type": "error",
     "traceback": []
    }
   ],
   "source": [
    "git remote -h"
   ]
  },
  {
   "cell_type": "code",
   "execution_count": 7,
   "metadata": {},
   "outputs": [
    {
     "name": "stdout",
     "output_type": "stream",
     "text": [
      "fatal: 'origin' does not appear to be a git repository\n",
      "fatal: Could not read from remote repository.\n",
      "\n",
      "Please make sure you have the correct access rights\n",
      "and the repository exists.\n"
     ]
    },
    {
     "ename": "",
     "evalue": "128",
     "output_type": "error",
     "traceback": []
    }
   ],
   "source": [
    "git remote show origin"
   ]
  },
  {
   "cell_type": "code",
   "execution_count": 8,
   "metadata": {},
   "outputs": [],
   "source": [
    "git remote \n"
   ]
  },
  {
   "cell_type": "code",
   "execution_count": 9,
   "metadata": {},
   "outputs": [],
   "source": [
    "rm -rf .git\n"
   ]
  },
  {
   "cell_type": "code",
   "execution_count": 10,
   "metadata": {},
   "outputs": [
    {
     "name": "stdout",
     "output_type": "stream",
     "text": [
      "nikhil\n"
     ]
    }
   ],
   "source": [
    "git remote"
   ]
  },
  {
   "cell_type": "code",
   "execution_count": 11,
   "metadata": {},
   "outputs": [
    {
     "name": "stdout",
     "output_type": "stream",
     "text": [
      "* remote nikhil\n",
      "  Fetch URL: git@github.com:nikhil-thomas/wos-jupyter-lab.git\n",
      "  Push  URL: git@github.com:nikhil-thomas/wos-jupyter-lab.git\n",
      "  HEAD branch: master\n",
      "  Remote branch:\n",
      "    master tracked\n",
      "  Local branch configured for 'git pull':\n",
      "    master merges with remote master\n",
      "  Local ref configured for 'git push':\n",
      "    master pushes to master (up to date)\n"
     ]
    }
   ],
   "source": [
    "git remote show nikhil"
   ]
  },
  {
   "cell_type": "markdown",
   "metadata": {},
   "source": [
    "it is not mandatory to have local and remote branches with the same name. The local branch foo can track the remote branch bar and vice versa; there are no restrictions.\n",
    "\n",
    "If push is the verb used to define the upload part of the work, pull is the verb used to describe the action of downloading and applying remote changes.\n",
    "\n",
    "the local destination branch is the branch you are in now (if you don't explicitly specify another one)"
   ]
  },
  {
   "cell_type": "code",
   "execution_count": null,
   "metadata": {},
   "outputs": [],
   "source": []
  }
 ],
 "metadata": {
  "kernelspec": {
   "display_name": "Bash",
   "language": "bash",
   "name": "bash"
  },
  "language_info": {
   "codemirror_mode": "shell",
   "file_extension": ".sh",
   "mimetype": "text/x-sh",
   "name": "bash"
  }
 },
 "nbformat": 4,
 "nbformat_minor": 4
}
