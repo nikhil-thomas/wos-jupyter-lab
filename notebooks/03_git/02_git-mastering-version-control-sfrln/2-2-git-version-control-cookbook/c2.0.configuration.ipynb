{
 "cells": [
  {
   "cell_type": "markdown",
   "metadata": {},
   "source": [
    "# Configuration"
   ]
  },
  {
   "cell_type": "markdown",
   "metadata": {},
   "source": [
    "# configuration targets\n",
    "\n",
    "three layers of configuration targets ?\n",
    "\n",
    "- SYSTEM: /etc/gitconfig\n",
    "- GLOBAL: ~/.gitconfig\n",
    "- LOCAL: ~/.git/config\n",
    "\n"
   ]
  },
  {
   "cell_type": "code",
   "execution_count": 1,
   "metadata": {},
   "outputs": [
    {
     "name": "stdout",
     "output_type": "stream",
     "text": [
      "/home/ncoder/02_wos/jupyter-lab/notebooks/03_git/02_git-mastering-version-control-sfrln/2-2-git-version-control-cookbook\n"
     ]
    }
   ],
   "source": [
    "pwd"
   ]
  },
  {
   "cell_type": "code",
   "execution_count": 2,
   "metadata": {},
   "outputs": [],
   "source": [
    "cd jgit"
   ]
  },
  {
   "cell_type": "markdown",
   "metadata": {},
   "source": [
    "# list git configuration\n",
    "\n",
    "```\n",
    "git config --list\n",
    "```\n"
   ]
  },
  {
   "cell_type": "code",
   "execution_count": 3,
   "metadata": {},
   "outputs": [
    {
     "name": "stdout",
     "output_type": "stream",
     "text": [
      "includeif.gitdir:/home/ncoder/go/src/github.com/openshift**.path=/home/ncoder/.config/git/config.d/redhat.gitconfig\n",
      "includeif.gitdir:/home/ncoder/go/src/github.com/tektoncd**.path=/home/ncoder/.config/git/config.d/redhat.gitconfig\n",
      "includeif.gitdir:/home/ncoder/go/src/github.com/inikhil-thomas**.path=/home/ncoder/.config/git/config.d/nikhil.gitconfig\n",
      "includeif.gitdir:/home/ncoder/go/src/github.com/operator-framework**.path=/home/ncoder/.config/git/config.d/redhat.gitconfig\n",
      "includeif.gitdir:/home/ncoder/01_work/**.path=/home/ncoder/.config/git/config.d/redhat.gitconfig\n",
      "core.excludesfile=/home/ncoder/.gitignore_global\n",
      "alias.gtree=log --oneline --graph --all --decorate\n",
      "alias.st=status\n",
      "core.repositoryformatversion=0\n",
      "core.filemode=true\n",
      "core.bare=false\n",
      "core.logallrefupdates=true\n",
      "core.worktree=../../../../../../../notebooks/03_git/02_git-mastering-version-control-sfrln/2-2-git-version-control-cookbook/jgit\n",
      "remote.origin.url=https://github.com/eclipse/jgit.git\n",
      "remote.origin.fetch=+refs/heads/*:refs/remotes/origin/*\n",
      "branch.master.remote=origin\n",
      "branch.master.merge=refs/heads/master\n"
     ]
    }
   ],
   "source": [
    "git config --list"
   ]
  },
  {
   "cell_type": "markdown",
   "metadata": {},
   "source": [
    "# list git config at different layers\n",
    "\n",
    "use `--system` `--global` or `--local`"
   ]
  },
  {
   "cell_type": "code",
   "execution_count": 4,
   "metadata": {},
   "outputs": [
    {
     "name": "stdout",
     "output_type": "stream",
     "text": [
      "fatal: unable to read config file '/etc/gitconfig': No such file or directory\n"
     ]
    },
    {
     "ename": "",
     "evalue": "128",
     "output_type": "error",
     "traceback": []
    }
   ],
   "source": [
    "git config --list --system"
   ]
  },
  {
   "cell_type": "code",
   "execution_count": 5,
   "metadata": {},
   "outputs": [
    {
     "name": "stdout",
     "output_type": "stream",
     "text": [
      "includeif.gitdir:/home/ncoder/go/src/github.com/openshift**.path=/home/ncoder/.config/git/config.d/redhat.gitconfig\n",
      "includeif.gitdir:/home/ncoder/go/src/github.com/tektoncd**.path=/home/ncoder/.config/git/config.d/redhat.gitconfig\n",
      "includeif.gitdir:/home/ncoder/go/src/github.com/inikhil-thomas**.path=/home/ncoder/.config/git/config.d/nikhil.gitconfig\n",
      "includeif.gitdir:/home/ncoder/go/src/github.com/operator-framework**.path=/home/ncoder/.config/git/config.d/redhat.gitconfig\n",
      "includeif.gitdir:/home/ncoder/01_work/**.path=/home/ncoder/.config/git/config.d/redhat.gitconfig\n",
      "core.excludesfile=/home/ncoder/.gitignore_global\n",
      "alias.gtree=log --oneline --graph --all --decorate\n",
      "alias.st=status\n"
     ]
    }
   ],
   "source": [
    "git config --list --global"
   ]
  },
  {
   "cell_type": "code",
   "execution_count": 6,
   "metadata": {},
   "outputs": [
    {
     "name": "stdout",
     "output_type": "stream",
     "text": [
      "core.repositoryformatversion=0\n",
      "core.filemode=true\n",
      "core.bare=false\n",
      "core.logallrefupdates=true\n",
      "core.worktree=../../../../../../../notebooks/03_git/02_git-mastering-version-control-sfrln/2-2-git-version-control-cookbook/jgit\n",
      "remote.origin.url=https://github.com/eclipse/jgit.git\n",
      "remote.origin.fetch=+refs/heads/*:refs/remotes/origin/*\n",
      "branch.master.remote=origin\n",
      "branch.master.merge=refs/heads/master\n"
     ]
    }
   ],
   "source": [
    "git config --list --local"
   ]
  },
  {
   "cell_type": "markdown",
   "metadata": {},
   "source": [
    "# query a single key in gitconfig and limit scope\n",
    "\n",
    "```\n",
    "git config --global user.email`\n",
    "```"
   ]
  },
  {
   "cell_type": "code",
   "execution_count": 7,
   "metadata": {},
   "outputs": [
    {
     "name": "stdout",
     "output_type": "stream",
     "text": [
      "log --oneline --graph --all --decorate\n"
     ]
    }
   ],
   "source": [
    "git config --global alias.gtree"
   ]
  },
  {
   "cell_type": "markdown",
   "metadata": {},
   "source": [
    "# set a config key\n",
    "```\n",
    "git config --global alias.lo \"log --oneline\"\n",
    "```"
   ]
  },
  {
   "cell_type": "code",
   "execution_count": 12,
   "metadata": {},
   "outputs": [],
   "source": [
    "git config --global alias.lo \"log --oneline\""
   ]
  },
  {
   "cell_type": "code",
   "execution_count": 13,
   "metadata": {},
   "outputs": [
    {
     "name": "stdout",
     "output_type": "stream",
     "text": [
      "bash: lo: command not found...\n"
     ]
    },
    {
     "ename": "",
     "evalue": "127",
     "output_type": "error",
     "traceback": []
    }
   ],
   "source": [
    "lo -3"
   ]
  },
  {
   "cell_type": "code",
   "execution_count": 15,
   "metadata": {},
   "outputs": [
    {
     "name": "stdout",
     "output_type": "stream",
     "text": [
      "includeif.gitdir:/home/ncoder/go/src/github.com/openshift**.path=/home/ncoder/.config/git/config.d/redhat.gitconfig\n",
      "includeif.gitdir:/home/ncoder/go/src/github.com/tektoncd**.path=/home/ncoder/.config/git/config.d/redhat.gitconfig\n",
      "includeif.gitdir:/home/ncoder/go/src/github.com/inikhil-thomas**.path=/home/ncoder/.config/git/config.d/nikhil.gitconfig\n",
      "includeif.gitdir:/home/ncoder/go/src/github.com/operator-framework**.path=/home/ncoder/.config/git/config.d/redhat.gitconfig\n",
      "includeif.gitdir:/home/ncoder/01_work/**.path=/home/ncoder/.config/git/config.d/redhat.gitconfig\n",
      "core.excludesfile=/home/ncoder/.gitignore_global\n",
      "alias.gtree=log --oneline --graph --all --decorate\n",
      "alias.st=status\n",
      "alias.lo=log --oneline\n"
     ]
    }
   ],
   "source": [
    "git config --global --list"
   ]
  },
  {
   "cell_type": "code",
   "execution_count": 19,
   "metadata": {},
   "outputs": [
    {
     "name": "stdout",
     "output_type": "stream",
     "text": [
      "\u001b[33mb14a93971\u001b[m\u001b[33m (\u001b[m\u001b[1;36mHEAD -> \u001b[m\u001b[1;32mmaster\u001b[m\u001b[33m)\u001b[m Prepare 3.3.0-SNAPSHOT builds\n",
      "\u001b[33mf86a488e3\u001b[m Implement rebase.autostash\n",
      "\u001b[33mba0f50d7d\u001b[m Merge \"CLI status should support --porcelain\"\n",
      "\u001b[33m7026658ac\u001b[m CLI status should support --porcelain\n"
     ]
    }
   ],
   "source": [
    "git lo -4"
   ]
  },
  {
   "cell_type": "code",
   "execution_count": 20,
   "metadata": {},
   "outputs": [],
   "source": [
    "git config --local alias.lo \"log --oneline -5\""
   ]
  },
  {
   "cell_type": "code",
   "execution_count": 21,
   "metadata": {},
   "outputs": [
    {
     "name": "stdout",
     "output_type": "stream",
     "text": [
      "log --oneline -5\n"
     ]
    }
   ],
   "source": [
    "git config --local alias.lo"
   ]
  },
  {
   "cell_type": "code",
   "execution_count": 22,
   "metadata": {},
   "outputs": [
    {
     "name": "stdout",
     "output_type": "stream",
     "text": [
      "log --oneline\n"
     ]
    }
   ],
   "source": [
    "git config --global alias.lo"
   ]
  },
  {
   "cell_type": "code",
   "execution_count": 24,
   "metadata": {},
   "outputs": [
    {
     "name": "stdout",
     "output_type": "stream",
     "text": [
      "\u001b[33mb14a93971\u001b[m\u001b[33m (\u001b[m\u001b[1;36mHEAD -> \u001b[m\u001b[1;32mmaster\u001b[m\u001b[33m)\u001b[m Prepare 3.3.0-SNAPSHOT builds\n",
      "\u001b[33mf86a488e3\u001b[m Implement rebase.autostash\n",
      "\u001b[33mba0f50d7d\u001b[m Merge \"CLI status should support --porcelain\"\n",
      "\u001b[33m7026658ac\u001b[m CLI status should support --porcelain\n",
      "\u001b[33m77432969d\u001b[m Merge \"More helpful InvalidPathException messages (include reason)\"\n"
     ]
    }
   ],
   "source": [
    "git lo"
   ]
  },
  {
   "cell_type": "markdown",
   "metadata": {},
   "source": [
    "# edit gitconfig\n",
    "\n",
    "using `git config -e`"
   ]
  },
  {
   "cell_type": "code",
   "execution_count": null,
   "metadata": {},
   "outputs": [],
   "source": []
  }
 ],
 "metadata": {
  "kernelspec": {
   "display_name": "Bash",
   "language": "bash",
   "name": "bash"
  },
  "language_info": {
   "codemirror_mode": "shell",
   "file_extension": ".sh",
   "mimetype": "text/x-sh",
   "name": "bash"
  }
 },
 "nbformat": 4,
 "nbformat_minor": 4
}
