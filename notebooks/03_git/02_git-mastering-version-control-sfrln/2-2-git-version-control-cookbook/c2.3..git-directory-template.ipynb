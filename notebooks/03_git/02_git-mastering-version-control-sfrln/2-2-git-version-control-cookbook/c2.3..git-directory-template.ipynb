{
 "cells": [
  {
   "cell_type": "markdown",
   "metadata": {},
   "source": [
    "# .git directory template"
   ]
  },
  {
   "cell_type": "markdown",
   "metadata": {},
   "source": [
    "default template dir\n",
    "- /usr/share/git-core/templates"
   ]
  },
  {
   "cell_type": "markdown",
   "metadata": {},
   "source": [
    "# specifying git template dir\n",
    "- can be specified as an argument to `git clone` or `git init` command\n",
    "- can be set on env `$GIT_TEMPLATE_DIR`"
   ]
  },
  {
   "cell_type": "markdown",
   "metadata": {},
   "source": [
    "# setting up template dir with githooks and exclude\n",
    "\n",
    "```\n",
    "- create dir\n",
    "- create <dir>\\hooks\\\n",
    "- create <dir>\\info\\\n",
    "```\n",
    "\n",
    "copy hooks into hooks dir, exclude filenames/types into info/exclude file"
   ]
  },
  {
   "cell_type": "markdown",
   "metadata": {},
   "source": [
    "# creating and settingup template dir\n"
   ]
  },
  {
   "cell_type": "code",
   "execution_count": 1,
   "metadata": {},
   "outputs": [],
   "source": [
    "mkdir ~/.git_template"
   ]
  },
  {
   "cell_type": "code",
   "execution_count": 2,
   "metadata": {},
   "outputs": [],
   "source": [
    "mkdir -p ~/.git_template/{hooks,info}"
   ]
  },
  {
   "cell_type": "markdown",
   "metadata": {},
   "source": [
    "# copy default hooks to our new template directory\n",
    "\n",
    "default template directory\n",
    "- `/usr/share/git-core/templates`"
   ]
  },
  {
   "cell_type": "code",
   "execution_count": 1,
   "metadata": {},
   "outputs": [
    {
     "name": "stdout",
     "output_type": "stream",
     "text": [
      "\u001b[0m\u001b[38;5;33mhooks\u001b[0m  \u001b[38;5;33minfo\u001b[0m\n"
     ]
    }
   ],
   "source": [
    "ls ~/.git_template"
   ]
  },
  {
   "cell_type": "code",
   "execution_count": 4,
   "metadata": {},
   "outputs": [],
   "source": [
    "cp -r /usr/share/git-core/templates/hooks ~/.git_template/hooks"
   ]
  },
  {
   "cell_type": "code",
   "execution_count": 5,
   "metadata": {},
   "outputs": [
    {
     "name": "stdout",
     "output_type": "stream",
     "text": [
      "\u001b[38;5;33m/home/ncoder/.git_template/hooks\u001b[0m\n",
      "└── \u001b[38;5;33mhooks\u001b[0m\n",
      "    ├── \u001b[38;5;40mapplypatch-msg.sample\u001b[0m\n",
      "    ├── \u001b[38;5;40mcommit-msg.sample\u001b[0m\n",
      "    ├── \u001b[38;5;40mfsmonitor-watchman.sample\u001b[0m\n",
      "    ├── \u001b[38;5;40mpost-update.sample\u001b[0m\n",
      "    ├── \u001b[38;5;40mpre-applypatch.sample\u001b[0m\n",
      "    ├── \u001b[38;5;40mpre-commit.sample\u001b[0m\n",
      "    ├── \u001b[38;5;40mprepare-commit-msg.sample\u001b[0m\n",
      "    ├── \u001b[38;5;40mpre-push.sample\u001b[0m\n",
      "    ├── \u001b[38;5;40mpre-rebase.sample\u001b[0m\n",
      "    ├── \u001b[38;5;40mpre-receive.sample\u001b[0m\n",
      "    └── \u001b[38;5;40mupdate.sample\u001b[0m\n",
      "\n",
      "1 directory, 11 files\n"
     ]
    }
   ],
   "source": [
    "tree ~/.git_template/hooks"
   ]
  },
  {
   "cell_type": "code",
   "execution_count": 6,
   "metadata": {},
   "outputs": [],
   "source": [
    "touch ~/.git_template/hooks/commit-msg\n"
   ]
  },
  {
   "cell_type": "code",
   "execution_count": 8,
   "metadata": {},
   "outputs": [
    {
     "name": "stdout",
     "output_type": "stream",
     "text": [
      "#!/usr/bin/env bash\n",
      "\n",
      "MSG_FILE=$1\n",
      "echo \"\\n hi from commit hook commit-message \" >> $MSG_FILE\n",
      " \n"
     ]
    }
   ],
   "source": [
    "cat ~/.git_template/hooks/commit-msg"
   ]
  },
  {
   "cell_type": "markdown",
   "metadata": {},
   "source": [
    "# adding exclude file\n",
    "\n",
    "- works like .gitignore, but is not tracked"
   ]
  },
  {
   "cell_type": "code",
   "execution_count": 9,
   "metadata": {},
   "outputs": [],
   "source": [
    "echo *.txt >> ~/.git_template/info/exclude"
   ]
  },
  {
   "cell_type": "markdown",
   "metadata": {},
   "source": [
    "# ways to set template dir\n",
    "- $GIT_TEMPLATE_DIR env\n",
    "- `--template` flag in `git init` and `git clone`\n",
    "- `init.templatedir` config"
   ]
  },
  {
   "cell_type": "code",
   "execution_count": 10,
   "metadata": {},
   "outputs": [
    {
     "name": "stdout",
     "output_type": "stream",
     "text": [
      "/home/ncoder/02_wos/jupyter-lab/notebooks/03_git/02_git-mastering-version-control-sfrln/2-2-git-version-control-cookbook\n"
     ]
    }
   ],
   "source": [
    "pwd"
   ]
  },
  {
   "cell_type": "code",
   "execution_count": 11,
   "metadata": {},
   "outputs": [],
   "source": [
    "mkdir git-template-test"
   ]
  },
  {
   "cell_type": "code",
   "execution_count": 15,
   "metadata": {},
   "outputs": [],
   "source": [
    "cd git-template-test"
   ]
  },
  {
   "cell_type": "code",
   "execution_count": 16,
   "metadata": {},
   "outputs": [
    {
     "name": "stdout",
     "output_type": "stream",
     "text": [
      "Initialized empty Git repository in /home/ncoder/02_wos/jupyter-lab/notebooks/03_git/02_git-mastering-version-control-sfrln/2-2-git-version-control-cookbook/git-template-test/.git/\n"
     ]
    }
   ],
   "source": [
    "git init --template ~/.git_template"
   ]
  },
  {
   "cell_type": "code",
   "execution_count": 17,
   "metadata": {},
   "outputs": [
    {
     "name": "stdout",
     "output_type": "stream",
     "text": [
      "\u001b[38;5;33m.git/hooks\u001b[0m\n",
      "├── \u001b[38;5;40mapplypatch-msg.sample\u001b[0m\n",
      "├── \u001b[38;5;40mcommit-msg\u001b[0m\n",
      "├── \u001b[38;5;40mcommit-msg.sample\u001b[0m\n",
      "├── \u001b[38;5;40mfsmonitor-watchman.sample\u001b[0m\n",
      "├── \u001b[38;5;40mpost-update.sample\u001b[0m\n",
      "├── \u001b[38;5;40mpre-applypatch.sample\u001b[0m\n",
      "├── \u001b[38;5;40mpre-commit.sample\u001b[0m\n",
      "├── \u001b[38;5;40mprepare-commit-msg.sample\u001b[0m\n",
      "├── \u001b[38;5;40mpre-push.sample\u001b[0m\n",
      "├── \u001b[38;5;40mpre-rebase.sample\u001b[0m\n",
      "├── \u001b[38;5;40mpre-receive.sample\u001b[0m\n",
      "└── \u001b[38;5;40mupdate.sample\u001b[0m\n",
      "\n",
      "0 directories, 12 files\n"
     ]
    }
   ],
   "source": [
    "tree .git/hooks"
   ]
  },
  {
   "cell_type": "code",
   "execution_count": 18,
   "metadata": {},
   "outputs": [
    {
     "name": "stdout",
     "output_type": "stream",
     "text": [
      "#!/usr/bin/env bash\n",
      "\n",
      "MSG_FILE=$1\n",
      "echo \"\\n hi from commit hook commit-message \" >> $MSG_FILE\n",
      " \n"
     ]
    }
   ],
   "source": [
    "cat .git/hooks/commit-msg"
   ]
  },
  {
   "cell_type": "code",
   "execution_count": 19,
   "metadata": {},
   "outputs": [
    {
     "name": "stdout",
     "output_type": "stream",
     "text": [
      "[master (root-commit) 4817a39] test commit \\n hi from commit hook commit-message\n",
      " Committer: Nikhil Thomas <ncoder@iam.ironman>\n",
      "Your name and email address were configured automatically based\n",
      "on your username and hostname. Please check that they are accurate.\n",
      "You can suppress this message by setting them explicitly:\n",
      "\n",
      "    git config --global user.name \"Your Name\"\n",
      "    git config --global user.email you@example.com\n",
      "\n",
      "After doing this, you may fix the identity used for this commit with:\n",
      "\n",
      "    git commit --amend --reset-author\n",
      "\n"
     ]
    }
   ],
   "source": [
    "git commit -m \"test commit\" --allow-empty"
   ]
  },
  {
   "cell_type": "code",
   "execution_count": 20,
   "metadata": {},
   "outputs": [
    {
     "name": "stdout",
     "output_type": "stream",
     "text": [
      "\u001b[33mcommit 4817a39f29f17ea2ecd092ccb04f374da2bceee5\u001b[m\u001b[33m (\u001b[m\u001b[1;36mHEAD -> \u001b[m\u001b[1;32mmaster\u001b[m\u001b[33m)\u001b[m\n",
      "Author: Nikhil Thomas <ncoder@iam.ironman>\n",
      "Date:   Tue Feb 18 07:48:42 2020 +0530\n",
      "\n",
      "    test commit\n",
      "    \\n hi from commit hook commit-message\n"
     ]
    }
   ],
   "source": [
    "git show"
   ]
  },
  {
   "cell_type": "code",
   "execution_count": 21,
   "metadata": {},
   "outputs": [],
   "source": [
    "echo asdf >> file"
   ]
  },
  {
   "cell_type": "code",
   "execution_count": 22,
   "metadata": {},
   "outputs": [],
   "source": [
    "cp file file2.txt"
   ]
  },
  {
   "cell_type": "code",
   "execution_count": 23,
   "metadata": {},
   "outputs": [
    {
     "name": "stdout",
     "output_type": "stream",
     "text": [
      "file  file2.txt\n"
     ]
    }
   ],
   "source": [
    "ls"
   ]
  },
  {
   "cell_type": "code",
   "execution_count": 24,
   "metadata": {},
   "outputs": [
    {
     "name": "stdout",
     "output_type": "stream",
     "text": [
      "asdf\n",
      "asdf\n"
     ]
    }
   ],
   "source": [
    "cat file*"
   ]
  },
  {
   "cell_type": "code",
   "execution_count": 25,
   "metadata": {},
   "outputs": [
    {
     "name": "stdout",
     "output_type": "stream",
     "text": [
      "On branch master\n",
      "Untracked files:\n",
      "  (use \"git add <file>...\" to include in what will be committed)\n",
      "\n",
      "\t\u001b[31mfile\u001b[m\n",
      "\n",
      "nothing added to commit but untracked files present (use \"git add\" to track)\n"
     ]
    }
   ],
   "source": [
    "git status"
   ]
  },
  {
   "cell_type": "code",
   "execution_count": null,
   "metadata": {},
   "outputs": [],
   "source": []
  }
 ],
 "metadata": {
  "kernelspec": {
   "display_name": "Bash",
   "language": "bash",
   "name": "bash"
  },
  "language_info": {
   "codemirror_mode": "shell",
   "file_extension": ".sh",
   "mimetype": "text/x-sh",
   "name": "bash"
  }
 },
 "nbformat": 4,
 "nbformat_minor": 4
}
