{
 "cells": [
  {
   "cell_type": "markdown",
   "metadata": {},
   "source": [
    "# Viewing the DAG"
   ]
  },
  {
   "cell_type": "markdown",
   "metadata": {},
   "source": [
    "## git development history\n",
    "\n",
    " - git history is formed by commit objects\n",
    " - as more bracnhes are created and merged, the history becomes: a Directed Acyclic graph\n",
    "     - DAG - because git ties each commit to its parent\n",
    " - DAG makes it easy to see the development of a project based on commits"
   ]
  },
  {
   "cell_type": "code",
   "execution_count": 1,
   "metadata": {},
   "outputs": [
    {
     "name": "stdout",
     "output_type": "stream",
     "text": [
      "/home/ncoder/02_wos/jupyter-lab/notebooks/03_git/02_git-mastering-version-control-sfrln/2-2-git-version-control-cookbook\n"
     ]
    }
   ],
   "source": [
    "pwd"
   ]
  },
  {
   "cell_type": "code",
   "execution_count": 2,
   "metadata": {},
   "outputs": [],
   "source": [
    "cd data-model"
   ]
  },
  {
   "cell_type": "code",
   "execution_count": 3,
   "metadata": {},
   "outputs": [
    {
     "name": "stdout",
     "output_type": "stream",
     "text": [
      "HEAD is now at 34acc37 This is the subject line of the commit message\n"
     ]
    }
   ],
   "source": [
    "git reset --hard 34acc37"
   ]
  },
  {
   "cell_type": "code",
   "execution_count": 4,
   "metadata": {},
   "outputs": [
    {
     "name": "stdout",
     "output_type": "stream",
     "text": [
      "usage: git log [<options>] [<revision-range>] [[--] <path>...]\n",
      "   or: git show [<options>] <object>...\n",
      "\n",
      "    -q, --quiet           suppress diff output\n",
      "    --source              show source\n",
      "    --use-mailmap         Use mail map file\n",
      "    --decorate-refs <pattern>\n",
      "                          only decorate refs that match <pattern>\n",
      "    --decorate-refs-exclude <pattern>\n",
      "                          do not decorate refs that match <pattern>\n",
      "    --decorate[=...]      decorate options\n",
      "    -L <n,m:file>         Process line range n,m in file, counting from 1\n",
      "\n"
     ]
    },
    {
     "ename": "",
     "evalue": "129",
     "output_type": "error",
     "traceback": []
    }
   ],
   "source": [
    "git log -h"
   ]
  },
  {
   "cell_type": "code",
   "execution_count": 8,
   "metadata": {},
   "outputs": [
    {
     "name": "stdout",
     "output_type": "stream",
     "text": [
      "* \u001b[33md303ec9\u001b[m\u001b[33m (\u001b[m\u001b[1;31morigin/feature/2\u001b[m\u001b[33m)\u001b[m Adds list of implemented Hello World languages\n",
      "* \u001b[33m82cd566\u001b[m Makes hello_world python & perl executable\n",
      "* \u001b[33m3571299\u001b[m Adds python and perl hello worlds\n",
      "* \u001b[33m5fb761e\u001b[m Adds Java hello world\n",
      "\u001b[31m|\u001b[m * \u001b[33m34acc37\u001b[m\u001b[33m (\u001b[m\u001b[1;36mHEAD -> \u001b[m\u001b[1;32mmaster\u001b[m\u001b[33m, \u001b[m\u001b[1;33mtag: v1.0\u001b[m\u001b[33m, \u001b[m\u001b[1;31morigin/master\u001b[m\u001b[33m, \u001b[m\u001b[1;31morigin/HEAD\u001b[m\u001b[33m)\u001b[m This is the subject line of the commit message\n",
      "\u001b[31m|\u001b[m * \u001b[33ma90d190\u001b[m Instructions for compiling hello_world.c\n",
      "\u001b[31m|\u001b[m *   \u001b[33m485884e\u001b[m Merge branch 'feature/1'\n",
      "\u001b[31m|\u001b[m \u001b[33m|\u001b[m\u001b[34m\\\u001b[m  \n",
      "\u001b[31m|\u001b[m \u001b[33m|\u001b[m * \u001b[33m0806a8b\u001b[m Fixes warnings with -Wall flag\n",
      "\u001b[31m|\u001b[m \u001b[33m|\u001b[m * \u001b[33m70f42ec\u001b[m Remove warnings when compiling\n",
      "\u001b[31m|\u001b[m \u001b[33m|\u001b[m * \u001b[33mc98f570\u001b[m Adds a hello world C program\n",
      "\u001b[31m|\u001b[m * \u001b[34m|\u001b[m \u001b[33m44f1e05\u001b[m Add another file to the repository\n",
      "\u001b[31m|\u001b[m * \u001b[34m|\u001b[m \u001b[33m08e022e\u001b[m More master info in README\n",
      "\u001b[31m|\u001b[m\u001b[31m/\u001b[m \u001b[34m/\u001b[m  \n",
      "* \u001b[34m|\u001b[m \u001b[33m8f845c4\u001b[m Update README with master branch info\n",
      "\u001b[34m|\u001b[m\u001b[34m/\u001b[m  \n",
      "* \u001b[33m97ce729\u001b[m\u001b[33m (\u001b[m\u001b[1;33mtag: v0.1\u001b[m\u001b[33m)\u001b[m Initial commit for data-model-repository\n"
     ]
    }
   ],
   "source": [
    "git log --oneline --decorate --graph --all"
   ]
  },
  {
   "cell_type": "markdown",
   "metadata": {},
   "source": [
    "## git log\n",
    "\n",
    "- print git commits `git log` (paged through less)\n",
    "- specify number of commits `git log -3`\n"
   ]
  },
  {
   "cell_type": "code",
   "execution_count": 10,
   "metadata": {},
   "outputs": [
    {
     "name": "stdout",
     "output_type": "stream",
     "text": [
      "* \u001b[33md303ec9\u001b[m\u001b[33m (\u001b[m\u001b[1;31morigin/feature/2\u001b[m\u001b[33m)\u001b[m Adds list of implemented Hello World languages\n",
      "* \u001b[33m82cd566\u001b[m Makes hello_world python & perl executable\n",
      "* \u001b[33m3571299\u001b[m Adds python and perl hello worlds\n",
      "* \u001b[33m5fb761e\u001b[m Adds Java hello world\n",
      "\u001b[31m|\u001b[m * \u001b[33m34acc37\u001b[m\u001b[33m (\u001b[m\u001b[1;36mHEAD -> \u001b[m\u001b[1;32mmaster\u001b[m\u001b[33m, \u001b[m\u001b[1;33mtag: v1.0\u001b[m\u001b[33m, \u001b[m\u001b[1;31morigin/master\u001b[m\u001b[33m, \u001b[m\u001b[1;31morigin/HEAD\u001b[m\u001b[33m)\u001b[m This is the subject line of the commit message\n"
     ]
    }
   ],
   "source": [
    "git log --oneline --graph --all --decorate -5"
   ]
  },
  {
   "cell_type": "markdown",
   "metadata": {},
   "source": [
    "### what git log prints\n",
    "- commit id\n",
    "- author\n",
    "- email\n",
    "- message"
   ]
  },
  {
   "cell_type": "code",
   "execution_count": 11,
   "metadata": {},
   "outputs": [
    {
     "name": "stdout",
     "output_type": "stream",
     "text": [
      "\u001b[33mcommit 34acc370b4d6ae53f051255680feaefaf7f7850d\u001b[m\u001b[33m (\u001b[m\u001b[1;36mHEAD -> \u001b[m\u001b[1;32mmaster\u001b[m\u001b[33m, \u001b[m\u001b[1;33mtag: v1.0\u001b[m\u001b[33m, \u001b[m\u001b[1;31morigin/master\u001b[m\u001b[33m, \u001b[m\u001b[1;31morigin/HEAD\u001b[m\u001b[33m)\u001b[m\n",
      "Author: Aske Olsson <aske.olsson@switch-gears.dk>\n",
      "Date:   Fri Dec 13 12:26:00 2013 +0100\n",
      "\n",
      "    This is the subject line of the commit message\n",
      "    \n",
      "    It should be followed by a blank line then the body, which is this text. Here\n",
      "    you can have multiple paragraphs etc. and explain your commit. It's like an\n",
      "    email with subject and body, so get people's attention in the subject\n",
      "\n",
      "\u001b[33mcommit a90d1906337a6d75f1dc32da647931f932500d83\u001b[m\n",
      "Author: Aske Olsson <aske.olsson@switch-gears.dk>\n",
      "Date:   Fri Dec 13 12:17:42 2013 +0100\n",
      "\n",
      "    Instructions for compiling hello_world.c\n"
     ]
    }
   ],
   "source": [
    "git log -2\n"
   ]
  },
  {
   "cell_type": "markdown",
   "metadata": {},
   "source": [
    "### git pretty print\n",
    "\n",
    "specifying format\n",
    "\n",
    "`--pretty=format:'%Cred%h%Creset -%c ...'`\n",
    "\n",
    "%C<color-name>text-to-be-colored%Creset"
   ]
  },
  {
   "cell_type": "code",
   "execution_count": 4,
   "metadata": {},
   "outputs": [
    {
     "name": "stdout",
     "output_type": "stream",
     "text": [
      "* \u001b[31m542cfee\u001b[m -\u001b[33m (HEAD -> master, nikhil/master)\u001b[m Add git cookbook notes \u001b[32m(2020-01-24 08:58:24 +0530) \u001b[1;34m<Nikhil Thomas> \u001b[m\n",
      "* \u001b[31mc20932d\u001b[m -\u001b[33m\u001b[m Add git version control cookbook notes \u001b[32m(2020-01-23 09:15:38 +0530) \u001b[1;34m<Nikhil Thomas> \u001b[m\n",
      "* \u001b[31m3525076\u001b[m -\u001b[33m\u001b[m Add Git cook book notes \u001b[32m(2019-12-18 08:40:00 +0530) \u001b[1;34m<Nikhil Thomas> \u001b[m\n",
      "* \u001b[31mc082c9a\u001b[m -\u001b[33m\u001b[m Add Git Essentials notes \u001b[32m(2019-12-16 09:54:23 +0530) \u001b[1;34m<Nikhil Thomas> \u001b[m\n",
      "* \u001b[31m253a847\u001b[m -\u001b[33m\u001b[m add notes on git branching \u001b[32m(2019-12-02 08:51:28 +0530) \u001b[1;34m<Nikhil Thomas> \u001b[m\n",
      "* \u001b[31mc227651\u001b[m -\u001b[33m\u001b[m update notebooks \u001b[32m(2019-11-29 09:26:59 +0530) \u001b[1;34m<Nikhil Thomas> \u001b[m\n",
      "* \u001b[31m873d1a6\u001b[m -\u001b[33m\u001b[m update notes \u001b[32m(2019-11-02 16:37:49 +0530) \u001b[1;34m<Nikhil Thomas> \u001b[m\n",
      "* \u001b[31mb998f4f\u001b[m -\u001b[33m\u001b[m cka notes \u001b[32m(2019-10-18 07:44:54 +0530) \u001b[1;34m<Nikhil Thomas> \u001b[m\n",
      "* \u001b[31m759dcdb\u001b[m -\u001b[33m\u001b[m add cka udm notes \u001b[32m(2019-10-13 07:36:53 +0530) \u001b[1;34m<Nikhil Thomas> \u001b[m\n",
      "* \u001b[31m5593307\u001b[m -\u001b[33m\u001b[m cka-udm notes \u001b[32m(2019-10-10 08:27:43 +0530) \u001b[1;34m<Nikhil Thomas> \u001b[m\n",
      "* \u001b[31mc1b9b3b\u001b[m -\u001b[33m\u001b[m more notes \u001b[32m(2019-10-09 07:51:12 +0530) \u001b[1;34m<Nikhil Thomas> \u001b[m\n",
      "* \u001b[31m7ae4aab\u001b[m -\u001b[33m\u001b[m Add draw.io extension and notes \u001b[32m(2019-10-08 20:03:40 +0530) \u001b[1;34m<Nikhil Thomas> \u001b[m\n",
      "* \u001b[31md9d5275\u001b[m -\u001b[33m\u001b[m Update notebooks \u001b[32m(2019-10-06 17:46:45 +0530) \u001b[1;34m<Nikhil Thomas> \u001b[m\n",
      "* \u001b[31m184a113\u001b[m -\u001b[33m\u001b[m more ntoes \u001b[32m(2019-10-04 07:34:36 +0530) \u001b[1;34m<Nikhil Thomas> \u001b[m\n",
      "* \u001b[31m5790a6a\u001b[m -\u001b[33m\u001b[m more notes \u001b[32m(2019-10-04 07:01:45 +0530) \u001b[1;34m<Nikhil Thomas> \u001b[m\n",
      "* \u001b[31m5bb51bd\u001b[m -\u001b[33m\u001b[m Update notebooks \u001b[32m(2019-10-03 12:51:35 +0530) \u001b[1;34m<Nikhil Thomas> \u001b[m\n",
      "* \u001b[31m525cd42\u001b[m -\u001b[33m\u001b[m Add CKAD-SVV notes \u001b[32m(2019-10-02 09:21:43 +0530) \u001b[1;34m<Nikhil Thomas> \u001b[m\n",
      "* \u001b[31m29e9e06\u001b[m -\u001b[33m\u001b[m Update notebooks \u001b[32m(2019-10-01 17:04:01 +0530) \u001b[1;34m<Nikhil Thomas> \u001b[m\n",
      "* \u001b[31med68de1\u001b[m -\u001b[33m\u001b[m Update notebooks \u001b[32m(2019-10-01 08:05:01 +0530) \u001b[1;34m<Nikhil Thomas> \u001b[m\n",
      "* \u001b[31mb190b10\u001b[m -\u001b[33m\u001b[m Update notebooks \u001b[32m(2019-10-01 06:39:27 +0530) \u001b[1;34m<Nikhil Thomas> \u001b[m\n",
      "* \u001b[31m0aac6bc\u001b[m -\u001b[33m\u001b[m Update notebooks \u001b[32m(2019-10-01 06:36:02 +0530) \u001b[1;34m<Nikhil Thomas> \u001b[m\n",
      "* \u001b[31mbcd4be2\u001b[m -\u001b[33m\u001b[m Update notebooks \u001b[32m(2019-10-01 06:17:50 +0530) \u001b[1;34m<Nikhil Thomas> \u001b[m\n",
      "* \u001b[31medd04aa\u001b[m -\u001b[33m\u001b[m add bash_kernel \u001b[32m(2019-09-30 08:23:48 +0530) \u001b[1;34m<Nikhil Thomas> \u001b[m\n",
      "* \u001b[31md33c9d4\u001b[m -\u001b[33m\u001b[m Add jupyterlab and notebooks \u001b[32m(2019-09-30 08:12:45 +0530) \u001b[1;34m<Nikhil Thomas> \u001b[m"
     ]
    }
   ],
   "source": [
    "git log --all --graph --pretty=format:'%Cred%h%Creset -%C(yellow)%d%Creset %s %Cgreen(%ci) %C(bold blue)<%an> %Creset'"
   ]
  },
  {
   "cell_type": "code",
   "execution_count": null,
   "metadata": {},
   "outputs": [],
   "source": []
  }
 ],
 "metadata": {
  "kernelspec": {
   "display_name": "Bash",
   "language": "bash",
   "name": "bash"
  },
  "language_info": {
   "codemirror_mode": "shell",
   "file_extension": ".sh",
   "mimetype": "text/x-sh",
   "name": "bash"
  }
 },
 "nbformat": 4,
 "nbformat_minor": 4
}
