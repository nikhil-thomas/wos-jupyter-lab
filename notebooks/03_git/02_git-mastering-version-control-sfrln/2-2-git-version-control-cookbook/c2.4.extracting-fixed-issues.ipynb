{
 "cells": [
  {
   "cell_type": "markdown",
   "metadata": {},
   "source": [
    "# Extracting Fixed Issues\n",
    "\n",
    "## extracting a list of commits which are of a specific message format (eg: Bug:)\n",
    "- by following a standard format in commit messages, commits can be filtered\n",
    "- using `git log --grep` command"
   ]
  },
  {
   "cell_type": "code",
   "execution_count": 1,
   "metadata": {},
   "outputs": [
    {
     "name": "stdout",
     "output_type": "stream",
     "text": [
      "/home/ncoder/02_wos/jupyter-lab/notebooks/03_git/02_git-mastering-version-control-sfrln/2-2-git-version-control-cookbook\n"
     ]
    }
   ],
   "source": [
    "pwd"
   ]
  },
  {
   "cell_type": "code",
   "execution_count": 4,
   "metadata": {},
   "outputs": [],
   "source": [
    "cd data-model\n"
   ]
  },
  {
   "cell_type": "markdown",
   "metadata": {},
   "source": [
    "### find the last tag\n",
    "- use `git describe command`\n"
   ]
  },
  {
   "cell_type": "code",
   "execution_count": 6,
   "metadata": {},
   "outputs": [
    {
     "name": "stdout",
     "output_type": "stream",
     "text": [
      "v1.0\n"
     ]
    }
   ],
   "source": [
    "git describe"
   ]
  },
  {
   "cell_type": "code",
   "execution_count": 7,
   "metadata": {},
   "outputs": [
    {
     "name": "stdout",
     "output_type": "stream",
     "text": [
      "usage: git describe [<options>] [<commit-ish>...]\n",
      "   or: git describe [<options>] --dirty\n",
      "\n",
      "    --contains            find the tag that comes after the commit\n",
      "    --debug               debug search strategy on stderr\n",
      "    --all                 use any ref\n",
      "    --tags                use any tag, even unannotated\n",
      "    --long                always use long format\n",
      "    --first-parent        only follow first parent\n",
      "    --abbrev[=<n>]        use <n> digits to display SHA-1s\n",
      "    --exact-match         only output exact matches\n",
      "    --candidates <n>      consider <n> most recent tags (default: 10)\n",
      "    --match <pattern>     only consider tags matching <pattern>\n",
      "    --exclude <pattern>   do not consider tags matching <pattern>\n",
      "    --always              show abbreviated commit object as fallback\n",
      "    --dirty[=<mark>]      append <mark> on dirty working tree (default: \"-dirty\")\n",
      "    --broken[=<mark>]     append <mark> on broken working tree (default: \"-broken\")\n",
      "\n"
     ]
    },
    {
     "ename": "",
     "evalue": "129",
     "output_type": "error",
     "traceback": []
    }
   ],
   "source": [
    "git describe -h"
   ]
  },
  {
   "cell_type": "code",
   "execution_count": 12,
   "metadata": {},
   "outputs": [
    {
     "name": "stdout",
     "output_type": "stream",
     "text": [
      "\u001b[33m70f42ec\u001b[m\u001b[33m (\u001b[m\u001b[1;36mHEAD -> \u001b[m\u001b[1;32mmaster\u001b[m\u001b[33m)\u001b[m Remove warnings when compiling\n",
      "\u001b[33mc98f570\u001b[m Adds a hello world C program\n",
      "\u001b[33m97ce729\u001b[m\u001b[33m (\u001b[m\u001b[1;33mtag: v0.1\u001b[m\u001b[33m)\u001b[m Initial commit for data-model-repository\n"
     ]
    }
   ],
   "source": [
    "git log --oneline -10"
   ]
  },
  {
   "cell_type": "code",
   "execution_count": 9,
   "metadata": {},
   "outputs": [
    {
     "name": "stdout",
     "output_type": "stream",
     "text": [
      "Already on 'master'\n",
      "Your branch is up to date with 'origin/master'.\n",
      "HEAD is now at 70f42ec Remove warnings when compiling\n"
     ]
    }
   ],
   "source": [
    "git checkout master && git reset --hard 70f42ec"
   ]
  },
  {
   "cell_type": "code",
   "execution_count": 10,
   "metadata": {},
   "outputs": [
    {
     "name": "stdout",
     "output_type": "stream",
     "text": [
      "v0.1-2-g70f42ec\n"
     ]
    }
   ],
   "source": [
    "git describe"
   ]
  },
  {
   "cell_type": "code",
   "execution_count": 11,
   "metadata": {},
   "outputs": [
    {
     "name": "stdout",
     "output_type": "stream",
     "text": [
      "\u001b[33m70f42ec\u001b[m\u001b[33m (\u001b[m\u001b[1;36mHEAD -> \u001b[m\u001b[1;32mmaster\u001b[m\u001b[33m)\u001b[m Remove warnings when compiling\n",
      "\u001b[33mc98f570\u001b[m Adds a hello world C program\n",
      "\u001b[33m97ce729\u001b[m\u001b[33m (\u001b[m\u001b[1;33mtag: v0.1\u001b[m\u001b[33m)\u001b[m Initial commit for data-model-repository\n"
     ]
    }
   ],
   "source": [
    "git log --oneline -5\n"
   ]
  },
  {
   "cell_type": "markdown",
   "metadata": {},
   "source": [
    "### git describe output\n",
    "- last tag\n",
    "- number of commit from last tag to current HEAD\n",
    "- current commit"
   ]
  },
  {
   "cell_type": "markdown",
   "metadata": {},
   "source": [
    "git commit -m \"Bug: fixed bug1\" --allow-empty"
   ]
  },
  {
   "cell_type": "code",
   "execution_count": 14,
   "metadata": {},
   "outputs": [
    {
     "name": "stdout",
     "output_type": "stream",
     "text": [
      "[master 572eb26] Bug: fixed bug2\n",
      " Committer: Nikhil Thomas <ncoder@iam.ironman>\n",
      "Your name and email address were configured automatically based\n",
      "on your username and hostname. Please check that they are accurate.\n",
      "You can suppress this message by setting them explicitly:\n",
      "\n",
      "    git config --global user.name \"Your Name\"\n",
      "    git config --global user.email you@example.com\n",
      "\n",
      "After doing this, you may fix the identity used for this commit with:\n",
      "\n",
      "    git commit --amend --reset-author\n",
      "\n"
     ]
    }
   ],
   "source": [
    "git commit -m \"Bug: fixed bug2\" --allow-empty"
   ]
  },
  {
   "cell_type": "code",
   "execution_count": 15,
   "metadata": {},
   "outputs": [
    {
     "name": "stdout",
     "output_type": "stream",
     "text": [
      "[master bc18cf6] Bug: fixed bug1\n",
      " Committer: Nikhil Thomas <ncoder@iam.ironman>\n",
      "Your name and email address were configured automatically based\n",
      "on your username and hostname. Please check that they are accurate.\n",
      "You can suppress this message by setting them explicitly:\n",
      "\n",
      "    git config --global user.name \"Your Name\"\n",
      "    git config --global user.email you@example.com\n",
      "\n",
      "After doing this, you may fix the identity used for this commit with:\n",
      "\n",
      "    git commit --amend --reset-author\n",
      "\n"
     ]
    }
   ],
   "source": [
    "git commit -m \"Bug: fixed bug1\" --allow-empty"
   ]
  },
  {
   "cell_type": "code",
   "execution_count": 16,
   "metadata": {},
   "outputs": [
    {
     "name": "stdout",
     "output_type": "stream",
     "text": [
      "[master e2b73de] Bug: fixed bug3\n",
      " Committer: Nikhil Thomas <ncoder@iam.ironman>\n",
      "Your name and email address were configured automatically based\n",
      "on your username and hostname. Please check that they are accurate.\n",
      "You can suppress this message by setting them explicitly:\n",
      "\n",
      "    git config --global user.name \"Your Name\"\n",
      "    git config --global user.email you@example.com\n",
      "\n",
      "After doing this, you may fix the identity used for this commit with:\n",
      "\n",
      "    git commit --amend --reset-author\n",
      "\n"
     ]
    }
   ],
   "source": [
    "git commit -m \"Bug: fixed bug3\" --allow-empty"
   ]
  },
  {
   "cell_type": "code",
   "execution_count": 17,
   "metadata": {},
   "outputs": [
    {
     "name": "stdout",
     "output_type": "stream",
     "text": [
      "[master a5f7bc6] Feature: feature1\n",
      " Committer: Nikhil Thomas <ncoder@iam.ironman>\n",
      "Your name and email address were configured automatically based\n",
      "on your username and hostname. Please check that they are accurate.\n",
      "You can suppress this message by setting them explicitly:\n",
      "\n",
      "    git config --global user.name \"Your Name\"\n",
      "    git config --global user.email you@example.com\n",
      "\n",
      "After doing this, you may fix the identity used for this commit with:\n",
      "\n",
      "    git commit --amend --reset-author\n",
      "\n"
     ]
    }
   ],
   "source": [
    "git commit -m \"Feature: feature1\" --allow-empty"
   ]
  },
  {
   "cell_type": "code",
   "execution_count": 18,
   "metadata": {},
   "outputs": [
    {
     "name": "stdout",
     "output_type": "stream",
     "text": [
      "\u001b[33ma5f7bc6\u001b[m\u001b[33m (\u001b[m\u001b[1;36mHEAD -> \u001b[m\u001b[1;32mmaster\u001b[m\u001b[33m)\u001b[m Feature: feature1\n",
      "\u001b[33me2b73de\u001b[m Bug: fixed bug3\n",
      "\u001b[33mbc18cf6\u001b[m Bug: fixed bug1\n",
      "\u001b[33m572eb26\u001b[m Bug: fixed bug2\n",
      "\u001b[33mb263797\u001b[m Bug: fixed bug2\n",
      "\u001b[33m70f42ec\u001b[m Remove warnings when compiling\n",
      "\u001b[33mc98f570\u001b[m Adds a hello world C program\n",
      "\u001b[33m97ce729\u001b[m\u001b[33m (\u001b[m\u001b[1;33mtag: v0.1\u001b[m\u001b[33m)\u001b[m Initial commit for data-model-repository\n"
     ]
    }
   ],
   "source": [
    "git log --oneline"
   ]
  },
  {
   "cell_type": "markdown",
   "metadata": {},
   "source": [
    "### listing only bugs\n",
    "- use `git log --grep '<expr>'` command"
   ]
  },
  {
   "cell_type": "code",
   "execution_count": 19,
   "metadata": {},
   "outputs": [
    {
     "name": "stdout",
     "output_type": "stream",
     "text": [
      "\u001b[33me2b73de\u001b[m Bug: fixed bug3\n",
      "\u001b[33mbc18cf6\u001b[m Bug: fixed bug1\n",
      "\u001b[33m572eb26\u001b[m Bug: fixed bug2\n",
      "\u001b[33mb263797\u001b[m Bug: fixed bug2\n"
     ]
    }
   ],
   "source": [
    "git log --oneline --grep 'Bug'"
   ]
  },
  {
   "cell_type": "markdown",
   "metadata": {},
   "source": [
    "### list bugs between 2 points in history\n",
    "- commit...commit"
   ]
  },
  {
   "cell_type": "code",
   "execution_count": 20,
   "metadata": {},
   "outputs": [
    {
     "name": "stdout",
     "output_type": "stream",
     "text": [
      "\u001b[33me2b73de\u001b[m Bug: fixed bug3\n",
      "\u001b[33mbc18cf6\u001b[m Bug: fixed bug1\n"
     ]
    }
   ],
   "source": [
    "git log --oneline --grep 'Bug' 572eb26...HEAD"
   ]
  },
  {
   "cell_type": "markdown",
   "metadata": {},
   "source": [
    "### parsing output with --pretty\n",
    "- %h - commit id\n",
    "- %s - commit subject\n",
    "- %n - newline\n",
    "- %b - body"
   ]
  },
  {
   "cell_type": "code",
   "execution_count": 21,
   "metadata": {},
   "outputs": [
    {
     "name": "stdout",
     "output_type": "stream",
     "text": [
      "e2b73de|Bug: fixed bug3\n",
      "\n",
      "bc18cf6|Bug: fixed bug1\n",
      "\n",
      "572eb26|Bug: fixed bug2\n",
      "\n",
      "b263797|Bug: fixed bug2\n"
     ]
    }
   ],
   "source": [
    "git log --grep 'Bug' --pretty=format:'%h|%s%n%b'"
   ]
  },
  {
   "cell_type": "code",
   "execution_count": null,
   "metadata": {},
   "outputs": [],
   "source": []
  }
 ],
 "metadata": {
  "kernelspec": {
   "display_name": "Bash",
   "language": "bash",
   "name": "bash"
  },
  "language_info": {
   "codemirror_mode": "shell",
   "file_extension": ".sh",
   "mimetype": "text/x-sh",
   "name": "bash"
  }
 },
 "nbformat": 4,
 "nbformat_minor": 4
}
