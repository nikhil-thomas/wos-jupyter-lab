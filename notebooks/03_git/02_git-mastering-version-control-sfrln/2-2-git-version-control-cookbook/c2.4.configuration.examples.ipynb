{
 "cells": [
  {
   "cell_type": "markdown",
   "metadata": {},
   "source": [
    "# A few configuration examples"
   ]
  },
  {
   "cell_type": "markdown",
   "metadata": {},
   "source": [
    "# default pull strategy\n",
    "- by default `git pull` make a merge commit if there is a divergence in the history"
   ]
  },
  {
   "cell_type": "markdown",
   "metadata": {},
   "source": [
    "cd data-model"
   ]
  },
  {
   "cell_type": "markdown",
   "metadata": {},
   "source": [
    "# make default merge strategy rebase\n",
    "- set `pull.rebase=true` (rebase the current branch on top of fetched one during `git rebase`)\n",
    "\n",
    "preserve local merge commit instead of flatenning it\n",
    "- pass flag `--preserve-merges` to `git rebase command`\n",
    "\n",
    "# auto setup rebase\n",
    "- set `branch.autosetuprebase` (to setup pull to rebase (instead of pull to merge) for all new branches created using `git branch` and `git checkout`\n",
    "\n",
    "possible values for `branch.autosetuprebase`\n",
    "\n",
    "- never: default value\n",
    "- local: set pull-to-rebase to local branches\n",
    "- remote: set pull-to-rebase to remote tracked branches\n",
    "- always: set pull-to-rebase to all tracked branches"
   ]
  },
  {
   "cell_type": "markdown",
   "metadata": {},
   "source": [
    "# set pull-to-rebase for only one branch\n",
    "\n",
    "set config `branch.<branch-name>.rebase` to true\n",
    "(set config `branch.<branch-name>.rebase` to`preserve` to preserve local merge commit without flattening it"
   ]
  },
  {
   "cell_type": "markdown",
   "metadata": {},
   "source": [
    "# when does objects expireand garbage collected by default\n",
    "- 90 days\n",
    "  - garbage collect unreferenced objects\n",
    "  - clean reflog for entries\n",
    "\n",
    "## referenced\n",
    "- a some of git internal bookkeeping (tree, commit, branch, tag, reflog, stash...)"
   ]
  },
  {
   "cell_type": "markdown",
   "metadata": {},
   "source": [
    "## available config\n",
    "\n",
    "### `expire branch's history\n",
    "- set `gc.reflogexpire`\n",
    "  - default 90 days,any time value can be set\n",
    "  - to turn off - set to `never`\n",
    "- set ref pattern to specify refs\n",
    "  - `gc.<refs pattern>.reflogexpire`\n",
    "     eg: `gc /refs/remotes/*.reflogexpire`"
   ]
  },
  {
   "cell_type": "markdown",
   "metadata": {},
   "source": [
    "### expire objects which are not part of current branch history\n",
    "- set `gc.reflogexpireunreachable`\n",
    "- time value or to `never`"
   ]
  },
  {
   "cell_type": "markdown",
   "metadata": {},
   "source": [
    "### prune objects\n",
    "- set `gc.pruneexpire`\n",
    "- cant take relative time values `2.weeks.ago`\n",
    "- disable grace period - set to `now`"
   ]
  },
  {
   "cell_type": "code",
   "execution_count": 1,
   "metadata": {},
   "outputs": [],
   "source": [
    "#git config gc.refs/remote/*.reflogexpire never\n",
    "#git config gc.refs/remote/*.reflogexpireunreachable \"2 months\"\n",
    "#git config gc.pruneexpire 3.days.ago"
   ]
  },
  {
   "cell_type": "markdown",
   "metadata": {},
   "source": [
    "# autocorrect\n",
    "control autocorrect by setting\n",
    "`help.autocorrect`\n",
    "- default `0` - show possile commands for a typo in a command\n",
    "- `-ive` value - immediately execute \"correcponding\" command\n",
    "- `+ive` value - wait for that many 10th seconds before executing typo"
   ]
  },
  {
   "cell_type": "markdown",
   "metadata": {},
   "source": [
    "git config help.autocorrect"
   ]
  },
  {
   "cell_type": "code",
   "execution_count": 2,
   "metadata": {},
   "outputs": [
    {
     "name": "stdout",
     "output_type": "stream",
     "text": [
      "/home/ncoder/02_wos/jupyter-lab/notebooks/03_git/02_git-mastering-version-control-sfrln/2-2-git-version-control-cookbook\n"
     ]
    }
   ],
   "source": [
    "pwd"
   ]
  },
  {
   "cell_type": "code",
   "execution_count": 3,
   "metadata": {},
   "outputs": [],
   "source": [
    "cd data-model"
   ]
  },
  {
   "cell_type": "code",
   "execution_count": 4,
   "metadata": {},
   "outputs": [
    {
     "ename": "",
     "evalue": "1",
     "output_type": "error",
     "traceback": []
    }
   ],
   "source": [
    "git config help.autocorrect"
   ]
  },
  {
   "cell_type": "code",
   "execution_count": 22,
   "metadata": {},
   "outputs": [],
   "source": [
    "git config help.autocorrect 0"
   ]
  },
  {
   "cell_type": "code",
   "execution_count": 24,
   "metadata": {},
   "outputs": [
    {
     "name": "stdout",
     "output_type": "stream",
     "text": [
      "0\n"
     ]
    }
   ],
   "source": [
    "git config help.autocorrect"
   ]
  },
  {
   "cell_type": "code",
   "execution_count": 25,
   "metadata": {},
   "outputs": [
    {
     "name": "stdout",
     "output_type": "stream",
     "text": [
      "git: 'stis' is not a git command. See 'git --help'.\n",
      "\n",
      "The most similar command is\n",
      "\tstash\n"
     ]
    },
    {
     "ename": "",
     "evalue": "1",
     "output_type": "error",
     "traceback": []
    }
   ],
   "source": [
    "git stis"
   ]
  },
  {
   "cell_type": "code",
   "execution_count": 26,
   "metadata": {},
   "outputs": [],
   "source": [
    "git config help.autocorrect -1"
   ]
  },
  {
   "cell_type": "code",
   "execution_count": 27,
   "metadata": {},
   "outputs": [
    {
     "name": "stdout",
     "output_type": "stream",
     "text": [
      "WARNING: You called a Git command named 'stis', which does not exist.\n",
      "Continuing under the assumption that you meant 'stash'.\n",
      "No local changes to save\n"
     ]
    }
   ],
   "source": [
    "git stis"
   ]
  },
  {
   "cell_type": "code",
   "execution_count": 28,
   "metadata": {},
   "outputs": [],
   "source": [
    "git config help.autocorrect 0"
   ]
  },
  {
   "cell_type": "code",
   "execution_count": 29,
   "metadata": {},
   "outputs": [
    {
     "name": "stdout",
     "output_type": "stream",
     "text": [
      "git: 'stis' is not a git command. See 'git --help'.\n",
      "\n",
      "The most similar command is\n",
      "\tstash\n"
     ]
    },
    {
     "ename": "",
     "evalue": "1",
     "output_type": "error",
     "traceback": []
    }
   ],
   "source": [
    "git stis"
   ]
  },
  {
   "cell_type": "code",
   "execution_count": 30,
   "metadata": {},
   "outputs": [],
   "source": [
    "git config help.autocorrect 30"
   ]
  },
  {
   "cell_type": "code",
   "execution_count": 31,
   "metadata": {},
   "outputs": [
    {
     "name": "stdout",
     "output_type": "stream",
     "text": [
      "WARNING: You called a Git command named 'stis', which does not exist.\n",
      "Continuing in 3.0 seconds, assuming that you meant 'stash'.\n",
      "No local changes to save\n"
     ]
    }
   ],
   "source": [
    "git stis"
   ]
  },
  {
   "cell_type": "code",
   "execution_count": null,
   "metadata": {},
   "outputs": [],
   "source": []
  }
 ],
 "metadata": {
  "kernelspec": {
   "display_name": "Bash",
   "language": "bash",
   "name": "bash"
  },
  "language_info": {
   "codemirror_mode": "shell",
   "file_extension": ".sh",
   "mimetype": "text/x-sh",
   "name": "bash"
  }
 },
 "nbformat": 4,
 "nbformat_minor": 4
}
