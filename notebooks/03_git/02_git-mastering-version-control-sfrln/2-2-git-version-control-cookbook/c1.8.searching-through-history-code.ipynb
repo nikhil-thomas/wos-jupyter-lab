{
 "cells": [
  {
   "cell_type": "markdown",
   "metadata": {},
   "source": [
    "# searching through history code"
   ]
  },
  {
   "cell_type": "markdown",
   "metadata": {},
   "source": [
    "finding all commits that touched a particular function name\n",
    "\n",
    "use `git log -G`"
   ]
  },
  {
   "cell_type": "code",
   "execution_count": 5,
   "metadata": {},
   "outputs": [],
   "source": [
    "cd jgit"
   ]
  },
  {
   "cell_type": "code",
   "execution_count": 6,
   "metadata": {},
   "outputs": [
    {
     "name": "stdout",
     "output_type": "stream",
     "text": [
      "Already on 'master'\n",
      "Your branch is up to date with 'origin/master'.\n",
      "HEAD is now at b14a93971 Prepare 3.3.0-SNAPSHOT builds\n"
     ]
    }
   ],
   "source": [
    "git checkout master && git reset --hard b14a939"
   ]
  },
  {
   "cell_type": "code",
   "execution_count": 8,
   "metadata": {},
   "outputs": [
    {
     "name": "stdout",
     "output_type": "stream",
     "text": [
      "\u001b[33mc9e4a7855\u001b[m Add isOutdated method to DirCache\n",
      "\u001b[33m797ebba30\u001b[m Add support for getting the system wide configuration\n",
      "\u001b[33m4c14b7623\u001b[m Make lib.Repository abstract and lib.FileRepository its implementation\n",
      "\u001b[33mc9c57d34d\u001b[m Rename Repository 'config' as 'repoConfig'\n",
      "\u001b[33m5c780b387\u001b[m Fix unit tests using MockSystemReader with user configuation\n",
      "\u001b[33mcc905e7d4\u001b[m Make Repository.getConfig aware of changed config\n"
     ]
    }
   ],
   "source": [
    "git log -G\"isOutdated\" --oneline"
   ]
  },
  {
   "cell_type": "code",
   "execution_count": 9,
   "metadata": {},
   "outputs": [
    {
     "name": "stdout",
     "output_type": "stream",
     "text": [
      "2891\n"
     ]
    }
   ],
   "source": [
    "git rev-list HEAD --count"
   ]
  },
  {
   "cell_type": "code",
   "execution_count": 10,
   "metadata": {},
   "outputs": [
    {
     "name": "stdout",
     "output_type": "stream",
     "text": [
      "\u001b[33mcommit c9e4a78555e828e5eecaa6fb0d89b7b460cab48b\u001b[m\n",
      "Author: Jens Baumgart <jens.baumgart@sap.com>\n",
      "Date:   Wed Feb 9 15:02:22 2011 +0100\n",
      "\n",
      "    Add isOutdated method to DirCache\n",
      "    \n",
      "    isOutdated returns true iff the memory state differs from the index\n",
      "    file.\n",
      "    \n",
      "    Change-Id: If35db06743f5f588ab19d360fd2a18a07c918edb\n",
      "    Signed-off-by: Jens Baumgart <jens.baumgart@sap.com>\n",
      "\n",
      "\u001b[1mdiff --git a/org.eclipse.jgit/src/org/eclipse/jgit/dircache/DirCache.java b/org.eclipse.jgit/src/org/eclipse/jgit/dircache/DirCache.java\u001b[m\n",
      "\u001b[1mindex 143447c8d..c2c57c984 100644\u001b[m\n",
      "\u001b[1m--- a/org.eclipse.jgit/src/org/eclipse/jgit/dircache/DirCache.java\u001b[m\n",
      "\u001b[1m+++ b/org.eclipse.jgit/src/org/eclipse/jgit/dircache/DirCache.java\u001b[m\n",
      "\u001b[36m@@ -312,6 +312,16 @@\u001b[m \u001b[melse if (liveFile.lastModified() != lastModified) {\u001b[m\n",
      " \t\t}\u001b[m\n",
      " \t}\u001b[m\n",
      " \u001b[m\n",
      "\u001b[32m+\u001b[m\t\u001b[32m/**\u001b[m\n",
      "\u001b[32m+\u001b[m\t\u001b[32m * @return true if the memory state differs from the index file\u001b[m\n",
      "\u001b[32m+\u001b[m\t\u001b[32m * @throws IOException\u001b[m\n",
      "\u001b[32m+\u001b[m\t\u001b[32m */\u001b[m\n",
      "\u001b[32m+\u001b[m\t\u001b[32mpublic boolean isOutdated() throws IOException {\u001b[m\n",
      "\u001b[32m+\u001b[m\t\t\u001b[32mif (liveFile == null || !liveFile.exists())\u001b[m\n",
      "\u001b[32m+\u001b[m\t\t\t\u001b[32mreturn false;\u001b[m\n",
      "\u001b[32m+\u001b[m\t\t\u001b[32mreturn liveFile.lastModified() != lastModified;\u001b[m\n",
      "\u001b[32m+\u001b[m\t\u001b[32m}\u001b[m\n",
      "\u001b[32m+\u001b[m\n",
      " \t/** Empty this index, removing all entries. */\u001b[m\n",
      " \tpublic void clear() {\u001b[m\n",
      " \t\tlastModified = 0;\u001b[m\n"
     ]
    }
   ],
   "source": [
    "git show c9e4a7855"
   ]
  },
  {
   "cell_type": "markdown",
   "metadata": {},
   "source": [
    "# -S and -G difference\n",
    "\n",
    "-G won't list changes because of a move, or changes due to the renaming of another object"
   ]
  },
  {
   "cell_type": "code",
   "execution_count": 12,
   "metadata": {},
   "outputs": [
    {
     "name": "stdout",
     "output_type": "stream",
     "text": [
      "\u001b[33mc9e4a7855\u001b[m Add isOutdated method to DirCache\n",
      "\u001b[33m797ebba30\u001b[m Add support for getting the system wide configuration\n",
      "\u001b[33m4c14b7623\u001b[m Make lib.Repository abstract and lib.FileRepository its implementation\n",
      "\u001b[33m5c780b387\u001b[m Fix unit tests using MockSystemReader with user configuation\n",
      "\u001b[33mcc905e7d4\u001b[m Make Repository.getConfig aware of changed config\n"
     ]
    }
   ],
   "source": [
    "git log -S\"isOutdated\" --oneline"
   ]
  },
  {
   "cell_type": "code",
   "execution_count": 13,
   "metadata": {},
   "outputs": [
    {
     "name": "stdout",
     "output_type": "stream",
     "text": [
      "\u001b[33mcommit c9c57d34debe1a522c715d416e68e3d1a5b18a1a\u001b[m\n",
      "Author: Shawn O. Pearce <spearce@spearce.org>\n",
      "Date:   Thu Jun 24 18:18:46 2010 -0700\n",
      "\n",
      "    Rename Repository 'config' as 'repoConfig'\n",
      "    \n",
      "    This better matches with the other configuration variable,\n",
      "    'userConfig', and helps to make it clear what config object\n",
      "    we are dealing with.\n",
      "    \n",
      "    Change-Id: I2c585649aecc805e8e66db2f094828cd2649e549\n",
      "    Signed-off-by: Shawn O. Pearce <spearce@spearce.org>\n",
      "\n",
      "\u001b[1mdiff --git a/org.eclipse.jgit/src/org/eclipse/jgit/lib/Repository.java b/org.eclipse.jgit/src/org/eclipse/jgit/lib/Repository.java\u001b[m\n",
      "\u001b[1mindex 78fe6065a..4a4969841 100644\u001b[m\n",
      "\u001b[1m--- a/org.eclipse.jgit/src/org/eclipse/jgit/lib/Repository.java\u001b[m\n",
      "\u001b[1m+++ b/org.eclipse.jgit/src/org/eclipse/jgit/lib/Repository.java\u001b[m\n",
      "\u001b[36m@@ -110,7 +110,7 @@\u001b[m\n",
      " \u001b[m\n",
      " \tprivate final FileBasedConfig userConfig;\u001b[m\n",
      " \u001b[m\n",
      "\u001b[31m-\tprivate final FileBasedConfig config;\u001b[m\n",
      "\u001b[32m+\u001b[m\t\u001b[32mprivate final FileBasedConfig repoConfig;\u001b[m\n",
      " \u001b[m\n",
      " \tprivate final RefDatabase refs;\u001b[m\n",
      " \u001b[m\n",
      "\u001b[36m@@ -244,10 +244,10 @@\u001b[m \u001b[mpublic Repository(final File d, final File workTree, final File objectDir,\u001b[m\n",
      " \t\tthis.fs = fs;\u001b[m\n",
      " \u001b[m\n",
      " \t\tuserConfig = SystemReader.getInstance().openUserConfig(fs);\u001b[m\n",
      "\u001b[31m-\t\tconfig = new FileBasedConfig(userConfig, fs.resolve(gitDir, \"config\"));\u001b[m\n",
      "\u001b[32m+\u001b[m\t\t\u001b[32mrepoConfig = new FileBasedConfig(userConfig, fs.resolve(gitDir, \"config\"));\u001b[m\n",
      " \u001b[m\n",
      " \t\tloadUserConfig();\u001b[m\n",
      "\u001b[31m-\t\tloadConfig();\u001b[m\n",
      "\u001b[32m+\u001b[m\t\t\u001b[32mloadRepoConfig();\u001b[m\n",
      " \u001b[m\n",
      " \t\tif (workDir == null) {\u001b[m\n",
      " \t\t\t// if the working directory was not provided explicitly,\u001b[m\n",
      "\u001b[36m@@ -317,9 +317,9 @@\u001b[m \u001b[mprivate void loadUserConfig() throws IOException {\u001b[m\n",
      " \t\t}\u001b[m\n",
      " \t}\u001b[m\n",
      " \u001b[m\n",
      "\u001b[31m-\tprivate void loadConfig() throws IOException {\u001b[m\n",
      "\u001b[32m+\u001b[m\t\u001b[32mprivate void loadRepoConfig() throws IOException {\u001b[m\n",
      " \t\ttry {\u001b[m\n",
      "\u001b[31m-\t\t\tconfig.load();\u001b[m\n",
      "\u001b[32m+\u001b[m\t\t\t\u001b[32mrepoConfig.load();\u001b[m\n",
      " \t\t} catch (ConfigInvalidException e1) {\u001b[m\n",
      " \t\t\tIOException e2 = new IOException(JGitText.get().unknownRepositoryFormat);\u001b[m\n",
      " \t\t\te2.initCause(e1);\u001b[m\n",
      "\u001b[36m@@ -417,14 +417,14 @@\u001b[m \u001b[mpublic FileBasedConfig getConfig() {\u001b[m\n",
      " \t\t\t\tthrow new RuntimeException(e);\u001b[m\n",
      " \t\t\t}\u001b[m\n",
      " \t\t}\u001b[m\n",
      "\u001b[31m-\t\tif (config.isOutdated()) {\u001b[m\n",
      "\u001b[32m+\u001b[m\t\t\u001b[32mif (repoConfig.isOutdated()) {\u001b[m\n",
      " \t\t\t\ttry {\u001b[m\n",
      "\u001b[31m-\t\t\t\t\tloadConfig();\u001b[m\n",
      "\u001b[32m+\u001b[m\t\t\t\t\t\u001b[32mloadRepoConfig();\u001b[m\n",
      " \t\t\t\t} catch (IOException e) {\u001b[m\n",
      " \t\t\t\t\tthrow new RuntimeException(e);\u001b[m\n",
      " \t\t\t\t}\u001b[m\n",
      " \t\t}\u001b[m\n",
      "\u001b[31m-\t\treturn config;\u001b[m\n",
      "\u001b[32m+\u001b[m\t\t\u001b[32mreturn repoConfig;\u001b[m\n",
      " \t}\u001b[m\n",
      " \u001b[m\n",
      " \t/**\u001b[m\n"
     ]
    }
   ],
   "source": [
    "git show c9c57d34d"
   ]
  },
  {
   "cell_type": "code",
   "execution_count": null,
   "metadata": {},
   "outputs": [],
   "source": [
    "``"
   ]
  }
 ],
 "metadata": {
  "kernelspec": {
   "display_name": "Bash",
   "language": "bash",
   "name": "bash"
  },
  "language_info": {
   "codemirror_mode": "shell",
   "file_extension": ".sh",
   "mimetype": "text/x-sh",
   "name": "bash"
  }
 },
 "nbformat": 4,
 "nbformat_minor": 4
}
