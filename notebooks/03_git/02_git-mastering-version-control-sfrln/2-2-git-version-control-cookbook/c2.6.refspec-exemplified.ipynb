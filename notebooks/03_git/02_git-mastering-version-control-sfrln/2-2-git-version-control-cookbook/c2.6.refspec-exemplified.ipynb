{
 "cells": [
  {
   "cell_type": "markdown",
   "metadata": {},
   "source": [
    "# refspec exemplified"
   ]
  },
  {
   "cell_type": "code",
   "execution_count": 1,
   "metadata": {},
   "outputs": [
    {
     "name": "stdout",
     "output_type": "stream",
     "text": [
      "/home/ncoder/02_wos/jupyter-lab/notebooks/03_git/02_git-mastering-version-control-sfrln/2-2-git-version-control-cookbook\n"
     ]
    }
   ],
   "source": [
    "pwd\n"
   ]
  },
  {
   "cell_type": "markdown",
   "metadata": {},
   "source": [
    "**clone jgit as bare repo**\n",
    "As we can use it as a remote repo for refspec example\n"
   ]
  },
  {
   "cell_type": "markdown",
   "metadata": {},
   "source": [
    "```\n",
    "$ git clone --bare https://git.eclipse.org/r/jgit/jgit jgit-bare.git\n",
    "$ git init refspec-tests\n",
    "$ cd refspec-tests\n",
    "$ git remote add origin ../jgit-bare.git\n",
    "```"
   ]
  },
  {
   "cell_type": "markdown",
   "metadata": {},
   "source": [
    "## Renaming stable branches for namespacing\n",
    "```\n",
    "for br in $(git branch  -a | grep \"stable-\"); do new=$(echo $br| sed 's/-/\\//'); git branch $new $br; done\n",
    "```\n"
   ]
  },
  {
   "cell_type": "code",
   "execution_count": 2,
   "metadata": {},
   "outputs": [
    {
     "name": "stdout",
     "output_type": "stream",
     "text": [
      "/home/ncoder/02_wos/jupyter-lab/notebooks/03_git/02_git-mastering-version-control-sfrln/2-2-git-version-control-cookbook\n"
     ]
    }
   ],
   "source": [
    "pwd"
   ]
  },
  {
   "cell_type": "code",
   "execution_count": 4,
   "metadata": {},
   "outputs": [
    {
     "name": "stdout",
     "output_type": "stream",
     "text": [
      " \u001b[0m\u001b[38;5;33m.\u001b[0m\n",
      " \u001b[38;5;33m..\u001b[0m\n",
      " c1.1.navigating-git.ipynb\n",
      "'c1.2.gits objects.ipynb'\n",
      " c1.3.git-3-stages.ipynb\n",
      " c1.4.viewing-the-dag.ipynb\n",
      " c1.5.extracting-fixed-issues.ipynb\n",
      " c1.6.getting-a-list-of-changed-files.ipynb\n",
      " c1.7.viewing-git-history-with-gitk.ipynb\n",
      " c1.8.searching-through-history-code.ipynb\n",
      " c2.0.configuration.ipynb\n",
      "'c2.1.querying existing configuration.ipynb'\n",
      " c2.2.templates.ipynb\n",
      " c2.3..git-directory-template.ipynb\n",
      " c2.4.configuration.examples.ipynb\n",
      " c2.5.git-aliases.ipynb\n",
      " c2.6.refspec-exemplified.ipynb\n",
      " \u001b[38;5;33mdata-model\u001b[0m\n",
      " \u001b[38;5;33mgit-template-test\u001b[0m\n",
      " \u001b[38;5;33mimages\u001b[0m\n",
      " \u001b[38;5;33m.ipynb_checkpoints\u001b[0m\n",
      " \u001b[38;5;33mjgit\u001b[0m\n",
      " \u001b[38;5;33mjgit-bare.git\u001b[0m\n",
      " \u001b[38;5;33mnotebooks\u001b[0m\n",
      " \u001b[38;5;33mrefspec-tests\u001b[0m\n"
     ]
    }
   ],
   "source": [
    "ls -a\n"
   ]
  },
  {
   "cell_type": "code",
   "execution_count": null,
   "metadata": {},
   "outputs": [],
   "source": []
  }
 ],
 "metadata": {
  "kernelspec": {
   "display_name": "Bash",
   "language": "bash",
   "name": "bash"
  },
  "language_info": {
   "codemirror_mode": "shell",
   "file_extension": ".sh",
   "mimetype": "text/x-sh",
   "name": "bash"
  }
 },
 "nbformat": 4,
 "nbformat_minor": 4
}
