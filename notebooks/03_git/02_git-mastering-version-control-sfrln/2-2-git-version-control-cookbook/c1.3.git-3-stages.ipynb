{
 "cells": [
  {
   "cell_type": "markdown",
   "metadata": {},
   "source": [
    "# git 3 stages"
   ]
  },
  {
   "cell_type": "code",
   "execution_count": 1,
   "metadata": {},
   "outputs": [
    {
     "name": "stdout",
     "output_type": "stream",
     "text": [
      "/home/ncoder/02_wos/jupyter-lab/notebooks/03_git/02_git-mastering-version-control-sfrln/2-2-git-version-control-cookbook\n"
     ]
    }
   ],
   "source": [
    "pwd"
   ]
  },
  {
   "cell_type": "code",
   "execution_count": 2,
   "metadata": {},
   "outputs": [
    {
     "name": "stdout",
     "output_type": "stream",
     "text": [
      " c1.navigating-git.ipynb   'c2.2 git-3-stages.ipynb'   \u001b[0m\u001b[38;5;33mimages\u001b[0m\n",
      "'c2.1.gits objects.ipynb'   \u001b[38;5;33mdata-model\u001b[0m                 \u001b[38;5;33mnotebooks\u001b[0m\n"
     ]
    }
   ],
   "source": [
    "ls"
   ]
  },
  {
   "cell_type": "markdown",
   "metadata": {},
   "source": [
    "## git add command\n",
    "\n",
    "### what does it do\n",
    "- adds files from working directory to stagging area\n",
    "\n",
    "### what happens when a file is added to stagging area\n",
    "- the SHA-1 sum of the file is created and the blob is added to git database\n",
    "\n",
    "## git commit command\n",
    "- creates tree and commit objects for items in stagging area"
   ]
  },
  {
   "cell_type": "markdown",
   "metadata": {},
   "source": [
    "## dangling objects\n",
    "\n",
    "### how to check for dangling objects\n",
    "- using `git fsck --dangling` command"
   ]
  },
  {
   "cell_type": "code",
   "execution_count": 4,
   "metadata": {},
   "outputs": [
    {
     "name": "stdout",
     "output_type": "stream",
     "text": [
      "Checking object directories: 100% (256/256), done.\n",
      "dangling tree 4b825dc642cb6eb9a060e54bf8d69288fbee4904\n",
      "dangling blob bbacaaf935b007923bafa1549f64e207a7cab9cb\n",
      "dangling blob 80d2817c2b4565676e0b5080b2c30f467750ee12\n"
     ]
    }
   ],
   "source": [
    "git fsck --dangling"
   ]
  },
  {
   "cell_type": "code",
   "execution_count": 5,
   "metadata": {},
   "outputs": [
    {
     "name": "stdout",
     "output_type": "stream",
     "text": [
      "On branch master\n",
      "Your branch is up to date with 'nikhil/master'.\n",
      "\n",
      "Changes not staged for commit:\n",
      "  (use \"git add/rm <file>...\" to update what will be committed)\n",
      "  (use \"git checkout -- <file>...\" to discard changes in working directory)\n",
      "\n",
      "\t\u001b[31mdeleted:    .ipynb_checkpoints/c2.gits objects-checkpoint.ipynb\u001b[m\n",
      "\t\u001b[31mdeleted:    c2.gits objects.ipynb\u001b[m\n",
      "\n",
      "Untracked files:\n",
      "  (use \"git add <file>...\" to include in what will be committed)\n",
      "\n",
      "\t\u001b[31m.ipynb_checkpoints/c2.1.gits objects-checkpoint.ipynb\u001b[m\n",
      "\t\u001b[31m.ipynb_checkpoints/c2.2.git-3-stages-checkpoint.ipynb\u001b[m\n",
      "\t\u001b[31mc2.1.gits objects.ipynb\u001b[m\n",
      "\t\u001b[31mc2.2.git-3-stages.ipynb\u001b[m\n",
      "\n",
      "no changes added to commit (use \"git add\" and/or \"git commit -a\")\n"
     ]
    }
   ],
   "source": [
    "git status"
   ]
  },
  {
   "cell_type": "markdown",
   "metadata": {},
   "source": [
    "### check contents of a dangling oject\n",
    "- use `git cat-file -p` command"
   ]
  },
  {
   "cell_type": "code",
   "execution_count": null,
   "metadata": {},
   "outputs": [
    {
     "name": "stdout",
     "output_type": "stream",
     "text": [
      "{\u001b[m049h\u001b[?1h\u001b=\n",
      " \"cells\": [\u001b[m\n",
      "  {\u001b[m\n",
      "   \"cell_type\": \"markdown\",\u001b[m\n",
      "   \"metadata\": {},\u001b[m\n",
      "   \"source\": [\u001b[m\n",
      "    \"# Git's Objects\"\u001b[m\n",
      "   ]\u001b[m\n",
      "  },\u001b[m\n",
      "  {\u001b[m\n",
      "   \"cell_type\": \"markdown\",\u001b[m\n",
      "   \"metadata\": {},\u001b[m\n",
      "   \"source\": [\u001b[m\n",
      "    \"- git's object storage is\\n\",\u001b[m\n",
      "    \"    - key value storage\\n\",\u001b[m\n",
      "    \"    - key is SHA-1 hash of object, with some additional information like si\u001b[mze\"\u001b[m\n",
      "   ]\u001b[m\n",
      "  },\u001b[m\n",
      "  {\u001b[m\n",
      "   \"cell_type\": \"markdown\",\u001b[m\n",
      "   \"metadata\": {},\u001b[m\n",
      "   \"source\": [\u001b[m\n"
     ]
    }
   ],
   "source": [
    "git cat-file -p bbacaaf935b007923bafa1549f64e207a7cab9cb | less"
   ]
  },
  {
   "cell_type": "markdown",
   "metadata": {},
   "source": [
    "## Git 3 stages\n",
    "\n",
    "![git 3 stages](images/git-3-stages.jpg)"
   ]
  },
  {
   "cell_type": "code",
   "execution_count": null,
   "metadata": {},
   "outputs": [],
   "source": []
  }
 ],
 "metadata": {
  "kernelspec": {
   "display_name": "Bash",
   "language": "bash",
   "name": "bash"
  },
  "language_info": {
   "codemirror_mode": "shell",
   "file_extension": ".sh",
   "mimetype": "text/x-sh",
   "name": "bash"
  }
 },
 "nbformat": 4,
 "nbformat_minor": 4
}
