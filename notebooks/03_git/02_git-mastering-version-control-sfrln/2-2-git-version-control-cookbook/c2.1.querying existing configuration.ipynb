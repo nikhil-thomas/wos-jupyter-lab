{
 "cells": [
  {
   "cell_type": "markdown",
   "metadata": {},
   "source": [
    "# Querying existing configuration"
   ]
  },
  {
   "cell_type": "code",
   "execution_count": 1,
   "metadata": {},
   "outputs": [
    {
     "name": "stdout",
     "output_type": "stream",
     "text": [
      "/home/ncoder/02_wos/jupyter-lab/notebooks/03_git/02_git-mastering-version-control-sfrln/2-2-git-version-control-cookbook\n"
     ]
    }
   ],
   "source": [
    "pwd"
   ]
  },
  {
   "cell_type": "code",
   "execution_count": 2,
   "metadata": {},
   "outputs": [],
   "source": [
    "cd jgit"
   ]
  },
  {
   "cell_type": "markdown",
   "metadata": {},
   "source": [
    "# list effective configuration\n",
    "\n",
    "`git config --list`"
   ]
  },
  {
   "cell_type": "code",
   "execution_count": 3,
   "metadata": {},
   "outputs": [
    {
     "name": "stdout",
     "output_type": "stream",
     "text": [
      "includeif.gitdir:/home/ncoder/go/src/github.com/openshift**.path=/home/ncoder/.config/git/config.d/redhat.gitconfig\n",
      "includeif.gitdir:/home/ncoder/go/src/github.com/tektoncd**.path=/home/ncoder/.config/git/config.d/redhat.gitconfig\n",
      "includeif.gitdir:/home/ncoder/go/src/github.com/inikhil-thomas**.path=/home/ncoder/.config/git/config.d/nikhil.gitconfig\n",
      "includeif.gitdir:/home/ncoder/go/src/github.com/operator-framework**.path=/home/ncoder/.config/git/config.d/redhat.gitconfig\n",
      "includeif.gitdir:/home/ncoder/01_work/**.path=/home/ncoder/.config/git/config.d/redhat.gitconfig\n",
      "core.excludesfile=/home/ncoder/.gitignore_global\n",
      "alias.gtree=log --oneline --graph --all --decorate\n",
      "alias.st=status\n",
      "alias.lo=log --oneline\n",
      "core.repositoryformatversion=0\n",
      "core.filemode=true\n",
      "core.bare=false\n",
      "core.logallrefupdates=true\n",
      "core.worktree=../../../../../../../notebooks/03_git/02_git-mastering-version-control-sfrln/2-2-git-version-control-cookbook/jgit\n",
      "remote.origin.url=https://github.com/eclipse/jgit.git\n",
      "remote.origin.fetch=+refs/heads/*:refs/remotes/origin/*\n",
      "branch.master.remote=origin\n",
      "branch.master.merge=refs/heads/master\n",
      "alias.lo=log --oneline -5\n"
     ]
    }
   ],
   "source": [
    "git config --list"
   ]
  },
  {
   "cell_type": "markdown",
   "metadata": {},
   "source": [
    "# set a config value\n",
    "\n",
    "`git config <section>.<subsection> <value>`"
   ]
  },
  {
   "cell_type": "code",
   "execution_count": 4,
   "metadata": {},
   "outputs": [],
   "source": [
    "git config alias.lo \"log --oneline -2\""
   ]
  },
  {
   "cell_type": "code",
   "execution_count": 5,
   "metadata": {},
   "outputs": [
    {
     "name": "stdout",
     "output_type": "stream",
     "text": [
      "log --oneline -2\n"
     ]
    }
   ],
   "source": [
    "git config alias.lo"
   ]
  },
  {
   "cell_type": "markdown",
   "metadata": {},
   "source": [
    "# set custom keys in gitconfig\n",
    "\n",
    "use `git config <custom key> <value>`"
   ]
  },
  {
   "cell_type": "code",
   "execution_count": 6,
   "metadata": {},
   "outputs": [],
   "source": [
    "git config yellow.steering strange"
   ]
  },
  {
   "cell_type": "code",
   "execution_count": 7,
   "metadata": {},
   "outputs": [
    {
     "name": "stdout",
     "output_type": "stream",
     "text": [
      "includeif.gitdir:/home/ncoder/go/src/github.com/openshift**.path=/home/ncoder/.config/git/config.d/redhat.gitconfig\n",
      "includeif.gitdir:/home/ncoder/go/src/github.com/tektoncd**.path=/home/ncoder/.config/git/config.d/redhat.gitconfig\n",
      "includeif.gitdir:/home/ncoder/go/src/github.com/inikhil-thomas**.path=/home/ncoder/.config/git/config.d/nikhil.gitconfig\n",
      "includeif.gitdir:/home/ncoder/go/src/github.com/operator-framework**.path=/home/ncoder/.config/git/config.d/redhat.gitconfig\n",
      "includeif.gitdir:/home/ncoder/01_work/**.path=/home/ncoder/.config/git/config.d/redhat.gitconfig\n",
      "core.excludesfile=/home/ncoder/.gitignore_global\n",
      "alias.gtree=log --oneline --graph --all --decorate\n",
      "alias.st=status\n",
      "alias.lo=log --oneline\n",
      "core.repositoryformatversion=0\n",
      "core.filemode=true\n",
      "core.bare=false\n",
      "core.logallrefupdates=true\n",
      "core.worktree=../../../../../../../notebooks/03_git/02_git-mastering-version-control-sfrln/2-2-git-version-control-cookbook/jgit\n",
      "remote.origin.url=https://github.com/eclipse/jgit.git\n",
      "remote.origin.fetch=+refs/heads/*:refs/remotes/origin/*\n",
      "branch.master.remote=origin\n",
      "branch.master.merge=refs/heads/master\n",
      "alias.lo=log --oneline -2\n",
      "yellow.steering=strange\n"
     ]
    }
   ],
   "source": [
    "git config --list"
   ]
  },
  {
   "cell_type": "code",
   "execution_count": 8,
   "metadata": {},
   "outputs": [
    {
     "name": "stdout",
     "output_type": "stream",
     "text": [
      "strange\n"
     ]
    }
   ],
   "source": [
    "git config yellow.steering"
   ]
  },
  {
   "cell_type": "markdown",
   "metadata": {},
   "source": [
    "# delete a config key value\n",
    "\n",
    "use `--unset` in `git config command`"
   ]
  },
  {
   "cell_type": "code",
   "execution_count": 9,
   "metadata": {},
   "outputs": [],
   "source": [
    "git config --unset yellow.steering"
   ]
  },
  {
   "cell_type": "code",
   "execution_count": 11,
   "metadata": {},
   "outputs": [
    {
     "ename": "",
     "evalue": "1",
     "output_type": "error",
     "traceback": []
    }
   ],
   "source": [
    "git config yellow.steering"
   ]
  },
  {
   "cell_type": "code",
   "execution_count": 12,
   "metadata": {},
   "outputs": [
    {
     "name": "stdout",
     "output_type": "stream",
     "text": [
      "includeif.gitdir:/home/ncoder/go/src/github.com/openshift**.path=/home/ncoder/.config/git/config.d/redhat.gitconfig\n",
      "includeif.gitdir:/home/ncoder/go/src/github.com/tektoncd**.path=/home/ncoder/.config/git/config.d/redhat.gitconfig\n",
      "includeif.gitdir:/home/ncoder/go/src/github.com/inikhil-thomas**.path=/home/ncoder/.config/git/config.d/nikhil.gitconfig\n",
      "includeif.gitdir:/home/ncoder/go/src/github.com/operator-framework**.path=/home/ncoder/.config/git/config.d/redhat.gitconfig\n",
      "includeif.gitdir:/home/ncoder/01_work/**.path=/home/ncoder/.config/git/config.d/redhat.gitconfig\n",
      "core.excludesfile=/home/ncoder/.gitignore_global\n",
      "alias.gtree=log --oneline --graph --all --decorate\n",
      "alias.st=status\n",
      "alias.lo=log --oneline\n",
      "core.repositoryformatversion=0\n",
      "core.filemode=true\n",
      "core.bare=false\n",
      "core.logallrefupdates=true\n",
      "core.worktree=../../../../../../../notebooks/03_git/02_git-mastering-version-control-sfrln/2-2-git-version-control-cookbook/jgit\n",
      "remote.origin.url=https://github.com/eclipse/jgit.git\n",
      "remote.origin.fetch=+refs/heads/*:refs/remotes/origin/*\n",
      "branch.master.remote=origin\n",
      "branch.master.merge=refs/heads/master\n",
      "alias.lo=log --oneline -2\n"
     ]
    }
   ],
   "source": [
    "git config --list"
   ]
  },
  {
   "cell_type": "code",
   "execution_count": 13,
   "metadata": {},
   "outputs": [
    {
     "ename": "",
     "evalue": "1",
     "output_type": "error",
     "traceback": []
    }
   ],
   "source": [
    "git config non.existent"
   ]
  },
  {
   "cell_type": "code",
   "execution_count": null,
   "metadata": {},
   "outputs": [],
   "source": [
    "``"
   ]
  }
 ],
 "metadata": {
  "kernelspec": {
   "display_name": "Bash",
   "language": "bash",
   "name": "bash"
  },
  "language_info": {
   "codemirror_mode": "shell",
   "file_extension": ".sh",
   "mimetype": "text/x-sh",
   "name": "bash"
  }
 },
 "nbformat": 4,
 "nbformat_minor": 4
}
