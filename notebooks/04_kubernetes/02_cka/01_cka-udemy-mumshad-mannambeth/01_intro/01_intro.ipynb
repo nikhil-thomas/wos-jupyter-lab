{
 "cells": [
  {
   "cell_type": "markdown",
   "metadata": {},
   "source": [
    "# CKA Intro"
   ]
  },
  {
   "cell_type": "markdown",
   "metadata": {},
   "source": [
    "## Certification details\n",
    "\n",
    "Certified Kubernetes Administrator: https://www.cncf.io/certification/cka/\n",
    "\n",
    "Exam Curriculum (Topics): https://github.com/cncf/curriculum\n",
    "\n",
    "Candidate Handbook: https://www.cncf.io/certification/candidate-handbook\n",
    "\n",
    "Exam Tips: http://training.linuxfoundation.org/go//Important-Tips-CKA-CKAD"
   ]
  },
  {
   "cell_type": "markdown",
   "metadata": {},
   "source": [
    "- nikhil-thomas/kubernetes-the-hard-way\n",
    "  https://github.com/nikhil-thomas/kubernetes-the-hard-way"
   ]
  },
  {
   "cell_type": "code",
   "execution_count": null,
   "metadata": {},
   "outputs": [],
   "source": []
  }
 ],
 "metadata": {
  "kernelspec": {
   "display_name": "Bash",
   "language": "bash",
   "name": "bash"
  },
  "language_info": {
   "codemirror_mode": "shell",
   "file_extension": ".sh",
   "mimetype": "text/x-sh",
   "name": "bash"
  }
 },
 "nbformat": 4,
 "nbformat_minor": 4
}
