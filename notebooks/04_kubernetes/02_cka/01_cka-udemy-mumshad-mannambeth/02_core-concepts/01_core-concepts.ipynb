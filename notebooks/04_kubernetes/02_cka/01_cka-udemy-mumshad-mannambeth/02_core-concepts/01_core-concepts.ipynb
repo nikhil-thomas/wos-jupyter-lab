{
 "cells": [
  {
   "cell_type": "markdown",
   "metadata": {},
   "source": [
    "# Core Concepts\n",
    "\n",
    "## Cluster Architecture"
   ]
  },
  {
   "cell_type": "markdown",
   "metadata": {},
   "source": [
    "### MasterNodes\n",
    "- API Server\n",
    "- etcd\n",
    "- Scheduler\n",
    "- Controller Manager\n",
    "\n",
    "### Worker Node\n",
    "- Kubelet\n",
    "- Container Runtime Engine\n",
    "- Kube-proxy\n",
    "\n",
    "---"
   ]
  },
  {
   "cell_type": "markdown",
   "metadata": {},
   "source": [
    "## Etcd\n",
    "\n",
    "distributed key-value store, simple, reliable, fast"
   ]
  },
  {
   "cell_type": "markdown",
   "metadata": {},
   "source": [
    "1. download binary\n",
    "1. extract\n",
    "1. run etcd\n",
    "   ```\n",
    "   ./etcd\n",
    "   ```\n",
    "   etcd listens on port **2379** by default\n",
    "   \n",
    "   default cli client `etcdctl`\n",
    "   ```\n",
    "   ./etcdctl set <ke1> <valu1>\n",
    "   ./etcdctl get <ke1>|\n",
    "   ```\n",
    "---"
   ]
  },
  {
   "cell_type": "markdown",
   "metadata": {},
   "source": [
    "## Etcd in K8s\n",
    "\n",
    "\n",
    "### k8s setup\n",
    "\n",
    "1. Manual\n",
    "   etcd is run as a binary in master node, etcd listens on maspternodeip, port 2379\n",
    "2. kubdeadm\n",
    "   in a cluster set ups using kubeadm, etcd is run as a pod in kubesystem"
   ]
  },
  {
   "cell_type": "code",
   "execution_count": 5,
   "metadata": {},
   "outputs": [
    {
     "name": "stdout",
     "output_type": "stream",
     "text": [
      "NAME                                        READY   STATUS    RESTARTS   AGE\n",
      "coredns-5c98db65d4-6n8rw                    1/1     Running   4          6d1h\n",
      "coredns-5c98db65d4-wt29k                    1/1     Running   4          6d1h\n",
      "etcd-minikube                               1/1     Running   2          6d1h\n",
      "kube-addon-manager-minikube                 1/1     Running   2          6d1h\n",
      "kube-apiserver-minikube                     1/1     Running   2          6d1h\n",
      "kube-controller-manager-minikube            1/1     Running   2          6d1h\n",
      "kube-proxy-cdsjx                            1/1     Running   2          6d1h\n",
      "kube-scheduler-minikube                     1/1     Running   2          6d1h\n",
      "kubernetes-dashboard-7b8ddcb5d6-strk2       1/1     Running   5          6d1h\n",
      "nginx-ingress-controller-5d9cf9c69f-jv79n   1/1     Running   2          6d1h\n",
      "storage-provisioner                         1/1     Running   5          6d1h\n"
     ]
    }
   ],
   "source": [
    "kubectl get pods -n kube-system"
   ]
  },
  {
   "cell_type": "code",
   "execution_count": 21,
   "metadata": {},
   "outputs": [
    {
     "name": "stdout",
     "output_type": "stream",
     "text": [
      "Error: unknown flag: --prefix\n",
      "\n",
      "\n",
      "Examples:\n",
      "  # Get output from running 'date' command from pod mypod, using the first container by default\n",
      "  kubectl exec mypod date\n",
      "  \n",
      "  # Get output from running 'date' command in ruby-container from pod mypod\n",
      "  kubectl exec mypod -c ruby-container date\n",
      "  \n",
      "  # Switch to raw terminal mode, sends stdin to 'bash' in ruby-container from pod mypod\n",
      "  # and sends stdout/stderr from 'bash' back to the client\n",
      "  kubectl exec mypod -c ruby-container -i -t -- bash -il\n",
      "  \n",
      "  # List contents of /usr from the first container of pod mypod and sort by modification time.\n",
      "  # If the command you want to execute in the pod has any flags in common (e.g. -i),\n",
      "  # you must use two dashes (--) to separate your command's flags/arguments.\n",
      "  # Also note, do not surround your command and its flags/arguments with quotes\n",
      "  # unless that is how you would execute it normally (i.e., do ls -t /usr, not \"ls -t /usr\").\n",
      "  kubectl exec mypod -i -t -- ls -t /usr\n",
      "  \n",
      "  # Get output from running 'date' command from the first pod of the deployment mydeployment, using the first container by default\n",
      "  kubectl exec deploy/mydeployment date\n",
      "  \n",
      "  # Get output from running 'date' command from the first pod of the service myservice, using the first container by default\n",
      "  kubectl exec svc/myservice date\n",
      "\n",
      "Options:\n",
      "  -c, --container='': Container name. If omitted, the first container in the pod will be chosen\n",
      "      --pod-running-timeout=1m0s: The length of time (like 5s, 2m, or 3h, higher than zero) to wait until at least one pod is running\n",
      "  -i, --stdin=false: Pass stdin to the container\n",
      "  -t, --tty=false: Stdin is a TTY\n",
      "\n",
      "Usage:\n",
      "  kubectl exec (POD | TYPE/NAME) [-c CONTAINER] [flags] -- COMMAND [args...] [options]\n",
      "\n",
      "Use \"kubectl options\" for a list of global command-line options (applies to all commands).\n",
      "\n",
      "unknown flag: --prefix\n"
     ]
    },
    {
     "ename": "",
     "evalue": "1",
     "output_type": "error",
     "traceback": []
    }
   ],
   "source": [
    "kubectl exec etcd-minikube -n kube-system  etcdctl get / --prefix -keys-only #fix this later"
   ]
  },
  {
   "cell_type": "markdown",
   "metadata": {},
   "source": [
    "---"
   ]
  },
  {
   "cell_type": "markdown",
   "metadata": {},
   "source": [
    "## Kube-API server\n",
    "\n",
    "- Authenticate\n",
    "- Validate\n",
    "- Retrieve data from Etcd\n",
    "- Update Etcd\n",
    "- Schduler (watches api-server and responds to changes)\n",
    "- Kubelet (use api-server to perform actions)"
   ]
  },
  {
   "cell_type": "markdown",
   "metadata": {},
   "source": [
    "in kubeadm setup apiserver params can be viewed from /etc/kubenetes/manifests\n"
   ]
  },
  {
   "cell_type": "markdown",
   "metadata": {},
   "source": [
    "```\n",
    "minikube ssh\n",
    "cat /etc/kubernetes/manifests\n",
    "\n",
    "apiVersion: v1\n",
    "kind: Pod\n",
    "metadata:\n",
    "  creationTimestamp: null\n",
    "  labels:\n",
    "    component: kube-apiserver\n",
    "    tier: control-plane\n",
    "  name: kube-apiserver\n",
    "  namespace: kube-system\n",
    "spec:\n",
    "  containers:\n",
    "  - command:\n",
    "    - kube-apiserver\n",
    "    - --advertise-address=192.168.39.11\n",
    "    - --allow-privileged=true\n",
    "    - --authorization-mode=Node,RBAC\n",
    "    - --client-ca-file=/var/lib/minikube/certs/ca.crt\n",
    "    - --enable-admission-plugins=NamespaceLifecycle,LimitRanger,ServiceAccount,DefaultStorageClass,DefaultTolerationSeconds,NodeRestriction,Mutati\n",
    "ngAdmissionWebhook,ValidatingAdmissionWebhook,ResourceQuota\n",
    "    - --enable-bootstrap-token-auth=true\n",
    "    - --etcd-cafile=/var/lib/minikube/certs/etcd/ca.crt\n",
    "    - --etcd-certfile=/var/lib/minikube/certs/apiserver-etcd-client.crt\n",
    "    - --etcd-keyfile=/var/lib/minikube/certs/apiserver-etcd-client.key\n",
    "    - --etcd-servers=https://127.0.0.1:2379\n",
    "    - --insecure-port=0\n",
    "...\n",
    "```\n",
    "\n",
    "on master node we can inspect `kube-apiserver` process\n",
    "```\n",
    "ps -aux | grep kube-apiserver\n",
    "```\n",
    "---"
   ]
  },
  {
   "cell_type": "markdown",
   "metadata": {},
   "source": [
    "## Kube Controller Manager\n",
    "\n",
    "controllers watch a system component and recociles component state\n",
    "\n",
    "controller binary start a controller manager\n",
    "`--controller` option "
   ]
  },
  {
   "cell_type": "markdown",
   "metadata": {},
   "source": [
    "### examples\n",
    "\n",
    "1. Node Controller\n",
    "- watches node heart beats every 5s (--node-monitor-period)\n",
    "- if there is no heartbeat, the node is marked as unreachable after 40s (--node-monitor-grace-period)\n",
    "- wati for 5mins for the node to comeback, if node doesn't comeback rechedule pods (--pod-eviction-timeout)\n",
    "\n",
    "2. Replication Controller\n",
    "\n",
    "In kubeadm setup, controller manager runs as a pod"
   ]
  },
  {
   "cell_type": "markdown",
   "metadata": {},
   "source": [
    "```\n",
    "minikube ssh\n",
    "cat /etc/kubernetes/manifests/kube-controller-manager.yaml\n",
    "\n",
    "apiVersion: v1\n",
    "kind: Pod\n",
    "metadata:\n",
    "  creationTimestamp: null\n",
    "  labels:\n",
    "    component: kube-controller-manager\n",
    "    tier: control-plane\n",
    "  name: kube-controller-manager\n",
    "  namespace: kube-system\n",
    "spec:\n",
    "  containers:\n",
    "  - command:\n",
    "    - kube-controller-manager\n",
    "    - --authentication-kubeconfig=/etc/kubernetes/controller-manager.conf\n",
    "    - --authorization-kubeconfig=/etc/kubernetes/controller-manager.conf\n",
    "    - --bind-address=127.0.0.1\n",
    "    - --client-ca-file=/var/lib/minikube/certs/ca.crt\n",
    "    - --cluster-signing-cert-file=/var/lib/minikube/certs/ca.crt\n",
    "    - --cluster-signing-key-file=/var/lib/minikube/certs/ca.key\n",
    "    - --controllers=*,bootstrapsigner,tokencleaner\n",
    "    - --kubeconfig=/etc/kubernetes/controller-manager.conf\n",
    "    - --leader-elect=true\n",
    "    - --requestheader-client-ca-file=/var/lib/minikube/certs/front-proxy-ca.crt\n",
    "    - --root-ca-file=/var/lib/minikube/certs/ca.crt\n",
    "    - --service-account-private-key-file=/var/lib/minikube/certs/sa.key\n",
    "    - --use-service-account-credentials=true\n",
    "    image: k8s.gcr.io/kube-controller-manager:v1.16.0\n",
    "    imagePullPolicy: IfNotPresent\n",
    "...\n",
    "```"
   ]
  },
  {
   "cell_type": "markdown",
   "metadata": {},
   "source": [
    "on master node we can inspect kube-apiserver process\n",
    "\n",
    "ps -aux | grep kube-controller-manager\n",
    "\n",
    "---"
   ]
  },
  {
   "cell_type": "markdown",
   "metadata": {},
   "source": [
    "## Kube Scheduler\n",
    "\n",
    "decides which pods goes on which node\n",
    "\n",
    "scheduler goes through 2 phases\n",
    "\n",
    "1. filter nodes\n",
    "2. rank nodes to find best fit (assign score 0-10)\n",
    "\n",
    "schduler binary can be downloaded from kubernetes release page and run\n",
    "\n",
    "if the cluster is setup using kubeadm, schedulre is setup as a pod\n",
    "\n",
    "```\n",
    "minikube ssh\n",
    "cat /etc/kubernetes/manifests/kube-controller-manager.yaml\n",
    "\n",
    "apiVersion: v1\n",
    "kind: Pod\n",
    "metadata:\n",
    "  creationTimestamp: null\n",
    "  labels:\n",
    "    component: kube-scheduler\n",
    "    tier: control-plane\n",
    "  name: kube-scheduler\n",
    "  namespace: kube-system\n",
    "spec:\n",
    "  containers:\n",
    "  - command:\n",
    "    - kube-scheduler\n",
    "    - --authentication-kubeconfig=/etc/kubernetes/scheduler.conf\n",
    "    - --authorization-kubeconfig=/etc/kubernetes/scheduler.conf\n",
    "    - --bind-address=127.0.0.1\n",
    "    - --kubeconfig=/etc/kubernetes/scheduler.conf\n",
    "    - --leader-elect=true\n",
    "    image: k8s.gcr.io/kube-scheduler:v1.16.0\n",
    "    imagePullPolicy: IfNotPresent\n",
    "    livenessProbe:\n",
    "      failureThreshold: 8\n",
    "...\n",
    "```\n",
    "\n",
    "on master node we can inspect kube-apiserver process\n",
    "\n",
    "ps -aux | grep kube-scheduler\n",
    "\n",
    "---\n",
    "\n"
   ]
  },
  {
   "cell_type": "markdown",
   "metadata": {},
   "source": [
    "## Kubelet\n",
    "\n",
    "registers a node with k8s cluster\n",
    "\n",
    "monitors node and pods\n",
    "\n",
    "**kubeadm tool doesnot deploy kubelet**\n",
    "\n",
    "download kubelet from k8s releases page, extract it , run it as a service\n",
    "\n",
    "\n",
    "on a node we can inspect kube-apiserver process\n",
    "\n",
    "ps -aux | grep kubelet\n",
    "\n",
    "---\n"
   ]
  },
  {
   "cell_type": "markdown",
   "metadata": {},
   "source": [
    "## Kube Proxy\n",
    "\n",
    "in kubernetes every pod can reach every other pod\n",
    "\n",
    "this is accomplished by deploying a pod networking solution to the cluster\n",
    "\n",
    "pods are made available as a stable ip using services\n",
    "\n",
    "services cannot join a pod network as it has no interfaces or listenning processes\n",
    "\n",
    "**Kube Proxy** monitors services and when a new service is created, it adds rules so that pods can communicate with eachother. one way it uses is iptable rules.\n",
    "\n",
    "\n",
    "kube-proxy binary is available in k8s release page\n",
    "\n",
    "kubeadm runs kube-proxy as a as a daemon-set\n",
    "\n",
    "---\n"
   ]
  },
  {
   "cell_type": "code",
   "execution_count": null,
   "metadata": {},
   "outputs": [],
   "source": []
  }
 ],
 "metadata": {
  "kernelspec": {
   "display_name": "Bash",
   "language": "bash",
   "name": "bash"
  },
  "language_info": {
   "codemirror_mode": "shell",
   "file_extension": ".sh",
   "mimetype": "text/x-sh",
   "name": "bash"
  }
 },
 "nbformat": 4,
 "nbformat_minor": 4
}
