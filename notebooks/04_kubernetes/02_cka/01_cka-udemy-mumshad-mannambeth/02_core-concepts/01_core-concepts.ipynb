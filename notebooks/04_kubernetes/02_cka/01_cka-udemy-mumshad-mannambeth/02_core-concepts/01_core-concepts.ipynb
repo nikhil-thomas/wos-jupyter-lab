{
 "cells": [
  {
   "cell_type": "markdown",
   "metadata": {},
   "source": [
    "# Core Concepts\n",
    "\n",
    "## Cluster Architecture"
   ]
  },
  {
   "cell_type": "markdown",
   "metadata": {},
   "source": [
    "### MasterNodes\n",
    "- API Server\n",
    "- etcd\n",
    "- Scheduler\n",
    "- Controller Manager\n",
    "\n",
    "### Worker Node\n",
    "- Kubelet\n",
    "- Container Runtime Engine\n",
    "- Kube-proxy\n",
    "\n",
    "---"
   ]
  },
  {
   "cell_type": "markdown",
   "metadata": {},
   "source": [
    "## Etcd\n",
    "\n",
    "distributed key-value store, simple, reliable, fast"
   ]
  },
  {
   "cell_type": "markdown",
   "metadata": {},
   "source": [
    "1. download binary\n",
    "1. extract\n",
    "1. run etcd\n",
    "   ```\n",
    "   ./etcd\n",
    "   ```\n",
    "   etcd listens on port **2379** by default\n",
    "   \n",
    "   default cli client `etcdctl`\n",
    "   ```\n",
    "   ./etcdctl set <ke1> <valu1>\n",
    "   ./etcdctl get <ke1>|\n",
    "   ```\n",
    "---"
   ]
  },
  {
   "cell_type": "markdown",
   "metadata": {},
   "source": [
    "## Etcd in K8s\n",
    "\n",
    "\n",
    "### k8s setup\n",
    "\n",
    "1. Manual\n",
    "   etcd is run as a binary in master node, etcd listens on maspternodeip, port 2379\n",
    "2. kubdeadm\n",
    "   in a cluster set ups using kubeadm, etcd is run as a pod in kubesystem"
   ]
  },
  {
   "cell_type": "code",
   "execution_count": 5,
   "metadata": {},
   "outputs": [
    {
     "name": "stdout",
     "output_type": "stream",
     "text": [
      "NAME                                        READY   STATUS    RESTARTS   AGE\n",
      "coredns-5c98db65d4-6n8rw                    1/1     Running   4          6d1h\n",
      "coredns-5c98db65d4-wt29k                    1/1     Running   4          6d1h\n",
      "etcd-minikube                               1/1     Running   2          6d1h\n",
      "kube-addon-manager-minikube                 1/1     Running   2          6d1h\n",
      "kube-apiserver-minikube                     1/1     Running   2          6d1h\n",
      "kube-controller-manager-minikube            1/1     Running   2          6d1h\n",
      "kube-proxy-cdsjx                            1/1     Running   2          6d1h\n",
      "kube-scheduler-minikube                     1/1     Running   2          6d1h\n",
      "kubernetes-dashboard-7b8ddcb5d6-strk2       1/1     Running   5          6d1h\n",
      "nginx-ingress-controller-5d9cf9c69f-jv79n   1/1     Running   2          6d1h\n",
      "storage-provisioner                         1/1     Running   5          6d1h\n"
     ]
    }
   ],
   "source": [
    "kubectl get pods -n kube-system"
   ]
  },
  {
   "cell_type": "code",
   "execution_count": 21,
   "metadata": {},
   "outputs": [
    {
     "name": "stdout",
     "output_type": "stream",
     "text": [
      "Error: unknown flag: --prefix\n",
      "\n",
      "\n",
      "Examples:\n",
      "  # Get output from running 'date' command from pod mypod, using the first container by default\n",
      "  kubectl exec mypod date\n",
      "  \n",
      "  # Get output from running 'date' command in ruby-container from pod mypod\n",
      "  kubectl exec mypod -c ruby-container date\n",
      "  \n",
      "  # Switch to raw terminal mode, sends stdin to 'bash' in ruby-container from pod mypod\n",
      "  # and sends stdout/stderr from 'bash' back to the client\n",
      "  kubectl exec mypod -c ruby-container -i -t -- bash -il\n",
      "  \n",
      "  # List contents of /usr from the first container of pod mypod and sort by modification time.\n",
      "  # If the command you want to execute in the pod has any flags in common (e.g. -i),\n",
      "  # you must use two dashes (--) to separate your command's flags/arguments.\n",
      "  # Also note, do not surround your command and its flags/arguments with quotes\n",
      "  # unless that is how you would execute it normally (i.e., do ls -t /usr, not \"ls -t /usr\").\n",
      "  kubectl exec mypod -i -t -- ls -t /usr\n",
      "  \n",
      "  # Get output from running 'date' command from the first pod of the deployment mydeployment, using the first container by default\n",
      "  kubectl exec deploy/mydeployment date\n",
      "  \n",
      "  # Get output from running 'date' command from the first pod of the service myservice, using the first container by default\n",
      "  kubectl exec svc/myservice date\n",
      "\n",
      "Options:\n",
      "  -c, --container='': Container name. If omitted, the first container in the pod will be chosen\n",
      "      --pod-running-timeout=1m0s: The length of time (like 5s, 2m, or 3h, higher than zero) to wait until at least one pod is running\n",
      "  -i, --stdin=false: Pass stdin to the container\n",
      "  -t, --tty=false: Stdin is a TTY\n",
      "\n",
      "Usage:\n",
      "  kubectl exec (POD | TYPE/NAME) [-c CONTAINER] [flags] -- COMMAND [args...] [options]\n",
      "\n",
      "Use \"kubectl options\" for a list of global command-line options (applies to all commands).\n",
      "\n",
      "unknown flag: --prefix\n"
     ]
    },
    {
     "ename": "",
     "evalue": "1",
     "output_type": "error",
     "traceback": []
    }
   ],
   "source": [
    "kubectl exec etcd-minikube -n kube-system  etcdctl get / --prefix -keys-only #fix this later"
   ]
  },
  {
   "cell_type": "code",
   "execution_count": null,
   "metadata": {},
   "outputs": [],
   "source": []
  }
 ],
 "metadata": {
  "kernelspec": {
   "display_name": "Bash",
   "language": "bash",
   "name": "bash"
  },
  "language_info": {
   "codemirror_mode": "shell",
   "file_extension": ".sh",
   "mimetype": "text/x-sh",
   "name": "bash"
  }
 },
 "nbformat": 4,
 "nbformat_minor": 4
}
