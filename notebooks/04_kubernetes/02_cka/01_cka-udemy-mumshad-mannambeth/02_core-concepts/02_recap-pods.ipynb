{
 "cells": [
  {
   "cell_type": "markdown",
   "metadata": {},
   "source": [
    "# Recap Pods"
   ]
  },
  {
   "cell_type": "markdown",
   "metadata": {},
   "source": [
    "## Pods\n",
    "\n",
    "- single instance of an application\n",
    "- smallest unit we can create on a k8s cluster\n",
    "- in a way, pods have a 1 to 1 relation with containers running an applications\n",
    "\n",
    "### Multi container Pods\n",
    "\n",
    "- helper containers in a Pod\n",
    "\n",
    "\n",
    "```\n",
    "kubectl run <pod-name> --image <image-name:tag>\n",
    "\n",
    "kubectl get pods\n",
    "```"
   ]
  },
  {
   "cell_type": "markdown",
   "metadata": {},
   "source": [
    "## Pod definition\n",
    "\n",
    "```\n",
    "apiVersion: v1\n",
    "kind: Pod\n",
    "metadata:\n",
    "  name: Pod1\n",
    "  namespace: default\n",
    "  labels:\n",
    "    app: myapp\n",
    "spec:\n",
    "  containers:\n",
    "  - image: nginx\n",
    "    name: nginx-container\n",
    "```"
   ]
  },
  {
   "cell_type": "code",
   "execution_count": null,
   "metadata": {},
   "outputs": [],
   "source": []
  }
 ],
 "metadata": {
  "kernelspec": {
   "display_name": "Bash",
   "language": "bash",
   "name": "bash"
  },
  "language_info": {
   "codemirror_mode": "shell",
   "file_extension": ".sh",
   "mimetype": "text/x-sh",
   "name": "bash"
  }
 },
 "nbformat": 4,
 "nbformat_minor": 4
}
