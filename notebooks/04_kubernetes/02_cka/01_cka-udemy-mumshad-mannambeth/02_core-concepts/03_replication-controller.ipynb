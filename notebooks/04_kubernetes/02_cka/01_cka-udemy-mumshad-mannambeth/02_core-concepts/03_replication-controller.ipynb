{
 "cells": [
  {
   "cell_type": "markdown",
   "metadata": {},
   "source": [
    "# Replication Controller\n",
    "\n",
    "Replication controller uses pod template to create pods and manages them\n",
    "\n",
    "\n",
    "Replicaset can use pod templates to create pods, it also specifies a selector (replciation controller doesnot have it). SO Replica set can manage pods (that satisfy selector),  which were created before the creation of Replicaset"
   ]
  },
  {
   "cell_type": "markdown",
   "metadata": {},
   "source": [
    "## Scaling Replicaset\n",
    "\n",
    "1. update replicaset-yaml manifest, then use `kubectl replace`\n",
    "\n",
    "1. `kubectl scale` command\n",
    "    ```\n",
    "    kube ctl scale --replicas=6 -f <replicaset-manifest.yaml>\n",
    "    \n",
    "    or\n",
    "    \n",
    "    kube ctl scale --replicas=6 replicaset <replicaset-name>\n",
    "    \n",
    "    ```"
   ]
  },
  {
   "cell_type": "markdown",
   "metadata": {},
   "source": [
    "in a replicaset if we edit images,the change is not carried frowarded to existing pods\n",
    "\n",
    "changes are only applied when a new pod is created"
   ]
  },
  {
   "cell_type": "code",
   "execution_count": null,
   "metadata": {},
   "outputs": [],
   "source": []
  }
 ],
 "metadata": {
  "kernelspec": {
   "display_name": "Bash",
   "language": "bash",
   "name": "bash"
  },
  "language_info": {
   "codemirror_mode": "shell",
   "file_extension": ".sh",
   "mimetype": "text/x-sh",
   "name": "bash"
  }
 },
 "nbformat": 4,
 "nbformat_minor": 4
}
