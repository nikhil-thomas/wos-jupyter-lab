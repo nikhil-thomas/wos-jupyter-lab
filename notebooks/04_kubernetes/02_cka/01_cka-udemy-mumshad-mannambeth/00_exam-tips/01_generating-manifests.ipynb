{
 "cells": [
  {
   "cell_type": "markdown",
   "metadata": {},
   "source": [
    "# Generating manifests"
   ]
  },
  {
   "cell_type": "markdown",
   "metadata": {},
   "source": [
    "## Pods"
   ]
  },
  {
   "cell_type": "code",
   "execution_count": 3,
   "metadata": {},
   "outputs": [
    {
     "name": "stdout",
     "output_type": "stream",
     "text": [
      "apiVersion: v1\n",
      "kind: Pod\n",
      "metadata:\n",
      "  creationTimestamp: null\n",
      "  labels:\n",
      "    run: nginx\n",
      "  name: nginx\n",
      "spec:\n",
      "  containers:\n",
      "  - image: ngnix\n",
      "    name: nginx\n",
      "    resources: {}\n",
      "  dnsPolicy: ClusterFirst\n",
      "  restartPolicy: Always\n",
      "status: {}\n"
     ]
    }
   ],
   "source": [
    "kubectl run nginx --generator run-pod/v1 --image ngnix --dry-run -o yaml"
   ]
  },
  {
   "cell_type": "markdown",
   "metadata": {},
   "source": [
    "---"
   ]
  },
  {
   "cell_type": "markdown",
   "metadata": {},
   "source": [
    "## Deployments\n"
   ]
  },
  {
   "cell_type": "code",
   "execution_count": 5,
   "metadata": {},
   "outputs": [
    {
     "name": "stdout",
     "output_type": "stream",
     "text": [
      "kubectl run --generator=deployment/apps.v1 is DEPRECATED and will be removed in a future version. Use kubectl run --generator=run-pod/v1 or kubectl create instead.\n",
      "apiVersion: apps/v1\n",
      "kind: Deployment\n",
      "metadata:\n",
      "  creationTimestamp: null\n",
      "  labels:\n",
      "    run: nginx\n",
      "  name: nginx\n",
      "spec:\n",
      "  replicas: 1\n",
      "  selector:\n",
      "    matchLabels:\n",
      "      run: nginx\n",
      "  strategy: {}\n",
      "  template:\n",
      "    metadata:\n",
      "      creationTimestamp: null\n",
      "      labels:\n",
      "        run: nginx\n",
      "    spec:\n",
      "      containers:\n",
      "      - image: nginx\n",
      "        name: nginx\n",
      "        resources: {}\n",
      "status: {}\n"
     ]
    }
   ],
   "source": [
    "kubectl run  nginx --image nginx --dry-run -o yaml "
   ]
  },
  {
   "cell_type": "code",
   "execution_count": 8,
   "metadata": {},
   "outputs": [
    {
     "name": "stdout",
     "output_type": "stream",
     "text": [
      "kubectl run --generator=deployment/apps.v1 is DEPRECATED and will be removed in a future version. Use kubectl run --generator=run-pod/v1 or kubectl create instead.\n",
      "apiVersion: apps/v1\n",
      "kind: Deployment\n",
      "metadata:\n",
      "  creationTimestamp: null\n",
      "  labels:\n",
      "    run: nginx\n",
      "  name: nginx\n",
      "spec:\n",
      "  replicas: 4\n",
      "  selector:\n",
      "    matchLabels:\n",
      "      run: nginx\n",
      "  strategy: {}\n",
      "  template:\n",
      "    metadata:\n",
      "      creationTimestamp: null\n",
      "      labels:\n",
      "        run: nginx\n",
      "    spec:\n",
      "      containers:\n",
      "      - image: nginx\n",
      "        name: nginx\n",
      "        resources: {}\n",
      "status: {}\n"
     ]
    }
   ],
   "source": [
    "kubectl run nginx --image nginx --replicas 4 --dry-run -o yaml"
   ]
  },
  {
   "cell_type": "markdown",
   "metadata": {},
   "source": [
    "---"
   ]
  },
  {
   "cell_type": "markdown",
   "metadata": {},
   "source": [
    "## Services"
   ]
  },
  {
   "cell_type": "code",
   "execution_count": 9,
   "metadata": {},
   "outputs": [
    {
     "name": "stdout",
     "output_type": "stream",
     "text": [
      "Expose a resource as a new Kubernetes service.\n",
      "\n",
      " Looks up a deployment, service, replica set, replication controller or pod by\n",
      "name and uses the selector for that resource as the selector for a new service\n",
      "on the specified port. A deployment or replica set will be exposed as a service\n",
      "only if its selector is convertible to a selector that service supports, i.e.\n",
      "when the selector contains only the matchLabels component. Note that if no port\n",
      "is specified via --port and the exposed resource has multiple ports, all will be\n",
      "re-used by the new service. Also if no labels are specified, the new service\n",
      "will re-use the labels from the resource it exposes.\n",
      "\n",
      " Possible resources include (case insensitive):\n",
      "\n",
      " pod (po), service (svc), replicationcontroller (rc), deployment (deploy),\n",
      "replicaset (rs)\n",
      "\n",
      "Examples:\n",
      "  # Create a service for a replicated nginx, which serves on port 80 and\n",
      "connects to the containers on port 8000.\n",
      "  kubectl expose rc nginx --port=80 --target-port=8000\n",
      "  \n",
      "  # Create a service for a replication controller identified by type and name\n",
      "specified in \"nginx-controller.yaml\", which serves on port 80 and connects to\n",
      "the containers on port 8000.\n",
      "  kubectl expose -f nginx-controller.yaml --port=80 --target-port=8000\n",
      "  \n",
      "  # Create a service for a pod valid-pod, which serves on port 444 with the name\n",
      "\"frontend\"\n",
      "  kubectl expose pod valid-pod --port=444 --name=frontend\n",
      "  \n",
      "  # Create a second service based on the above service, exposing the container\n",
      "port 8443 as port 443 with the name \"nginx-https\"\n",
      "  kubectl expose service nginx --port=443 --target-port=8443 --name=nginx-https\n",
      "  \n",
      "  # Create a service for a replicated streaming application on port 4100\n",
      "balancing UDP traffic and named 'video-stream'.\n",
      "  kubectl expose rc streamer --port=4100 --protocol=UDP --name=video-stream\n",
      "  \n",
      "  # Create a service for a replicated nginx using replica set, which serves on\n",
      "port 80 and connects to the containers on port 8000.\n",
      "  kubectl expose rs nginx --port=80 --target-port=8000\n",
      "  \n",
      "  # Create a service for an nginx deployment, which serves on port 80 and\n",
      "connects to the containers on port 8000.\n",
      "  kubectl expose deployment nginx --port=80 --target-port=8000\n",
      "\n",
      "Options:\n",
      "      --allow-missing-template-keys=true: If true, ignore any errors in\n",
      "templates when a field or map key is missing in the template. Only applies to\n",
      "golang and jsonpath output formats.\n",
      "      --cluster-ip='': ClusterIP to be assigned to the service. Leave empty to\n",
      "auto-allocate, or set to 'None' to create a headless service.\n",
      "      --dry-run=false: If true, only print the object that would be sent,\n",
      "without sending it.\n",
      "      --external-ip='': Additional external IP address (not managed by\n",
      "Kubernetes) to accept for the service. If this IP is routed to a node, the\n",
      "service can be accessed by this IP in addition to its generated service IP.\n",
      "  -f, --filename=[]: Filename, directory, or URL to files identifying the\n",
      "resource to expose a service\n",
      "      --generator='service/v2': The name of the API generator to use. There are\n",
      "2 generators: 'service/v1' and 'service/v2'. The only difference between them is\n",
      "that service port in v1 is named 'default', while it is left unnamed in v2.\n",
      "Default is 'service/v2'.\n",
      "  -k, --kustomize='': Process the kustomization directory. This flag can't be\n",
      "used together with -f or -R.\n",
      "  -l, --labels='': Labels to apply to the service created by this call.\n",
      "      --load-balancer-ip='': IP to assign to the LoadBalancer. If empty, an\n",
      "ephemeral IP will be created and used (cloud-provider specific).\n",
      "      --name='': The name for the newly created object.\n",
      "  -o, --output='': Output format. One of:\n",
      "json|yaml|name|go-template|go-template-file|template|templatefile|jsonpath|jsonpath-file.\n",
      "      --overrides='': An inline JSON override for the generated object. If this\n",
      "is non-empty, it is used to override the generated object. Requires that the\n",
      "object supply a valid apiVersion field.\n",
      "      --port='': The port that the service should serve on. Copied from the\n",
      "resource being exposed, if unspecified\n",
      "      --protocol='': The network protocol for the service to be created. Default\n",
      "is 'TCP'.\n",
      "      --record=false: Record current kubectl command in the resource annotation.\n",
      "If set to false, do not record the command. If set to true, record the command.\n",
      "If not set, default to updating the existing annotation value only if one\n",
      "already exists.\n",
      "  -R, --recursive=false: Process the directory used in -f, --filename\n",
      "recursively. Useful when you want to manage related manifests organized within\n",
      "the same directory.\n",
      "      --save-config=false: If true, the configuration of current object will be\n",
      "saved in its annotation. Otherwise, the annotation will be unchanged. This flag\n",
      "is useful when you want to perform kubectl apply on this object in the future.\n",
      "      --selector='': A label selector to use for this service. Only\n",
      "equality-based selector requirements are supported. If empty (the default) infer\n",
      "the selector from the replication controller or replica set.)\n",
      "      --session-affinity='': If non-empty, set the session affinity for the\n",
      "service to this; legal values: 'None', 'ClientIP'\n",
      "      --target-port='': Name or number for the port on the container that the\n",
      "service should direct traffic to. Optional.\n",
      "      --template='': Template string or path to template file to use when\n",
      "-o=go-template, -o=go-template-file. The template format is golang templates\n",
      "[http://golang.org/pkg/text/template/#pkg-overview].\n",
      "      --type='': Type for this service: ClusterIP, NodePort, LoadBalancer, or\n",
      "ExternalName. Default is 'ClusterIP'.\n",
      "\n",
      "Usage:\n",
      "  kubectl expose (-f FILENAME | TYPE NAME) [--port=port]\n",
      "[--protocol=TCP|UDP|SCTP] [--target-port=number-or-name] [--name=name]\n",
      "[--external-ip=external-ip-of-service] [--type=type] [options]\n",
      "\n",
      "Use \"kubectl options\" for a list of global command-line options (applies to all\n",
      "commands).\n"
     ]
    }
   ],
   "source": [
    "kubectl expose -h"
   ]
  },
  {
   "cell_type": "markdown",
   "metadata": {},
   "source": [
    "### Create a Service named redis-service of type ClusterIP to expose pod redis on port 6379\n"
   ]
  },
  {
   "cell_type": "code",
   "execution_count": 14,
   "metadata": {},
   "outputs": [
    {
     "name": "stdout",
     "output_type": "stream",
     "text": [
      "apiVersion: v1\n",
      "kind: Service\n",
      "metadata:\n",
      "  creationTimestamp: null\n",
      "  labels:\n",
      "    run: redis\n",
      "  name: redis-service\n",
      "spec:\n",
      "  ports:\n",
      "  - port: 6379\n",
      "    protocol: TCP\n",
      "    targetPort: 6379\n",
      "  selector:\n",
      "    run: redis\n",
      "status:\n",
      "  loadBalancer: {}\n"
     ]
    }
   ],
   "source": [
    "kubectl expose pod redis --port 6379 --name redis-service --dry-run -o yaml\n",
    "# (This will automatically use the pod's labels as selectors)"
   ]
  },
  {
   "cell_type": "code",
   "execution_count": 16,
   "metadata": {},
   "outputs": [
    {
     "name": "stdout",
     "output_type": "stream",
     "text": [
      "apiVersion: v1\n",
      "kind: Service\n",
      "metadata:\n",
      "  creationTimestamp: null\n",
      "  labels:\n",
      "    app: redis\n",
      "  name: redis\n",
      "spec:\n",
      "  ports:\n",
      "  - name: 6379-6379\n",
      "    port: 6379\n",
      "    protocol: TCP\n",
      "    targetPort: 6379\n",
      "  selector:\n",
      "    app: redis\n",
      "  type: ClusterIP\n",
      "status:\n",
      "  loadBalancer: {}\n"
     ]
    }
   ],
   "source": [
    "# or\n",
    "kubectl create service clusterip redis --tcp=6379:6379 --dry-run -o yaml\n",
    "# (This will not use the pods labels as selectors, instead it will assume selectors as app=redis."
   ]
  },
  {
   "cell_type": "markdown",
   "metadata": {},
   "source": [
    "### Create a Service named nginx of type NodePort to expose pod nginx's port 80 on port 30080 on the nodes:"
   ]
  },
  {
   "cell_type": "code",
   "execution_count": 20,
   "metadata": {},
   "outputs": [
    {
     "name": "stdout",
     "output_type": "stream",
     "text": [
      "Error from server (NotFound): pods \"nginx\" not found\n"
     ]
    },
    {
     "ename": "",
     "evalue": "1",
     "output_type": "error",
     "traceback": []
    }
   ],
   "source": [
    "kubectl expose pod nginx --type NodePort --port 80 --name nginx-service --dry-run -o yaml\n",
    "# This will automatically use the pod's labels as selectors,\n",
    "# but you cannot specify the node port. You have to generate\n",
    "# a definition file and then add the node port in manually\n",
    "# before creating the service with the pod.)"
   ]
  },
  {
   "cell_type": "code",
   "execution_count": 23,
   "metadata": {},
   "outputs": [
    {
     "name": "stdout",
     "output_type": "stream",
     "text": [
      "apiVersion: v1\n",
      "kind: Service\n",
      "metadata:\n",
      "  creationTimestamp: null\n",
      "  labels:\n",
      "    app: nginx\n",
      "  name: nginx\n",
      "spec:\n",
      "  ports:\n",
      "  - name: 80-80\n",
      "    nodePort: 30080\n",
      "    port: 80\n",
      "    protocol: TCP\n",
      "    targetPort: 80\n",
      "  selector:\n",
      "    app: nginx\n",
      "  type: NodePort\n",
      "status:\n",
      "  loadBalancer: {}\n"
     ]
    }
   ],
   "source": [
    "# or\n",
    "kubectl create service nodeport nginx --tcp=80:80 --node-port=30080 --dry-run -o yaml\n",
    "# (This will not use the pods labels as selectors)"
   ]
  },
  {
   "cell_type": "markdown",
   "metadata": {},
   "source": [
    "Both the above commands have their own challenges. While one of it cannot accept a selector the other cannot accept a node port. I would recommend going with the `kubectl expose` command. If you need to specify a node port, generate a definition file using the same command and manually input the nodeport before creating the service.\n",
    "\n"
   ]
  },
  {
   "cell_type": "code",
   "execution_count": null,
   "metadata": {},
   "outputs": [],
   "source": []
  }
 ],
 "metadata": {
  "kernelspec": {
   "display_name": "Bash",
   "language": "bash",
   "name": "bash"
  },
  "language_info": {
   "codemirror_mode": "shell",
   "file_extension": ".sh",
   "mimetype": "text/x-sh",
   "name": "bash"
  }
 },
 "nbformat": 4,
 "nbformat_minor": 4
}
