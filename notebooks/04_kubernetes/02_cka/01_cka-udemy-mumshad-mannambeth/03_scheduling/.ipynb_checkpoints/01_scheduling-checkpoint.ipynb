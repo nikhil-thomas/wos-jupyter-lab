{
 "cells": [
  {
   "cell_type": "markdown",
   "metadata": {},
   "source": [
    "# Manual Scheduling\n",
    "\n",
    "using `nodeName` field in pod definition\n",
    "\n",
    "by setting the `nodeName` field to the Name of the node\n",
    "\n",
    "\n",
    "can use node name only when creating a Pod not after creating a pod.\n",
    "\n",
    "k8s won't allow to change the `nodeName` property of an already existing pod\n",
    "\n",
    "To change the `nodeName` of an already existing pod, create a `BInding` object and send a post request to the `binding` api of the Pod.\n",
    "\n",
    "```\n",
    "apiVersion: v1\n",
    "kind: Binding\n",
    "metadata:\n",
    "  name: nginx\n",
    "target:\n",
    "  apiVersion: v1\n",
    "  kind: Node\n",
    "  name: node02\n",
    "```\n",
    "\n",
    "```\n",
    "curl --header \"Content-Type:application/json\" --request POST --data '{\"apiVersion\": \"v1\", \"kind\": \"Binding\", ...}' \\\n",
    "http://<server>/api/v1/namespaces/default/pods/<pod-name>/binding/\n",
    "```\n",
    "\n",
    "\n"
   ]
  },
  {
   "cell_type": "markdown",
   "metadata": {},
   "source": [
    "---"
   ]
  },
  {
   "cell_type": "markdown",
   "metadata": {},
   "source": [
    "# Labels and Selectors\n",
    "\n",
    "## Labels\n",
    "\n",
    "add labels in Pod metadata\n",
    "\n",
    "```\n",
    "...\n",
    "metadata:\n",
    "  labels:\n",
    "    key1: val1\n",
    "    key2: val2\n",
    "...\n",
    "\n",
    "```\n",
    "\n",
    "selection\n",
    "\n",
    "```\n",
    "kubectl get pods --selector <key>=<value>\n",
    "```\n",
    "\n",
    "## Annotations\n",
    "\n",
    "used to record information on objects\n",
    "\n",
    "```\n",
    "...\n",
    "metadata:\n",
    "  labels:\n",
    "    app: App1\n",
    "    function: front-end\n",
    "  annotations:\n",
    "    buildversion: 1.2.3\n",
    "...\n",
    "\n",
    "```\n"
   ]
  }
 ],
 "metadata": {
  "kernelspec": {
   "display_name": "Bash",
   "language": "bash",
   "name": "bash"
  },
  "language_info": {
   "codemirror_mode": "shell",
   "file_extension": ".sh",
   "mimetype": "text/x-sh",
   "name": "bash"
  }
 },
 "nbformat": 4,
 "nbformat_minor": 4
}
