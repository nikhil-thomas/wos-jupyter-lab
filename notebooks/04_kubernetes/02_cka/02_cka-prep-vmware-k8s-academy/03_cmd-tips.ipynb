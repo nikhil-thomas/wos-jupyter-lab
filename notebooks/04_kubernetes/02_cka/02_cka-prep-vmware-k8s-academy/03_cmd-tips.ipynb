{
 "cells": [
  {
   "cell_type": "markdown",
   "metadata": {},
   "source": [
    "# Commandline Tips\n"
   ]
  },
  {
   "cell_type": "markdown",
   "metadata": {},
   "source": [
    "## Use here docs"
   ]
  },
  {
   "cell_type": "markdown",
   "metadata": {},
   "source": [
    "```\n",
    "cat <<EOF>filename\n",
    "kind: Pod\n",
    "apiVersion: v1\n",
    "...\n",
    "EOF\n",
    "```\n",
    "\n",
    "```\n",
    "cat filename\n",
    "```"
   ]
  },
  {
   "cell_type": "markdown",
   "metadata": {},
   "source": [
    "vi\n",
    "\n",
    "g: go to end of page\n",
    "\n",
    "gg: go to begining\n",
    "\n",
    "line number, the shift+g: go to line number"
   ]
  },
  {
   "cell_type": "markdown",
   "metadata": {},
   "source": [
    "## Aliases\n",
    "\n",
    "eg:\n",
    "\n",
    "k: kubectl\n",
    "\n",
    "kgp: kubectl get pods\n",
    "\n",
    "kga: kubectk get all\n",
    "\n",
    "\n",
    "\n"
   ]
  },
  {
   "cell_type": "markdown",
   "metadata": {},
   "source": [
    "# kubectl run\n"
   ]
  },
  {
   "cell_type": "code",
   "execution_count": 8,
   "metadata": {},
   "outputs": [
    {
     "name": "stdout",
     "output_type": "stream",
     "text": [
      "      \u001b[01;31m\u001b[K--restart='Always': The restart policy for this Pod.  Legal values [Always, OnFailure, Never]\u001b[m\u001b[K.  If set to 'Always' a deployment is created, if set to 'OnFailure' a job is created, if set to 'Never', a regular pod is created. For the latter two --replicas must be 1.  Default 'Always', for CronJobs `Never`.\n"
     ]
    }
   ],
   "source": [
    "kubectl run --help | egrep '(--restart).*\\[.*]'"
   ]
  },
  {
   "cell_type": "markdown",
   "metadata": {},
   "source": [
    "## Commadline completion\n",
    "```\n",
    "source <(kubectl completion zsh)\n",
    "```"
   ]
  },
  {
   "cell_type": "code",
   "execution_count": null,
   "metadata": {},
   "outputs": [],
   "source": []
  }
 ],
 "metadata": {
  "kernelspec": {
   "display_name": "Bash",
   "language": "bash",
   "name": "bash"
  },
  "language_info": {
   "codemirror_mode": "shell",
   "file_extension": ".sh",
   "mimetype": "text/x-sh",
   "name": "bash"
  }
 },
 "nbformat": 4,
 "nbformat_minor": 4
}
