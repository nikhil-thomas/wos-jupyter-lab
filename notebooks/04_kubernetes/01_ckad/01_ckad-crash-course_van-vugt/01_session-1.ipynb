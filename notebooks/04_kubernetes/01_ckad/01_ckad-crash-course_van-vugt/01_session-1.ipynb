{
 "cells": [
  {
   "cell_type": "markdown",
   "metadata": {},
   "source": [
    "# Resources\n",
    "- github: https://github.com/sandervanvugt/ckad\n",
    "- pdf: https://on24static.akamaized.net/event/20/58/40/3/rt/1/documents/resourceList1569442365910/ckadstudentversion926191569442365286.pdf"
   ]
  },
  {
   "cell_type": "markdown",
   "metadata": {},
   "source": [
    "## Kubernetes deployment options\n",
    "- public cloud\n",
    "- on-premise datacenter\n",
    "- minikube for testng and development\n",
    "- tryk8s.com"
   ]
  },
  {
   "cell_type": "code",
   "execution_count": null,
   "metadata": {},
   "outputs": [],
   "source": []
  }
 ],
 "metadata": {
  "kernelspec": {
   "display_name": "Bash",
   "language": "bash",
   "name": "bash"
  },
  "language_info": {
   "codemirror_mode": "shell",
   "file_extension": ".sh",
   "mimetype": "text/x-sh",
   "name": "bash"
  }
 },
 "nbformat": 4,
 "nbformat_minor": 4
}
