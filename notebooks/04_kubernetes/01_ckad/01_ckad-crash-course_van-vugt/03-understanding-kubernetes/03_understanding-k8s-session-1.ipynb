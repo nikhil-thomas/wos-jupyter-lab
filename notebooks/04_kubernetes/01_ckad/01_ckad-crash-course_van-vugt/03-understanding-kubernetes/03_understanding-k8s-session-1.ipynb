{
 "cells": [
  {
   "cell_type": "markdown",
   "metadata": {},
   "source": [
    "# Understanding Kubernetes"
   ]
  },
  {
   "cell_type": "markdown",
   "metadata": {},
   "source": [
    "- new way to do IT\n"
   ]
  },
  {
   "cell_type": "markdown",
   "metadata": {},
   "source": [
    "## Kubernetes API Objects"
   ]
  },
  {
   "cell_type": "markdown",
   "metadata": {},
   "source": [
    "### kubectl explain\n",
    "\n",
    "- any fields listed by `kubectl explain` can be explained as well"
   ]
  },
  {
   "cell_type": "code",
   "execution_count": 4,
   "metadata": {},
   "outputs": [
    {
     "name": "stdout",
     "output_type": "stream",
     "text": [
      "List the fields for supported resources\n",
      "\n",
      " This command describes the fields associated with each supported API resource.\n",
      "Fields are identified via a simple JSONPath identifier:\n",
      "\n",
      "  <type>.<fieldName>[.<fieldName>]\n",
      "  \n",
      " Add the --recursive flag to display all of the fields at once without\n",
      "descriptions. Information about each field is retrieved from the server in\n",
      "OpenAPI format.\n",
      "\n",
      "Use \"kubectl api-resources\" for a complete list of supported resources.\n",
      "\n",
      "Examples:\n",
      "  # Get the documentation of the resource and its fields\n",
      "  kubectl explain pods\n",
      "  \n",
      "  # Get the documentation of a specific field of a resource\n",
      "  kubectl explain pods.spec.containers\n",
      "\n",
      "Options:\n",
      "      --api-version='': Get different explanations for particular API version\n",
      "      --recursive=false: Print the fields of fields (Currently only 1 level\n",
      "deep)\n",
      "\n",
      "Usage:\n",
      "  kubectl explain RESOURCE [options]\n",
      "\n",
      "Use \"kubectl options\" for a list of global command-line options (applies to all\n",
      "commands).\n"
     ]
    }
   ],
   "source": [
    "kubectl explain --help"
   ]
  },
  {
   "cell_type": "code",
   "execution_count": 5,
   "metadata": {},
   "outputs": [
    {
     "name": "stdout",
     "output_type": "stream",
     "text": [
      "KIND:     Pod\n",
      "VERSION:  v1\n",
      "\n",
      "DESCRIPTION:\n",
      "     Pod is a collection of containers that can run on a host. This resource is\n",
      "     created by clients and scheduled onto hosts.\n",
      "\n",
      "FIELDS:\n",
      "   apiVersion\t<string>\n",
      "     APIVersion defines the versioned schema of this representation of an\n",
      "     object. Servers should convert recognized schemas to the latest internal\n",
      "     value, and may reject unrecognized values. More info:\n",
      "     https://git.k8s.io/community/contributors/devel/api-conventions.md#resources\n",
      "\n",
      "   kind\t<string>\n",
      "     Kind is a string value representing the REST resource this object\n",
      "     represents. Servers may infer this from the endpoint the client submits\n",
      "     requests to. Cannot be updated. In CamelCase. More info:\n",
      "     https://git.k8s.io/community/contributors/devel/api-conventions.md#types-kinds\n",
      "\n",
      "   metadata\t<Object>\n",
      "     Standard object's metadata. More info:\n",
      "     https://git.k8s.io/community/contributors/devel/api-conventions.md#metadata\n",
      "\n",
      "   spec\t<Object>\n",
      "     Specification of the desired behavior of the pod. More info:\n",
      "     https://git.k8s.io/community/contributors/devel/api-conventions.md#spec-and-status\n",
      "\n",
      "   status\t<Object>\n",
      "     Most recently observed status of the pod. This data may not be up to date.\n",
      "     Populated by the system. Read-only. More info:\n",
      "     https://git.k8s.io/community/contributors/devel/api-conventions.md#spec-and-status\n",
      "\n"
     ]
    }
   ],
   "source": [
    "kubectl explain pod"
   ]
  },
  {
   "cell_type": "code",
   "execution_count": 13,
   "metadata": {},
   "outputs": [],
   "source": [
    "kubectl explain --recursive pod > 03_explain-pod-recursive"
   ]
  },
  {
   "cell_type": "code",
   "execution_count": 14,
   "metadata": {},
   "outputs": [
    {
     "name": "stdout",
     "output_type": "stream",
     "text": [
      "KIND:     Pod\n",
      "VERSION:  v1\n",
      "\n",
      "DESCRIPTION:\n",
      "     Pod is a collection of containers that can run on a host. This resource is\n",
      "     created by clients and scheduled onto hosts.\n",
      "\n",
      "FIELDS:\n",
      "   apiVersion\t<string>\n",
      "   kind\t<string>\n",
      "   metadata\t<Object>\n",
      "      annotations\t<map[string]string>\n",
      "      clusterName\t<string>\n",
      "      creationTimestamp\t<string>\n",
      "      deletionGracePeriodSeconds\t<integer>\n",
      "      deletionTimestamp\t<string>\n",
      "      finalizers\t<[]string>\n",
      "      generateName\t<string>\n",
      "      generation\t<integer>\n",
      "      initializers\t<Object>\n"
     ]
    }
   ],
   "source": [
    "head -n 20 03_explain-pod-recursive"
   ]
  },
  {
   "cell_type": "code",
   "execution_count": 17,
   "metadata": {},
   "outputs": [
    {
     "name": "stdout",
     "output_type": "stream",
     "text": [
      "            running\t<Object>\n",
      "               startedAt\t<string>\n",
      "            terminated\t<Object>\n",
      "               containerID\t<string>\n",
      "               exitCode\t<integer>\n",
      "               finishedAt\t<string>\n",
      "               message\t<string>\n",
      "               reason\t<string>\n",
      "               signal\t<integer>\n",
      "               startedAt\t<string>\n",
      "            waiting\t<Object>\n",
      "               message\t<string>\n",
      "               reason\t<string>\n",
      "      message\t<string>\n",
      "      nominatedNodeName\t<string>\n",
      "      phase\t<string>\n",
      "      podIP\t<string>\n",
      "      qosClass\t<string>\n",
      "      reason\t<string>\n",
      "      startTime\t<string>\n"
     ]
    }
   ],
   "source": [
    "tail -n 20 03_explain-pod-recursive"
   ]
  },
  {
   "cell_type": "code",
   "execution_count": 21,
   "metadata": {},
   "outputs": [],
   "source": [
    "kubectl explain pod.spec.containers > 03_explain-pod.spec.containers"
   ]
  },
  {
   "cell_type": "code",
   "execution_count": 26,
   "metadata": {},
   "outputs": [],
   "source": [
    "kubectl explain pod.spec.containers --recursive > 03_explain-pod.spec.containers-recursive"
   ]
  },
  {
   "cell_type": "markdown",
   "metadata": {},
   "source": [
    "## kubectl proxy"
   ]
  },
  {
   "cell_type": "markdown",
   "metadata": {},
   "source": [
    "- kubctl proxy --port=8001 &\n",
    "- curl http://localhost:8001"
   ]
  },
  {
   "cell_type": "code",
   "execution_count": 4,
   "metadata": {},
   "outputs": [
    {
     "name": "stdout",
     "output_type": "stream",
     "text": [
      "{\n",
      "  \"major\": \"1\",\n",
      "  \"minor\": \"15\",\n",
      "  \"gitVersion\": \"v1.15.2\",\n",
      "  \"gitCommit\": \"f6278300bebbb750328ac16ee6dd3aa7d3549568\",\n",
      "  \"gitTreeState\": \"clean\",\n",
      "  \"buildDate\": \"2019-08-05T09:15:22Z\",\n",
      "  \"goVersion\": \"go1.12.5\",\n",
      "  \"compiler\": \"gc\",\n",
      "  \"platform\": \"linux/amd64\"\n",
      "}"
     ]
    }
   ],
   "source": [
    "# kubectl proxy\n",
    "# then in a new terminal\n",
    "curl http://localhost:8001/version"
   ]
  },
  {
   "cell_type": "markdown",
   "metadata": {},
   "source": [
    "## Kubernetes Architecture"
   ]
  },
  {
   "cell_type": "markdown",
   "metadata": {},
   "source": [
    "![](./images/k8s-architecture.png)"
   ]
  },
  {
   "cell_type": "code",
   "execution_count": null,
   "metadata": {},
   "outputs": [],
   "source": []
  }
 ],
 "metadata": {
  "kernelspec": {
   "display_name": "Bash",
   "language": "bash",
   "name": "bash"
  },
  "language_info": {
   "codemirror_mode": "shell",
   "file_extension": ".sh",
   "mimetype": "text/x-sh",
   "name": "bash"
  }
 },
 "nbformat": 4,
 "nbformat_minor": 4
}
