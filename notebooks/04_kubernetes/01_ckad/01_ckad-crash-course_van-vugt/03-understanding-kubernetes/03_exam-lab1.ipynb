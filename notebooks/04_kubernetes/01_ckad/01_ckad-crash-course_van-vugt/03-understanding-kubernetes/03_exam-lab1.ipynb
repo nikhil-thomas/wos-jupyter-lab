{
 "cells": [
  {
   "cell_type": "code",
   "execution_count": 4,
   "metadata": {},
   "outputs": [
    {
     "name": "stdout",
     "output_type": "stream",
     "text": [
      "  % Total    % Received % Xferd  Average Speed   Time    Time     Time  Current\n",
      "                                 Dload  Upload   Total   Spent    Left  Speed\n",
      "100  2738  100  2738    0     0  1336k      0 --:--:-- --:--:-- --:--:-- 1336k\n",
      "{\n",
      "  \"paths\": [\n",
      "    \"/api\",\n",
      "    \"/api/v1\",\n",
      "    \"/apis\",\n",
      "    \"/apis/\",\n",
      "    \"/apis/admissionregistration.k8s.io\",\n",
      "    \"/apis/admissionregistration.k8s.io/v1beta1\",\n",
      "    \"/apis/apiextensions.k8s.io\",\n",
      "    \"/apis/apiextensions.k8s.io/v1beta1\",\n"
     ]
    }
   ],
   "source": [
    "curl localhost:8001 | head\n"
   ]
  },
  {
   "cell_type": "code",
   "execution_count": 5,
   "metadata": {},
   "outputs": [
    {
     "name": "stdout",
     "output_type": "stream",
     "text": [
      "NAME                              SHORTNAMES   APIGROUP                       NAMESPACED   KIND\n",
      "bindings                                                                      true         Binding\n",
      "componentstatuses                 cs                                          false        ComponentStatus\n",
      "configmaps                        cm                                          true         ConfigMap\n",
      "endpoints                         ep                                          true         Endpoints\n",
      "events                            ev                                          true         Event\n",
      "limitranges                       limits                                      true         LimitRange\n",
      "namespaces                        ns                                          false        Namespace\n",
      "nodes                             no                                          false        Node\n",
      "persistentvolumeclaims            pvc                                         true         PersistentVolumeClaim\n"
     ]
    }
   ],
   "source": [
    "kubectl api-resources | head"
   ]
  },
  {
   "cell_type": "code",
   "execution_count": 8,
   "metadata": {},
   "outputs": [
    {
     "name": "stdout",
     "output_type": "stream",
     "text": [
      "KIND:     Service\n",
      "VERSION:  v1\n",
      "\n",
      "DESCRIPTION:\n",
      "     Service is a named abstraction of software service (for example, mysql)\n",
      "     consisting of local port (for example 3306) that the proxy listens on, and\n",
      "     the selector that determines which pods will answer requests sent through\n",
      "     the proxy.\n",
      "\n",
      "FIELDS:\n",
      "   apiVersion\t<string>\n",
      "   kind\t<string>\n",
      "   metadata\t<Object>\n",
      "      annotations\t<map[string]string>\n",
      "      clusterName\t<string>\n",
      "      creationTimestamp\t<string>\n",
      "      deletionGracePeriodSeconds\t<integer>\n",
      "      deletionTimestamp\t<string>\n",
      "      finalizers\t<[]string>\n",
      "      generateName\t<string>\n",
      "      generation\t<integer>\n",
      "      initializers\t<Object>\n",
      "         pending\t<[]Object>\n",
      "            name\t<string>\n",
      "         result\t<Object>\n",
      "            apiVersion\t<string>\n",
      "            code\t<integer>\n",
      "            details\t<Object>\n",
      "               causes\t<[]Object>\n",
      "                  field\t<string>\n"
     ]
    }
   ],
   "source": [
    "kubectl explain --recursive service | head -n 30"
   ]
  },
  {
   "cell_type": "code",
   "execution_count": null,
   "metadata": {},
   "outputs": [],
   "source": []
  }
 ],
 "metadata": {
  "kernelspec": {
   "display_name": "Bash",
   "language": "bash",
   "name": "bash"
  },
  "language_info": {
   "codemirror_mode": "shell",
   "file_extension": ".sh",
   "mimetype": "text/x-sh",
   "name": "bash"
  }
 },
 "nbformat": 4,
 "nbformat_minor": 4
}
