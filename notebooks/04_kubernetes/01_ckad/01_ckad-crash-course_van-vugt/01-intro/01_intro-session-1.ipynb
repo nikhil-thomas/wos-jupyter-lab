{
 "cells": [
  {
   "cell_type": "markdown",
   "metadata": {},
   "source": [
    "# Certified Kubernetes Application Developer (CKAD) Crash Course\n",
    "## Session 1\n",
    "\n",
    "https://learning.oreilly.com/live-training/courses/certified-kubernetes-application-developer-ckad-crash-course/0636920315797/"
   ]
  },
  {
   "cell_type": "markdown",
   "metadata": {},
   "source": [
    "# Resources\n",
    "- github: https://github.com/sandervanvugt/ckad\n",
    "- pdf: https://on24static.akamaized.net/event/20/58/40/3/rt/1/documents/resourceList1569442365910/ckadstudentversion926191569442365286.pdf"
   ]
  },
  {
   "cell_type": "markdown",
   "metadata": {},
   "source": [
    "## Kubernetes deployment options\n",
    "- public cloud\n",
    "- on-premise datacenter\n",
    "- minikube for testng and development\n",
    "- tryk8s.com"
   ]
  },
  {
   "cell_type": "code",
   "execution_count": 4,
   "metadata": {},
   "outputs": [
    {
     "name": "stdout",
     "output_type": "stream",
     "text": [
      "\u001b[0;32mKubernetes master\u001b[0m is running at \u001b[0;33mhttps://192.168.39.244:8443\u001b[0m\n",
      "\u001b[0;32mKubeDNS\u001b[0m is running at \u001b[0;33mhttps://192.168.39.244:8443/api/v1/namespaces/kube-system/services/kube-dns:dns/proxy\u001b[0m\n",
      "\n",
      "To further debug and diagnose cluster problems, use 'kubectl cluster-info dump'.\n"
     ]
    }
   ],
   "source": [
    "kubectl cluster-info"
   ]
  },
  {
   "cell_type": "code",
   "execution_count": 5,
   "metadata": {},
   "outputs": [
    {
     "name": "stdout",
     "output_type": "stream",
     "text": [
      "NAME       STATUS   ROLES    AGE     VERSION\n",
      "minikube   Ready    master   5m26s   v1.15.2\n"
     ]
    }
   ],
   "source": [
    "kubectl get nodes"
   ]
  },
  {
   "cell_type": "markdown",
   "metadata": {},
   "source": [
    "### ssh into minikube\n",
    "```bash\n",
    "minikube ssh\n",
    "```"
   ]
  },
  {
   "cell_type": "markdown",
   "metadata": {},
   "source": [
    "### minikube ip"
   ]
  },
  {
   "cell_type": "code",
   "execution_count": 7,
   "metadata": {},
   "outputs": [
    {
     "name": "stdout",
     "output_type": "stream",
     "text": [
      "192.168.39.244\n"
     ]
    }
   ],
   "source": [
    "minikube ip -p mk-ckad-svv"
   ]
  },
  {
   "cell_type": "markdown",
   "metadata": {},
   "source": [
    "### Running application in a kubernetes environment"
   ]
  },
  {
   "cell_type": "markdown",
   "metadata": {},
   "source": [
    "Kubernetes manages pods"
   ]
  },
  {
   "cell_type": "markdown",
   "metadata": {},
   "source": [
    "### Deployment\n",
    "\n",
    "apps are usually deployments\n",
    "\n",
    "manages replicas\n",
    "\n",
    "manages update strategy"
   ]
  },
  {
   "cell_type": "markdown",
   "metadata": {},
   "source": [
    "---\n",
    "### kubectl run"
   ]
  },
  {
   "cell_type": "code",
   "execution_count": 9,
   "metadata": {},
   "outputs": [
    {
     "name": "stdout",
     "output_type": "stream",
     "text": [
      "Create and run a particular image, possibly replicated.\n",
      "\n",
      " Creates a deployment or job to manage the created container(s).\n",
      "\n",
      "Examples:\n",
      "  # Start a single instance of nginx.\n",
      "  kubectl run nginx --image=nginx\n",
      "  \n",
      "  # Start a single instance of hazelcast and let the container expose port 5701\n",
      ".\n",
      "  kubectl run hazelcast --image=hazelcast --port=5701\n",
      "  \n",
      "  # Start a single instance of hazelcast and set environment variables\n",
      "\"DNS_DOMAIN=cluster\" and \"POD_NAMESPACE=default\" in the container.\n",
      "  kubectl run hazelcast --image=hazelcast --env=\"DNS_DOMAIN=cluster\"\n",
      "--env=\"POD_NAMESPACE=default\"\n",
      "  \n",
      "  # Start a single instance of hazelcast and set labels \"app=hazelcast\" and\n",
      "\"env=prod\" in the container.\n",
      "  kubectl run hazelcast --image=hazelcast --labels=\"app=hazelcast,env=prod\"\n",
      "  \n",
      "  # Start a replicated instance of nginx.\n",
      "  kubectl run nginx --image=nginx --replicas=5\n",
      "  \n",
      "  # Dry run. Print the corresponding API objects without creating them.\n",
      "  kubectl run nginx --image=nginx --dry-run\n",
      "  \n",
      "  # Start a single instance of nginx, but overload the spec of the deployment\n",
      "with a partial set of values parsed from JSON.\n",
      "  kubectl run nginx --image=nginx --overrides='{ \"apiVersion\": \"v1\", \"spec\": {\n",
      "... } }'\n",
      "  \n",
      "  # Start a pod of busybox and keep it in the foreground, don't restart it if it\n",
      "exits.\n",
      "  kubectl run -i -t busybox --image=busybox --restart=Never\n",
      "  \n",
      "  # Start the nginx container using the default command, but use custom\n",
      "arguments (arg1 .. argN) for that command.\n",
      "  kubectl run nginx --image=nginx -- <arg1> <arg2> ... <argN>\n",
      "  \n",
      "  # Start the nginx container using a different command and custom arguments.\n",
      "  kubectl run nginx --image=nginx --command -- <cmd> <arg1> ... <argN>\n",
      "  \n",
      "  # Start the perl container to compute π to 2000 places and print it out.\n",
      "  kubectl run pi --image=perl --restart=OnFailure -- perl -Mbignum=bpi -wle\n",
      "'print bpi(2000)'\n",
      "  \n",
      "  # Start the cron job to compute π to 2000 places and print it out every 5\n",
      "minutes.\n",
      "  kubectl run pi --schedule=\"0/5 * * * ?\" --image=perl --restart=OnFailure --\n",
      "perl -Mbignum=bpi -wle 'print bpi(2000)'\n",
      "\n",
      "Options:\n",
      "      --allow-missing-template-keys=true: If true, ignore any errors in\n",
      "templates when a field or map key is missing in the template. Only applies to\n",
      "golang and jsonpath output formats.\n",
      "      --attach=false: If true, wait for the Pod to start running, and then\n",
      "attach to the Pod as if 'kubectl attach ...' were called.  Default false, unless\n",
      "'-i/--stdin' is set, in which case the default is true. With '--restart=Never'\n",
      "the exit code of the container process is returned.\n",
      "      --cascade=true: If true, cascade the deletion of the resources managed by\n",
      "this resource (e.g. Pods created by a ReplicationController).  Default true.\n",
      "      --command=false: If true and extra arguments are present, use them as the\n",
      "'command' field in the container, rather than the 'args' field which is the\n",
      "default.\n",
      "      --dry-run=false: If true, only print the object that would be sent,\n",
      "without sending it.\n",
      "      --env=[]: Environment variables to set in the container\n",
      "      --expose=false: If true, a public, external service is created for the\n",
      "container(s) which are run\n",
      "  -f, --filename=[]: to use to replace the resource.\n",
      "      --force=false: Only used when grace-period=0. If true, immediately remove\n",
      "resources from API and bypass graceful deletion. Note that immediate deletion of\n",
      "some resources may result in inconsistency or data loss and requires\n",
      "confirmation.\n",
      "      --generator='': The name of the API generator to use, see\n",
      "http://kubernetes.io/docs/user-guide/kubectl-conventions/#generators for a list.\n",
      "      --grace-period=-1: Period of time in seconds given to the resource to\n",
      "terminate gracefully. Ignored if negative. Set to 1 for immediate shutdown. Can\n",
      "only be set to 0 when --force is true (force deletion).\n",
      "      --hostport=-1: The host port mapping for the container port. To\n",
      "demonstrate a single-machine container.\n",
      "      --image='': The image for the container to run.\n",
      "      --image-pull-policy='': The image pull policy for the container. If left\n",
      "empty, this value will not be specified by the client and defaulted by the\n",
      "server\n",
      "  -k, --kustomize='': Process a kustomization directory. This flag can't be used\n",
      "together with -f or -R.\n",
      "  -l, --labels='': Comma separated labels to apply to the pod(s). Will override\n",
      "previous values.\n",
      "      --leave-stdin-open=false: If the pod is started in interactive mode or\n",
      "with stdin, leave stdin open after the first attach completes. By default, stdin\n",
      "will be closed after the first attach completes.\n",
      "      --limits='': The resource requirement limits for this container.  For\n",
      "example, 'cpu=200m,memory=512Mi'.  Note that server side components may assign\n",
      "limits depending on the server configuration, such as limit ranges.\n",
      "  -o, --output='': Output format. One of:\n",
      "json|yaml|name|go-template|go-template-file|template|templatefile|jsonpath|jsonpath-file.\n",
      "      --overrides='': An inline JSON override for the generated object. If this\n",
      "is non-empty, it is used to override the generated object. Requires that the\n",
      "object supply a valid apiVersion field.\n",
      "      --pod-running-timeout=1m0s: The length of time (like 5s, 2m, or 3h, higher\n",
      "than zero) to wait until at least one pod is running\n",
      "      --port='': The port that this container exposes.  If --expose is true,\n",
      "this is also the port used by the service that is created.\n",
      "      --quiet=false: If true, suppress prompt messages.\n",
      "      --record=false: Record current kubectl command in the resource annotation.\n",
      "If set to false, do not record the command. If set to true, record the command.\n",
      "If not set, default to updating the existing annotation value only if one\n",
      "already exists.\n",
      "  -R, --recursive=false: Process the directory used in -f, --filename\n",
      "recursively. Useful when you want to manage related manifests organized within\n",
      "the same directory.\n",
      "  -r, --replicas=1: Number of replicas to create for this container. Default is\n",
      "1.\n",
      "      --requests='': The resource requirement requests for this container.  For\n",
      "example, 'cpu=100m,memory=256Mi'.  Note that server side components may assign\n",
      "requests depending on the server configuration, such as limit ranges.\n",
      "      --restart='Always': The restart policy for this Pod.  Legal values\n",
      "[Always, OnFailure, Never].  If set to 'Always' a deployment is created, if set\n",
      "to 'OnFailure' a job is created, if set to 'Never', a regular pod is created.\n",
      "For the latter two --replicas must be 1.  Default 'Always', for CronJobs\n",
      "`Never`.\n",
      "      --rm=false: If true, delete resources created in this command for attached\n",
      "containers.\n",
      "      --save-config=false: If true, the configuration of current object will be\n",
      "saved in its annotation. Otherwise, the annotation will be unchanged. This flag\n",
      "is useful when you want to perform kubectl apply on this object in the future.\n",
      "      --schedule='': A schedule in the Cron format the job should be run with.\n",
      "      --service-generator='service/v2': The name of the generator to use for\n",
      "creating a service.  Only used if --expose is true\n",
      "      --service-overrides='': An inline JSON override for the generated service\n",
      "object. If this is non-empty, it is used to override the generated object.\n",
      "Requires that the object supply a valid apiVersion field.  Only used if --expose\n",
      "is true.\n",
      "      --serviceaccount='': Service account to set in the pod spec\n",
      "  -i, --stdin=false: Keep stdin open on the container(s) in the pod, even if\n",
      "nothing is attached.\n",
      "      --template='': Template string or path to template file to use when\n",
      "-o=go-template, -o=go-template-file. The template format is golang templates\n",
      "[http://golang.org/pkg/text/template/#pkg-overview].\n",
      "      --timeout=0s: The length of time to wait before giving up on a delete,\n",
      "zero means determine a timeout from the size of the object\n",
      "  -t, --tty=false: Allocated a TTY for each container in the pod.\n",
      "      --wait=false: If true, wait for resources to be gone before returning.\n",
      "This waits for finalizers.\n",
      "\n",
      "Usage:\n",
      "  kubectl run NAME --image=image [--env=\"key=value\"] [--port=port]\n",
      "[--replicas=replicas] [--dry-run=bool] [--overrides=inline-json] [--command] --\n",
      "[COMMAND] [args...] [options]\n",
      "\n",
      "Use \"kubectl options\" for a list of global command-line options (applies to all\n",
      "commands).\n"
     ]
    }
   ],
   "source": [
    "kubectl run --help"
   ]
  },
  {
   "cell_type": "markdown",
   "metadata": {},
   "source": [
    "```\n",
    "note: kubectl run --generator=deployment/apps.v1 is DEPRECATED and will be removed in a future version. Use kubectl run --generator=run-pod/v1 or kubectl create instead.\n",
    "\n",
    "kubectl run my-nginx --image nginx --generator=run-pod/v1\n",
    "```"
   ]
  },
  {
   "cell_type": "markdown",
   "metadata": {},
   "source": [
    "---"
   ]
  },
  {
   "cell_type": "markdown",
   "metadata": {},
   "source": [
    "### kubectl create"
   ]
  },
  {
   "cell_type": "code",
   "execution_count": 10,
   "metadata": {},
   "outputs": [
    {
     "name": "stdout",
     "output_type": "stream",
     "text": [
      "Create a resource from a file or from stdin.\n",
      "\n",
      " JSON and YAML formats are accepted.\n",
      "\n",
      "Examples:\n",
      "  # Create a pod using the data in pod.json.\n",
      "  kubectl create -f ./pod.json\n",
      "  \n",
      "  # Create a pod based on the JSON passed into stdin.\n",
      "  cat pod.json | kubectl create -f -\n",
      "  \n",
      "  # Edit the data in docker-registry.yaml in JSON then create the resource using\n",
      "the edited data.\n",
      "  kubectl create -f docker-registry.yaml --edit -o json\n",
      "\n",
      "Available Commands:\n",
      "  clusterrole         Create a ClusterRole.\n",
      "  clusterrolebinding  Create a ClusterRoleBinding for a particular ClusterRole\n",
      "  configmap           Create a configmap from a local file, directory or literal\n",
      "value\n",
      "  cronjob             Create a cronjob with the specified name.\n",
      "  deployment          Create a deployment with the specified name.\n",
      "  job                 Create a job with the specified name.\n",
      "  namespace           Create a namespace with the specified name\n",
      "  poddisruptionbudget Create a pod disruption budget with the specified name.\n",
      "  priorityclass       Create a priorityclass with the specified name.\n",
      "  quota               Create a quota with the specified name.\n",
      "  role                Create a role with single rule.\n",
      "  rolebinding         Create a RoleBinding for a particular Role or ClusterRole\n",
      "  secret              Create a secret using specified subcommand\n",
      "  service             Create a service using specified subcommand.\n",
      "  serviceaccount      Create a service account with the specified name\n",
      "\n",
      "Options:\n",
      "      --allow-missing-template-keys=true: If true, ignore any errors in\n",
      "templates when a field or map key is missing in the template. Only applies to\n",
      "golang and jsonpath output formats.\n",
      "      --dry-run=false: If true, only print the object that would be sent,\n",
      "without sending it.\n",
      "      --edit=false: Edit the API resource before creating\n",
      "  -f, --filename=[]: Filename, directory, or URL to files to use to create the\n",
      "resource\n",
      "  -k, --kustomize='': Process the kustomization directory. This flag can't be\n",
      "used together with -f or -R.\n",
      "  -o, --output='': Output format. One of:\n",
      "json|yaml|name|go-template|go-template-file|template|templatefile|jsonpath|jsonpath-file.\n",
      "      --raw='': Raw URI to POST to the server.  Uses the transport specified by\n",
      "the kubeconfig file.\n",
      "      --record=false: Record current kubectl command in the resource annotation.\n",
      "If set to false, do not record the command. If set to true, record the command.\n",
      "If not set, default to updating the existing annotation value only if one\n",
      "already exists.\n",
      "  -R, --recursive=false: Process the directory used in -f, --filename\n",
      "recursively. Useful when you want to manage related manifests organized within\n",
      "the same directory.\n",
      "      --save-config=false: If true, the configuration of current object will be\n",
      "saved in its annotation. Otherwise, the annotation will be unchanged. This flag\n",
      "is useful when you want to perform kubectl apply on this object in the future.\n",
      "  -l, --selector='': Selector (label query) to filter on, supports '=', '==',\n",
      "and '!='.(e.g. -l key1=value1,key2=value2)\n",
      "      --template='': Template string or path to template file to use when\n",
      "-o=go-template, -o=go-template-file. The template format is golang templates\n",
      "[http://golang.org/pkg/text/template/#pkg-overview].\n",
      "      --validate=true: If true, use a schema to validate the input before\n",
      "sending it\n",
      "      --windows-line-endings=false: Only relevant if --edit=true. Defaults to\n",
      "the line ending native to your platform.\n",
      "\n",
      "Usage:\n",
      "  kubectl create -f FILENAME [options]\n",
      "\n",
      "Use \"kubectl <command> --help\" for more information about a given command.\n",
      "Use \"kubectl options\" for a list of global command-line options (applies to all\n",
      "commands).\n"
     ]
    }
   ],
   "source": [
    "kubectl create --help"
   ]
  },
  {
   "cell_type": "markdown",
   "metadata": {},
   "source": [
    "---"
   ]
  },
  {
   "cell_type": "code",
   "execution_count": null,
   "metadata": {},
   "outputs": [],
   "source": []
  }
 ],
 "metadata": {
  "kernelspec": {
   "display_name": "Bash",
   "language": "bash",
   "name": "bash"
  },
  "language_info": {
   "codemirror_mode": "shell",
   "file_extension": ".sh",
   "mimetype": "text/x-sh",
   "name": "bash"
  }
 },
 "nbformat": 4,
 "nbformat_minor": 4
}
