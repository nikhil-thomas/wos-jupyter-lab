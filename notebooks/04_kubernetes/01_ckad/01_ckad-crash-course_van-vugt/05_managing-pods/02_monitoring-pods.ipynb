{
 "cells": [
  {
   "cell_type": "markdown",
   "metadata": {},
   "source": [
    "# monitoring pods"
   ]
  },
  {
   "cell_type": "markdown",
   "metadata": {},
   "source": [
    "## security context\n",
    "\n",
    "defines access control setting and privilleges for a container"
   ]
  },
  {
   "cell_type": "code",
   "execution_count": 6,
   "metadata": {},
   "outputs": [],
   "source": [
    "kubectl run busybox-sc --generator run-pod/v1 --dry-run --image busybox -o yaml > busbox-sc.yaml"
   ]
  },
  {
   "cell_type": "code",
   "execution_count": 8,
   "metadata": {},
   "outputs": [
    {
     "name": "stdout",
     "output_type": "stream",
     "text": [
      "pod/busybox-sc created\n"
     ]
    }
   ],
   "source": [
    "kubectl apply -f busbox-sc-added.yaml"
   ]
  },
  {
   "cell_type": "code",
   "execution_count": 10,
   "metadata": {},
   "outputs": [
    {
     "name": "stdout",
     "output_type": "stream",
     "text": [
      "NAME         READY   STATUS                       RESTARTS   AGE\n",
      "busybox-sc   0/1     CreateContainerConfigError   0          64s\n"
     ]
    }
   ],
   "source": [
    "kubectl get pod busybox-sc"
   ]
  },
  {
   "cell_type": "code",
   "execution_count": 11,
   "metadata": {},
   "outputs": [
    {
     "name": "stdout",
     "output_type": "stream",
     "text": [
      "Name:         busybox-sc\n",
      "Namespace:    default\n",
      "Priority:     0\n",
      "Node:         minikube/192.168.122.65\n",
      "Start Time:   Wed, 09 Oct 2019 07:02:11 +0530\n",
      "Labels:       run=busybox-sc\n",
      "Annotations:  kubectl.kubernetes.io/last-applied-configuration:\n",
      "                {\"apiVersion\":\"v1\",\"kind\":\"Pod\",\"metadata\":{\"annotations\":{},\"creationTimestamp\":null,\"labels\":{\"run\":\"busybox-sc\"},\"name\":\"busybox-sc\",\"n...\n",
      "Status:       Pending\n",
      "IP:           172.17.0.10\n",
      "Containers:\n",
      "  busybox-sc:\n",
      "    Container ID:   \n",
      "    Image:          busybox\n",
      "    Image ID:       \n",
      "    Port:           <none>\n",
      "    Host Port:      <none>\n",
      "    State:          Waiting\n",
      "      Reason:       CreateContainerConfigError\n",
      "    Ready:          False\n",
      "    Restart Count:  0\n",
      "    Environment:    <none>\n",
      "    Mounts:\n",
      "      /var/run/secrets/kubernetes.io/serviceaccount from default-token-zf5px (ro)\n",
      "Conditions:\n",
      "  Type              Status\n",
      "  Initialized       True \n",
      "  Ready             False \n",
      "  ContainersReady   False \n",
      "  PodScheduled      True \n",
      "Volumes:\n",
      "  default-token-zf5px:\n",
      "    Type:        Secret (a volume populated by a Secret)\n",
      "    SecretName:  default-token-zf5px\n",
      "    Optional:    false\n",
      "QoS Class:       BestEffort\n",
      "Node-Selectors:  <none>\n",
      "Tolerations:     node.kubernetes.io/not-ready:NoExecute for 300s\n",
      "                 node.kubernetes.io/unreachable:NoExecute for 300s\n",
      "Events:\n",
      "  Type     Reason     Age                From               Message\n",
      "  ----     ------     ----               ----               -------\n",
      "  Normal   Scheduled  87s                default-scheduler  Successfully assigned default/busybox-sc to minikube\n",
      "  Normal   Pulling    17s (x5 over 87s)  kubelet, minikube  Pulling image \"busybox\"\n",
      "  Normal   Pulled     11s (x5 over 80s)  kubelet, minikube  Successfully pulled image \"busybox\"\n",
      "  Warning  Failed     11s (x5 over 80s)  kubelet, minikube  Error: container has runAsNonRoot and image will run as root\n"
     ]
    }
   ],
   "source": [
    "kubectl describe pod/busybox-sc"
   ]
  },
  {
   "cell_type": "code",
   "execution_count": 12,
   "metadata": {},
   "outputs": [
    {
     "name": "stdout",
     "output_type": "stream",
     "text": [
      "pod \"busybox-sc\" deleted\n"
     ]
    }
   ],
   "source": [
    "kubectl delete -f busbox-sc-added.yaml"
   ]
  },
  {
   "cell_type": "code",
   "execution_count": null,
   "metadata": {},
   "outputs": [],
   "source": []
  }
 ],
 "metadata": {
  "kernelspec": {
   "display_name": "Bash",
   "language": "bash",
   "name": "bash"
  },
  "language_info": {
   "codemirror_mode": "shell",
   "file_extension": ".sh",
   "mimetype": "text/x-sh",
   "name": "bash"
  }
 },
 "nbformat": 4,
 "nbformat_minor": 4
}
