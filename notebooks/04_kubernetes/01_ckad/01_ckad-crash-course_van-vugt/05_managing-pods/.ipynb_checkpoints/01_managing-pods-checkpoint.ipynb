{
 "cells": [
  {
   "cell_type": "markdown",
   "metadata": {},
   "source": [
    "# 05 Managing Pods"
   ]
  },
  {
   "cell_type": "markdown",
   "metadata": {},
   "source": [
    "- abstraction of a server (virtual machine, host ?)\n",
    "- multiple containrers under same namepsace exposef at a single ip"
   ]
  },
  {
   "cell_type": "markdown",
   "metadata": {},
   "source": [
    "\n",
    "- deployments are used to schdule pods\n",
    "-naked pods are not re-scheduled in case of nore failure"
   ]
  },
  {
   "cell_type": "markdown",
   "metadata": {},
   "source": [
    "---\n",
    "## kubectl run\n",
    "\n",
    "```\n",
    "kubectl run <podname> --image=<imagename:tag>\n",
    "```"
   ]
  },
  {
   "cell_type": "markdown",
   "metadata": {},
   "source": [
    "### busybox.yaml\n",
    "```\n",
    "apiVersion: v1\n",
    "kind: Pod\n",
    "metadata:\n",
    "  Name: busybox2\n",
    "  Namespace: default\n",
    "spec:\n",
    "  containers:\n",
    "  - name: busy\n",
    "    image: busybox\n",
    "    command:\n",
    "    - sleep\n",
    "    - \"3600\"\n",
    "```"
   ]
  },
  {
   "cell_type": "code",
   "execution_count": null,
   "metadata": {},
   "outputs": [],
   "source": []
  }
 ],
 "metadata": {
  "kernelspec": {
   "display_name": "Bash",
   "language": "bash",
   "name": "bash"
  },
  "language_info": {
   "codemirror_mode": "shell",
   "file_extension": ".sh",
   "mimetype": "text/x-sh",
   "name": "bash"
  }
 },
 "nbformat": 4,
 "nbformat_minor": 4
}
