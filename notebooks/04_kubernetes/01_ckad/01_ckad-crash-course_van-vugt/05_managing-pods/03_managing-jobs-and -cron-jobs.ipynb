{
 "cells": [
  {
   "cell_type": "markdown",
   "metadata": {},
   "source": [
    "# Managing jobs and cron jobs"
   ]
  },
  {
   "cell_type": "markdown",
   "metadata": {},
   "source": [
    "# job types\n",
    "\n",
    "1. Non parallel jobs\n",
    "   - parallel=1\n",
    "   - completion=1\n",
    "1. Parallel jobs with fixed compeltion count\n",
    "   - parallel=m\n",
    "   - completion=n\n",
    "1. Parallel jobs with workqueue\n",
    "   - parallel=m\n",
    "   - completion=1\n"
   ]
  },
  {
   "cell_type": "code",
   "execution_count": 8,
   "metadata": {},
   "outputs": [
    {
     "name": "stdout",
     "output_type": "stream",
     "text": [
      "kubectl run --generator=job/v1 is DEPRECATED and will be removed in a future version. Use kubectl run --generator=run-pod/v1 or kubectl create instead.\n",
      "apiVersion: batch/v1\n",
      "kind: Job\n",
      "metadata:\n",
      "  creationTimestamp: null\n",
      "  labels:\n",
      "    run: job1\n",
      "  name: job1\n",
      "spec:\n",
      "  template:\n",
      "    metadata:\n",
      "      creationTimestamp: null\n",
      "      labels:\n",
      "        run: job1\n",
      "    spec:\n",
      "      containers:\n",
      "      - command:\n",
      "        - /bin/sleep\n",
      "        - \"5\"\n",
      "        image: busybox\n",
      "        name: job1\n",
      "        resources: {}\n",
      "      restartPolicy: Never\n",
      "status: {}\n"
     ]
    }
   ],
   "source": [
    "kubectl run job1 --generator job/v1 --restart Never --image busybox --command /bin/sleep 5 --dry-run -o yaml"
   ]
  },
  {
   "cell_type": "markdown",
   "metadata": {},
   "source": [
    "---\n",
    "\n",
    "## cron jobs"
   ]
  },
  {
   "cell_type": "code",
   "execution_count": 10,
   "metadata": {},
   "outputs": [
    {
     "name": "stdout",
     "output_type": "stream",
     "text": [
      "KIND:     CronJob\n",
      "VERSION:  batch/v1beta1\n",
      "\n",
      "RESOURCE: spec <Object>\n",
      "\n",
      "DESCRIPTION:\n",
      "     Specification of the desired behavior of a cron job, including the\n",
      "     schedule. More info:\n",
      "     https://git.k8s.io/community/contributors/devel/api-conventions.md#spec-and-status\n",
      "\n",
      "     CronJobSpec describes how the job execution will look like and when it will\n",
      "     actually run.\n",
      "\n",
      "FIELDS:\n",
      "   concurrencyPolicy\t<string>\n",
      "     Specifies how to treat concurrent executions of a Job. Valid values are: -\n",
      "     \"Allow\" (default): allows CronJobs to run concurrently; - \"Forbid\": forbids\n",
      "     concurrent runs, skipping next run if previous run hasn't finished yet; -\n",
      "     \"Replace\": cancels currently running job and replaces it with a new one\n",
      "\n",
      "   failedJobsHistoryLimit\t<integer>\n",
      "     The number of failed finished jobs to retain. This is a pointer to\n",
      "     distinguish between explicit zero and not specified. Defaults to 1.\n",
      "\n",
      "   jobTemplate\t<Object> -required-\n",
      "     Specifies the job that will be created when executing a CronJob.\n",
      "\n",
      "   schedule\t<string> -required-\n",
      "     The schedule in Cron format, see https://en.wikipedia.org/wiki/Cron.\n",
      "\n",
      "   startingDeadlineSeconds\t<integer>\n",
      "     Optional deadline in seconds for starting the job if it misses scheduled\n",
      "     time for any reason. Missed jobs executions will be counted as failed ones.\n",
      "\n",
      "   successfulJobsHistoryLimit\t<integer>\n",
      "     The number of successful finished jobs to retain. This is a pointer to\n",
      "     distinguish between explicit zero and not specified. Defaults to 3.\n",
      "\n",
      "   suspend\t<boolean>\n",
      "     This flag tells the controller to suspend subsequent executions, it does\n",
      "     not apply to already started executions. Defaults to false.\n",
      "\n"
     ]
    }
   ],
   "source": [
    "kubectl explain cronjob.spec"
   ]
  },
  {
   "cell_type": "code",
   "execution_count": null,
   "metadata": {},
   "outputs": [],
   "source": []
  }
 ],
 "metadata": {
  "kernelspec": {
   "display_name": "Bash",
   "language": "bash",
   "name": "bash"
  },
  "language_info": {
   "codemirror_mode": "shell",
   "file_extension": ".sh",
   "mimetype": "text/x-sh",
   "name": "bash"
  }
 },
 "nbformat": 4,
 "nbformat_minor": 4
}
