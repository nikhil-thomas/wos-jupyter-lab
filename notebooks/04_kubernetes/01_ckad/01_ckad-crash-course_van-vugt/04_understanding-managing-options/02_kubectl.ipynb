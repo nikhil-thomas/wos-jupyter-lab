{
 "cells": [
  {
   "cell_type": "markdown",
   "metadata": {},
   "source": [
    "# kubectl"
   ]
  },
  {
   "cell_type": "markdown",
   "metadata": {},
   "source": [
    "## kubectl config"
   ]
  },
  {
   "cell_type": "code",
   "execution_count": 1,
   "metadata": {},
   "outputs": [
    {
     "name": "stdout",
     "output_type": "stream",
     "text": [
      "Modify kubeconfig files using subcommands like \"kubectl config set\n",
      "current-context my-context\"\n",
      "\n",
      " The loading order follows these rules:\n",
      "\n",
      "  1.  If the --kubeconfig flag is set, then only that file is loaded. The flag\n",
      "may only be set once and no merging takes place.\n",
      "  2.  If $KUBECONFIG environment variable is set, then it is used as a list of\n",
      "paths (normal path delimiting rules for your system). These paths are merged.\n",
      "When a value is modified, it is modified in the file that defines the stanza.\n",
      "When a value is created, it is created in the first file that exists. If no\n",
      "files in the chain exist, then it creates the last file in the list.\n",
      "  3.  Otherwise, ${HOME}/.kube/config is used and no merging takes place.\n",
      "\n",
      "Available Commands:\n",
      "  current-context Displays the current-context\n",
      "  delete-cluster  Delete the specified cluster from the kubeconfig\n",
      "  delete-context  Delete the specified context from the kubeconfig\n",
      "  get-clusters    Display clusters defined in the kubeconfig\n",
      "  get-contexts    Describe one or many contexts\n",
      "  rename-context  Renames a context from the kubeconfig file.\n",
      "  set             Sets an individual value in a kubeconfig file\n",
      "  set-cluster     Sets a cluster entry in kubeconfig\n",
      "  set-context     Sets a context entry in kubeconfig\n",
      "  set-credentials Sets a user entry in kubeconfig\n",
      "  unset           Unsets an individual value in a kubeconfig file\n",
      "  use-context     Sets the current-context in a kubeconfig file\n",
      "  view            Display merged kubeconfig settings or a specified kubeconfig\n",
      "file\n",
      "\n",
      "Usage:\n",
      "  kubectl config SUBCOMMAND [options]\n",
      "\n",
      "Use \"kubectl <command> --help\" for more information about a given command.\n",
      "Use \"kubectl options\" for a list of global command-line options (applies to all\n",
      "commands).\n"
     ]
    },
    {
     "ename": "",
     "evalue": "1",
     "output_type": "error",
     "traceback": []
    }
   ],
   "source": [
    "kubectl config"
   ]
  },
  {
   "cell_type": "code",
   "execution_count": null,
   "metadata": {},
   "outputs": [],
   "source": []
  }
 ],
 "metadata": {
  "kernelspec": {
   "display_name": "Bash",
   "language": "bash",
   "name": "bash"
  },
  "language_info": {
   "codemirror_mode": "shell",
   "file_extension": ".sh",
   "mimetype": "text/x-sh",
   "name": "bash"
  }
 },
 "nbformat": 4,
 "nbformat_minor": 4
}
