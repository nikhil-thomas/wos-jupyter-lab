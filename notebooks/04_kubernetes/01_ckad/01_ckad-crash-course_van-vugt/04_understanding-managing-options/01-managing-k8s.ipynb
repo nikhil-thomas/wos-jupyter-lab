{
 "cells": [
  {
   "cell_type": "markdown",
   "metadata": {},
   "source": [
    "# Managing Options"
   ]
  },
  {
   "cell_type": "markdown",
   "metadata": {},
   "source": [
    "**main api documentation:** https://kubernetes.io/docs/reference/generated/kubernetes-api/v1.15/\n",
    "\n",
    "**using api:** https://kubernetes.io/docs/reference/using-api/api-overview/"
   ]
  },
  {
   "cell_type": "code",
   "execution_count": 1,
   "metadata": {},
   "outputs": [
    {
     "name": "stdout",
     "output_type": "stream",
     "text": [
      "NAME                              SHORTNAMES   APIGROUP                       NAMESPACED   KIND\n",
      "bindings                                                                      true         Binding\n",
      "componentstatuses                 cs                                          false        ComponentStatus\n",
      "configmaps                        cm                                          true         ConfigMap\n",
      "endpoints                         ep                                          true         Endpoints\n",
      "events                            ev                                          true         Event\n",
      "limitranges                       limits                                      true         LimitRange\n",
      "namespaces                        ns                                          false        Namespace\n",
      "nodes                             no                                          false        Node\n",
      "persistentvolumeclaims            pvc                                         true         PersistentVolumeClaim\n",
      "persistentvolumes                 pv                                          false        PersistentVolume\n",
      "pods                              po                                          true         Pod\n",
      "podtemplates                                                                  true         PodTemplate\n",
      "replicationcontrollers            rc                                          true         ReplicationController\n",
      "resourcequotas                    quota                                       true         ResourceQuota\n",
      "secrets                                                                       true         Secret\n",
      "serviceaccounts                   sa                                          true         ServiceAccount\n",
      "services                          svc                                         true         Service\n",
      "mutatingwebhookconfigurations                  admissionregistration.k8s.io   false        MutatingWebhookConfiguration\n",
      "validatingwebhookconfigurations                admissionregistration.k8s.io   false        ValidatingWebhookConfiguration\n"
     ]
    }
   ],
   "source": [
    "kubectl api-resources | head -n 20"
   ]
  },
  {
   "cell_type": "code",
   "execution_count": 2,
   "metadata": {},
   "outputs": [
    {
     "name": "stdout",
     "output_type": "stream",
     "text": [
      "admissionregistration.k8s.io/v1beta1\n",
      "apiextensions.k8s.io/v1beta1\n",
      "apiregistration.k8s.io/v1\n",
      "apiregistration.k8s.io/v1beta1\n",
      "apps/v1\n",
      "apps/v1beta1\n",
      "apps/v1beta2\n",
      "authentication.k8s.io/v1\n",
      "authentication.k8s.io/v1beta1\n",
      "authorization.k8s.io/v1\n",
      "authorization.k8s.io/v1beta1\n",
      "autoscaling/v1\n",
      "autoscaling/v2beta1\n",
      "autoscaling/v2beta2\n",
      "batch/v1\n",
      "batch/v1beta1\n",
      "certificates.k8s.io/v1beta1\n",
      "coordination.k8s.io/v1\n",
      "coordination.k8s.io/v1beta1\n",
      "events.k8s.io/v1beta1\n"
     ]
    }
   ],
   "source": [
    "kubectl api-versions | head -n 20"
   ]
  },
  {
   "cell_type": "code",
   "execution_count": 3,
   "metadata": {},
   "outputs": [
    {
     "name": "stdout",
     "output_type": "stream",
     "text": [
      "Print the supported API resources on the server\n",
      "\n",
      "Examples:\n",
      "  # Print the supported API Resources\n",
      "  kubectl api-resources\n",
      "  \n",
      "  # Print the supported API Resources with more information\n",
      "  kubectl api-resources -o wide\n",
      "  \n",
      "  # Print the supported namespaced resources\n",
      "  kubectl api-resources --namespaced=true\n",
      "  \n",
      "  # Print the supported non-namespaced resources\n",
      "  kubectl api-resources --namespaced=false\n",
      "  \n",
      "  # Print the supported API Resources with specific APIGroup\n",
      "  kubectl api-resources --api-group=extensions\n",
      "\n",
      "Options:\n",
      "      --api-group='': Limit to resources in the specified API group.\n",
      "      --cached=false: Use the cached list of resources if available.\n",
      "      --namespaced=true: If false, non-namespaced resources will be returned,\n",
      "otherwise returning namespaced resources by default.\n",
      "      --no-headers=false: When using the default or custom-column output format,\n",
      "don't print headers (default print headers).\n",
      "  -o, --output='': Output format. One of: wide|name.\n",
      "      --verbs=[]: Limit to resources that support the specified verbs.\n",
      "\n",
      "Usage:\n",
      "  kubectl api-resources [flags] [options]\n",
      "\n",
      "Use \"kubectl options\" for a list of global command-line options (applies to all\n",
      "commands).\n"
     ]
    }
   ],
   "source": [
    "kubectl api-resources -h"
   ]
  },
  {
   "cell_type": "code",
   "execution_count": 4,
   "metadata": {},
   "outputs": [
    {
     "name": "stdout",
     "output_type": "stream",
     "text": [
      "Print the supported API versions on the server, in the form of \"group/version\"\n",
      "\n",
      "Examples:\n",
      "  # Print the supported API versions\n",
      "  kubectl api-versions\n",
      "\n",
      "Usage:\n",
      "  kubectl api-versions [flags] [options]\n",
      "\n",
      "Use \"kubectl options\" for a list of global command-line options (applies to all\n",
      "commands).\n"
     ]
    }
   ],
   "source": [
    "kubectl api-versions -h\n"
   ]
  },
  {
   "cell_type": "code",
   "execution_count": 5,
   "metadata": {},
   "outputs": [
    {
     "name": "stdout",
     "output_type": "stream",
     "text": [
      "The following options can be passed to any command:\n",
      "\n",
      "      --alsologtostderr=false: log to standard error as well as files\n",
      "      --as='': Username to impersonate for the operation\n",
      "      --as-group=[]: Group to impersonate for the operation, this flag can be\n",
      "repeated to specify multiple groups.\n",
      "      --cache-dir='/home/ncoder/.kube/http-cache': Default HTTP cache directory\n",
      "      --certificate-authority='': Path to a cert file for the certificate\n",
      "authority\n",
      "      --client-certificate='': Path to a client certificate file for TLS\n",
      "      --client-key='': Path to a client key file for TLS\n",
      "      --cluster='': The name of the kubeconfig cluster to use\n",
      "      --context='': The name of the kubeconfig context to use\n",
      "      --insecure-skip-tls-verify=false: If true, the server's certificate will\n",
      "not be checked for validity. This will make your HTTPS connections insecure\n",
      "      --kubeconfig='': Path to the kubeconfig file to use for CLI requests.\n",
      "      --log-backtrace-at=:0: when logging hits line file:N, emit a stack trace\n",
      "      --log-dir='': If non-empty, write log files in this directory\n",
      "      --log-file='': If non-empty, use this log file\n",
      "      --log-file-max-size=1800: Defines the maximum size a log file can grow to.\n",
      "Unit is megabytes. If the value is 0, the maximum file size is unlimited.\n",
      "      --log-flush-frequency=5s: Maximum number of seconds between log flushes\n",
      "      --logtostderr=true: log to standard error instead of files\n",
      "      --match-server-version=false: Require server version to match client\n",
      "version\n",
      "  -n, --namespace='': If present, the namespace scope for this CLI request\n",
      "      --password='': Password for basic authentication to the API server\n",
      "      --profile='none': Name of profile to capture. One of\n",
      "(none|cpu|heap|goroutine|threadcreate|block|mutex)\n",
      "      --profile-output='profile.pprof': Name of the file to write the profile to\n",
      "      --request-timeout='0': The length of time to wait before giving up on a\n",
      "single server request. Non-zero values should contain a corresponding time unit\n",
      "(e.g. 1s, 2m, 3h). A value of zero means don't timeout requests.\n",
      "  -s, --server='': The address and port of the Kubernetes API server\n",
      "      --skip-headers=false: If true, avoid header prefixes in the log messages\n",
      "      --skip-log-headers=false: If true, avoid headers when opening log files\n",
      "      --stderrthreshold=2: logs at or above this threshold go to stderr\n",
      "      --token='': Bearer token for authentication to the API server\n",
      "      --user='': The name of the kubeconfig user to use\n",
      "      --username='': Username for basic authentication to the API server\n",
      "  -v, --v=0: number for the log level verbosity\n",
      "      --vmodule=: comma-separated list of pattern=N settings for file-filtered\n",
      "logging\n"
     ]
    }
   ],
   "source": [
    "kubectl options"
   ]
  },
  {
   "cell_type": "code",
   "execution_count": 11,
   "metadata": {},
   "outputs": [
    {
     "name": "stdout",
     "output_type": "stream",
     "text": [
      "NAME                                        READY   STATUS    RESTARTS   AGE\n",
      "coredns-5c98db65d4-6n8rw                    1/1     Running   2          91m\n",
      "coredns-5c98db65d4-wt29k                    1/1     Running   2          91m\n",
      "etcd-minikube                               1/1     Running   1          90m\n",
      "kube-addon-manager-minikube                 1/1     Running   1          90m\n",
      "kube-apiserver-minikube                     1/1     Running   1          90m\n",
      "kube-controller-manager-minikube            1/1     Running   1          90m\n",
      "kube-proxy-cdsjx                            1/1     Running   1          91m\n",
      "kube-scheduler-minikube                     1/1     Running   1          90m\n",
      "kubernetes-dashboard-7b8ddcb5d6-strk2       1/1     Running   3          91m\n",
      "nginx-ingress-controller-5d9cf9c69f-jv79n   1/1     Running   1          91m\n",
      "storage-provisioner                         1/1     Running   3          91m\n"
     ]
    }
   ],
   "source": [
    "kubectl get pods --namespace kube-system"
   ]
  },
  {
   "cell_type": "code",
   "execution_count": 14,
   "metadata": {},
   "outputs": [],
   "source": [
    "kubectl get pods --namespace kube-system -v 10 &> kubectl-get-pods-v-10"
   ]
  },
  {
   "cell_type": "code",
   "execution_count": null,
   "metadata": {},
   "outputs": [],
   "source": []
  }
 ],
 "metadata": {
  "kernelspec": {
   "display_name": "Bash",
   "language": "bash",
   "name": "bash"
  },
  "language_info": {
   "codemirror_mode": "shell",
   "file_extension": ".sh",
   "mimetype": "text/x-sh",
   "name": "bash"
  }
 },
 "nbformat": 4,
 "nbformat_minor": 4
}
