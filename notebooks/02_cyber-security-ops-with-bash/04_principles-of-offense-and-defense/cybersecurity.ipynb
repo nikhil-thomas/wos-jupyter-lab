{
 "cells": [
  {
   "cell_type": "markdown",
   "metadata": {},
   "source": [
    "## Cybersecurity\n",
    "- Confidentiality\n",
    "- Integrity\n",
    "- Availability\n",
    "- Nonrepudiation\n",
    "- Authentication"
   ]
  },
  {
   "cell_type": "markdown",
   "metadata": {},
   "source": [
    "### Confidentiality\n",
    "Encryption and access control are typical mechanisms used to protect confidentiality.\n",
    "\n",
    "### Integrity\n",
    "Cryptographic Hashing to ensure Integrity of information\n",
    "\n",
    "### Availability\n",
    "Redundancy, data and power backups, and failover sites are typically used to maintain high availability rates.\n",
    "\n",
    "### Nonrepudiation\n",
    "Common methods to ensure nonrepudiation include user authentication, digital signatures, and system logging.\n",
    "\n",
    "### Authentication\n",
    "Common mechanisms used for authentication include usernames and passwords, electronic key cards, and biometrics.\n"
   ]
  },
  {
   "cell_type": "markdown",
   "metadata": {},
   "source": [
    "## Attack Lifecycle\n",
    "- Reconnaissance\n",
    "    - Active and Passive\n",
    "- Initial Exploitation\n",
    "- Establish Foothold\n",
    "- Escalate Privileges\n",
    "- Internal Reconnaissance\n",
    "- Lateral Movement\n",
    "- Maintain Presence\n",
    "- Complete Mission"
   ]
  },
  {
   "cell_type": "code",
   "execution_count": null,
   "metadata": {},
   "outputs": [],
   "source": []
  }
 ],
 "metadata": {
  "kernelspec": {
   "display_name": "Bash",
   "language": "bash",
   "name": "bash"
  },
  "language_info": {
   "codemirror_mode": "shell",
   "file_extension": ".sh",
   "mimetype": "text/x-sh",
   "name": "bash"
  }
 },
 "nbformat": 4,
 "nbformat_minor": 4
}
