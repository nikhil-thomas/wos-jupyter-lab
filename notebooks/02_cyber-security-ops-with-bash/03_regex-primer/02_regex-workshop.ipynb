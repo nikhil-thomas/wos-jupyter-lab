{
 "cells": [
  {
   "cell_type": "markdown",
   "metadata": {},
   "source": [
    "# C3 Regular Expression Primer (Workshop)\n"
   ]
  },
  {
   "cell_type": "markdown",
   "metadata": {},
   "source": [
    "## floating point\n"
   ]
  },
  {
   "cell_type": "code",
   "execution_count": 10,
   "metadata": {},
   "outputs": [
    {
     "name": "stdout",
     "output_type": "stream",
     "text": [
      "\u001b[01;31m\u001b[K3.5\u001b[m\u001b[K\n",
      "\u001b[01;31m\u001b[K0.123\u001b[m\u001b[K\n",
      "\u001b[01;31m\u001b[K.123\u001b[m\u001b[K\n"
     ]
    }
   ],
   "source": [
    "egrep '[[:digit:]]?\\.[[:digit:]]+' wshp.txt"
   ]
  },
  {
   "cell_type": "markdown",
   "metadata": {},
   "source": [
    "## back reference\n"
   ]
  },
  {
   "cell_type": "code",
   "execution_count": 22,
   "metadata": {},
   "outputs": [
    {
     "name": "stdout",
     "output_type": "stream",
     "text": [
      "\u001b[01;31m\u001b[K34 = 34\u001b[m\u001b[K\n",
      "\u001b[01;31m\u001b[K1 = 1\u001b[m\u001b[K\n",
      "\u001b[01;31m\u001b[K7=7\u001b[m\u001b[K\n"
     ]
    }
   ],
   "source": [
    "egrep '(\\b[[:digit:]]+)\\s*=\\s*\\1' wshp.txt"
   ]
  },
  {
   "cell_type": "markdown",
   "metadata": {},
   "source": [
    "## start and end digit"
   ]
  },
  {
   "cell_type": "code",
   "execution_count": 25,
   "metadata": {},
   "outputs": [
    {
     "name": "stdout",
     "output_type": "stream",
     "text": [
      "\u001b[01;31m\u001b[K234\u001b[m\u001b[K\n",
      "\u001b[01;31m\u001b[K3.5\u001b[m\u001b[K\n",
      "\u001b[01;31m\u001b[K0.123\u001b[m\u001b[K\n",
      "\u001b[01;31m\u001b[K34 = 34\u001b[m\u001b[K\n",
      "\u001b[01;31m\u001b[K54 = 123123\u001b[m\u001b[K\n",
      "\u001b[01;31m\u001b[K1  =  1\u001b[m\u001b[K\n",
      "\u001b[01;31m\u001b[K7=7\u001b[m\u001b[K\n",
      "\u001b[01;31m\u001b[K123=312\u001b[m\u001b[K\n",
      "\u001b[01;31m\u001b[K12adfasdfasdfasdf3\u001b[m\u001b[K\n",
      "\u001b[01;31m\u001b[K324234as d3\u001b[m\u001b[K\n"
     ]
    }
   ],
   "source": [
    "grep '^[[:digit:]].*[[:digit:]]$' wshp.txt"
   ]
  },
  {
   "cell_type": "markdown",
   "metadata": {},
   "source": [
    "## ip addr grouping"
   ]
  },
  {
   "cell_type": "code",
   "execution_count": 1,
   "metadata": {},
   "outputs": [
    {
     "name": "stdout",
     "output_type": "stream",
     "text": [
      "\u001b[01;31m\u001b[K10.0.0.25\u001b[m\u001b[K\n",
      "\u001b[01;31m\u001b[K10.0.0.12\u001b[m\u001b[K\n"
     ]
    }
   ],
   "source": [
    "egrep '10\\.0\\.0\\.(25|12)' wshp.txt"
   ]
  },
  {
   "cell_type": "markdown",
   "metadata": {},
   "source": [
    "## quantifier\n",
    "\n"
   ]
  },
  {
   "cell_type": "code",
   "execution_count": 6,
   "metadata": {},
   "outputs": [
    {
     "name": "stdout",
     "output_type": "stream",
     "text": [
      "\u001b[01;31m\u001b[K0x90 0x90 0x90\u001b[m\u001b[K\n"
     ]
    }
   ],
   "source": [
    "egrep  '(0x90\\s?){3}' wshp.txt"
   ]
  },
  {
   "cell_type": "code",
   "execution_count": 2,
   "metadata": {},
   "outputs": [
    {
     "name": "stdout",
     "output_type": "stream",
     "text": [
      "\u001b[01;31m\u001b[K10.0.0.25\u001b[m\u001b[K\n",
      "\u001b[01;31m\u001b[K10.0.0.12\u001b[m\u001b[K\n"
     ]
    }
   ],
   "source": [
    "egrep '10\\.0\\.0\\.(12|25)' wshp.txt"
   ]
  },
  {
   "cell_type": "code",
   "execution_count": 3,
   "metadata": {},
   "outputs": [
    {
     "name": "stdout",
     "output_type": "stream",
     "text": [
      "grep: Unmatched [, [^, [:, [., or [=\n"
     ]
    },
    {
     "ename": "",
     "evalue": "2",
     "output_type": "error",
     "traceback": []
    }
   ],
   "source": [
    "egrep '([[:digit]])\\s*=\\s*\\1' wshp.txt"
   ]
  },
  {
   "cell_type": "code",
   "execution_count": null,
   "metadata": {},
   "outputs": [],
   "source": []
  }
 ],
 "metadata": {
  "kernelspec": {
   "display_name": "Bash",
   "language": "bash",
   "name": "bash"
  },
  "language_info": {
   "codemirror_mode": "shell",
   "file_extension": ".sh",
   "mimetype": "text/x-sh",
   "name": "bash"
  }
 },
 "nbformat": 4,
 "nbformat_minor": 4
}
