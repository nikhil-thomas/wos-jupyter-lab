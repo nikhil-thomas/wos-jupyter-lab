{
 "cells": [
  {
   "cell_type": "markdown",
   "metadata": {},
   "source": [
    "# C3 Regular Expressions PRimer\n",
    "\n",
    "only one place is bash where regex is valid\n",
    "=~ operator in [[ ]]"
   ]
  },
  {
   "cell_type": "markdown",
   "metadata": {},
   "source": [
    "also used with grep, sed, awk"
   ]
  },
  {
   "cell_type": "markdown",
   "metadata": {},
   "source": [
    "## grep\n",
    "\n",
    "searches content of files for given pattern"
   ]
  },
  {
   "cell_type": "markdown",
   "metadata": {},
   "source": [
    "### common options\n",
    "\n",
    "-c Count number of lines that match the pattern\n",
    "\n",
    "-E Enable extended regular expressions\n",
    "\n",
    "-f read search patterns from a provided file. a file can contain more than one pattern, with each containing a single pattern\n",
    "\n",
    "-i ignore case\n",
    "\n",
    "-l print only the filename and path where the pattern was found\n",
    "\n",
    "-n Print the line number of the file where the pattern was found\n",
    "\n",
    "-P Enable Perl regular expression engine\n",
    "\n",
    "-R, -r Recursively search subdirectories\n"
   ]
  },
  {
   "cell_type": "markdown",
   "metadata": {},
   "source": [
    "**usage:** grep options pattern filename"
   ]
  },
  {
   "cell_type": "code",
   "execution_count": 6,
   "metadata": {},
   "outputs": [
    {
     "name": "stdout",
     "output_type": "stream",
     "text": [
      "/usr/local/bin/jl/notebooks/02_cyber-security-ops-with-bash/03_regex-primer\n"
     ]
    }
   ],
   "source": [
    "grep -R -i 'password'"
   ]
  },
  {
   "cell_type": "markdown",
   "metadata": {},
   "source": [
    "## grep and egrep"
   ]
  },
  {
   "cell_type": "markdown",
   "metadata": {},
   "source": [
    "3 ways to tell grep that we want special meaning on certain chracters\n",
    "\n",
    "1. preceding those characters with a backslash\n",
    "2. grep -E\n",
    "3. egrep\n",
    "\n",
    "the only characters affected by the extended syntax are ? + { | ( and )"
   ]
  },
  {
   "cell_type": "code",
   "execution_count": 12,
   "metadata": {},
   "outputs": [
    {
     "name": "stdout",
     "output_type": "stream",
     "text": [
      "1    Two roads diverged in a yellow wood,\n",
      "2    And sorry I could not travel both\n",
      "3    And be one traveler, long I stood\n",
      "4    And looked down one as far as I could\n",
      "5    To where it bent in the undergrowth;\n",
      "6\n",
      "7 Excerpt from The Road Not Taken by Robert Frost"
     ]
    }
   ],
   "source": [
    "cat frost.txt"
   ]
  },
  {
   "cell_type": "markdown",
   "metadata": {},
   "source": [
    "## \".\" Metacharacter"
   ]
  },
  {
   "cell_type": "markdown",
   "metadata": {},
   "source": [
    "match any haracter other than newline"
   ]
  },
  {
   "cell_type": "code",
   "execution_count": 11,
   "metadata": {},
   "outputs": [
    {
     "name": "stdout",
     "output_type": "stream",
     "text": [
      "1    \u001b[01;31m\u001b[KTwo\u001b[m\u001b[K roads diverged in a yellow wood,\n"
     ]
    }
   ],
   "source": [
    "grep 'T.o' frost.txt"
   ]
  },
  {
   "cell_type": "code",
   "execution_count": 14,
   "metadata": {},
   "outputs": [
    {
     "name": "stdout",
     "output_type": "stream",
     "text": [
      "1    \u001b[01;31m\u001b[KTwo\u001b[m\u001b[K roads diverged in a yellow wood,\n",
      "3    And be one traveler, long I s\u001b[01;31m\u001b[Ktoo\u001b[m\u001b[Kd\n"
     ]
    }
   ],
   "source": [
    "grep -i 'T.o' frost.txt"
   ]
  },
  {
   "cell_type": "markdown",
   "metadata": {},
   "source": [
    "## \"?\" Metacharacter"
   ]
  },
  {
   "cell_type": "markdown",
   "metadata": {},
   "source": [
    "(?) character makes any item that precedes it optional"
   ]
  },
  {
   "cell_type": "code",
   "execution_count": 18,
   "metadata": {},
   "outputs": [
    {
     "name": "stdout",
     "output_type": "stream",
     "text": [
      "1    \u001b[01;31m\u001b[KTwo\u001b[m\u001b[K roads diverged in a yellow wood,\n",
      "5    \u001b[01;31m\u001b[KTo\u001b[m\u001b[K where it bent in the undergrowth;\n"
     ]
    }
   ],
   "source": [
    "grep 'T.\\?o' frost.txt"
   ]
  },
  {
   "cell_type": "code",
   "execution_count": 19,
   "metadata": {},
   "outputs": [
    {
     "name": "stdout",
     "output_type": "stream",
     "text": [
      "1    \u001b[01;31m\u001b[KTwo\u001b[m\u001b[K roads diverged in a yellow wood,\n",
      "5    \u001b[01;31m\u001b[KTo\u001b[m\u001b[K where it bent in the undergrowth;\n"
     ]
    }
   ],
   "source": [
    "grep -E 'T.?o' frost.txt"
   ]
  },
  {
   "cell_type": "code",
   "execution_count": 20,
   "metadata": {},
   "outputs": [
    {
     "name": "stdout",
     "output_type": "stream",
     "text": [
      "1    \u001b[01;31m\u001b[KTwo\u001b[m\u001b[K roads diverged in a yellow wood,\n",
      "5    \u001b[01;31m\u001b[KTo\u001b[m\u001b[K where it bent in the undergrowth;\n"
     ]
    }
   ],
   "source": [
    "egrep 'T.?o' frost.txt"
   ]
  },
  {
   "cell_type": "markdown",
   "metadata": {},
   "source": [
    "## \"*\" Metacharacter"
   ]
  },
  {
   "cell_type": "markdown",
   "metadata": {},
   "source": [
    "(*) is a special character that matches the preceding item zero or more times"
   ]
  },
  {
   "cell_type": "code",
   "execution_count": 21,
   "metadata": {},
   "outputs": [
    {
     "name": "stdout",
     "output_type": "stream",
     "text": [
      "1    \u001b[01;31m\u001b[KTwo roads diverged in a yellow woo\u001b[m\u001b[Kd,\n",
      "5    \u001b[01;31m\u001b[KTo where it bent in the undergro\u001b[m\u001b[Kwth;\n",
      "7 Excerpt from \u001b[01;31m\u001b[KThe Road Not Taken by Robert Fro\u001b[m\u001b[Kst\n"
     ]
    }
   ],
   "source": [
    "grep 'T.*o' frost.txt"
   ]
  },
  {
   "cell_type": "code",
   "execution_count": 22,
   "metadata": {},
   "outputs": [
    {
     "name": "stdout",
     "output_type": "stream",
     "text": [
      "1    \u001b[01;31m\u001b[KTwo roads diverged in a yellow woo\u001b[m\u001b[Kd,\n",
      "2    And sorry I could no\u001b[01;31m\u001b[Kt travel bo\u001b[m\u001b[Kth\n",
      "3    And be one \u001b[01;31m\u001b[Ktraveler, long I stoo\u001b[m\u001b[Kd\n",
      "5    \u001b[01;31m\u001b[KTo where it bent in the undergro\u001b[m\u001b[Kwth;\n",
      "7 Excerp\u001b[01;31m\u001b[Kt from The Road Not Taken by Robert Fro\u001b[m\u001b[Kst\n"
     ]
    }
   ],
   "source": [
    "grep -i 'T.*o' frost.txt"
   ]
  },
  {
   "cell_type": "markdown",
   "metadata": {},
   "source": [
    "## \"+\" Metacharacter"
   ]
  },
  {
   "cell_type": "markdown",
   "metadata": {},
   "source": [
    "(+) requires preceding chracter tooccur atleast once"
   ]
  },
  {
   "cell_type": "code",
   "execution_count": 1,
   "metadata": {},
   "outputs": [
    {
     "name": "stdout",
     "output_type": "stream",
     "text": [
      "1    \u001b[01;31m\u001b[KTwo roads diverged in a yellow woo\u001b[m\u001b[Kd,\n",
      "5    \u001b[01;31m\u001b[KTo where it bent in the undergro\u001b[m\u001b[Kwth;\n",
      "7 Excerpt from \u001b[01;31m\u001b[KThe Road Not Taken by Robert Fro\u001b[m\u001b[Kst\n"
     ]
    }
   ],
   "source": [
    "egrep 'T.+o' frost.txt"
   ]
  },
  {
   "cell_type": "markdown",
   "metadata": {},
   "source": [
    "## Grouping\n",
    "use prantheses to group chracters\n",
    "chracters appearing in parentheses are used as a single unit"
   ]
  },
  {
   "cell_type": "code",
   "execution_count": 2,
   "metadata": {},
   "outputs": [
    {
     "name": "stdout",
     "output_type": "stream",
     "text": [
      "2    \u001b[01;31m\u001b[KAnd sorry I could not travel both\u001b[m\u001b[K\n",
      "3    \u001b[01;31m\u001b[KAnd be one traveler, long I stood\u001b[m\u001b[K\n"
     ]
    }
   ],
   "source": [
    "egrep 'And (sorry|be).*' frost.txt"
   ]
  },
  {
   "cell_type": "markdown",
   "metadata": {},
   "source": [
    "## Brackets and Chracter Classes"
   ]
  },
  {
   "cell_type": "markdown",
   "metadata": {},
   "source": [
    "In regex, the square brackets, [ ], are used to define character classes and lists of acceptable charact"
   ]
  },
  {
   "cell_type": "markdown",
   "metadata": {},
   "source": [
    "Example    | Meaning\n",
    "-----------|---------\n",
    "[abc]      |\n",
    "[1-5]      | matching digits in the range 1-5\n",
    "[a-zA-Z]   | matching any lowercase or uppercase\n",
    "[0-9 +-*/] | matching digits or these 4 mathematical symbols\n",
    "[0-9a-fA-F]| matching a hexadecimal digit"
   ]
  },
  {
   "cell_type": "code",
   "execution_count": 3,
   "metadata": {},
   "outputs": [
    {
     "name": "stdout",
     "output_type": "stream",
     "text": [
      "\u001b[01;31m\u001b[K1\u001b[m\u001b[K    Two roads diverged in a yellow wood,\n",
      "\u001b[01;31m\u001b[K2\u001b[m\u001b[K    And sorry I could not travel both\n",
      "\u001b[01;31m\u001b[K3\u001b[m\u001b[K    And be one traveler, long I stood\n"
     ]
    }
   ],
   "source": [
    "egrep '[1-3]' frost.txt"
   ]
  },
  {
   "cell_type": "code",
   "execution_count": 7,
   "metadata": {},
   "outputs": [
    {
     "name": "stdout",
     "output_type": "stream",
     "text": [
      "1    \u001b[01;31m\u001b[KTwo\u001b[m\u001b[K roads diverged in a yellow wood,\n",
      "5    \u001b[01;31m\u001b[KTo\u001b[m\u001b[K where it bent in the undergrowth;\n"
     ]
    }
   ],
   "source": [
    "egrep 'T[o-w]+' frost.txt"
   ]
  },
  {
   "cell_type": "code",
   "execution_count": 1,
   "metadata": {},
   "outputs": [
    {
     "name": "stdout",
     "output_type": "stream",
     "text": [
      "\u001b[01;31m\u001b[K1    \u001b[m\u001b[KTwo\u001b[01;31m\u001b[K \u001b[m\u001b[Kroads\u001b[01;31m\u001b[K \u001b[m\u001b[Kdiverged\u001b[01;31m\u001b[K \u001b[m\u001b[Kin\u001b[01;31m\u001b[K \u001b[m\u001b[Ka\u001b[01;31m\u001b[K \u001b[m\u001b[Kyellow\u001b[01;31m\u001b[K \u001b[m\u001b[Kwood\u001b[01;31m\u001b[K,\u001b[m\u001b[K\n",
      "\u001b[01;31m\u001b[K2    \u001b[m\u001b[KAnd\u001b[01;31m\u001b[K \u001b[m\u001b[Ksorry\u001b[01;31m\u001b[K \u001b[m\u001b[KI\u001b[01;31m\u001b[K \u001b[m\u001b[Kcould\u001b[01;31m\u001b[K \u001b[m\u001b[Knot\u001b[01;31m\u001b[K \u001b[m\u001b[Ktravel\u001b[01;31m\u001b[K \u001b[m\u001b[Kboth\n",
      "\u001b[01;31m\u001b[K3    \u001b[m\u001b[KAnd\u001b[01;31m\u001b[K \u001b[m\u001b[Kbe\u001b[01;31m\u001b[K \u001b[m\u001b[Kone\u001b[01;31m\u001b[K \u001b[m\u001b[Ktraveler\u001b[01;31m\u001b[K, \u001b[m\u001b[Klong\u001b[01;31m\u001b[K \u001b[m\u001b[KI\u001b[01;31m\u001b[K \u001b[m\u001b[Kstood\n",
      "\u001b[01;31m\u001b[K4    \u001b[m\u001b[KAnd\u001b[01;31m\u001b[K \u001b[m\u001b[Klooked\u001b[01;31m\u001b[K \u001b[m\u001b[Kdown\u001b[01;31m\u001b[K \u001b[m\u001b[Kone\u001b[01;31m\u001b[K \u001b[m\u001b[Kas\u001b[01;31m\u001b[K \u001b[m\u001b[Kfar\u001b[01;31m\u001b[K \u001b[m\u001b[Kas\u001b[01;31m\u001b[K \u001b[m\u001b[KI\u001b[01;31m\u001b[K \u001b[m\u001b[Kcould\n",
      "\u001b[01;31m\u001b[K5    \u001b[m\u001b[KTo\u001b[01;31m\u001b[K \u001b[m\u001b[Kwhere\u001b[01;31m\u001b[K \u001b[m\u001b[Kit\u001b[01;31m\u001b[K \u001b[m\u001b[Kbent\u001b[01;31m\u001b[K \u001b[m\u001b[Kin\u001b[01;31m\u001b[K \u001b[m\u001b[Kthe\u001b[01;31m\u001b[K \u001b[m\u001b[Kundergrowth;\n",
      "\u001b[01;31m\u001b[K6\u001b[m\u001b[K\n",
      "\u001b[01;31m\u001b[K7 \u001b[m\u001b[KExcerpt\u001b[01;31m\u001b[K \u001b[m\u001b[Kfrom\u001b[01;31m\u001b[K \u001b[m\u001b[KThe\u001b[01;31m\u001b[K \u001b[m\u001b[KRoad\u001b[01;31m\u001b[K \u001b[m\u001b[KNot\u001b[01;31m\u001b[K \u001b[m\u001b[KTaken\u001b[01;31m\u001b[K \u001b[m\u001b[Kby\u001b[01;31m\u001b[K \u001b[m\u001b[KRobert\u001b[01;31m\u001b[K \u001b[m\u001b[KFrost\n",
      "\u001b[01;31m\u001b[K1 + 4 - 4\u001b[m\u001b[K\n",
      "\u001b[01;31m\u001b[K4 / 5 \u001b[m\u001b[K\n"
     ]
    }
   ],
   "source": [
    "egrep '[0-9 +-/*]+' frost.txt"
   ]
  },
  {
   "cell_type": "code",
   "execution_count": 5,
   "metadata": {},
   "outputs": [
    {
     "name": "stdout",
     "output_type": "stream",
     "text": [
      "1    Two ro\u001b[01;31m\u001b[Ka\u001b[m\u001b[Kds di\u001b[01;31m\u001b[Kv\u001b[m\u001b[Kerged in \u001b[01;31m\u001b[Ka\u001b[m\u001b[K yellow wood,\n",
      "2    And sorry I could not tr\u001b[01;31m\u001b[Kav\u001b[m\u001b[Kel both\n",
      "3    And be one tr\u001b[01;31m\u001b[Kav\u001b[m\u001b[Keler, long I stood\n",
      "4    And looked down one \u001b[01;31m\u001b[Ka\u001b[m\u001b[Ks f\u001b[01;31m\u001b[Ka\u001b[m\u001b[Kr \u001b[01;31m\u001b[Ka\u001b[m\u001b[Ks I could\n",
      "7 Excerpt from The Ro\u001b[01;31m\u001b[Ka\u001b[m\u001b[Kd Not T\u001b[01;31m\u001b[Ka\u001b[m\u001b[Kken by Robert Frost\n",
      "\u001b[01;31m\u001b[Ka\u001b[m\u001b[Kbcd\n"
     ]
    }
   ],
   "source": [
    "egrep '[av]+' frost.txt"
   ]
  },
  {
   "cell_type": "markdown",
   "metadata": {},
   "source": [
    "## shortcuts"
   ]
  },
  {
   "cell_type": "markdown",
   "metadata": {},
   "source": [
    "Shortcut   | Meaning\n",
    "-----------|---------\n",
    "\\s         | Whitespace\n",
    "\\S         | No whitespace\n",
    "\\d         | Digit\n",
    "\\D         | Not a digit\n",
    "\\w         | Word\n",
    "\\W         | Not a word\n",
    "\\x         | Hexadecimal number"
   ]
  },
  {
   "cell_type": "markdown",
   "metadata": {},
   "source": [
    "note: these shortcuts are not supported by egrep\n",
    "      to use them you must use `grep -P`"
   ]
  },
  {
   "cell_type": "code",
   "execution_count": 8,
   "metadata": {},
   "outputs": [
    {
     "name": "stdout",
     "output_type": "stream",
     "text": [
      "\u001b[01;31m\u001b[K1\u001b[m\u001b[K    Two roads diverged in a yellow wood,\n",
      "\u001b[01;31m\u001b[K2\u001b[m\u001b[K    And sorry I could not travel both\n",
      "\u001b[01;31m\u001b[K3\u001b[m\u001b[K    And be one traveler, long I stood\n",
      "\u001b[01;31m\u001b[K4\u001b[m\u001b[K    And looked down one as far as I could\n",
      "\u001b[01;31m\u001b[K5\u001b[m\u001b[K    To where it bent in the undergrowth;\n",
      "\u001b[01;31m\u001b[K6\u001b[m\u001b[K\n",
      "\u001b[01;31m\u001b[K7\u001b[m\u001b[K Excerpt from The Road Not Taken by Robert Frost\n",
      "\u001b[01;31m\u001b[K1\u001b[m\u001b[K + \u001b[01;31m\u001b[K4\u001b[m\u001b[K - \u001b[01;31m\u001b[K4\u001b[m\u001b[K\n",
      "\u001b[01;31m\u001b[K4\u001b[m\u001b[K / \u001b[01;31m\u001b[K5\u001b[m\u001b[K / \u001b[01;31m\u001b[K2\u001b[m\u001b[K\n"
     ]
    }
   ],
   "source": [
    "grep -P '\\d' frost.txt"
   ]
  },
  {
   "cell_type": "code",
   "execution_count": 17,
   "metadata": {},
   "outputs": [
    {
     "name": "stdout",
     "output_type": "stream",
     "text": [
      "1\u001b[01;31m\u001b[K \u001b[m\u001b[K\u001b[01;31m\u001b[K \u001b[m\u001b[K\u001b[01;31m\u001b[K \u001b[m\u001b[K\u001b[01;31m\u001b[K \u001b[m\u001b[KTwo\u001b[01;31m\u001b[K \u001b[m\u001b[Kroads\u001b[01;31m\u001b[K \u001b[m\u001b[Kdiverged\u001b[01;31m\u001b[K \u001b[m\u001b[Kin\u001b[01;31m\u001b[K \u001b[m\u001b[Ka\u001b[01;31m\u001b[K \u001b[m\u001b[Kyellow\u001b[01;31m\u001b[K \u001b[m\u001b[Kwood\u001b[01;31m\u001b[K,\u001b[m\u001b[K\n",
      "2\u001b[01;31m\u001b[K \u001b[m\u001b[K\u001b[01;31m\u001b[K \u001b[m\u001b[K\u001b[01;31m\u001b[K \u001b[m\u001b[K\u001b[01;31m\u001b[K \u001b[m\u001b[KAnd\u001b[01;31m\u001b[K \u001b[m\u001b[Ksorry\u001b[01;31m\u001b[K \u001b[m\u001b[KI\u001b[01;31m\u001b[K \u001b[m\u001b[Kcould\u001b[01;31m\u001b[K \u001b[m\u001b[Knot\u001b[01;31m\u001b[K \u001b[m\u001b[Ktravel\u001b[01;31m\u001b[K \u001b[m\u001b[Kboth\n",
      "3\u001b[01;31m\u001b[K \u001b[m\u001b[K\u001b[01;31m\u001b[K \u001b[m\u001b[K\u001b[01;31m\u001b[K \u001b[m\u001b[K\u001b[01;31m\u001b[K \u001b[m\u001b[KAnd\u001b[01;31m\u001b[K \u001b[m\u001b[Kbe\u001b[01;31m\u001b[K \u001b[m\u001b[Kone\u001b[01;31m\u001b[K \u001b[m\u001b[Ktraveler\u001b[01;31m\u001b[K,\u001b[m\u001b[K\u001b[01;31m\u001b[K \u001b[m\u001b[Klong\u001b[01;31m\u001b[K \u001b[m\u001b[KI\u001b[01;31m\u001b[K \u001b[m\u001b[Kstood\n",
      "4\u001b[01;31m\u001b[K \u001b[m\u001b[K\u001b[01;31m\u001b[K \u001b[m\u001b[K\u001b[01;31m\u001b[K \u001b[m\u001b[K\u001b[01;31m\u001b[K \u001b[m\u001b[KAnd\u001b[01;31m\u001b[K \u001b[m\u001b[Klooked\u001b[01;31m\u001b[K \u001b[m\u001b[Kdown\u001b[01;31m\u001b[K \u001b[m\u001b[Kone\u001b[01;31m\u001b[K \u001b[m\u001b[Kas\u001b[01;31m\u001b[K \u001b[m\u001b[Kfar\u001b[01;31m\u001b[K \u001b[m\u001b[Kas\u001b[01;31m\u001b[K \u001b[m\u001b[KI\u001b[01;31m\u001b[K \u001b[m\u001b[Kcould\n",
      "5\u001b[01;31m\u001b[K \u001b[m\u001b[K\u001b[01;31m\u001b[K \u001b[m\u001b[K\u001b[01;31m\u001b[K \u001b[m\u001b[K\u001b[01;31m\u001b[K \u001b[m\u001b[KTo\u001b[01;31m\u001b[K \u001b[m\u001b[Kwhere\u001b[01;31m\u001b[K \u001b[m\u001b[Kit\u001b[01;31m\u001b[K \u001b[m\u001b[Kbent\u001b[01;31m\u001b[K \u001b[m\u001b[Kin\u001b[01;31m\u001b[K \u001b[m\u001b[Kthe\u001b[01;31m\u001b[K \u001b[m\u001b[Kundergrowth\u001b[01;31m\u001b[K;\u001b[m\u001b[K\n",
      "7\u001b[01;31m\u001b[K \u001b[m\u001b[KExcerpt\u001b[01;31m\u001b[K \u001b[m\u001b[Kfrom\u001b[01;31m\u001b[K \u001b[m\u001b[KThe\u001b[01;31m\u001b[K \u001b[m\u001b[KRoad\u001b[01;31m\u001b[K \u001b[m\u001b[KNot\u001b[01;31m\u001b[K \u001b[m\u001b[KTaken\u001b[01;31m\u001b[K \u001b[m\u001b[Kby\u001b[01;31m\u001b[K \u001b[m\u001b[KRobert\u001b[01;31m\u001b[K \u001b[m\u001b[KFrost\n",
      "1\u001b[01;31m\u001b[K \u001b[m\u001b[K\u001b[01;31m\u001b[K+\u001b[m\u001b[K\u001b[01;31m\u001b[K \u001b[m\u001b[K4\u001b[01;31m\u001b[K \u001b[m\u001b[K\u001b[01;31m\u001b[K-\u001b[m\u001b[K\u001b[01;31m\u001b[K \u001b[m\u001b[K4\n",
      "4\u001b[01;31m\u001b[K \u001b[m\u001b[K\u001b[01;31m\u001b[K/\u001b[m\u001b[K\u001b[01;31m\u001b[K \u001b[m\u001b[K5\u001b[01;31m\u001b[K \u001b[m\u001b[K\u001b[01;31m\u001b[K/\u001b[m\u001b[K\u001b[01;31m\u001b[K \u001b[m\u001b[K2\n"
     ]
    }
   ],
   "source": [
    "grep -P '\\W' frost.txt"
   ]
  },
  {
   "cell_type": "code",
   "execution_count": 24,
   "metadata": {},
   "outputs": [
    {
     "name": "stdout",
     "output_type": "stream",
     "text": [
      "1    \u001b[01;31m\u001b[KTwo \u001b[m\u001b[Kroads diverged in a yellow wood,\n",
      "5    \u001b[01;31m\u001b[KTo \u001b[m\u001b[Kwhere it bent in the undergrowth;\n"
     ]
    }
   ],
   "source": [
    "grep -P 'T.*o[\\s]' frost.txt\n"
   ]
  },
  {
   "cell_type": "code",
   "execution_count": 2,
   "metadata": {},
   "outputs": [
    {
     "name": "stdout",
     "output_type": "stream",
     "text": [
      "2    And sorry I could no\u001b[01;31m\u001b[Kt travel\u001b[m\u001b[K both\n"
     ]
    }
   ],
   "source": [
    "grep -P 't[\\s]+travel' frost.txt"
   ]
  },
  {
   "cell_type": "markdown",
   "metadata": {},
   "source": [
    "## Other Chracter Classes with more verbose syntax"
   ]
  },
  {
   "cell_type": "markdown",
   "metadata": {},
   "source": [
    "Chracter class    | Meaning\n",
    "------------------|---------\n",
    "[:alnum:]         | Any Alphanumeric character\n",
    "[:alpha:]         | Any Alphabhetic character\n",
    "[:cntrl:]         | Any Control character\n",
    "[:digit:]         | Any Digit character\n",
    "[:graph:]         | Any graph character\n",
    "[:lower:]         | Any lowercase character\n",
    "[:print:]         | Any printable character\n",
    "[:punct:]         | Any punctuation character\n",
    "[:space:]         | Any whitespace\n",
    "[:alnum:]         | Any uppercase character\n",
    "[:xdigit:]         | Any hex digit"
   ]
  },
  {
   "cell_type": "markdown",
   "metadata": {},
   "source": [
    "note: To use one of these classes, it has to be inside the brackets, so you end up with two sets of brackets. For example, `grep '[[:cntrl:]]' idlist.txt` "
   ]
  },
  {
   "cell_type": "code",
   "execution_count": 3,
   "metadata": {},
   "outputs": [
    {
     "name": "stdout",
     "output_type": "stream",
     "text": [
      "1    Two roads diverged in a yellow wood\u001b[01;31m\u001b[K,\u001b[m\u001b[K\n",
      "3    And be one traveler\u001b[01;31m\u001b[K,\u001b[m\u001b[K long I stood\n",
      "5    To where it bent in the undergrowth\u001b[01;31m\u001b[K;\u001b[m\u001b[K\n",
      "1 \u001b[01;31m\u001b[K+\u001b[m\u001b[K 4 \u001b[01;31m\u001b[K-\u001b[m\u001b[K 4\n",
      "4 \u001b[01;31m\u001b[K/\u001b[m\u001b[K 5 \u001b[01;31m\u001b[K/\u001b[m\u001b[K 2\n"
     ]
    }
   ],
   "source": [
    "grep '[[:punct:]]' frost.txt"
   ]
  },
  {
   "cell_type": "code",
   "execution_count": 4,
   "metadata": {},
   "outputs": [
    {
     "name": "stdout",
     "output_type": "stream",
     "text": [
      "\u001b[01;31m\u001b[K1\u001b[m\u001b[K\u001b[01;31m\u001b[K \u001b[m\u001b[K\u001b[01;31m\u001b[K \u001b[m\u001b[K\u001b[01;31m\u001b[K \u001b[m\u001b[K\u001b[01;31m\u001b[K \u001b[m\u001b[K\u001b[01;31m\u001b[KT\u001b[m\u001b[K\u001b[01;31m\u001b[Kw\u001b[m\u001b[K\u001b[01;31m\u001b[Ko\u001b[m\u001b[K\u001b[01;31m\u001b[K \u001b[m\u001b[K\u001b[01;31m\u001b[Kr\u001b[m\u001b[K\u001b[01;31m\u001b[Ko\u001b[m\u001b[K\u001b[01;31m\u001b[Ka\u001b[m\u001b[K\u001b[01;31m\u001b[Kd\u001b[m\u001b[K\u001b[01;31m\u001b[Ks\u001b[m\u001b[K\u001b[01;31m\u001b[K \u001b[m\u001b[K\u001b[01;31m\u001b[Kd\u001b[m\u001b[K\u001b[01;31m\u001b[Ki\u001b[m\u001b[K\u001b[01;31m\u001b[Kv\u001b[m\u001b[K\u001b[01;31m\u001b[Ke\u001b[m\u001b[K\u001b[01;31m\u001b[Kr\u001b[m\u001b[K\u001b[01;31m\u001b[Kg\u001b[m\u001b[K\u001b[01;31m\u001b[Ke\u001b[m\u001b[K\u001b[01;31m\u001b[Kd\u001b[m\u001b[K\u001b[01;31m\u001b[K \u001b[m\u001b[K\u001b[01;31m\u001b[Ki\u001b[m\u001b[K\u001b[01;31m\u001b[Kn\u001b[m\u001b[K\u001b[01;31m\u001b[K \u001b[m\u001b[K\u001b[01;31m\u001b[Ka\u001b[m\u001b[K\u001b[01;31m\u001b[K \u001b[m\u001b[K\u001b[01;31m\u001b[Ky\u001b[m\u001b[K\u001b[01;31m\u001b[Ke\u001b[m\u001b[K\u001b[01;31m\u001b[Kl\u001b[m\u001b[K\u001b[01;31m\u001b[Kl\u001b[m\u001b[K\u001b[01;31m\u001b[Ko\u001b[m\u001b[K\u001b[01;31m\u001b[Kw\u001b[m\u001b[K\u001b[01;31m\u001b[K \u001b[m\u001b[K\u001b[01;31m\u001b[Kw\u001b[m\u001b[K\u001b[01;31m\u001b[Ko\u001b[m\u001b[K\u001b[01;31m\u001b[Ko\u001b[m\u001b[K\u001b[01;31m\u001b[Kd\u001b[m\u001b[K\u001b[01;31m\u001b[K,\u001b[m\u001b[K\n",
      "\u001b[01;31m\u001b[K2\u001b[m\u001b[K\u001b[01;31m\u001b[K \u001b[m\u001b[K\u001b[01;31m\u001b[K \u001b[m\u001b[K\u001b[01;31m\u001b[K \u001b[m\u001b[K\u001b[01;31m\u001b[K \u001b[m\u001b[K\u001b[01;31m\u001b[KA\u001b[m\u001b[K\u001b[01;31m\u001b[Kn\u001b[m\u001b[K\u001b[01;31m\u001b[Kd\u001b[m\u001b[K\u001b[01;31m\u001b[K \u001b[m\u001b[K\u001b[01;31m\u001b[Ks\u001b[m\u001b[K\u001b[01;31m\u001b[Ko\u001b[m\u001b[K\u001b[01;31m\u001b[Kr\u001b[m\u001b[K\u001b[01;31m\u001b[Kr\u001b[m\u001b[K\u001b[01;31m\u001b[Ky\u001b[m\u001b[K\u001b[01;31m\u001b[K \u001b[m\u001b[K\u001b[01;31m\u001b[KI\u001b[m\u001b[K\u001b[01;31m\u001b[K \u001b[m\u001b[K\u001b[01;31m\u001b[Kc\u001b[m\u001b[K\u001b[01;31m\u001b[Ko\u001b[m\u001b[K\u001b[01;31m\u001b[Ku\u001b[m\u001b[K\u001b[01;31m\u001b[Kl\u001b[m\u001b[K\u001b[01;31m\u001b[Kd\u001b[m\u001b[K\u001b[01;31m\u001b[K \u001b[m\u001b[K\u001b[01;31m\u001b[Kn\u001b[m\u001b[K\u001b[01;31m\u001b[Ko\u001b[m\u001b[K\u001b[01;31m\u001b[Kt\u001b[m\u001b[K\u001b[01;31m\u001b[K \u001b[m\u001b[K\u001b[01;31m\u001b[Kt\u001b[m\u001b[K\u001b[01;31m\u001b[Kr\u001b[m\u001b[K\u001b[01;31m\u001b[Ka\u001b[m\u001b[K\u001b[01;31m\u001b[Kv\u001b[m\u001b[K\u001b[01;31m\u001b[Ke\u001b[m\u001b[K\u001b[01;31m\u001b[Kl\u001b[m\u001b[K\u001b[01;31m\u001b[K \u001b[m\u001b[K\u001b[01;31m\u001b[Kb\u001b[m\u001b[K\u001b[01;31m\u001b[Ko\u001b[m\u001b[K\u001b[01;31m\u001b[Kt\u001b[m\u001b[K\u001b[01;31m\u001b[Kh\u001b[m\u001b[K\n",
      "\u001b[01;31m\u001b[K3\u001b[m\u001b[K\u001b[01;31m\u001b[K \u001b[m\u001b[K\u001b[01;31m\u001b[K \u001b[m\u001b[K\u001b[01;31m\u001b[K \u001b[m\u001b[K\u001b[01;31m\u001b[K \u001b[m\u001b[K\u001b[01;31m\u001b[KA\u001b[m\u001b[K\u001b[01;31m\u001b[Kn\u001b[m\u001b[K\u001b[01;31m\u001b[Kd\u001b[m\u001b[K\u001b[01;31m\u001b[K \u001b[m\u001b[K\u001b[01;31m\u001b[Kb\u001b[m\u001b[K\u001b[01;31m\u001b[Ke\u001b[m\u001b[K\u001b[01;31m\u001b[K \u001b[m\u001b[K\u001b[01;31m\u001b[Ko\u001b[m\u001b[K\u001b[01;31m\u001b[Kn\u001b[m\u001b[K\u001b[01;31m\u001b[Ke\u001b[m\u001b[K\u001b[01;31m\u001b[K \u001b[m\u001b[K\u001b[01;31m\u001b[Kt\u001b[m\u001b[K\u001b[01;31m\u001b[Kr\u001b[m\u001b[K\u001b[01;31m\u001b[Ka\u001b[m\u001b[K\u001b[01;31m\u001b[Kv\u001b[m\u001b[K\u001b[01;31m\u001b[Ke\u001b[m\u001b[K\u001b[01;31m\u001b[Kl\u001b[m\u001b[K\u001b[01;31m\u001b[Ke\u001b[m\u001b[K\u001b[01;31m\u001b[Kr\u001b[m\u001b[K\u001b[01;31m\u001b[K,\u001b[m\u001b[K\u001b[01;31m\u001b[K \u001b[m\u001b[K\u001b[01;31m\u001b[Kl\u001b[m\u001b[K\u001b[01;31m\u001b[Ko\u001b[m\u001b[K\u001b[01;31m\u001b[Kn\u001b[m\u001b[K\u001b[01;31m\u001b[Kg\u001b[m\u001b[K\u001b[01;31m\u001b[K \u001b[m\u001b[K\u001b[01;31m\u001b[KI\u001b[m\u001b[K\u001b[01;31m\u001b[K \u001b[m\u001b[K\u001b[01;31m\u001b[Ks\u001b[m\u001b[K\u001b[01;31m\u001b[Kt\u001b[m\u001b[K\u001b[01;31m\u001b[Ko\u001b[m\u001b[K\u001b[01;31m\u001b[Ko\u001b[m\u001b[K\u001b[01;31m\u001b[Kd\u001b[m\u001b[K\n",
      "\u001b[01;31m\u001b[K4\u001b[m\u001b[K\u001b[01;31m\u001b[K \u001b[m\u001b[K\u001b[01;31m\u001b[K \u001b[m\u001b[K\u001b[01;31m\u001b[K \u001b[m\u001b[K\u001b[01;31m\u001b[K \u001b[m\u001b[K\u001b[01;31m\u001b[KA\u001b[m\u001b[K\u001b[01;31m\u001b[Kn\u001b[m\u001b[K\u001b[01;31m\u001b[Kd\u001b[m\u001b[K\u001b[01;31m\u001b[K \u001b[m\u001b[K\u001b[01;31m\u001b[Kl\u001b[m\u001b[K\u001b[01;31m\u001b[Ko\u001b[m\u001b[K\u001b[01;31m\u001b[Ko\u001b[m\u001b[K\u001b[01;31m\u001b[Kk\u001b[m\u001b[K\u001b[01;31m\u001b[Ke\u001b[m\u001b[K\u001b[01;31m\u001b[Kd\u001b[m\u001b[K\u001b[01;31m\u001b[K \u001b[m\u001b[K\u001b[01;31m\u001b[Kd\u001b[m\u001b[K\u001b[01;31m\u001b[Ko\u001b[m\u001b[K\u001b[01;31m\u001b[Kw\u001b[m\u001b[K\u001b[01;31m\u001b[Kn\u001b[m\u001b[K\u001b[01;31m\u001b[K \u001b[m\u001b[K\u001b[01;31m\u001b[Ko\u001b[m\u001b[K\u001b[01;31m\u001b[Kn\u001b[m\u001b[K\u001b[01;31m\u001b[Ke\u001b[m\u001b[K\u001b[01;31m\u001b[K \u001b[m\u001b[K\u001b[01;31m\u001b[Ka\u001b[m\u001b[K\u001b[01;31m\u001b[Ks\u001b[m\u001b[K\u001b[01;31m\u001b[K \u001b[m\u001b[K\u001b[01;31m\u001b[Kf\u001b[m\u001b[K\u001b[01;31m\u001b[Ka\u001b[m\u001b[K\u001b[01;31m\u001b[Kr\u001b[m\u001b[K\u001b[01;31m\u001b[K \u001b[m\u001b[K\u001b[01;31m\u001b[Ka\u001b[m\u001b[K\u001b[01;31m\u001b[Ks\u001b[m\u001b[K\u001b[01;31m\u001b[K \u001b[m\u001b[K\u001b[01;31m\u001b[KI\u001b[m\u001b[K\u001b[01;31m\u001b[K \u001b[m\u001b[K\u001b[01;31m\u001b[Kc\u001b[m\u001b[K\u001b[01;31m\u001b[Ko\u001b[m\u001b[K\u001b[01;31m\u001b[Ku\u001b[m\u001b[K\u001b[01;31m\u001b[Kl\u001b[m\u001b[K\u001b[01;31m\u001b[Kd\u001b[m\u001b[K\n",
      "\u001b[01;31m\u001b[K5\u001b[m\u001b[K\u001b[01;31m\u001b[K \u001b[m\u001b[K\u001b[01;31m\u001b[K \u001b[m\u001b[K\u001b[01;31m\u001b[K \u001b[m\u001b[K\u001b[01;31m\u001b[K \u001b[m\u001b[K\u001b[01;31m\u001b[KT\u001b[m\u001b[K\u001b[01;31m\u001b[Ko\u001b[m\u001b[K\u001b[01;31m\u001b[K \u001b[m\u001b[K\u001b[01;31m\u001b[Kw\u001b[m\u001b[K\u001b[01;31m\u001b[Kh\u001b[m\u001b[K\u001b[01;31m\u001b[Ke\u001b[m\u001b[K\u001b[01;31m\u001b[Kr\u001b[m\u001b[K\u001b[01;31m\u001b[Ke\u001b[m\u001b[K\u001b[01;31m\u001b[K \u001b[m\u001b[K\u001b[01;31m\u001b[Ki\u001b[m\u001b[K\u001b[01;31m\u001b[Kt\u001b[m\u001b[K\u001b[01;31m\u001b[K \u001b[m\u001b[K\u001b[01;31m\u001b[Kb\u001b[m\u001b[K\u001b[01;31m\u001b[Ke\u001b[m\u001b[K\u001b[01;31m\u001b[Kn\u001b[m\u001b[K\u001b[01;31m\u001b[Kt\u001b[m\u001b[K\u001b[01;31m\u001b[K \u001b[m\u001b[K\u001b[01;31m\u001b[Ki\u001b[m\u001b[K\u001b[01;31m\u001b[Kn\u001b[m\u001b[K\u001b[01;31m\u001b[K \u001b[m\u001b[K\u001b[01;31m\u001b[Kt\u001b[m\u001b[K\u001b[01;31m\u001b[Kh\u001b[m\u001b[K\u001b[01;31m\u001b[Ke\u001b[m\u001b[K\u001b[01;31m\u001b[K \u001b[m\u001b[K\u001b[01;31m\u001b[Ku\u001b[m\u001b[K\u001b[01;31m\u001b[Kn\u001b[m\u001b[K\u001b[01;31m\u001b[Kd\u001b[m\u001b[K\u001b[01;31m\u001b[Ke\u001b[m\u001b[K\u001b[01;31m\u001b[Kr\u001b[m\u001b[K\u001b[01;31m\u001b[Kg\u001b[m\u001b[K\u001b[01;31m\u001b[Kr\u001b[m\u001b[K\u001b[01;31m\u001b[Ko\u001b[m\u001b[K\u001b[01;31m\u001b[Kw\u001b[m\u001b[K\u001b[01;31m\u001b[Kt\u001b[m\u001b[K\u001b[01;31m\u001b[Kh\u001b[m\u001b[K\u001b[01;31m\u001b[K;\u001b[m\u001b[K\n",
      "\u001b[01;31m\u001b[K6\u001b[m\u001b[K\n",
      "\u001b[01;31m\u001b[K7\u001b[m\u001b[K\u001b[01;31m\u001b[K \u001b[m\u001b[K\u001b[01;31m\u001b[KE\u001b[m\u001b[K\u001b[01;31m\u001b[Kx\u001b[m\u001b[K\u001b[01;31m\u001b[Kc\u001b[m\u001b[K\u001b[01;31m\u001b[Ke\u001b[m\u001b[K\u001b[01;31m\u001b[Kr\u001b[m\u001b[K\u001b[01;31m\u001b[Kp\u001b[m\u001b[K\u001b[01;31m\u001b[Kt\u001b[m\u001b[K\u001b[01;31m\u001b[K \u001b[m\u001b[K\u001b[01;31m\u001b[Kf\u001b[m\u001b[K\u001b[01;31m\u001b[Kr\u001b[m\u001b[K\u001b[01;31m\u001b[Ko\u001b[m\u001b[K\u001b[01;31m\u001b[Km\u001b[m\u001b[K\u001b[01;31m\u001b[K \u001b[m\u001b[K\u001b[01;31m\u001b[KT\u001b[m\u001b[K\u001b[01;31m\u001b[Kh\u001b[m\u001b[K\u001b[01;31m\u001b[Ke\u001b[m\u001b[K\u001b[01;31m\u001b[K \u001b[m\u001b[K\u001b[01;31m\u001b[KR\u001b[m\u001b[K\u001b[01;31m\u001b[Ko\u001b[m\u001b[K\u001b[01;31m\u001b[Ka\u001b[m\u001b[K\u001b[01;31m\u001b[Kd\u001b[m\u001b[K\u001b[01;31m\u001b[K \u001b[m\u001b[K\u001b[01;31m\u001b[KN\u001b[m\u001b[K\u001b[01;31m\u001b[Ko\u001b[m\u001b[K\u001b[01;31m\u001b[Kt\u001b[m\u001b[K\u001b[01;31m\u001b[K \u001b[m\u001b[K\u001b[01;31m\u001b[KT\u001b[m\u001b[K\u001b[01;31m\u001b[Ka\u001b[m\u001b[K\u001b[01;31m\u001b[Kk\u001b[m\u001b[K\u001b[01;31m\u001b[Ke\u001b[m\u001b[K\u001b[01;31m\u001b[Kn\u001b[m\u001b[K\u001b[01;31m\u001b[K \u001b[m\u001b[K\u001b[01;31m\u001b[Kb\u001b[m\u001b[K\u001b[01;31m\u001b[Ky\u001b[m\u001b[K\u001b[01;31m\u001b[K \u001b[m\u001b[K\u001b[01;31m\u001b[KR\u001b[m\u001b[K\u001b[01;31m\u001b[Ko\u001b[m\u001b[K\u001b[01;31m\u001b[Kb\u001b[m\u001b[K\u001b[01;31m\u001b[Ke\u001b[m\u001b[K\u001b[01;31m\u001b[Kr\u001b[m\u001b[K\u001b[01;31m\u001b[Kt\u001b[m\u001b[K\u001b[01;31m\u001b[K \u001b[m\u001b[K\u001b[01;31m\u001b[KF\u001b[m\u001b[K\u001b[01;31m\u001b[Kr\u001b[m\u001b[K\u001b[01;31m\u001b[Ko\u001b[m\u001b[K\u001b[01;31m\u001b[Ks\u001b[m\u001b[K\u001b[01;31m\u001b[Kt\u001b[m\u001b[K\n",
      "\u001b[01;31m\u001b[K1\u001b[m\u001b[K\u001b[01;31m\u001b[K \u001b[m\u001b[K\u001b[01;31m\u001b[K+\u001b[m\u001b[K\u001b[01;31m\u001b[K \u001b[m\u001b[K\u001b[01;31m\u001b[K4\u001b[m\u001b[K\u001b[01;31m\u001b[K \u001b[m\u001b[K\u001b[01;31m\u001b[K-\u001b[m\u001b[K\u001b[01;31m\u001b[K \u001b[m\u001b[K\u001b[01;31m\u001b[K4\u001b[m\u001b[K\n",
      "\u001b[01;31m\u001b[Ka\u001b[m\u001b[K\u001b[01;31m\u001b[Kb\u001b[m\u001b[K\u001b[01;31m\u001b[Kc\u001b[m\u001b[K\u001b[01;31m\u001b[Kd\u001b[m\u001b[K\n",
      "\u001b[01;31m\u001b[K4\u001b[m\u001b[K\u001b[01;31m\u001b[K \u001b[m\u001b[K\u001b[01;31m\u001b[K/\u001b[m\u001b[K\u001b[01;31m\u001b[K \u001b[m\u001b[K\u001b[01;31m\u001b[K5\u001b[m\u001b[K\u001b[01;31m\u001b[K \u001b[m\u001b[K\u001b[01;31m\u001b[K/\u001b[m\u001b[K\u001b[01;31m\u001b[K \u001b[m\u001b[K\u001b[01;31m\u001b[K2\u001b[m\u001b[K\n"
     ]
    }
   ],
   "source": [
    "grep '[[:print:]]' frost.txt"
   ]
  },
  {
   "cell_type": "code",
   "execution_count": 5,
   "metadata": {},
   "outputs": [
    {
     "name": "stdout",
     "output_type": "stream",
     "text": [
      "1\u001b[01;31m\u001b[K \u001b[m\u001b[K\u001b[01;31m\u001b[K \u001b[m\u001b[K\u001b[01;31m\u001b[K \u001b[m\u001b[K\u001b[01;31m\u001b[K \u001b[m\u001b[KTwo\u001b[01;31m\u001b[K \u001b[m\u001b[Kroads\u001b[01;31m\u001b[K \u001b[m\u001b[Kdiverged\u001b[01;31m\u001b[K \u001b[m\u001b[Kin\u001b[01;31m\u001b[K \u001b[m\u001b[Ka\u001b[01;31m\u001b[K \u001b[m\u001b[Kyellow\u001b[01;31m\u001b[K \u001b[m\u001b[Kwood,\n",
      "2\u001b[01;31m\u001b[K \u001b[m\u001b[K\u001b[01;31m\u001b[K \u001b[m\u001b[K\u001b[01;31m\u001b[K \u001b[m\u001b[K\u001b[01;31m\u001b[K \u001b[m\u001b[KAnd\u001b[01;31m\u001b[K \u001b[m\u001b[Ksorry\u001b[01;31m\u001b[K \u001b[m\u001b[KI\u001b[01;31m\u001b[K \u001b[m\u001b[Kcould\u001b[01;31m\u001b[K \u001b[m\u001b[Knot\u001b[01;31m\u001b[K \u001b[m\u001b[Ktravel\u001b[01;31m\u001b[K \u001b[m\u001b[Kboth\n",
      "3\u001b[01;31m\u001b[K \u001b[m\u001b[K\u001b[01;31m\u001b[K \u001b[m\u001b[K\u001b[01;31m\u001b[K \u001b[m\u001b[K\u001b[01;31m\u001b[K \u001b[m\u001b[KAnd\u001b[01;31m\u001b[K \u001b[m\u001b[Kbe\u001b[01;31m\u001b[K \u001b[m\u001b[Kone\u001b[01;31m\u001b[K \u001b[m\u001b[Ktraveler,\u001b[01;31m\u001b[K \u001b[m\u001b[Klong\u001b[01;31m\u001b[K \u001b[m\u001b[KI\u001b[01;31m\u001b[K \u001b[m\u001b[Kstood\n",
      "4\u001b[01;31m\u001b[K \u001b[m\u001b[K\u001b[01;31m\u001b[K \u001b[m\u001b[K\u001b[01;31m\u001b[K \u001b[m\u001b[K\u001b[01;31m\u001b[K \u001b[m\u001b[KAnd\u001b[01;31m\u001b[K \u001b[m\u001b[Klooked\u001b[01;31m\u001b[K \u001b[m\u001b[Kdown\u001b[01;31m\u001b[K \u001b[m\u001b[Kone\u001b[01;31m\u001b[K \u001b[m\u001b[Kas\u001b[01;31m\u001b[K \u001b[m\u001b[Kfar\u001b[01;31m\u001b[K \u001b[m\u001b[Kas\u001b[01;31m\u001b[K \u001b[m\u001b[KI\u001b[01;31m\u001b[K \u001b[m\u001b[Kcould\n",
      "5\u001b[01;31m\u001b[K \u001b[m\u001b[K\u001b[01;31m\u001b[K \u001b[m\u001b[K\u001b[01;31m\u001b[K \u001b[m\u001b[K\u001b[01;31m\u001b[K \u001b[m\u001b[KTo\u001b[01;31m\u001b[K \u001b[m\u001b[Kwhere\u001b[01;31m\u001b[K \u001b[m\u001b[Kit\u001b[01;31m\u001b[K \u001b[m\u001b[Kbent\u001b[01;31m\u001b[K \u001b[m\u001b[Kin\u001b[01;31m\u001b[K \u001b[m\u001b[Kthe\u001b[01;31m\u001b[K \u001b[m\u001b[Kundergrowth;\n",
      "7\u001b[01;31m\u001b[K \u001b[m\u001b[KExcerpt\u001b[01;31m\u001b[K \u001b[m\u001b[Kfrom\u001b[01;31m\u001b[K \u001b[m\u001b[KThe\u001b[01;31m\u001b[K \u001b[m\u001b[KRoad\u001b[01;31m\u001b[K \u001b[m\u001b[KNot\u001b[01;31m\u001b[K \u001b[m\u001b[KTaken\u001b[01;31m\u001b[K \u001b[m\u001b[Kby\u001b[01;31m\u001b[K \u001b[m\u001b[KRobert\u001b[01;31m\u001b[K \u001b[m\u001b[KFrost\n",
      "1\u001b[01;31m\u001b[K \u001b[m\u001b[K+\u001b[01;31m\u001b[K \u001b[m\u001b[K4\u001b[01;31m\u001b[K \u001b[m\u001b[K-\u001b[01;31m\u001b[K \u001b[m\u001b[K4\n",
      "4\u001b[01;31m\u001b[K \u001b[m\u001b[K/\u001b[01;31m\u001b[K \u001b[m\u001b[K5\u001b[01;31m\u001b[K \u001b[m\u001b[K/\u001b[01;31m\u001b[K \u001b[m\u001b[K2\n"
     ]
    }
   ],
   "source": [
    "grep '[[:space:]]' frost.txt"
   ]
  },
  {
   "cell_type": "markdown",
   "metadata": {},
   "source": [
    "## Back References"
   ]
  },
  {
   "cell_type": "markdown",
   "metadata": {},
   "source": [
    "example usecase: HTML tags\n",
    "we can write complex regext to match tags or use back reference to match ending tag with starting tag"
   ]
  },
  {
   "cell_type": "code",
   "execution_count": 11,
   "metadata": {},
   "outputs": [
    {
     "name": "stdout",
     "output_type": "stream",
     "text": [
      "1    Command\n",
      "2    <i>line</i>\n",
      "3    is\n",
      "4    <div>great</div>\n",
      "5    <u>!</u>"
     ]
    }
   ],
   "source": [
    "cat tags.txt"
   ]
  },
  {
   "cell_type": "code",
   "execution_count": 17,
   "metadata": {},
   "outputs": [
    {
     "name": "stdout",
     "output_type": "stream",
     "text": [
      "2    \u001b[01;31m\u001b[K<i>line</i>\u001b[m\u001b[K\n",
      "4    \u001b[01;31m\u001b[K<div>great</div>\u001b[m\u001b[K\n",
      "5    \u001b[01;31m\u001b[K<u>!</u>\u001b[m\u001b[K\n"
     ]
    }
   ],
   "source": [
    "egrep '<([a-zA-Z]*)>.*</\\1>' tags.txt"
   ]
  },
  {
   "cell_type": "markdown",
   "metadata": {},
   "source": [
    "## Quantifiers"
   ]
  },
  {
   "cell_type": "code",
   "execution_count": 21,
   "metadata": {},
   "outputs": [
    {
     "name": "stdout",
     "output_type": "stream",
     "text": [
      "1    Two roads diverged in a yellow w\u001b[01;31m\u001b[Koo\u001b[m\u001b[Kd,\n",
      "3    And be one traveler, long I st\u001b[01;31m\u001b[Koo\u001b[m\u001b[Kd\n",
      "4    And l\u001b[01;31m\u001b[Koo\u001b[m\u001b[Kked down one as far as I could\n"
     ]
    }
   ],
   "source": [
    "egrep 'o{2}' frost.txt"
   ]
  },
  {
   "cell_type": "code",
   "execution_count": 22,
   "metadata": {},
   "outputs": [
    {
     "name": "stdout",
     "output_type": "stream",
     "text": [
      "2    And so\u001b[01;31m\u001b[Krr\u001b[m\u001b[Ky I could not t\u001b[01;31m\u001b[Kra\u001b[m\u001b[Kvel both\n",
      "3    And be one t\u001b[01;31m\u001b[Kra\u001b[m\u001b[Kveler, long I stood\n",
      "4    And looked down one as f\u001b[01;31m\u001b[Kar\u001b[m\u001b[K as I could\n"
     ]
    }
   ],
   "source": [
    "egrep '[ra]{2}' frost.txt"
   ]
  },
  {
   "cell_type": "markdown",
   "metadata": {},
   "source": [
    "## Anchors and Word Boundaries"
   ]
  },
  {
   "cell_type": "markdown",
   "metadata": {},
   "source": [
    "**^** anchor a pattern to the beginning of a string \n",
    "\n",
    "**$** anchor a pattern to the end of a string \n",
    "\n",
    "**\\b** to identiy word boundaries"
   ]
  },
  {
   "cell_type": "code",
   "execution_count": 30,
   "metadata": {},
   "outputs": [
    {
     "name": "stdout",
     "output_type": "stream",
     "text": [
      "\u001b[01;31m\u001b[Ka\u001b[m\u001b[Kbcd\n"
     ]
    }
   ],
   "source": [
    "egrep '^a' frost.txt"
   ]
  },
  {
   "cell_type": "code",
   "execution_count": 43,
   "metadata": {},
   "outputs": [
    {
     "name": "stdout",
     "output_type": "stream",
     "text": [
      "1    Two roads diverged in a yellow w\u001b[01;31m\u001b[Kood,\u001b[m\u001b[K\n",
      "3    And be one traveler, long I st\u001b[01;31m\u001b[Kood\u001b[m\u001b[K\n"
     ]
    }
   ],
   "source": [
    "grep 'ood[[:punct:]]*$' frost.txt"
   ]
  },
  {
   "cell_type": "code",
   "execution_count": 48,
   "metadata": {},
   "outputs": [
    {
     "name": "stdout",
     "output_type": "stream",
     "text": [
      "2    And sorry \u001b[01;31m\u001b[KI\u001b[m\u001b[K could not travel both\n",
      "3    And be one traveler, long \u001b[01;31m\u001b[KI\u001b[m\u001b[K stood\n",
      "4    And looked down one as far as \u001b[01;31m\u001b[KI\u001b[m\u001b[K could\n"
     ]
    }
   ],
   "source": [
    "grep -i '\\bi\\b' frost.txt"
   ]
  },
  {
   "cell_type": "markdown",
   "metadata": {},
   "source": [
    "## References \n",
    "\n",
    "http://www.rexegg.com/\n",
    "\n",
    "https://regex101.com\n",
    "\n",
    "https://www.regextester.com/\n",
    "\n",
    "http://www.regular-expressions.info/"
   ]
  },
  {
   "cell_type": "code",
   "execution_count": null,
   "metadata": {},
   "outputs": [],
   "source": []
  }
 ],
 "metadata": {
  "kernelspec": {
   "display_name": "Bash",
   "language": "bash",
   "name": "bash"
  },
  "language_info": {
   "codemirror_mode": "shell",
   "file_extension": ".sh",
   "mimetype": "text/x-sh",
   "name": "bash"
  }
 },
 "nbformat": 4,
 "nbformat_minor": 4
}
