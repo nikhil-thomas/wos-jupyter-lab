{
 "cells": [
  {
   "cell_type": "markdown",
   "metadata": {},
   "source": [
    "## Data of interest\n",
    "- Logfiles\n",
    "    - web and DNS server logs, router, firewall, and intrusion detection system logs, and application logs.\n",
    "    - in Linux most logs are located in /var/log\n",
    "- Command History\n",
    "    - In Linux stored in history file, `$HISTFILE`\n",
    "- Temporary Files\n",
    "    - user/system file recently processed\n",
    "    - In linux /tmp, `$TMPDIR``"
   ]
  },
  {
   "cell_type": "code",
   "execution_count": 1,
   "metadata": {},
   "outputs": [
    {
     "name": "stdout",
     "output_type": "stream",
     "text": [
      "/home/ncoder/.bash_history\n"
     ]
    }
   ],
   "source": [
    "echo $HISTFILE"
   ]
  },
  {
   "cell_type": "code",
   "execution_count": null,
   "metadata": {},
   "outputs": [],
   "source": []
  }
 ],
 "metadata": {
  "kernelspec": {
   "display_name": "Bash",
   "language": "bash",
   "name": "bash"
  },
  "language_info": {
   "codemirror_mode": "shell",
   "file_extension": ".sh",
   "mimetype": "text/x-sh",
   "name": "bash"
  }
 },
 "nbformat": 4,
 "nbformat_minor": 4
}
