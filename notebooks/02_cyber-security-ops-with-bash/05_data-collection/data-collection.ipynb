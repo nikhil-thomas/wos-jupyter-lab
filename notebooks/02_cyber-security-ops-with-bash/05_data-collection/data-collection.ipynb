{
 "cells": [
  {
   "cell_type": "markdown",
   "metadata": {},
   "source": [
    "## Data of interest\n",
    "- Logfiles\n",
    "    - web and DNS server logs, router, firewall, and intrusion detection system logs, and application logs.\n",
    "    - in Linux most logs are located in /var/log\n",
    "- Command History\n",
    "    - In Linux stored in history file, `$HISTFILE`\n",
    "- Temporary Files\n",
    "    - user/system file recently processed\n",
    "    - In linux /tmp, `$TMPDIR`\n",
    "- User Data\n",
    "- Browser History\n",
    "- Windows Registry"
   ]
  },
  {
   "cell_type": "code",
   "execution_count": 1,
   "metadata": {},
   "outputs": [
    {
     "name": "stdout",
     "output_type": "stream",
     "text": [
      "/home/ncoder/.bash_history\n"
     ]
    }
   ],
   "source": [
    "`echo $HISTFILE"
   ]
  },
  {
   "cell_type": "code",
   "execution_count": 2,
   "metadata": {},
   "outputs": [
    {
     "name": "stdout",
     "output_type": "stream",
     "text": [
      "\n"
     ]
    }
   ],
   "source": [
    "echo $TMPDIR"
   ]
  },
  {
   "cell_type": "markdown",
   "metadata": {},
   "source": [
    "## Commands"
   ]
  },
  {
   "cell_type": "markdown",
   "metadata": {},
   "source": [
    "---\n",
    "### **cut**\n",
    "- extract portions of a file\n",
    "- parses a file line by lne based on adelimiter\n",
    "- if no delimiter is specified tab is used as a delimiter\n",
    "- delimiter character divides each line into fields\n",
    "- we can use field number or chracter position to extract parts of the file (index starts at 1)"
   ]
  },
  {
   "cell_type": "markdown",
   "metadata": {},
   "source": [
    "**-c** specify chracters to extract\n",
    "\n",
    "**-d** specify delimiter\n",
    "\n",
    "**-f** specify fields to extract "
   ]
  },
  {
   "cell_type": "code",
   "execution_count": 11,
   "metadata": {},
   "outputs": [
    {
     "name": "stdout",
     "output_type": "stream",
     "text": [
      "12/05/2017 192.168.10.14 test.html\n",
      "12/30/2017 192.168.10.185 login.html"
     ]
    }
   ],
   "source": [
    "cat cutfile.txt"
   ]
  },
  {
   "cell_type": "code",
   "execution_count": 13,
   "metadata": {},
   "outputs": [
    {
     "name": "stdout",
     "output_type": "stream",
     "text": [
      "192.168.10.14\n",
      "192.168.10.185\n"
     ]
    }
   ],
   "source": [
    "cut -d' ' -f2 cutfile.txt"
   ]
  },
  {
   "cell_type": "code",
   "execution_count": 16,
   "metadata": {},
   "outputs": [
    {
     "name": "stdout",
     "output_type": "stream",
     "text": [
      "test.html\n",
      "login.html\n"
     ]
    }
   ],
   "source": [
    "cut -d' ' -f3 cutfile.txt"
   ]
  },
  {
   "cell_type": "code",
   "execution_count": 24,
   "metadata": {},
   "outputs": [
    {
     "name": "stdout",
     "output_type": "stream",
     "text": [
      "23 192.168.10.14 192.168.10.185\n"
     ]
    }
   ],
   "source": [
    "cut -d' ' -f2 cutfile.txt | xargs echo \"23\""
   ]
  },
  {
   "cell_type": "code",
   "execution_count": 27,
   "metadata": {},
   "outputs": [
    {
     "name": "stdout",
     "output_type": "stream",
     "text": [
      "192.168.10.14 test.html\n",
      "192.168.10.185 login.html\n"
     ]
    }
   ],
   "source": [
    "cut -d' ' -f2-3 cutfile.txt"
   ]
  },
  {
   "cell_type": "code",
   "execution_count": 41,
   "metadata": {},
   "outputs": [
    {
     "name": "stdout",
     "output_type": "stream",
     "text": [
      "12/\n",
      "12/\n"
     ]
    }
   ],
   "source": [
    "cut  -c 1-3 cutfile.txt\n"
   ]
  },
  {
   "cell_type": "code",
   "execution_count": 5,
   "metadata": {},
   "outputs": [
    {
     "name": "stdout",
     "output_type": "stream",
     "text": [
      "192.1\n",
      "192.1\n"
     ]
    }
   ],
   "source": [
    "cut -d' ' -f 2 cutfile.txt | cut -c 1-5"
   ]
  },
  {
   "cell_type": "markdown",
   "metadata": {},
   "source": [
    "---"
   ]
  },
  {
   "cell_type": "markdown",
   "metadata": {},
   "source": [
    "### **file**\n",
    "- identify a given files type\n",
    "- file command looks deeper analyzing first block of data caled the magic number"
   ]
  },
  {
   "cell_type": "markdown",
   "metadata": {},
   "source": [
    "**-f** read a list of files from a file\n",
    "\n",
    "**-k** do not stop at first match, list all matches\n",
    "\n",
    "**-z** look inside compressed files"
   ]
  },
  {
   "cell_type": "code",
   "execution_count": 9,
   "metadata": {},
   "outputs": [
    {
     "name": "stdout",
     "output_type": "stream",
     "text": [
      "cutfile.txt: ASCII text\\012- \n"
     ]
    }
   ],
   "source": [
    "file cutfile.txt"
   ]
  },
  {
   "cell_type": "code",
   "execution_count": 10,
   "metadata": {},
   "outputs": [
    {
     "name": "stdout",
     "output_type": "stream",
     "text": [
      "data-collection.ipynb: ASCII text\n"
     ]
    }
   ],
   "source": [
    "file data-collection.ipynb"
   ]
  },
  {
   "cell_type": "markdown",
   "metadata": {},
   "source": [
    "---"
   ]
  },
  {
   "cell_type": "markdown",
   "metadata": {},
   "source": [
    "### *head*\n",
    "\n",
    "- first 10 lines\n",
    "\n",
    "**-n** specify number or lines\n",
    "**-c** specify number of chracters"
   ]
  },
  {
   "cell_type": "code",
   "execution_count": 12,
   "metadata": {},
   "outputs": [
    {
     "name": "stdout",
     "output_type": "stream",
     "text": [
      "{\n",
      " \"cells\": [\n",
      "  {\n",
      "   \"cell_type\": \"markdown\",\n",
      "   \"metadata\": {},\n",
      "   \"source\": [\n",
      "    \"## Data of interest\\n\",\n",
      "    \"- Logfiles\\n\",\n",
      "    \"    - web and DNS server logs, router, firewall, and intrusion detection system logs, and application logs.\\n\",\n",
      "    \"    - in Linux most logs are located in /var/log\\n\",\n"
     ]
    }
   ],
   "source": [
    "head data-collection.ipynb"
   ]
  },
  {
   "cell_type": "code",
   "execution_count": 13,
   "metadata": {},
   "outputs": [
    {
     "name": "stdout",
     "output_type": "stream",
     "text": [
      "{\n",
      " \"cells\": [\n",
      "  {\n"
     ]
    }
   ],
   "source": [
    "head -n 3 data-collection.ipynb"
   ]
  },
  {
   "cell_type": "code",
   "execution_count": 15,
   "metadata": {},
   "outputs": [
    {
     "name": "stdout",
     "output_type": "stream",
     "text": [
      "{\n",
      " \"cells\""
     ]
    }
   ],
   "source": [
    "head -c 10 data-collection.ipynb"
   ]
  },
  {
   "cell_type": "markdown",
   "metadata": {},
   "source": [
    "---\n"
   ]
  },
  {
   "cell_type": "markdown",
   "metadata": {},
   "source": [
    "### **ref**\n",
    "\n",
    "- windows command to manipulate registry\n",
    "---"
   ]
  },
  {
   "cell_type": "code",
   "execution_count": null,
   "metadata": {},
   "outputs": [],
   "source": []
  }
 ],
 "metadata": {
  "kernelspec": {
   "display_name": "Bash",
   "language": "bash",
   "name": "bash"
  },
  "language_info": {
   "codemirror_mode": "shell",
   "file_extension": ".sh",
   "mimetype": "text/x-sh",
   "name": "bash"
  }
 },
 "nbformat": 4,
 "nbformat_minor": 4
}
