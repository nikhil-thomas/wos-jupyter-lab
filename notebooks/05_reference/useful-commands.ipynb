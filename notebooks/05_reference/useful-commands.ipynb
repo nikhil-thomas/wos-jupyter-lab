{
 "cells": [
  {
   "cell_type": "code",
   "execution_count": 1,
   "metadata": {},
   "outputs": [
    {
     "name": "stdout",
     "output_type": "stream",
     "text": [
      "Fedora release 30 (Thirty)\n"
     ]
    }
   ],
   "source": [
    "cat /etc/fedora-release"
   ]
  },
  {
   "cell_type": "markdown",
   "metadata": {},
   "source": [
    "---\n",
    "**free**\n",
    "\n",
    "show toatl memory used and free in the system"
   ]
  },
  {
   "cell_type": "code",
   "execution_count": 2,
   "metadata": {},
   "outputs": [
    {
     "name": "stdout",
     "output_type": "stream",
     "text": [
      "              total        used        free      shared  buff/cache   available\n",
      "Mem:           31Gi        19Gi       305Mi       1.5Gi        11Gi       9.8Gi\n",
      "Swap:          15Gi        51Mi        15Gi\n"
     ]
    }
   ],
   "source": [
    "free -mh"
   ]
  },
  {
   "cell_type": "markdown",
   "metadata": {},
   "source": [
    "---"
   ]
  },
  {
   "cell_type": "markdown",
   "metadata": {},
   "source": [
    "**df**\n",
    "\n",
    "report filesystem and space usage"
   ]
  },
  {
   "cell_type": "code",
   "execution_count": 3,
   "metadata": {},
   "outputs": [
    {
     "name": "stdout",
     "output_type": "stream",
     "text": [
      "Filesystem               Size  Used Avail Use% Mounted on\n",
      "devtmpfs                  16G     0   16G   0% /dev\n",
      "tmpfs                     16G  745M   15G   5% /dev/shm\n",
      "tmpfs                     16G  2.1M   16G   1% /run\n",
      "tmpfs                     16G     0   16G   0% /sys/fs/cgroup\n",
      "/dev/mapper/fedora-root   49G   17G   31G  36% /\n",
      "tmpfs                     16G  656K   16G   1% /tmp\n",
      "/dev/nvme0n1p1           976M  151M  759M  17% /boot\n",
      "/dev/mapper/fedora-home  403G  118G  265G  31% /home\n",
      "tmpfs                    3.2G   11M  3.1G   1% /run/user/1000\n"
     ]
    }
   ],
   "source": [
    "df -h"
   ]
  },
  {
   "cell_type": "markdown",
   "metadata": {},
   "source": [
    "---"
   ]
  },
  {
   "cell_type": "markdown",
   "metadata": {},
   "source": [
    "**ss**\n",
    "\n",
    "a utility to investigate sockets\n"
   ]
  },
  {
   "cell_type": "code",
   "execution_count": 7,
   "metadata": {},
   "outputs": [
    {
     "name": "stdout",
     "output_type": "stream",
     "text": [
      "tcp   LISTEN      0       128             0.0.0.0:\u001b[01;31m\u001b[K8081\u001b[m\u001b[K            0.0.0.0:*      users:((\"jupyter-lab\",pid=4142,fd=4))                                          \n"
     ]
    }
   ],
   "source": [
    "ss -tunap | grep 8081"
   ]
  },
  {
   "cell_type": "markdown",
   "metadata": {},
   "source": [
    "---\n"
   ]
  },
  {
   "cell_type": "code",
   "execution_count": null,
   "metadata": {},
   "outputs": [],
   "source": []
  }
 ],
 "metadata": {
  "kernelspec": {
   "display_name": "Bash",
   "language": "bash",
   "name": "bash"
  },
  "language_info": {
   "codemirror_mode": "shell",
   "file_extension": ".sh",
   "mimetype": "text/x-sh",
   "name": "bash"
  }
 },
 "nbformat": 4,
 "nbformat_minor": 4
}
