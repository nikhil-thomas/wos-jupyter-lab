{
 "cells": [
  {
   "cell_type": "markdown",
   "metadata": {},
   "source": [
    "# kill\n",
    "\n",
    "The two most often used signals or options for the kill command are:\n",
    "\n",
    "- **-15** <PID> is known as a soft, or polite kill. The -15 (also known as SIGTERM) signal kills the process but allows it to finish any pending processing:\n",
    "\n",
    "- **-9** signal ( SIGKILL ) immediately terminates the program with no regard for current processing. The -9 signal kills it. End of story. End of process:"
   ]
  },
  {
   "cell_type": "markdown",
   "metadata": {},
   "source": [
    "```bash\n",
    "kill -9 <pid>\n",
    "\n",
    "kill -15 <pi>\n",
    "```"
   ]
  },
  {
   "cell_type": "markdown",
   "metadata": {},
   "source": [
    "two specific times to use the -9 signal. The first is when you have a runaway process that can't be killed with the -15 signal, and the second is when you need to free system resources immediately without regard for data loss or corruption."
   ]
  },
  {
   "cell_type": "markdown",
   "metadata": {},
   "source": [
    "# killall\n",
    "\n",
    "If you have a process such as the Chrome web browser that can consume more than its share of resources, you can issue the \n",
    "\n",
    "```\n",
    "killall <processname>\n",
    "```\n",
    "to rid the system of all its spawned processes. The killall command doesn't require you to know the PID, nor do you have to kill each individual process."
   ]
  },
  {
   "cell_type": "markdown",
   "metadata": {},
   "source": [
    "eg:\n",
    "\n",
    "```\n",
    "killall chrome\n",
    "```"
   ]
  },
  {
   "cell_type": "markdown",
   "metadata": {},
   "source": [
    "note: If your system doesn't have the killall command available, then you'll have to add it by installing the psmisc package as shown below."
   ]
  },
  {
   "cell_type": "markdown",
   "metadata": {},
   "source": [
    "```\n",
    "sudo yum -y install psmisc\n",
    "```"
   ]
  },
  {
   "cell_type": "code",
   "execution_count": null,
   "metadata": {},
   "outputs": [],
   "source": []
  }
 ],
 "metadata": {
  "kernelspec": {
   "display_name": "Bash",
   "language": "bash",
   "name": "bash"
  },
  "language_info": {
   "codemirror_mode": "shell",
   "file_extension": ".sh",
   "mimetype": "text/x-sh",
   "name": "bash"
  }
 },
 "nbformat": 4,
 "nbformat_minor": 4
}
