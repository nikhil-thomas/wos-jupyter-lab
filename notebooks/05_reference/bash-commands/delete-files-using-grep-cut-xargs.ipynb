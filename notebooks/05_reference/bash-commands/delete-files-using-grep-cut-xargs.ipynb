{
 "cells": [
  {
   "cell_type": "markdown",
   "metadata": {},
   "source": [
    "## Delete files with a pattern\n"
   ]
  },
  {
   "cell_type": "code",
   "execution_count": 39,
   "metadata": {},
   "outputs": [],
   "source": [
    "touch /tmp/dummy-{1..10}"
   ]
  },
  {
   "cell_type": "code",
   "execution_count": 40,
   "metadata": {},
   "outputs": [
    {
     "name": "stdout",
     "output_type": "stream",
     "text": [
      "total 84\n",
      "drwxrwxrwt. 25 root   root     860 Oct  4 06:55 .\n",
      "dr-xr-xr-x. 18 root   root    4096 Oct  3 07:20 ..\n",
      "drwx------.  2 ncoder ncoder    80 Oct  4 06:25 .com.google.Chrome.AP2Sd3\n",
      "-rw-rw-r--.  1 ncoder ncoder     0 Oct  4 06:55 dummy-1\n",
      "-rw-rw-r--.  1 ncoder ncoder     0 Oct  4 06:55 dummy-10\n",
      "-rw-rw-r--.  1 ncoder ncoder     0 Oct  4 06:55 dummy-2\n",
      "-rw-rw-r--.  1 ncoder ncoder     0 Oct  4 06:55 dummy-3\n",
      "-rw-rw-r--.  1 ncoder ncoder     0 Oct  4 06:55 dummy-4\n",
      "-rw-rw-r--.  1 ncoder ncoder     0 Oct  4 06:55 dummy-5\n"
     ]
    }
   ],
   "source": [
    "ls -al /tmp | head"
   ]
  },
  {
   "cell_type": "markdown",
   "metadata": {},
   "source": [
    "## deleting files created on october 4th"
   ]
  },
  {
   "cell_type": "code",
   "execution_count": 41,
   "metadata": {},
   "outputs": [
    {
     "name": "stdout",
     "output_type": "stream",
     "text": [
      "total 84\n",
      "drwxrwxrwt. 25 root   root     860 Oct  4 06:55 .\n",
      "dr-xr-xr-x. 18 root   root    4096 Oct  3 07:20 ..\n",
      "drwx------.  2 ncoder ncoder    80 Oct  4 06:25 .com.google.Chrome.AP2Sd3\n",
      "-rw-rw-r--.  1 ncoder ncoder     0 Oct  4 06:55 dummy-1\n",
      "-rw-rw-r--.  1 ncoder ncoder     0 Oct  4 06:55 dummy-10\n",
      "-rw-rw-r--.  1 ncoder ncoder     0 Oct  4 06:55 dummy-2\n",
      "-rw-rw-r--.  1 ncoder ncoder     0 Oct  4 06:55 dummy-3\n",
      "-rw-rw-r--.  1 ncoder ncoder     0 Oct  4 06:55 dummy-4\n",
      "-rw-rw-r--.  1 ncoder ncoder     0 Oct  4 06:55 dummy-5\n"
     ]
    }
   ],
   "source": [
    "ls -al /tmp | head"
   ]
  },
  {
   "cell_type": "code",
   "execution_count": 42,
   "metadata": {},
   "outputs": [
    {
     "name": "stdout",
     "output_type": "stream",
     "text": [
      "drwxrwxrwt. 25 root   root     860 Oct  4 06:55 .\n",
      "drwx------.  2 ncoder ncoder    80 Oct  4 06:25 .com.google.Chrome.AP2Sd3\n",
      "-rw-rw-r--.  1 ncoder ncoder     0 Oct  4 06:55 dummy-1\n",
      "-rw-rw-r--.  1 ncoder ncoder     0 Oct  4 06:55 dummy-10\n",
      "-rw-rw-r--.  1 ncoder ncoder     0 Oct  4 06:55 dummy-2\n",
      "-rw-rw-r--.  1 ncoder ncoder     0 Oct  4 06:55 dummy-3\n",
      "-rw-rw-r--.  1 ncoder ncoder     0 Oct  4 06:55 dummy-4\n",
      "-rw-rw-r--.  1 ncoder ncoder     0 Oct  4 06:55 dummy-5\n",
      "-rw-rw-r--.  1 ncoder ncoder     0 Oct  4 06:55 dummy-6\n",
      "-rw-rw-r--.  1 ncoder ncoder     0 Oct  4 06:55 dummy-7\n"
     ]
    }
   ],
   "source": [
    "ls -al /tmp | egrep -i 'oct  4' | head \n"
   ]
  },
  {
   "cell_type": "code",
   "execution_count": 43,
   "metadata": {},
   "outputs": [
    {
     "name": "stdout",
     "output_type": "stream",
     "text": [
      "drwxrwxrwt. 25 root root 860 Oct 4 06:55 .\n",
      "drwx------. 2 ncoder ncoder 80 Oct 4 06:25 .com.google.Chrome.AP2Sd3\n",
      "-rw-rw-r--. 1 ncoder ncoder 0 Oct 4 06:55 dummy-1\n",
      "-rw-rw-r--. 1 ncoder ncoder 0 Oct 4 06:55 dummy-10\n",
      "-rw-rw-r--. 1 ncoder ncoder 0 Oct 4 06:55 dummy-2\n",
      "-rw-rw-r--. 1 ncoder ncoder 0 Oct 4 06:55 dummy-3\n",
      "-rw-rw-r--. 1 ncoder ncoder 0 Oct 4 06:55 dummy-4\n",
      "-rw-rw-r--. 1 ncoder ncoder 0 Oct 4 06:55 dummy-5\n",
      "-rw-rw-r--. 1 ncoder ncoder 0 Oct 4 06:55 dummy-6\n",
      "-rw-rw-r--. 1 ncoder ncoder 0 Oct 4 06:55 dummy-7\n"
     ]
    }
   ],
   "source": [
    "ls -al /tmp | egrep -i 'oct  4' | tr -s ' ' | head"
   ]
  },
  {
   "cell_type": "code",
   "execution_count": 44,
   "metadata": {},
   "outputs": [
    {
     "name": "stdout",
     "output_type": "stream",
     "text": [
      ".\n",
      ".com.google.Chrome.AP2Sd3\n",
      "dummy-1\n",
      "dummy-10\n",
      "dummy-2\n",
      "dummy-3\n",
      "dummy-4\n",
      "dummy-5\n",
      "dummy-6\n",
      "dummy-7\n"
     ]
    }
   ],
   "source": [
    "ls -al /tmp | egrep -i 'oct  4' | tr -s ' ' | cut -d ' ' -f 9 | head"
   ]
  },
  {
   "cell_type": "code",
   "execution_count": 45,
   "metadata": {},
   "outputs": [
    {
     "name": "stdout",
     "output_type": "stream",
     "text": [
      "\u001b[01;31m\u001b[Kdummy\u001b[m\u001b[K-1\n",
      "\u001b[01;31m\u001b[Kdummy\u001b[m\u001b[K-10\n",
      "\u001b[01;31m\u001b[Kdummy\u001b[m\u001b[K-2\n",
      "\u001b[01;31m\u001b[Kdummy\u001b[m\u001b[K-3\n",
      "\u001b[01;31m\u001b[Kdummy\u001b[m\u001b[K-4\n",
      "\u001b[01;31m\u001b[Kdummy\u001b[m\u001b[K-5\n",
      "\u001b[01;31m\u001b[Kdummy\u001b[m\u001b[K-6\n",
      "\u001b[01;31m\u001b[Kdummy\u001b[m\u001b[K-7\n",
      "\u001b[01;31m\u001b[Kdummy\u001b[m\u001b[K-8\n",
      "\u001b[01;31m\u001b[Kdummy\u001b[m\u001b[K-9\n",
      "\u001b[01;31m\u001b[Kdummy\u001b[m\u001b[K-Fri\n"
     ]
    }
   ],
   "source": [
    "ls -al /tmp | egrep -i 'oct  4' | tr -s ' ' | cut -d ' ' -f 9 | grep dummy"
   ]
  },
  {
   "cell_type": "code",
   "execution_count": 46,
   "metadata": {},
   "outputs": [
    {
     "name": "stdout",
     "output_type": "stream",
     "text": [
      "\u001b[01;31m\u001b[Kdummy-1\u001b[m\u001b[K\n",
      "\u001b[01;31m\u001b[Kdummy-1\u001b[m\u001b[K0\n",
      "\u001b[01;31m\u001b[Kdummy-2\u001b[m\u001b[K\n",
      "\u001b[01;31m\u001b[Kdummy-3\u001b[m\u001b[K\n",
      "\u001b[01;31m\u001b[Kdummy-4\u001b[m\u001b[K\n",
      "\u001b[01;31m\u001b[Kdummy-5\u001b[m\u001b[K\n",
      "\u001b[01;31m\u001b[Kdummy-6\u001b[m\u001b[K\n",
      "\u001b[01;31m\u001b[Kdummy-7\u001b[m\u001b[K\n",
      "\u001b[01;31m\u001b[Kdummy-8\u001b[m\u001b[K\n",
      "\u001b[01;31m\u001b[Kdummy-9\u001b[m\u001b[K\n"
     ]
    }
   ],
   "source": [
    "ls -al /tmp | egrep -i 'oct  4' | tr -s ' ' | cut -d ' ' -f 9 | grep 'dummy-[0-9]'"
   ]
  },
  {
   "cell_type": "code",
   "execution_count": 47,
   "metadata": {},
   "outputs": [
    {
     "name": "stdout",
     "output_type": "stream",
     "text": [
      "/tmp/ dummy-1\n",
      "/tmp/ dummy-10\n",
      "/tmp/ dummy-2\n",
      "/tmp/ dummy-3\n",
      "/tmp/ dummy-4\n",
      "/tmp/ dummy-5\n",
      "/tmp/ dummy-6\n",
      "/tmp/ dummy-7\n",
      "/tmp/ dummy-8\n",
      "/tmp/ dummy-9\n"
     ]
    }
   ],
   "source": [
    "ls -al /tmp | egrep -i 'oct  4' | tr -s ' ' | cut -d ' ' -f 9 | grep 'dummy-[0-9]' | xargs -n1 echo \"/tmp/\" "
   ]
  },
  {
   "cell_type": "code",
   "execution_count": 48,
   "metadata": {},
   "outputs": [
    {
     "name": "stdout",
     "output_type": "stream",
     "text": [
      "/tmp/dummy-1\n",
      "/tmp/dummy-10\n",
      "/tmp/dummy-2\n",
      "/tmp/dummy-3\n",
      "/tmp/dummy-4\n",
      "/tmp/dummy-5\n",
      "/tmp/dummy-6\n",
      "/tmp/dummy-7\n",
      "/tmp/dummy-8\n",
      "/tmp/dummy-9\n"
     ]
    }
   ],
   "source": [
    "ls -al /tmp | egrep -i 'oct  4' | tr -s ' ' | cut -d ' ' -f 9 | grep 'dummy-[0-9]' | xargs -n1 echo \"/tmp/\" | tr -d ' '"
   ]
  },
  {
   "cell_type": "code",
   "execution_count": 49,
   "metadata": {},
   "outputs": [],
   "source": [
    "ls -al /tmp | egrep -i 'oct  4' | tr -s ' ' | cut -d ' ' -f 9 | grep 'dummy-[0-9]' | xargs -n1 echo \"/tmp/\" | tr -d ' ' | xargs rm"
   ]
  },
  {
   "cell_type": "markdown",
   "metadata": {},
   "source": [
    "### check whether the files were deleted"
   ]
  },
  {
   "cell_type": "code",
   "execution_count": 50,
   "metadata": {},
   "outputs": [
    {
     "ename": "",
     "evalue": "1",
     "output_type": "error",
     "traceback": []
    }
   ],
   "source": [
    "ls -al /tmp | egrep -i 'oct  4' | tr -s ' ' | cut -d ' ' -f 9 | grep 'dummy-[0-9]'"
   ]
  },
  {
   "cell_type": "code",
   "execution_count": null,
   "metadata": {},
   "outputs": [],
   "source": []
  }
 ],
 "metadata": {
  "kernelspec": {
   "display_name": "Bash",
   "language": "bash",
   "name": "bash"
  },
  "language_info": {
   "codemirror_mode": "shell",
   "file_extension": ".sh",
   "mimetype": "text/x-sh",
   "name": "bash"
  }
 },
 "nbformat": 4,
 "nbformat_minor": 4
}
